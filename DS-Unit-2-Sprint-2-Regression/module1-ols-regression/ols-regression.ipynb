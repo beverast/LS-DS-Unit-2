{
 "cells": [
  {
   "cell_type": "markdown",
   "metadata": {},
   "source": [
    "_Lambda School Data Science_\n",
    "\n",
    "# Ordinary Least Squares Regression\n",
    "\n",
    "## What is Linear Regression?\n",
    "\n",
    "Linear Regression is a statistical model that seeks to describe the relationship between some y variable and one or more x variables. \n",
    "\n",
    "![Linear Regression](https://upload.wikimedia.org/wikipedia/commons/thumb/3/3a/Linear_regression.svg/1200px-Linear_regression.svg.png)\n",
    "\n",
    "In the simplest case, linear regression seeks to fit a straight line through a cloud of points. This line is referred to as the \"regression line\" or \"line of best fit.\" This line tries to summarize the relationship between our X and Y in a way that enables us to use the equation for that line to make predictions.\n",
    "\n",
    "### Synonyms for \"y variable\" \n",
    "- Dependent Variable\n",
    "- Response Variable\n",
    "- Outcome Variable \n",
    "- Predicted Variable\n",
    "- Measured Variable\n",
    "- Explained Variable\n",
    "- Label\n",
    "- Target\n",
    "\n",
    "### Synonyms for \"x variable\"\n",
    "- Independent Variable\n",
    "- Explanatory Variable\n",
    "- Regressor\n",
    "- Covariate\n",
    "- Feature"
   ]
  },
  {
   "cell_type": "markdown",
   "metadata": {},
   "source": [
    "# Simple Linear Regresion (bivariate)\n",
    "\n",
    "## Making Predictions\n",
    "\n",
    "Say that we were trying to create a model that captured the relationship between temperature outside and ice cream sales. In Machine Learning our goal is often different that of other flavors of Linear Regression Analysis, because we're trying to fit a model to this data with the intention of making **predictions** on new data (in the future) that we don't have yet.\n",
    "\n",
    "## What are we trying to predict?\n",
    "\n",
    "So if we had measured ice cream sales and the temprature outside on 11 different days, at the end of our modeling **what would be the thing that we would want to predict? - Ice Cream Sales or Temperature?**\n",
    "\n",
    "We would probably want to be measuring temperature with the intention of using that to **forecast** ice cream sales. If we were able to successfully forecast ice cream sales from temperature, this might help us know beforehand how much ice cream to make or how many cones to buy or on which days to open our store, etc. Being able to make predictions accurately has a lot of business implications. This is why making accurate predictions is so valuable (And in large part is why data scientists are paid so well).\n",
    "\n",
    "### Y Variable Intuition\n",
    "\n",
    "We want the thing that we're trying to predict to serve as our **y** variable. This is why it's sometimes called the \"predicted variable.\" We call it the \"dependent\" variable because our prediction for how much ice cream we're going to sell \"depends\" on the temperature outside. \n",
    "\n",
    "### X Variable Intuition\n",
    "\n",
    "All other variables that we use to predict our y variable (we're going to start off just using one) we call our **x** variables. These are called our \"independent\" variables because they don't *depend* on y, they \"explain\" y. Hence they are also referred to as our \"explanatory\" variables."
   ]
  },
  {
   "cell_type": "code",
   "execution_count": 1,
   "metadata": {},
   "outputs": [],
   "source": [
    "%matplotlib inline\n",
    "from ipywidgets import interact\n",
    "from matplotlib.patches import Rectangle\n",
    "import matplotlib.pyplot as plt\n",
    "import numpy as np\n",
    "import pandas as pd\n",
    "import seaborn as sns\n",
    "from sklearn.linear_model import LinearRegression\n",
    "from sklearn.metrics import mean_absolute_error, mean_squared_error, r2_score\n",
    "import statsmodels.api as sm"
   ]
  },
  {
   "cell_type": "code",
   "execution_count": 2,
   "metadata": {},
   "outputs": [],
   "source": [
    "columns = ['Year','Incumbent Party Candidate','Other Candidate','Incumbent Party Vote Share']\n",
    "\n",
    "data = [[1952,\"Stevenson\",\"Eisenhower\",44.6],\n",
    "        [1956,\"Eisenhower\",\"Stevenson\",57.76],\n",
    "        [1960,\"Nixon\",\"Kennedy\",49.91],\n",
    "        [1964,\"Johnson\",\"Goldwater\",61.34],\n",
    "        [1968,\"Humphrey\",\"Nixon\",49.60],\n",
    "        [1972,\"Nixon\",\"McGovern\",61.79],\n",
    "        [1976,\"Ford\",\"Carter\",48.95],\n",
    "        [1980,\"Carter\",\"Reagan\",44.70],\n",
    "        [1984,\"Reagan\",\"Mondale\",59.17],\n",
    "        [1988,\"Bush, Sr.\",\"Dukakis\",53.94],\n",
    "        [1992,\"Bush, Sr.\",\"Clinton\",46.55],\n",
    "        [1996,\"Clinton\",\"Dole\",54.74],\n",
    "        [2000,\"Gore\",\"Bush, Jr.\",50.27],\n",
    "        [2004,\"Bush, Jr.\",\"Kerry\",51.24],\n",
    "        [2008,\"McCain\",\"Obama\",46.32],\n",
    "        [2012,\"Obama\",\"Romney\",52.00]]\n",
    "        \n",
    "df = pd.DataFrame(data=data, columns=columns)"
   ]
  },
  {
   "cell_type": "code",
   "execution_count": 3,
   "metadata": {},
   "outputs": [
    {
     "data": {
      "text/html": [
       "<div>\n",
       "<style scoped>\n",
       "    .dataframe tbody tr th:only-of-type {\n",
       "        vertical-align: middle;\n",
       "    }\n",
       "\n",
       "    .dataframe tbody tr th {\n",
       "        vertical-align: top;\n",
       "    }\n",
       "\n",
       "    .dataframe thead th {\n",
       "        text-align: right;\n",
       "    }\n",
       "</style>\n",
       "<table border=\"1\" class=\"dataframe\">\n",
       "  <thead>\n",
       "    <tr style=\"text-align: right;\">\n",
       "      <th></th>\n",
       "      <th>Year</th>\n",
       "      <th>Incumbent Party Candidate</th>\n",
       "      <th>Other Candidate</th>\n",
       "      <th>Incumbent Party Vote Share</th>\n",
       "    </tr>\n",
       "  </thead>\n",
       "  <tbody>\n",
       "    <tr>\n",
       "      <th>0</th>\n",
       "      <td>1952</td>\n",
       "      <td>Stevenson</td>\n",
       "      <td>Eisenhower</td>\n",
       "      <td>44.60</td>\n",
       "    </tr>\n",
       "    <tr>\n",
       "      <th>1</th>\n",
       "      <td>1956</td>\n",
       "      <td>Eisenhower</td>\n",
       "      <td>Stevenson</td>\n",
       "      <td>57.76</td>\n",
       "    </tr>\n",
       "    <tr>\n",
       "      <th>2</th>\n",
       "      <td>1960</td>\n",
       "      <td>Nixon</td>\n",
       "      <td>Kennedy</td>\n",
       "      <td>49.91</td>\n",
       "    </tr>\n",
       "    <tr>\n",
       "      <th>3</th>\n",
       "      <td>1964</td>\n",
       "      <td>Johnson</td>\n",
       "      <td>Goldwater</td>\n",
       "      <td>61.34</td>\n",
       "    </tr>\n",
       "    <tr>\n",
       "      <th>4</th>\n",
       "      <td>1968</td>\n",
       "      <td>Humphrey</td>\n",
       "      <td>Nixon</td>\n",
       "      <td>49.60</td>\n",
       "    </tr>\n",
       "    <tr>\n",
       "      <th>5</th>\n",
       "      <td>1972</td>\n",
       "      <td>Nixon</td>\n",
       "      <td>McGovern</td>\n",
       "      <td>61.79</td>\n",
       "    </tr>\n",
       "    <tr>\n",
       "      <th>6</th>\n",
       "      <td>1976</td>\n",
       "      <td>Ford</td>\n",
       "      <td>Carter</td>\n",
       "      <td>48.95</td>\n",
       "    </tr>\n",
       "    <tr>\n",
       "      <th>7</th>\n",
       "      <td>1980</td>\n",
       "      <td>Carter</td>\n",
       "      <td>Reagan</td>\n",
       "      <td>44.70</td>\n",
       "    </tr>\n",
       "    <tr>\n",
       "      <th>8</th>\n",
       "      <td>1984</td>\n",
       "      <td>Reagan</td>\n",
       "      <td>Mondale</td>\n",
       "      <td>59.17</td>\n",
       "    </tr>\n",
       "    <tr>\n",
       "      <th>9</th>\n",
       "      <td>1988</td>\n",
       "      <td>Bush, Sr.</td>\n",
       "      <td>Dukakis</td>\n",
       "      <td>53.94</td>\n",
       "    </tr>\n",
       "    <tr>\n",
       "      <th>10</th>\n",
       "      <td>1992</td>\n",
       "      <td>Bush, Sr.</td>\n",
       "      <td>Clinton</td>\n",
       "      <td>46.55</td>\n",
       "    </tr>\n",
       "    <tr>\n",
       "      <th>11</th>\n",
       "      <td>1996</td>\n",
       "      <td>Clinton</td>\n",
       "      <td>Dole</td>\n",
       "      <td>54.74</td>\n",
       "    </tr>\n",
       "    <tr>\n",
       "      <th>12</th>\n",
       "      <td>2000</td>\n",
       "      <td>Gore</td>\n",
       "      <td>Bush, Jr.</td>\n",
       "      <td>50.27</td>\n",
       "    </tr>\n",
       "    <tr>\n",
       "      <th>13</th>\n",
       "      <td>2004</td>\n",
       "      <td>Bush, Jr.</td>\n",
       "      <td>Kerry</td>\n",
       "      <td>51.24</td>\n",
       "    </tr>\n",
       "    <tr>\n",
       "      <th>14</th>\n",
       "      <td>2008</td>\n",
       "      <td>McCain</td>\n",
       "      <td>Obama</td>\n",
       "      <td>46.32</td>\n",
       "    </tr>\n",
       "    <tr>\n",
       "      <th>15</th>\n",
       "      <td>2012</td>\n",
       "      <td>Obama</td>\n",
       "      <td>Romney</td>\n",
       "      <td>52.00</td>\n",
       "    </tr>\n",
       "  </tbody>\n",
       "</table>\n",
       "</div>"
      ],
      "text/plain": [
       "    Year Incumbent Party Candidate Other Candidate  Incumbent Party Vote Share\n",
       "0   1952                 Stevenson      Eisenhower                       44.60\n",
       "1   1956                Eisenhower       Stevenson                       57.76\n",
       "2   1960                     Nixon         Kennedy                       49.91\n",
       "3   1964                   Johnson       Goldwater                       61.34\n",
       "4   1968                  Humphrey           Nixon                       49.60\n",
       "5   1972                     Nixon        McGovern                       61.79\n",
       "6   1976                      Ford          Carter                       48.95\n",
       "7   1980                    Carter          Reagan                       44.70\n",
       "8   1984                    Reagan         Mondale                       59.17\n",
       "9   1988                 Bush, Sr.         Dukakis                       53.94\n",
       "10  1992                 Bush, Sr.         Clinton                       46.55\n",
       "11  1996                   Clinton            Dole                       54.74\n",
       "12  2000                      Gore       Bush, Jr.                       50.27\n",
       "13  2004                 Bush, Jr.           Kerry                       51.24\n",
       "14  2008                    McCain           Obama                       46.32\n",
       "15  2012                     Obama          Romney                       52.00"
      ]
     },
     "execution_count": 3,
     "metadata": {},
     "output_type": "execute_result"
    }
   ],
   "source": [
    "df"
   ]
  },
  {
   "cell_type": "code",
<<<<<<< HEAD
   "execution_count": 6,
=======
   "execution_count": 8,
>>>>>>> 49cab5fb83f54878f6c064202355fd048df1be83
   "metadata": {},
   "outputs": [
    {
     "data": {
<<<<<<< HEAD
      "image/png": "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\n",
=======
      "image/png": "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\n",
>>>>>>> 49cab5fb83f54878f6c064202355fd048df1be83
      "text/plain": [
       "<Figure size 432x288 with 1 Axes>"
      ]
     },
     "metadata": {
      "needs_background": "light"
     },
     "output_type": "display_data"
    }
   ],
   "source": [
    "df.plot(x='Year', y='Incumbent Party Vote Share', kind='scatter');"
   ]
  },
  {
   "cell_type": "code",
<<<<<<< HEAD
   "execution_count": 7,
=======
   "execution_count": 9,
>>>>>>> 49cab5fb83f54878f6c064202355fd048df1be83
   "metadata": {},
   "outputs": [
    {
     "data": {
      "text/plain": [
       "count    16.000000\n",
       "mean     52.055000\n",
       "std       5.608951\n",
       "min      44.600000\n",
       "25%      48.350000\n",
       "50%      50.755000\n",
       "75%      55.495000\n",
       "max      61.790000\n",
       "Name: Incumbent Party Vote Share, dtype: float64"
      ]
     },
<<<<<<< HEAD
     "execution_count": 7,
=======
     "execution_count": 9,
>>>>>>> 49cab5fb83f54878f6c064202355fd048df1be83
     "metadata": {},
     "output_type": "execute_result"
    }
   ],
   "source": [
    "df['Incumbent Party Vote Share'].describe()"
   ]
  },
  {
   "cell_type": "code",
<<<<<<< HEAD
   "execution_count": 8,
=======
   "execution_count": 10,
>>>>>>> 49cab5fb83f54878f6c064202355fd048df1be83
   "metadata": {},
   "outputs": [],
   "source": [
    "target = 'Incumbent Party Vote Share'\n",
    "df['Prediction'] = df[target].mean()\n",
    "df['Error'] = df['Prediction'] - df[target]"
   ]
  },
  {
   "cell_type": "code",
<<<<<<< HEAD
   "execution_count": 9,
=======
   "execution_count": 12,
>>>>>>> 49cab5fb83f54878f6c064202355fd048df1be83
   "metadata": {},
   "outputs": [
    {
     "data": {
<<<<<<< HEAD
      "text/html": [
       "<div>\n",
       "<style scoped>\n",
       "    .dataframe tbody tr th:only-of-type {\n",
       "        vertical-align: middle;\n",
       "    }\n",
       "\n",
       "    .dataframe tbody tr th {\n",
       "        vertical-align: top;\n",
       "    }\n",
       "\n",
       "    .dataframe thead th {\n",
       "        text-align: right;\n",
       "    }\n",
       "</style>\n",
       "<table border=\"1\" class=\"dataframe\">\n",
       "  <thead>\n",
       "    <tr style=\"text-align: right;\">\n",
       "      <th></th>\n",
       "      <th>Year</th>\n",
       "      <th>Incumbent Party Candidate</th>\n",
       "      <th>Other Candidate</th>\n",
       "      <th>Incumbent Party Vote Share</th>\n",
       "      <th>Prediction</th>\n",
       "      <th>Error</th>\n",
       "    </tr>\n",
       "  </thead>\n",
       "  <tbody>\n",
       "    <tr>\n",
       "      <th>0</th>\n",
       "      <td>1952</td>\n",
       "      <td>Stevenson</td>\n",
       "      <td>Eisenhower</td>\n",
       "      <td>44.60</td>\n",
       "      <td>52.055</td>\n",
       "      <td>7.455</td>\n",
       "    </tr>\n",
       "    <tr>\n",
       "      <th>1</th>\n",
       "      <td>1956</td>\n",
       "      <td>Eisenhower</td>\n",
       "      <td>Stevenson</td>\n",
       "      <td>57.76</td>\n",
       "      <td>52.055</td>\n",
       "      <td>-5.705</td>\n",
       "    </tr>\n",
       "    <tr>\n",
       "      <th>2</th>\n",
       "      <td>1960</td>\n",
       "      <td>Nixon</td>\n",
       "      <td>Kennedy</td>\n",
       "      <td>49.91</td>\n",
       "      <td>52.055</td>\n",
       "      <td>2.145</td>\n",
       "    </tr>\n",
       "    <tr>\n",
       "      <th>3</th>\n",
       "      <td>1964</td>\n",
       "      <td>Johnson</td>\n",
       "      <td>Goldwater</td>\n",
       "      <td>61.34</td>\n",
       "      <td>52.055</td>\n",
       "      <td>-9.285</td>\n",
       "    </tr>\n",
       "    <tr>\n",
       "      <th>4</th>\n",
       "      <td>1968</td>\n",
       "      <td>Humphrey</td>\n",
       "      <td>Nixon</td>\n",
       "      <td>49.60</td>\n",
       "      <td>52.055</td>\n",
       "      <td>2.455</td>\n",
       "    </tr>\n",
       "    <tr>\n",
       "      <th>5</th>\n",
       "      <td>1972</td>\n",
       "      <td>Nixon</td>\n",
       "      <td>McGovern</td>\n",
       "      <td>61.79</td>\n",
       "      <td>52.055</td>\n",
       "      <td>-9.735</td>\n",
       "    </tr>\n",
       "    <tr>\n",
       "      <th>6</th>\n",
       "      <td>1976</td>\n",
       "      <td>Ford</td>\n",
       "      <td>Carter</td>\n",
       "      <td>48.95</td>\n",
       "      <td>52.055</td>\n",
       "      <td>3.105</td>\n",
       "    </tr>\n",
       "    <tr>\n",
       "      <th>7</th>\n",
       "      <td>1980</td>\n",
       "      <td>Carter</td>\n",
       "      <td>Reagan</td>\n",
       "      <td>44.70</td>\n",
       "      <td>52.055</td>\n",
       "      <td>7.355</td>\n",
       "    </tr>\n",
       "    <tr>\n",
       "      <th>8</th>\n",
       "      <td>1984</td>\n",
       "      <td>Reagan</td>\n",
       "      <td>Mondale</td>\n",
       "      <td>59.17</td>\n",
       "      <td>52.055</td>\n",
       "      <td>-7.115</td>\n",
       "    </tr>\n",
       "    <tr>\n",
       "      <th>9</th>\n",
       "      <td>1988</td>\n",
       "      <td>Bush, Sr.</td>\n",
       "      <td>Dukakis</td>\n",
       "      <td>53.94</td>\n",
       "      <td>52.055</td>\n",
       "      <td>-1.885</td>\n",
       "    </tr>\n",
       "    <tr>\n",
       "      <th>10</th>\n",
       "      <td>1992</td>\n",
       "      <td>Bush, Sr.</td>\n",
       "      <td>Clinton</td>\n",
       "      <td>46.55</td>\n",
       "      <td>52.055</td>\n",
       "      <td>5.505</td>\n",
       "    </tr>\n",
       "    <tr>\n",
       "      <th>11</th>\n",
       "      <td>1996</td>\n",
       "      <td>Clinton</td>\n",
       "      <td>Dole</td>\n",
       "      <td>54.74</td>\n",
       "      <td>52.055</td>\n",
       "      <td>-2.685</td>\n",
       "    </tr>\n",
       "    <tr>\n",
       "      <th>12</th>\n",
       "      <td>2000</td>\n",
       "      <td>Gore</td>\n",
       "      <td>Bush, Jr.</td>\n",
       "      <td>50.27</td>\n",
       "      <td>52.055</td>\n",
       "      <td>1.785</td>\n",
       "    </tr>\n",
       "    <tr>\n",
       "      <th>13</th>\n",
       "      <td>2004</td>\n",
       "      <td>Bush, Jr.</td>\n",
       "      <td>Kerry</td>\n",
       "      <td>51.24</td>\n",
       "      <td>52.055</td>\n",
       "      <td>0.815</td>\n",
       "    </tr>\n",
       "    <tr>\n",
       "      <th>14</th>\n",
       "      <td>2008</td>\n",
       "      <td>McCain</td>\n",
       "      <td>Obama</td>\n",
       "      <td>46.32</td>\n",
       "      <td>52.055</td>\n",
       "      <td>5.735</td>\n",
       "    </tr>\n",
       "    <tr>\n",
       "      <th>15</th>\n",
       "      <td>2012</td>\n",
       "      <td>Obama</td>\n",
       "      <td>Romney</td>\n",
       "      <td>52.00</td>\n",
       "      <td>52.055</td>\n",
       "      <td>0.055</td>\n",
       "    </tr>\n",
       "  </tbody>\n",
       "</table>\n",
       "</div>"
      ],
      "text/plain": [
       "    Year Incumbent Party Candidate Other Candidate  \\\n",
       "0   1952                 Stevenson      Eisenhower   \n",
       "1   1956                Eisenhower       Stevenson   \n",
       "2   1960                     Nixon         Kennedy   \n",
       "3   1964                   Johnson       Goldwater   \n",
       "4   1968                  Humphrey           Nixon   \n",
       "5   1972                     Nixon        McGovern   \n",
       "6   1976                      Ford          Carter   \n",
       "7   1980                    Carter          Reagan   \n",
       "8   1984                    Reagan         Mondale   \n",
       "9   1988                 Bush, Sr.         Dukakis   \n",
       "10  1992                 Bush, Sr.         Clinton   \n",
       "11  1996                   Clinton            Dole   \n",
       "12  2000                      Gore       Bush, Jr.   \n",
       "13  2004                 Bush, Jr.           Kerry   \n",
       "14  2008                    McCain           Obama   \n",
       "15  2012                     Obama          Romney   \n",
       "\n",
       "    Incumbent Party Vote Share  Prediction  Error  \n",
       "0                        44.60      52.055  7.455  \n",
       "1                        57.76      52.055 -5.705  \n",
       "2                        49.91      52.055  2.145  \n",
       "3                        61.34      52.055 -9.285  \n",
       "4                        49.60      52.055  2.455  \n",
       "5                        61.79      52.055 -9.735  \n",
       "6                        48.95      52.055  3.105  \n",
       "7                        44.70      52.055  7.355  \n",
       "8                        59.17      52.055 -7.115  \n",
       "9                        53.94      52.055 -1.885  \n",
       "10                       46.55      52.055  5.505  \n",
       "11                       54.74      52.055 -2.685  \n",
       "12                       50.27      52.055  1.785  \n",
       "13                       51.24      52.055  0.815  \n",
       "14                       46.32      52.055  5.735  \n",
       "15                       52.00      52.055  0.055  "
      ]
     },
     "execution_count": 9,
=======
      "text/plain": [
       "-1.4210854715202004e-14"
      ]
     },
     "execution_count": 12,
>>>>>>> 49cab5fb83f54878f6c064202355fd048df1be83
     "metadata": {},
     "output_type": "execute_result"
    }
   ],
   "source": [
    "df['Error'].sum()"
   ]
  },
  {
   "cell_type": "code",
<<<<<<< HEAD
   "execution_count": 10,
=======
   "execution_count": 13,
>>>>>>> 49cab5fb83f54878f6c064202355fd048df1be83
   "metadata": {},
   "outputs": [
    {
     "data": {
      "text/plain": [
<<<<<<< HEAD
       "-1.4210854715202004e-14"
      ]
     },
     "execution_count": 10,
=======
       "72.82"
      ]
     },
     "execution_count": 13,
>>>>>>> 49cab5fb83f54878f6c064202355fd048df1be83
     "metadata": {},
     "output_type": "execute_result"
    }
   ],
   "source": [
    "df['Absolute Error'] = df['Error'].abs()\n",
    "df['Absolute Error'].sum()"
   ]
  },
  {
   "cell_type": "code",
<<<<<<< HEAD
   "execution_count": 11,
=======
   "execution_count": 14,
>>>>>>> 49cab5fb83f54878f6c064202355fd048df1be83
   "metadata": {},
   "outputs": [
    {
     "data": {
      "text/plain": [
<<<<<<< HEAD
       "72.82"
      ]
     },
     "execution_count": 11,
=======
       "4.55125"
      ]
     },
     "execution_count": 14,
>>>>>>> 49cab5fb83f54878f6c064202355fd048df1be83
     "metadata": {},
     "output_type": "execute_result"
    }
   ],
   "source": [
    "df['Absolute Error'].mean()"
   ]
  },
  {
   "cell_type": "code",
<<<<<<< HEAD
   "execution_count": 12,
=======
   "execution_count": 15,
>>>>>>> 49cab5fb83f54878f6c064202355fd048df1be83
   "metadata": {},
   "outputs": [
    {
     "data": {
<<<<<<< HEAD
      "text/plain": [
       "4.55125"
      ]
     },
     "execution_count": 12,
=======
      "text/html": [
       "<div>\n",
       "<style scoped>\n",
       "    .dataframe tbody tr th:only-of-type {\n",
       "        vertical-align: middle;\n",
       "    }\n",
       "\n",
       "    .dataframe tbody tr th {\n",
       "        vertical-align: top;\n",
       "    }\n",
       "\n",
       "    .dataframe thead th {\n",
       "        text-align: right;\n",
       "    }\n",
       "</style>\n",
       "<table border=\"1\" class=\"dataframe\">\n",
       "  <thead>\n",
       "    <tr style=\"text-align: right;\">\n",
       "      <th></th>\n",
       "      <th>Year</th>\n",
       "      <th>Incumbent Party Candidate</th>\n",
       "      <th>Other Candidate</th>\n",
       "      <th>Incumbent Party Vote Share</th>\n",
       "      <th>Prediction</th>\n",
       "      <th>Error</th>\n",
       "      <th>Absolute Error</th>\n",
       "    </tr>\n",
       "  </thead>\n",
       "  <tbody>\n",
       "    <tr>\n",
       "      <th>0</th>\n",
       "      <td>1952</td>\n",
       "      <td>Stevenson</td>\n",
       "      <td>Eisenhower</td>\n",
       "      <td>44.60</td>\n",
       "      <td>52.055</td>\n",
       "      <td>7.455</td>\n",
       "      <td>7.455</td>\n",
       "    </tr>\n",
       "    <tr>\n",
       "      <th>1</th>\n",
       "      <td>1956</td>\n",
       "      <td>Eisenhower</td>\n",
       "      <td>Stevenson</td>\n",
       "      <td>57.76</td>\n",
       "      <td>52.055</td>\n",
       "      <td>-5.705</td>\n",
       "      <td>5.705</td>\n",
       "    </tr>\n",
       "    <tr>\n",
       "      <th>2</th>\n",
       "      <td>1960</td>\n",
       "      <td>Nixon</td>\n",
       "      <td>Kennedy</td>\n",
       "      <td>49.91</td>\n",
       "      <td>52.055</td>\n",
       "      <td>2.145</td>\n",
       "      <td>2.145</td>\n",
       "    </tr>\n",
       "    <tr>\n",
       "      <th>3</th>\n",
       "      <td>1964</td>\n",
       "      <td>Johnson</td>\n",
       "      <td>Goldwater</td>\n",
       "      <td>61.34</td>\n",
       "      <td>52.055</td>\n",
       "      <td>-9.285</td>\n",
       "      <td>9.285</td>\n",
       "    </tr>\n",
       "    <tr>\n",
       "      <th>4</th>\n",
       "      <td>1968</td>\n",
       "      <td>Humphrey</td>\n",
       "      <td>Nixon</td>\n",
       "      <td>49.60</td>\n",
       "      <td>52.055</td>\n",
       "      <td>2.455</td>\n",
       "      <td>2.455</td>\n",
       "    </tr>\n",
       "    <tr>\n",
       "      <th>5</th>\n",
       "      <td>1972</td>\n",
       "      <td>Nixon</td>\n",
       "      <td>McGovern</td>\n",
       "      <td>61.79</td>\n",
       "      <td>52.055</td>\n",
       "      <td>-9.735</td>\n",
       "      <td>9.735</td>\n",
       "    </tr>\n",
       "    <tr>\n",
       "      <th>6</th>\n",
       "      <td>1976</td>\n",
       "      <td>Ford</td>\n",
       "      <td>Carter</td>\n",
       "      <td>48.95</td>\n",
       "      <td>52.055</td>\n",
       "      <td>3.105</td>\n",
       "      <td>3.105</td>\n",
       "    </tr>\n",
       "    <tr>\n",
       "      <th>7</th>\n",
       "      <td>1980</td>\n",
       "      <td>Carter</td>\n",
       "      <td>Reagan</td>\n",
       "      <td>44.70</td>\n",
       "      <td>52.055</td>\n",
       "      <td>7.355</td>\n",
       "      <td>7.355</td>\n",
       "    </tr>\n",
       "    <tr>\n",
       "      <th>8</th>\n",
       "      <td>1984</td>\n",
       "      <td>Reagan</td>\n",
       "      <td>Mondale</td>\n",
       "      <td>59.17</td>\n",
       "      <td>52.055</td>\n",
       "      <td>-7.115</td>\n",
       "      <td>7.115</td>\n",
       "    </tr>\n",
       "    <tr>\n",
       "      <th>9</th>\n",
       "      <td>1988</td>\n",
       "      <td>Bush, Sr.</td>\n",
       "      <td>Dukakis</td>\n",
       "      <td>53.94</td>\n",
       "      <td>52.055</td>\n",
       "      <td>-1.885</td>\n",
       "      <td>1.885</td>\n",
       "    </tr>\n",
       "    <tr>\n",
       "      <th>10</th>\n",
       "      <td>1992</td>\n",
       "      <td>Bush, Sr.</td>\n",
       "      <td>Clinton</td>\n",
       "      <td>46.55</td>\n",
       "      <td>52.055</td>\n",
       "      <td>5.505</td>\n",
       "      <td>5.505</td>\n",
       "    </tr>\n",
       "    <tr>\n",
       "      <th>11</th>\n",
       "      <td>1996</td>\n",
       "      <td>Clinton</td>\n",
       "      <td>Dole</td>\n",
       "      <td>54.74</td>\n",
       "      <td>52.055</td>\n",
       "      <td>-2.685</td>\n",
       "      <td>2.685</td>\n",
       "    </tr>\n",
       "    <tr>\n",
       "      <th>12</th>\n",
       "      <td>2000</td>\n",
       "      <td>Gore</td>\n",
       "      <td>Bush, Jr.</td>\n",
       "      <td>50.27</td>\n",
       "      <td>52.055</td>\n",
       "      <td>1.785</td>\n",
       "      <td>1.785</td>\n",
       "    </tr>\n",
       "    <tr>\n",
       "      <th>13</th>\n",
       "      <td>2004</td>\n",
       "      <td>Bush, Jr.</td>\n",
       "      <td>Kerry</td>\n",
       "      <td>51.24</td>\n",
       "      <td>52.055</td>\n",
       "      <td>0.815</td>\n",
       "      <td>0.815</td>\n",
       "    </tr>\n",
       "    <tr>\n",
       "      <th>14</th>\n",
       "      <td>2008</td>\n",
       "      <td>McCain</td>\n",
       "      <td>Obama</td>\n",
       "      <td>46.32</td>\n",
       "      <td>52.055</td>\n",
       "      <td>5.735</td>\n",
       "      <td>5.735</td>\n",
       "    </tr>\n",
       "    <tr>\n",
       "      <th>15</th>\n",
       "      <td>2012</td>\n",
       "      <td>Obama</td>\n",
       "      <td>Romney</td>\n",
       "      <td>52.00</td>\n",
       "      <td>52.055</td>\n",
       "      <td>0.055</td>\n",
       "      <td>0.055</td>\n",
       "    </tr>\n",
       "  </tbody>\n",
       "</table>\n",
       "</div>"
      ],
      "text/plain": [
       "    Year Incumbent Party Candidate Other Candidate  \\\n",
       "0   1952                 Stevenson      Eisenhower   \n",
       "1   1956                Eisenhower       Stevenson   \n",
       "2   1960                     Nixon         Kennedy   \n",
       "3   1964                   Johnson       Goldwater   \n",
       "4   1968                  Humphrey           Nixon   \n",
       "5   1972                     Nixon        McGovern   \n",
       "6   1976                      Ford          Carter   \n",
       "7   1980                    Carter          Reagan   \n",
       "8   1984                    Reagan         Mondale   \n",
       "9   1988                 Bush, Sr.         Dukakis   \n",
       "10  1992                 Bush, Sr.         Clinton   \n",
       "11  1996                   Clinton            Dole   \n",
       "12  2000                      Gore       Bush, Jr.   \n",
       "13  2004                 Bush, Jr.           Kerry   \n",
       "14  2008                    McCain           Obama   \n",
       "15  2012                     Obama          Romney   \n",
       "\n",
       "    Incumbent Party Vote Share  Prediction  Error  Absolute Error  \n",
       "0                        44.60      52.055  7.455           7.455  \n",
       "1                        57.76      52.055 -5.705           5.705  \n",
       "2                        49.91      52.055  2.145           2.145  \n",
       "3                        61.34      52.055 -9.285           9.285  \n",
       "4                        49.60      52.055  2.455           2.455  \n",
       "5                        61.79      52.055 -9.735           9.735  \n",
       "6                        48.95      52.055  3.105           3.105  \n",
       "7                        44.70      52.055  7.355           7.355  \n",
       "8                        59.17      52.055 -7.115           7.115  \n",
       "9                        53.94      52.055 -1.885           1.885  \n",
       "10                       46.55      52.055  5.505           5.505  \n",
       "11                       54.74      52.055 -2.685           2.685  \n",
       "12                       50.27      52.055  1.785           1.785  \n",
       "13                       51.24      52.055  0.815           0.815  \n",
       "14                       46.32      52.055  5.735           5.735  \n",
       "15                       52.00      52.055  0.055           0.055  "
      ]
     },
     "execution_count": 15,
>>>>>>> 49cab5fb83f54878f6c064202355fd048df1be83
     "metadata": {},
     "output_type": "execute_result"
    }
   ],
   "source": [
    "df"
   ]
  },
  {
   "cell_type": "code",
<<<<<<< HEAD
   "execution_count": 13,
=======
   "execution_count": 16,
>>>>>>> 49cab5fb83f54878f6c064202355fd048df1be83
   "metadata": {},
   "outputs": [
    {
     "data": {
      "text/plain": [
       "4.55125"
      ]
     },
<<<<<<< HEAD
     "execution_count": 13,
=======
     "execution_count": 16,
>>>>>>> 49cab5fb83f54878f6c064202355fd048df1be83
     "metadata": {},
     "output_type": "execute_result"
    }
   ],
   "source": [
    "mean_absolute_error(y_true=df[target], y_pred=df['Prediction'])"
   ]
  },
  {
   "cell_type": "code",
<<<<<<< HEAD
   "execution_count": 14,
=======
   "execution_count": 17,
>>>>>>> 49cab5fb83f54878f6c064202355fd048df1be83
   "metadata": {},
   "outputs": [
    {
     "data": {
      "text/plain": [
       "0.0"
      ]
     },
<<<<<<< HEAD
     "execution_count": 14,
=======
     "execution_count": 17,
>>>>>>> 49cab5fb83f54878f6c064202355fd048df1be83
     "metadata": {},
     "output_type": "execute_result"
    }
   ],
   "source": [
    "r2_score(y_true=df[target], y_pred=df['Prediction'])"
   ]
  },
  {
   "cell_type": "markdown",
   "metadata": {},
   "source": [
<<<<<<< HEAD
    "### Add Data"
=======
    "# R Squared:  $R^2$\n",
    "\n",
    "One final attribute of linear regressions that we're going to talk about today is a measure of goodness of fit known as $R^2$ or R-squared. $R^2$ is a statistical measure of how close the data are fitted to our regression line. A helpful interpretation for the $R^2$ is the percentage of the dependent variable that is explained by the model.\n",
    "\n",
    "In other words, the $R^2$ is the percentage of y that is explained by the x variables included in the model. For this reason the $R^2$ is also known as the \"coefficient of determination,\" because it explains how much of y is explained (or determined) by our x varaibles. We won't go into the calculation of $R^2$ today, just know that a higher $R^2$ percentage is nearly always better and indicates a model that fits the data more closely. "
   ]
  },
  {
   "cell_type": "markdown",
   "metadata": {},
   "source": [
    "# Add data"
>>>>>>> 49cab5fb83f54878f6c064202355fd048df1be83
   ]
  },
  {
   "cell_type": "code",
<<<<<<< HEAD
   "execution_count": 15,
=======
   "execution_count": 18,
>>>>>>> 49cab5fb83f54878f6c064202355fd048df1be83
   "metadata": {},
   "outputs": [],
   "source": [
    "columns = ['Year','Average Recent Growth in Personal Incomes']\n",
    "\n",
    "data = [[1952,2.40],\n",
    "        [1956,2.89],\n",
    "        [1960, .85],\n",
    "        [1964,4.21],\n",
    "        [1968,3.02],\n",
    "        [1972,3.62],\n",
    "        [1976,1.08],\n",
    "        [1980,-.39],\n",
    "        [1984,3.86],\n",
    "        [1988,2.27],\n",
    "        [1992, .38],\n",
    "        [1996,1.04],\n",
    "        [2000,2.36],\n",
    "        [2004,1.72],\n",
    "        [2008, .10],\n",
    "        [2012, .95]]\n",
    "        \n",
    "growth = pd.DataFrame(data=data, columns=columns)"
   ]
  },
  {
   "cell_type": "code",
<<<<<<< HEAD
   "execution_count": 16,
=======
   "execution_count": 19,
>>>>>>> 49cab5fb83f54878f6c064202355fd048df1be83
   "metadata": {},
   "outputs": [
    {
     "data": {
      "text/html": [
       "<div>\n",
       "<style scoped>\n",
       "    .dataframe tbody tr th:only-of-type {\n",
       "        vertical-align: middle;\n",
       "    }\n",
       "\n",
       "    .dataframe tbody tr th {\n",
       "        vertical-align: top;\n",
       "    }\n",
       "\n",
       "    .dataframe thead th {\n",
       "        text-align: right;\n",
       "    }\n",
       "</style>\n",
       "<table border=\"1\" class=\"dataframe\">\n",
       "  <thead>\n",
       "    <tr style=\"text-align: right;\">\n",
       "      <th></th>\n",
       "      <th>Year</th>\n",
       "      <th>Incumbent Party Candidate</th>\n",
       "      <th>Other Candidate</th>\n",
       "      <th>Incumbent Party Vote Share</th>\n",
       "      <th>Prediction</th>\n",
       "      <th>Error</th>\n",
       "      <th>Absolute Error</th>\n",
       "      <th>Average Recent Growth in Personal Incomes</th>\n",
       "    </tr>\n",
       "  </thead>\n",
       "  <tbody>\n",
       "    <tr>\n",
       "      <th>0</th>\n",
       "      <td>1952</td>\n",
       "      <td>Stevenson</td>\n",
       "      <td>Eisenhower</td>\n",
       "      <td>44.60</td>\n",
       "      <td>52.055</td>\n",
       "      <td>7.455</td>\n",
       "      <td>7.455</td>\n",
       "      <td>2.40</td>\n",
       "    </tr>\n",
       "    <tr>\n",
       "      <th>1</th>\n",
       "      <td>1956</td>\n",
       "      <td>Eisenhower</td>\n",
       "      <td>Stevenson</td>\n",
       "      <td>57.76</td>\n",
       "      <td>52.055</td>\n",
       "      <td>-5.705</td>\n",
       "      <td>5.705</td>\n",
       "      <td>2.89</td>\n",
       "    </tr>\n",
       "    <tr>\n",
       "      <th>2</th>\n",
       "      <td>1960</td>\n",
       "      <td>Nixon</td>\n",
       "      <td>Kennedy</td>\n",
       "      <td>49.91</td>\n",
       "      <td>52.055</td>\n",
       "      <td>2.145</td>\n",
       "      <td>2.145</td>\n",
       "      <td>0.85</td>\n",
       "    </tr>\n",
       "    <tr>\n",
       "      <th>3</th>\n",
       "      <td>1964</td>\n",
       "      <td>Johnson</td>\n",
       "      <td>Goldwater</td>\n",
       "      <td>61.34</td>\n",
       "      <td>52.055</td>\n",
       "      <td>-9.285</td>\n",
       "      <td>9.285</td>\n",
       "      <td>4.21</td>\n",
       "    </tr>\n",
       "    <tr>\n",
       "      <th>4</th>\n",
       "      <td>1968</td>\n",
       "      <td>Humphrey</td>\n",
       "      <td>Nixon</td>\n",
       "      <td>49.60</td>\n",
       "      <td>52.055</td>\n",
       "      <td>2.455</td>\n",
       "      <td>2.455</td>\n",
       "      <td>3.02</td>\n",
       "    </tr>\n",
       "    <tr>\n",
       "      <th>5</th>\n",
       "      <td>1972</td>\n",
       "      <td>Nixon</td>\n",
       "      <td>McGovern</td>\n",
       "      <td>61.79</td>\n",
       "      <td>52.055</td>\n",
       "      <td>-9.735</td>\n",
       "      <td>9.735</td>\n",
       "      <td>3.62</td>\n",
       "    </tr>\n",
       "    <tr>\n",
       "      <th>6</th>\n",
       "      <td>1976</td>\n",
       "      <td>Ford</td>\n",
       "      <td>Carter</td>\n",
       "      <td>48.95</td>\n",
       "      <td>52.055</td>\n",
       "      <td>3.105</td>\n",
       "      <td>3.105</td>\n",
       "      <td>1.08</td>\n",
       "    </tr>\n",
       "    <tr>\n",
       "      <th>7</th>\n",
       "      <td>1980</td>\n",
       "      <td>Carter</td>\n",
       "      <td>Reagan</td>\n",
       "      <td>44.70</td>\n",
       "      <td>52.055</td>\n",
       "      <td>7.355</td>\n",
       "      <td>7.355</td>\n",
       "      <td>-0.39</td>\n",
       "    </tr>\n",
       "    <tr>\n",
       "      <th>8</th>\n",
       "      <td>1984</td>\n",
       "      <td>Reagan</td>\n",
       "      <td>Mondale</td>\n",
       "      <td>59.17</td>\n",
       "      <td>52.055</td>\n",
       "      <td>-7.115</td>\n",
       "      <td>7.115</td>\n",
       "      <td>3.86</td>\n",
       "    </tr>\n",
       "    <tr>\n",
       "      <th>9</th>\n",
       "      <td>1988</td>\n",
       "      <td>Bush, Sr.</td>\n",
       "      <td>Dukakis</td>\n",
       "      <td>53.94</td>\n",
       "      <td>52.055</td>\n",
       "      <td>-1.885</td>\n",
       "      <td>1.885</td>\n",
       "      <td>2.27</td>\n",
       "    </tr>\n",
       "    <tr>\n",
       "      <th>10</th>\n",
       "      <td>1992</td>\n",
       "      <td>Bush, Sr.</td>\n",
       "      <td>Clinton</td>\n",
       "      <td>46.55</td>\n",
       "      <td>52.055</td>\n",
       "      <td>5.505</td>\n",
       "      <td>5.505</td>\n",
       "      <td>0.38</td>\n",
       "    </tr>\n",
       "    <tr>\n",
       "      <th>11</th>\n",
       "      <td>1996</td>\n",
       "      <td>Clinton</td>\n",
       "      <td>Dole</td>\n",
       "      <td>54.74</td>\n",
       "      <td>52.055</td>\n",
       "      <td>-2.685</td>\n",
       "      <td>2.685</td>\n",
       "      <td>1.04</td>\n",
       "    </tr>\n",
       "    <tr>\n",
       "      <th>12</th>\n",
       "      <td>2000</td>\n",
       "      <td>Gore</td>\n",
       "      <td>Bush, Jr.</td>\n",
       "      <td>50.27</td>\n",
       "      <td>52.055</td>\n",
       "      <td>1.785</td>\n",
       "      <td>1.785</td>\n",
       "      <td>2.36</td>\n",
       "    </tr>\n",
       "    <tr>\n",
       "      <th>13</th>\n",
       "      <td>2004</td>\n",
       "      <td>Bush, Jr.</td>\n",
       "      <td>Kerry</td>\n",
       "      <td>51.24</td>\n",
       "      <td>52.055</td>\n",
       "      <td>0.815</td>\n",
       "      <td>0.815</td>\n",
       "      <td>1.72</td>\n",
       "    </tr>\n",
       "    <tr>\n",
       "      <th>14</th>\n",
       "      <td>2008</td>\n",
       "      <td>McCain</td>\n",
       "      <td>Obama</td>\n",
       "      <td>46.32</td>\n",
       "      <td>52.055</td>\n",
       "      <td>5.735</td>\n",
       "      <td>5.735</td>\n",
       "      <td>0.10</td>\n",
       "    </tr>\n",
       "    <tr>\n",
       "      <th>15</th>\n",
       "      <td>2012</td>\n",
       "      <td>Obama</td>\n",
       "      <td>Romney</td>\n",
       "      <td>52.00</td>\n",
       "      <td>52.055</td>\n",
       "      <td>0.055</td>\n",
       "      <td>0.055</td>\n",
       "      <td>0.95</td>\n",
       "    </tr>\n",
       "  </tbody>\n",
       "</table>\n",
       "</div>"
      ],
      "text/plain": [
       "    Year Incumbent Party Candidate Other Candidate  \\\n",
       "0   1952                 Stevenson      Eisenhower   \n",
       "1   1956                Eisenhower       Stevenson   \n",
       "2   1960                     Nixon         Kennedy   \n",
       "3   1964                   Johnson       Goldwater   \n",
       "4   1968                  Humphrey           Nixon   \n",
       "5   1972                     Nixon        McGovern   \n",
       "6   1976                      Ford          Carter   \n",
       "7   1980                    Carter          Reagan   \n",
       "8   1984                    Reagan         Mondale   \n",
       "9   1988                 Bush, Sr.         Dukakis   \n",
       "10  1992                 Bush, Sr.         Clinton   \n",
       "11  1996                   Clinton            Dole   \n",
       "12  2000                      Gore       Bush, Jr.   \n",
       "13  2004                 Bush, Jr.           Kerry   \n",
       "14  2008                    McCain           Obama   \n",
       "15  2012                     Obama          Romney   \n",
       "\n",
       "    Incumbent Party Vote Share  Prediction  Error  Absolute Error  \\\n",
       "0                        44.60      52.055  7.455           7.455   \n",
       "1                        57.76      52.055 -5.705           5.705   \n",
       "2                        49.91      52.055  2.145           2.145   \n",
       "3                        61.34      52.055 -9.285           9.285   \n",
       "4                        49.60      52.055  2.455           2.455   \n",
       "5                        61.79      52.055 -9.735           9.735   \n",
       "6                        48.95      52.055  3.105           3.105   \n",
       "7                        44.70      52.055  7.355           7.355   \n",
       "8                        59.17      52.055 -7.115           7.115   \n",
       "9                        53.94      52.055 -1.885           1.885   \n",
       "10                       46.55      52.055  5.505           5.505   \n",
       "11                       54.74      52.055 -2.685           2.685   \n",
       "12                       50.27      52.055  1.785           1.785   \n",
       "13                       51.24      52.055  0.815           0.815   \n",
       "14                       46.32      52.055  5.735           5.735   \n",
       "15                       52.00      52.055  0.055           0.055   \n",
       "\n",
       "    Average Recent Growth in Personal Incomes  \n",
       "0                                        2.40  \n",
       "1                                        2.89  \n",
       "2                                        0.85  \n",
       "3                                        4.21  \n",
       "4                                        3.02  \n",
       "5                                        3.62  \n",
       "6                                        1.08  \n",
       "7                                       -0.39  \n",
       "8                                        3.86  \n",
       "9                                        2.27  \n",
       "10                                       0.38  \n",
       "11                                       1.04  \n",
       "12                                       2.36  \n",
       "13                                       1.72  \n",
       "14                                       0.10  \n",
       "15                                       0.95  "
      ]
     },
<<<<<<< HEAD
     "execution_count": 16,
=======
     "execution_count": 19,
>>>>>>> 49cab5fb83f54878f6c064202355fd048df1be83
     "metadata": {},
     "output_type": "execute_result"
    }
   ],
   "source": [
    "df = df.merge(growth)\n",
    "df"
   ]
  },
  {
   "cell_type": "code",
<<<<<<< HEAD
   "execution_count": 17,
=======
   "execution_count": 20,
>>>>>>> 49cab5fb83f54878f6c064202355fd048df1be83
   "metadata": {},
   "outputs": [],
   "source": [
    "feature = 'Average Recent Growth in Personal Incomes'"
   ]
  },
  {
   "cell_type": "code",
<<<<<<< HEAD
   "execution_count": 18,
=======
   "execution_count": 21,
>>>>>>> 49cab5fb83f54878f6c064202355fd048df1be83
   "metadata": {},
   "outputs": [
    {
     "data": {
<<<<<<< HEAD
      "image/png": "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\n",
=======
      "image/png": "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\n",
>>>>>>> 49cab5fb83f54878f6c064202355fd048df1be83
      "text/plain": [
       "<Figure size 432x288 with 1 Axes>"
      ]
     },
     "metadata": {
      "needs_background": "light"
     },
     "output_type": "display_data"
    }
   ],
   "source": [
    "df.plot(x=feature, y=target, kind='scatter');"
   ]
  },
  {
   "cell_type": "markdown",
   "metadata": {},
   "source": [
    "We can see from the scatterplot that these data points seem to follow a somewhat linear relationship. This means that we could probably summarize their relationship well by fitting a line of best fit to these points. Lets do it.\n",
    "\n",
    "\n",
    "## The Equation for a Line\n",
    "\n",
    "As we know a common equation for a line is:\n",
    "\n",
    "\\begin{align}\n",
    "y = mx + b\n",
    "\\end{align}\n",
    "\n",
    "Where $m$ is the slope of our line and $b$ is the y-intercept. \n",
    "\n",
    "If we want to plot a line through our cloud of points we figure out what these two values should be. Linear Regression seeks to **estimate** the slope and intercept values that describe a line that best fits the data points."
   ]
  },
  {
   "cell_type": "code",
<<<<<<< HEAD
   "execution_count": 19,
=======
   "execution_count": 22,
>>>>>>> 49cab5fb83f54878f6c064202355fd048df1be83
   "metadata": {},
   "outputs": [
    {
     "data": {
      "text/plain": [
       "45.27999999999999"
      ]
     },
<<<<<<< HEAD
     "execution_count": 19,
=======
     "execution_count": 22,
>>>>>>> 49cab5fb83f54878f6c064202355fd048df1be83
     "metadata": {},
     "output_type": "execute_result"
    }
   ],
   "source": [
    "m = 4\n",
    "b = 44\n",
    "df['Prediction'] = m * df[feature] + b\n",
    "df['Error'] = df['Prediction'] - df[target]\n",
    "df['Absolute Error'] = df['Error'].abs()\n",
    "df['Absolute Error'].sum()"
   ]
  },
  {
   "cell_type": "code",
<<<<<<< HEAD
   "execution_count": 20,
=======
   "execution_count": 23,
>>>>>>> 49cab5fb83f54878f6c064202355fd048df1be83
   "metadata": {},
   "outputs": [
    {
     "data": {
      "text/plain": [
       "2.829999999999999"
      ]
     },
<<<<<<< HEAD
     "execution_count": 20,
=======
     "execution_count": 23,
>>>>>>> 49cab5fb83f54878f6c064202355fd048df1be83
     "metadata": {},
     "output_type": "execute_result"
    }
   ],
   "source": [
    "df['Absolute Error'].mean()"
   ]
  },
  {
   "cell_type": "code",
<<<<<<< HEAD
   "execution_count": 21,
=======
   "execution_count": 24,
>>>>>>> 49cab5fb83f54878f6c064202355fd048df1be83
   "metadata": {},
   "outputs": [
    {
     "data": {
      "text/plain": [
       "0.5178779627255485"
      ]
     },
<<<<<<< HEAD
     "execution_count": 21,
=======
     "execution_count": 24,
>>>>>>> 49cab5fb83f54878f6c064202355fd048df1be83
     "metadata": {},
     "output_type": "execute_result"
    }
   ],
   "source": [
    "r2_score(y_true=df[target], y_pred=df['Prediction'])"
   ]
  },
  {
   "cell_type": "code",
<<<<<<< HEAD
   "execution_count": 22,
=======
   "execution_count": 25,
>>>>>>> 49cab5fb83f54878f6c064202355fd048df1be83
   "metadata": {},
   "outputs": [
    {
     "data": {
<<<<<<< HEAD
      "image/png": "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\n",
=======
      "image/png": "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\n",
>>>>>>> 49cab5fb83f54878f6c064202355fd048df1be83
      "text/plain": [
       "<Figure size 432x288 with 1 Axes>"
      ]
     },
     "metadata": {
      "needs_background": "light"
     },
     "output_type": "display_data"
    }
   ],
   "source": [
    "ax = df.plot(x=feature, y=target, kind='scatter')\n",
    "df.plot(x=feature, y='Prediction', kind='line', ax=ax);"
   ]
  },
  {
   "cell_type": "code",
<<<<<<< HEAD
   "execution_count": 23,
=======
   "execution_count": 26,
>>>>>>> 49cab5fb83f54878f6c064202355fd048df1be83
   "metadata": {},
   "outputs": [
    {
     "data": {
<<<<<<< HEAD
      "image/png": "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\n",
=======
      "image/png": "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\n",
>>>>>>> 49cab5fb83f54878f6c064202355fd048df1be83
      "text/plain": [
       "<Figure size 504x504 with 1 Axes>"
      ]
     },
     "metadata": {
      "needs_background": "light"
     },
     "output_type": "display_data"
    }
   ],
   "source": [
    "def regression(m, b):\n",
    "    df['Prediction'] = m * df[feature] + b\n",
    "    df['Error'] = df['Prediction'] - df[target]\n",
    "    df['Absolute Error'] = df['Error'].abs()\n",
    "    sum_absolute_error = df['Absolute Error'].sum()\n",
    "    \n",
    "    title = f'Sum of absolute errors: {sum_absolute_error}'\n",
    "    ax = df.plot(x=feature, y=target, kind='scatter', title=title, figsize=(7, 7))\n",
    "    df.plot(x=feature, y='Prediction', kind='line', ax=ax)\n",
    "    \n",
    "regression(m=4, b=48)"
   ]
  },
  {
   "cell_type": "markdown",
   "metadata": {},
   "source": [
    "## Residual Error \n",
    "\n",
    "The residual error is the distance between points in our dataset and our regression line."
   ]
  },
  {
   "cell_type": "code",
<<<<<<< HEAD
   "execution_count": 24,
=======
   "execution_count": 27,
>>>>>>> 49cab5fb83f54878f6c064202355fd048df1be83
   "metadata": {},
   "outputs": [
    {
     "data": {
<<<<<<< HEAD
      "image/png": "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\n",
=======
      "image/png": "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\n",
>>>>>>> 49cab5fb83f54878f6c064202355fd048df1be83
      "text/plain": [
       "<Figure size 504x504 with 1 Axes>"
      ]
     },
     "metadata": {
      "needs_background": "light"
     },
     "output_type": "display_data"
    }
   ],
   "source": [
    "def regression(m, b):\n",
    "    df['Prediction'] = m * df[feature] + b\n",
    "    df['Error'] = df['Prediction'] - df[target]\n",
    "    df['Absolute Error'] = df['Error'].abs()\n",
    "    sum_absolute_error = df['Absolute Error'].sum()\n",
    "    \n",
    "    title = f'Sum of absolute errors: {sum_absolute_error}'\n",
    "    ax = df.plot(x=feature, y=target, kind='scatter', title=title, figsize=(7, 7))\n",
    "    df.plot(x=feature, y='Prediction', kind='line', ax=ax)\n",
    "    \n",
    "    for x, y1, y2 in zip(df[feature], df[target], df['Prediction']):\n",
    "        ax.plot((x, x), (y1, y2), color='grey')\n",
    "\n",
    "regression(m=3, b=46)"
   ]
  },
  {
   "cell_type": "code",
<<<<<<< HEAD
   "execution_count": 25,
=======
   "execution_count": 28,
>>>>>>> 49cab5fb83f54878f6c064202355fd048df1be83
   "metadata": {},
   "outputs": [
    {
     "data": {
<<<<<<< HEAD
      "image/png": "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\n",
      "text/plain": [
       "<Figure size 504x504 with 1 Axes>"
      ]
     },
     "metadata": {
      "needs_background": "light"
     },
=======
      "application/vnd.jupyter.widget-view+json": {
       "model_id": "14da4a1694f84f3db53307d1c44876d9",
       "version_major": 2,
       "version_minor": 0
      },
      "text/plain": [
       "interactive(children=(FloatSlider(value=0.0, description='m', max=10.0, min=-10.0, step=0.5), FloatSlider(valu…"
      ]
     },
     "metadata": {},
>>>>>>> 49cab5fb83f54878f6c064202355fd048df1be83
     "output_type": "display_data"
    }
   ],
   "source": [
    "interact(regression, m=(-10,10,0.5), b=(40,60,0.5));"
   ]
  },
  {
   "cell_type": "code",
<<<<<<< HEAD
   "execution_count": 26,
   "metadata": {},
   "outputs": [
    {
     "data": {
      "text/html": [
       "<div>\n",
       "<style scoped>\n",
       "    .dataframe tbody tr th:only-of-type {\n",
       "        vertical-align: middle;\n",
       "    }\n",
       "\n",
       "    .dataframe tbody tr th {\n",
       "        vertical-align: top;\n",
       "    }\n",
       "\n",
       "    .dataframe thead th {\n",
       "        text-align: right;\n",
       "    }\n",
       "</style>\n",
       "<table border=\"1\" class=\"dataframe\">\n",
       "  <thead>\n",
       "    <tr style=\"text-align: right;\">\n",
       "      <th></th>\n",
       "      <th>Year</th>\n",
       "      <th>Incumbent Party Candidate</th>\n",
       "      <th>Other Candidate</th>\n",
       "      <th>Incumbent Party Vote Share</th>\n",
       "      <th>Prediction</th>\n",
       "      <th>Error</th>\n",
       "      <th>Absolute Error</th>\n",
       "      <th>Average Recent Growth in Personal Incomes</th>\n",
       "    </tr>\n",
       "  </thead>\n",
       "  <tbody>\n",
       "    <tr>\n",
       "      <th>0</th>\n",
       "      <td>1952</td>\n",
       "      <td>Stevenson</td>\n",
       "      <td>Eisenhower</td>\n",
       "      <td>44.60</td>\n",
       "      <td>50.0</td>\n",
       "      <td>5.40</td>\n",
       "      <td>5.40</td>\n",
       "      <td>2.40</td>\n",
       "    </tr>\n",
       "    <tr>\n",
       "      <th>1</th>\n",
       "      <td>1956</td>\n",
       "      <td>Eisenhower</td>\n",
       "      <td>Stevenson</td>\n",
       "      <td>57.76</td>\n",
       "      <td>50.0</td>\n",
       "      <td>-7.76</td>\n",
       "      <td>7.76</td>\n",
       "      <td>2.89</td>\n",
       "    </tr>\n",
       "    <tr>\n",
       "      <th>2</th>\n",
       "      <td>1960</td>\n",
       "      <td>Nixon</td>\n",
       "      <td>Kennedy</td>\n",
       "      <td>49.91</td>\n",
       "      <td>50.0</td>\n",
       "      <td>0.09</td>\n",
       "      <td>0.09</td>\n",
       "      <td>0.85</td>\n",
       "    </tr>\n",
       "    <tr>\n",
       "      <th>3</th>\n",
       "      <td>1964</td>\n",
       "      <td>Johnson</td>\n",
       "      <td>Goldwater</td>\n",
       "      <td>61.34</td>\n",
       "      <td>50.0</td>\n",
       "      <td>-11.34</td>\n",
       "      <td>11.34</td>\n",
       "      <td>4.21</td>\n",
       "    </tr>\n",
       "    <tr>\n",
       "      <th>4</th>\n",
       "      <td>1968</td>\n",
       "      <td>Humphrey</td>\n",
       "      <td>Nixon</td>\n",
       "      <td>49.60</td>\n",
       "      <td>50.0</td>\n",
       "      <td>0.40</td>\n",
       "      <td>0.40</td>\n",
       "      <td>3.02</td>\n",
       "    </tr>\n",
       "    <tr>\n",
       "      <th>5</th>\n",
       "      <td>1972</td>\n",
       "      <td>Nixon</td>\n",
       "      <td>McGovern</td>\n",
       "      <td>61.79</td>\n",
       "      <td>50.0</td>\n",
       "      <td>-11.79</td>\n",
       "      <td>11.79</td>\n",
       "      <td>3.62</td>\n",
       "    </tr>\n",
       "    <tr>\n",
       "      <th>6</th>\n",
       "      <td>1976</td>\n",
       "      <td>Ford</td>\n",
       "      <td>Carter</td>\n",
       "      <td>48.95</td>\n",
       "      <td>50.0</td>\n",
       "      <td>1.05</td>\n",
       "      <td>1.05</td>\n",
       "      <td>1.08</td>\n",
       "    </tr>\n",
       "    <tr>\n",
       "      <th>7</th>\n",
       "      <td>1980</td>\n",
       "      <td>Carter</td>\n",
       "      <td>Reagan</td>\n",
       "      <td>44.70</td>\n",
       "      <td>50.0</td>\n",
       "      <td>5.30</td>\n",
       "      <td>5.30</td>\n",
       "      <td>-0.39</td>\n",
       "    </tr>\n",
       "    <tr>\n",
       "      <th>8</th>\n",
       "      <td>1984</td>\n",
       "      <td>Reagan</td>\n",
       "      <td>Mondale</td>\n",
       "      <td>59.17</td>\n",
       "      <td>50.0</td>\n",
       "      <td>-9.17</td>\n",
       "      <td>9.17</td>\n",
       "      <td>3.86</td>\n",
       "    </tr>\n",
       "    <tr>\n",
       "      <th>9</th>\n",
       "      <td>1988</td>\n",
       "      <td>Bush, Sr.</td>\n",
       "      <td>Dukakis</td>\n",
       "      <td>53.94</td>\n",
       "      <td>50.0</td>\n",
       "      <td>-3.94</td>\n",
       "      <td>3.94</td>\n",
       "      <td>2.27</td>\n",
       "    </tr>\n",
       "    <tr>\n",
       "      <th>10</th>\n",
       "      <td>1992</td>\n",
       "      <td>Bush, Sr.</td>\n",
       "      <td>Clinton</td>\n",
       "      <td>46.55</td>\n",
       "      <td>50.0</td>\n",
       "      <td>3.45</td>\n",
       "      <td>3.45</td>\n",
       "      <td>0.38</td>\n",
       "    </tr>\n",
       "    <tr>\n",
       "      <th>11</th>\n",
       "      <td>1996</td>\n",
       "      <td>Clinton</td>\n",
       "      <td>Dole</td>\n",
       "      <td>54.74</td>\n",
       "      <td>50.0</td>\n",
       "      <td>-4.74</td>\n",
       "      <td>4.74</td>\n",
       "      <td>1.04</td>\n",
       "    </tr>\n",
       "    <tr>\n",
       "      <th>12</th>\n",
       "      <td>2000</td>\n",
       "      <td>Gore</td>\n",
       "      <td>Bush, Jr.</td>\n",
       "      <td>50.27</td>\n",
       "      <td>50.0</td>\n",
       "      <td>-0.27</td>\n",
       "      <td>0.27</td>\n",
       "      <td>2.36</td>\n",
       "    </tr>\n",
       "    <tr>\n",
       "      <th>13</th>\n",
       "      <td>2004</td>\n",
       "      <td>Bush, Jr.</td>\n",
       "      <td>Kerry</td>\n",
       "      <td>51.24</td>\n",
       "      <td>50.0</td>\n",
       "      <td>-1.24</td>\n",
       "      <td>1.24</td>\n",
       "      <td>1.72</td>\n",
       "    </tr>\n",
       "    <tr>\n",
       "      <th>14</th>\n",
       "      <td>2008</td>\n",
       "      <td>McCain</td>\n",
       "      <td>Obama</td>\n",
       "      <td>46.32</td>\n",
       "      <td>50.0</td>\n",
       "      <td>3.68</td>\n",
       "      <td>3.68</td>\n",
       "      <td>0.10</td>\n",
       "    </tr>\n",
       "    <tr>\n",
       "      <th>15</th>\n",
       "      <td>2012</td>\n",
       "      <td>Obama</td>\n",
       "      <td>Romney</td>\n",
       "      <td>52.00</td>\n",
       "      <td>50.0</td>\n",
       "      <td>-2.00</td>\n",
       "      <td>2.00</td>\n",
       "      <td>0.95</td>\n",
       "    </tr>\n",
       "  </tbody>\n",
       "</table>\n",
       "</div>"
      ],
      "text/plain": [
       "    Year Incumbent Party Candidate Other Candidate  \\\n",
       "0   1952                 Stevenson      Eisenhower   \n",
       "1   1956                Eisenhower       Stevenson   \n",
       "2   1960                     Nixon         Kennedy   \n",
       "3   1964                   Johnson       Goldwater   \n",
       "4   1968                  Humphrey           Nixon   \n",
       "5   1972                     Nixon        McGovern   \n",
       "6   1976                      Ford          Carter   \n",
       "7   1980                    Carter          Reagan   \n",
       "8   1984                    Reagan         Mondale   \n",
       "9   1988                 Bush, Sr.         Dukakis   \n",
       "10  1992                 Bush, Sr.         Clinton   \n",
       "11  1996                   Clinton            Dole   \n",
       "12  2000                      Gore       Bush, Jr.   \n",
       "13  2004                 Bush, Jr.           Kerry   \n",
       "14  2008                    McCain           Obama   \n",
       "15  2012                     Obama          Romney   \n",
       "\n",
       "    Incumbent Party Vote Share  Prediction  Error  Absolute Error  \\\n",
       "0                        44.60        50.0   5.40            5.40   \n",
       "1                        57.76        50.0  -7.76            7.76   \n",
       "2                        49.91        50.0   0.09            0.09   \n",
       "3                        61.34        50.0 -11.34           11.34   \n",
       "4                        49.60        50.0   0.40            0.40   \n",
       "5                        61.79        50.0 -11.79           11.79   \n",
       "6                        48.95        50.0   1.05            1.05   \n",
       "7                        44.70        50.0   5.30            5.30   \n",
       "8                        59.17        50.0  -9.17            9.17   \n",
       "9                        53.94        50.0  -3.94            3.94   \n",
       "10                       46.55        50.0   3.45            3.45   \n",
       "11                       54.74        50.0  -4.74            4.74   \n",
       "12                       50.27        50.0  -0.27            0.27   \n",
       "13                       51.24        50.0  -1.24            1.24   \n",
       "14                       46.32        50.0   3.68            3.68   \n",
       "15                       52.00        50.0  -2.00            2.00   \n",
       "\n",
       "    Average Recent Growth in Personal Incomes  \n",
       "0                                        2.40  \n",
       "1                                        2.89  \n",
       "2                                        0.85  \n",
       "3                                        4.21  \n",
       "4                                        3.02  \n",
       "5                                        3.62  \n",
       "6                                        1.08  \n",
       "7                                       -0.39  \n",
       "8                                        3.86  \n",
       "9                                        2.27  \n",
       "10                                       0.38  \n",
       "11                                       1.04  \n",
       "12                                       2.36  \n",
       "13                                       1.72  \n",
       "14                                       0.10  \n",
       "15                                       0.95  "
      ]
     },
     "execution_count": 26,
     "metadata": {},
     "output_type": "execute_result"
    }
   ],
   "source": [
    "df"
   ]
  },
  {
   "cell_type": "code",
   "execution_count": 27,
=======
   "execution_count": 30,
>>>>>>> 49cab5fb83f54878f6c064202355fd048df1be83
   "metadata": {},
   "outputs": [],
   "source": [
    "df['Square Error'] = df['Error'] **2"
   ]
  },
  {
   "cell_type": "code",
<<<<<<< HEAD
   "execution_count": 28,
   "metadata": {},
   "outputs": [
    {
     "data": {
      "text/html": [
       "<div>\n",
       "<style scoped>\n",
       "    .dataframe tbody tr th:only-of-type {\n",
       "        vertical-align: middle;\n",
       "    }\n",
       "\n",
       "    .dataframe tbody tr th {\n",
       "        vertical-align: top;\n",
       "    }\n",
       "\n",
       "    .dataframe thead th {\n",
       "        text-align: right;\n",
       "    }\n",
       "</style>\n",
       "<table border=\"1\" class=\"dataframe\">\n",
       "  <thead>\n",
       "    <tr style=\"text-align: right;\">\n",
       "      <th></th>\n",
       "      <th>Year</th>\n",
       "      <th>Incumbent Party Candidate</th>\n",
       "      <th>Other Candidate</th>\n",
       "      <th>Incumbent Party Vote Share</th>\n",
       "      <th>Prediction</th>\n",
       "      <th>Error</th>\n",
       "      <th>Absolute Error</th>\n",
       "      <th>Average Recent Growth in Personal Incomes</th>\n",
       "      <th>Square Error</th>\n",
       "    </tr>\n",
       "  </thead>\n",
       "  <tbody>\n",
       "    <tr>\n",
       "      <th>0</th>\n",
       "      <td>1952</td>\n",
       "      <td>Stevenson</td>\n",
       "      <td>Eisenhower</td>\n",
       "      <td>44.60</td>\n",
       "      <td>50.0</td>\n",
       "      <td>5.40</td>\n",
       "      <td>5.40</td>\n",
       "      <td>2.40</td>\n",
       "      <td>29.1600</td>\n",
       "    </tr>\n",
       "    <tr>\n",
       "      <th>1</th>\n",
       "      <td>1956</td>\n",
       "      <td>Eisenhower</td>\n",
       "      <td>Stevenson</td>\n",
       "      <td>57.76</td>\n",
       "      <td>50.0</td>\n",
       "      <td>-7.76</td>\n",
       "      <td>7.76</td>\n",
       "      <td>2.89</td>\n",
       "      <td>60.2176</td>\n",
       "    </tr>\n",
       "    <tr>\n",
       "      <th>2</th>\n",
       "      <td>1960</td>\n",
       "      <td>Nixon</td>\n",
       "      <td>Kennedy</td>\n",
       "      <td>49.91</td>\n",
       "      <td>50.0</td>\n",
       "      <td>0.09</td>\n",
       "      <td>0.09</td>\n",
       "      <td>0.85</td>\n",
       "      <td>0.0081</td>\n",
       "    </tr>\n",
       "    <tr>\n",
       "      <th>3</th>\n",
       "      <td>1964</td>\n",
       "      <td>Johnson</td>\n",
       "      <td>Goldwater</td>\n",
       "      <td>61.34</td>\n",
       "      <td>50.0</td>\n",
       "      <td>-11.34</td>\n",
       "      <td>11.34</td>\n",
       "      <td>4.21</td>\n",
       "      <td>128.5956</td>\n",
       "    </tr>\n",
       "    <tr>\n",
       "      <th>4</th>\n",
       "      <td>1968</td>\n",
       "      <td>Humphrey</td>\n",
       "      <td>Nixon</td>\n",
       "      <td>49.60</td>\n",
       "      <td>50.0</td>\n",
       "      <td>0.40</td>\n",
       "      <td>0.40</td>\n",
       "      <td>3.02</td>\n",
       "      <td>0.1600</td>\n",
       "    </tr>\n",
       "    <tr>\n",
       "      <th>5</th>\n",
       "      <td>1972</td>\n",
       "      <td>Nixon</td>\n",
       "      <td>McGovern</td>\n",
       "      <td>61.79</td>\n",
       "      <td>50.0</td>\n",
       "      <td>-11.79</td>\n",
       "      <td>11.79</td>\n",
       "      <td>3.62</td>\n",
       "      <td>139.0041</td>\n",
       "    </tr>\n",
       "    <tr>\n",
       "      <th>6</th>\n",
       "      <td>1976</td>\n",
       "      <td>Ford</td>\n",
       "      <td>Carter</td>\n",
       "      <td>48.95</td>\n",
       "      <td>50.0</td>\n",
       "      <td>1.05</td>\n",
       "      <td>1.05</td>\n",
       "      <td>1.08</td>\n",
       "      <td>1.1025</td>\n",
       "    </tr>\n",
       "    <tr>\n",
       "      <th>7</th>\n",
       "      <td>1980</td>\n",
       "      <td>Carter</td>\n",
       "      <td>Reagan</td>\n",
       "      <td>44.70</td>\n",
       "      <td>50.0</td>\n",
       "      <td>5.30</td>\n",
       "      <td>5.30</td>\n",
       "      <td>-0.39</td>\n",
       "      <td>28.0900</td>\n",
       "    </tr>\n",
       "    <tr>\n",
       "      <th>8</th>\n",
       "      <td>1984</td>\n",
       "      <td>Reagan</td>\n",
       "      <td>Mondale</td>\n",
       "      <td>59.17</td>\n",
       "      <td>50.0</td>\n",
       "      <td>-9.17</td>\n",
       "      <td>9.17</td>\n",
       "      <td>3.86</td>\n",
       "      <td>84.0889</td>\n",
       "    </tr>\n",
       "    <tr>\n",
       "      <th>9</th>\n",
       "      <td>1988</td>\n",
       "      <td>Bush, Sr.</td>\n",
       "      <td>Dukakis</td>\n",
       "      <td>53.94</td>\n",
       "      <td>50.0</td>\n",
       "      <td>-3.94</td>\n",
       "      <td>3.94</td>\n",
       "      <td>2.27</td>\n",
       "      <td>15.5236</td>\n",
       "    </tr>\n",
       "    <tr>\n",
       "      <th>10</th>\n",
       "      <td>1992</td>\n",
       "      <td>Bush, Sr.</td>\n",
       "      <td>Clinton</td>\n",
       "      <td>46.55</td>\n",
       "      <td>50.0</td>\n",
       "      <td>3.45</td>\n",
       "      <td>3.45</td>\n",
       "      <td>0.38</td>\n",
       "      <td>11.9025</td>\n",
       "    </tr>\n",
       "    <tr>\n",
       "      <th>11</th>\n",
       "      <td>1996</td>\n",
       "      <td>Clinton</td>\n",
       "      <td>Dole</td>\n",
       "      <td>54.74</td>\n",
       "      <td>50.0</td>\n",
       "      <td>-4.74</td>\n",
       "      <td>4.74</td>\n",
       "      <td>1.04</td>\n",
       "      <td>22.4676</td>\n",
       "    </tr>\n",
       "    <tr>\n",
       "      <th>12</th>\n",
       "      <td>2000</td>\n",
       "      <td>Gore</td>\n",
       "      <td>Bush, Jr.</td>\n",
       "      <td>50.27</td>\n",
       "      <td>50.0</td>\n",
       "      <td>-0.27</td>\n",
       "      <td>0.27</td>\n",
       "      <td>2.36</td>\n",
       "      <td>0.0729</td>\n",
       "    </tr>\n",
       "    <tr>\n",
       "      <th>13</th>\n",
       "      <td>2004</td>\n",
       "      <td>Bush, Jr.</td>\n",
       "      <td>Kerry</td>\n",
       "      <td>51.24</td>\n",
       "      <td>50.0</td>\n",
       "      <td>-1.24</td>\n",
       "      <td>1.24</td>\n",
       "      <td>1.72</td>\n",
       "      <td>1.5376</td>\n",
       "    </tr>\n",
       "    <tr>\n",
       "      <th>14</th>\n",
       "      <td>2008</td>\n",
       "      <td>McCain</td>\n",
       "      <td>Obama</td>\n",
       "      <td>46.32</td>\n",
       "      <td>50.0</td>\n",
       "      <td>3.68</td>\n",
       "      <td>3.68</td>\n",
       "      <td>0.10</td>\n",
       "      <td>13.5424</td>\n",
       "    </tr>\n",
       "    <tr>\n",
       "      <th>15</th>\n",
       "      <td>2012</td>\n",
       "      <td>Obama</td>\n",
       "      <td>Romney</td>\n",
       "      <td>52.00</td>\n",
       "      <td>50.0</td>\n",
       "      <td>-2.00</td>\n",
       "      <td>2.00</td>\n",
       "      <td>0.95</td>\n",
       "      <td>4.0000</td>\n",
       "    </tr>\n",
       "  </tbody>\n",
       "</table>\n",
       "</div>"
      ],
      "text/plain": [
       "    Year Incumbent Party Candidate Other Candidate  \\\n",
       "0   1952                 Stevenson      Eisenhower   \n",
       "1   1956                Eisenhower       Stevenson   \n",
       "2   1960                     Nixon         Kennedy   \n",
       "3   1964                   Johnson       Goldwater   \n",
       "4   1968                  Humphrey           Nixon   \n",
       "5   1972                     Nixon        McGovern   \n",
       "6   1976                      Ford          Carter   \n",
       "7   1980                    Carter          Reagan   \n",
       "8   1984                    Reagan         Mondale   \n",
       "9   1988                 Bush, Sr.         Dukakis   \n",
       "10  1992                 Bush, Sr.         Clinton   \n",
       "11  1996                   Clinton            Dole   \n",
       "12  2000                      Gore       Bush, Jr.   \n",
       "13  2004                 Bush, Jr.           Kerry   \n",
       "14  2008                    McCain           Obama   \n",
       "15  2012                     Obama          Romney   \n",
       "\n",
       "    Incumbent Party Vote Share  Prediction  Error  Absolute Error  \\\n",
       "0                        44.60        50.0   5.40            5.40   \n",
       "1                        57.76        50.0  -7.76            7.76   \n",
       "2                        49.91        50.0   0.09            0.09   \n",
       "3                        61.34        50.0 -11.34           11.34   \n",
       "4                        49.60        50.0   0.40            0.40   \n",
       "5                        61.79        50.0 -11.79           11.79   \n",
       "6                        48.95        50.0   1.05            1.05   \n",
       "7                        44.70        50.0   5.30            5.30   \n",
       "8                        59.17        50.0  -9.17            9.17   \n",
       "9                        53.94        50.0  -3.94            3.94   \n",
       "10                       46.55        50.0   3.45            3.45   \n",
       "11                       54.74        50.0  -4.74            4.74   \n",
       "12                       50.27        50.0  -0.27            0.27   \n",
       "13                       51.24        50.0  -1.24            1.24   \n",
       "14                       46.32        50.0   3.68            3.68   \n",
       "15                       52.00        50.0  -2.00            2.00   \n",
       "\n",
       "    Average Recent Growth in Personal Incomes  Square Error  \n",
       "0                                        2.40       29.1600  \n",
       "1                                        2.89       60.2176  \n",
       "2                                        0.85        0.0081  \n",
       "3                                        4.21      128.5956  \n",
       "4                                        3.02        0.1600  \n",
       "5                                        3.62      139.0041  \n",
       "6                                        1.08        1.1025  \n",
       "7                                       -0.39       28.0900  \n",
       "8                                        3.86       84.0889  \n",
       "9                                        2.27       15.5236  \n",
       "10                                       0.38       11.9025  \n",
       "11                                       1.04       22.4676  \n",
       "12                                       2.36        0.0729  \n",
       "13                                       1.72        1.5376  \n",
       "14                                       0.10       13.5424  \n",
       "15                                       0.95        4.0000  "
      ]
     },
     "execution_count": 28,
     "metadata": {},
     "output_type": "execute_result"
    }
   ],
   "source": [
    "df"
   ]
  },
  {
   "cell_type": "code",
   "execution_count": 29,
=======
   "execution_count": 33,
>>>>>>> 49cab5fb83f54878f6c064202355fd048df1be83
   "metadata": {},
   "outputs": [],
   "source": [
    "def regression(m, b):\n",
    "    df['Prediction'] = m * df[feature] + b\n",
    "    df['Error'] = df['Prediction'] - df[target]\n",
    "    df['Absolute Error'] = df['Error'].abs()\n",
    "    df['Square Error'] = df['Error'] **2\n",
    "    sum_square_error = df['Square Error'].sum()\n",
    "    \n",
    "    title = f'Sum of square errors: {sum_square_error}'\n",
    "    ax = df.plot(x=feature, y=target, kind='scatter', title=title, figsize=(7, 7))\n",
    "    df.plot(x=feature, y='Prediction', kind='line', ax=ax)\n",
    "        \n",
    "    xmin, xmax = ax.get_xlim()\n",
    "    ymin, ymax = ax.get_ylim()\n",
    "    scale = (xmax-xmin)/(ymax-ymin)\n",
    "\n",
    "    for x, y1, y2 in zip(df[feature], df[target], df['Prediction']):\n",
    "        bottom_left = (x, min(y1, y2))\n",
    "        height = abs(y1 - y2)\n",
    "        width = height * scale\n",
    "        ax.add_patch(Rectangle(xy=bottom_left, width=width, height=height, alpha=0.1))"
   ]
  },
  {
   "cell_type": "code",
<<<<<<< HEAD
   "execution_count": 30,
=======
   "execution_count": 34,
>>>>>>> 49cab5fb83f54878f6c064202355fd048df1be83
   "metadata": {},
   "outputs": [
    {
     "data": {
<<<<<<< HEAD
      "image/png": "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\n",
      "text/plain": [
       "<Figure size 504x504 with 1 Axes>"
      ]
     },
     "metadata": {
      "needs_background": "light"
     },
=======
      "application/vnd.jupyter.widget-view+json": {
       "model_id": "fdaeb58b12a24a29a1bdbbe899edfa37",
       "version_major": 2,
       "version_minor": 0
      },
      "text/plain": [
       "interactive(children=(FloatSlider(value=0.0, description='m', max=10.0, min=-10.0, step=0.5), FloatSlider(valu…"
      ]
     },
     "metadata": {},
>>>>>>> 49cab5fb83f54878f6c064202355fd048df1be83
     "output_type": "display_data"
    }
   ],
   "source": [
    "interact(regression, m=(-10,10,0.5), b=(40,60,0.5));"
   ]
  },
  {
   "cell_type": "code",
<<<<<<< HEAD
   "execution_count": 31,
=======
   "execution_count": 36,
>>>>>>> 49cab5fb83f54878f6c064202355fd048df1be83
   "metadata": {},
   "outputs": [
    {
     "data": {
      "text/html": [
       "<div>\n",
       "<style scoped>\n",
       "    .dataframe tbody tr th:only-of-type {\n",
       "        vertical-align: middle;\n",
       "    }\n",
       "\n",
       "    .dataframe tbody tr th {\n",
       "        vertical-align: top;\n",
       "    }\n",
       "\n",
       "    .dataframe thead th {\n",
       "        text-align: right;\n",
       "    }\n",
       "</style>\n",
       "<table border=\"1\" class=\"dataframe\">\n",
       "  <thead>\n",
       "    <tr style=\"text-align: right;\">\n",
       "      <th></th>\n",
       "      <th>Slope</th>\n",
       "      <th>Intercept</th>\n",
       "      <th>Sum of Square Errors</th>\n",
       "    </tr>\n",
       "  </thead>\n",
       "  <tbody>\n",
       "    <tr>\n",
<<<<<<< HEAD
       "      <th>0</th>\n",
       "      <td>-10.0</td>\n",
       "      <td>46</td>\n",
       "      <td>15205.34740</td>\n",
       "    </tr>\n",
       "    <tr>\n",
       "      <th>1</th>\n",
       "      <td>-9.5</td>\n",
       "      <td>46</td>\n",
       "      <td>14085.60595</td>\n",
       "    </tr>\n",
       "    <tr>\n",
       "      <th>2</th>\n",
       "      <td>-9.0</td>\n",
       "      <td>46</td>\n",
       "      <td>13009.27500</td>\n",
       "    </tr>\n",
       "    <tr>\n",
       "      <th>3</th>\n",
       "      <td>-8.5</td>\n",
       "      <td>46</td>\n",
       "      <td>11976.35455</td>\n",
       "    </tr>\n",
       "    <tr>\n",
       "      <th>4</th>\n",
       "      <td>-8.0</td>\n",
       "      <td>46</td>\n",
       "      <td>10986.84460</td>\n",
       "    </tr>\n",
       "    <tr>\n",
       "      <th>5</th>\n",
       "      <td>-7.5</td>\n",
       "      <td>46</td>\n",
       "      <td>10040.74515</td>\n",
       "    </tr>\n",
       "    <tr>\n",
       "      <th>6</th>\n",
       "      <td>-7.0</td>\n",
       "      <td>46</td>\n",
       "      <td>9138.05620</td>\n",
       "    </tr>\n",
       "    <tr>\n",
       "      <th>7</th>\n",
       "      <td>-6.5</td>\n",
       "      <td>46</td>\n",
       "      <td>8278.77775</td>\n",
       "    </tr>\n",
       "    <tr>\n",
       "      <th>8</th>\n",
       "      <td>-6.0</td>\n",
       "      <td>46</td>\n",
       "      <td>7462.90980</td>\n",
       "    </tr>\n",
       "    <tr>\n",
       "      <th>9</th>\n",
       "      <td>-5.5</td>\n",
       "      <td>46</td>\n",
       "      <td>6690.45235</td>\n",
       "    </tr>\n",
       "    <tr>\n",
       "      <th>10</th>\n",
       "      <td>-5.0</td>\n",
       "      <td>46</td>\n",
       "      <td>5961.40540</td>\n",
       "    </tr>\n",
       "    <tr>\n",
       "      <th>11</th>\n",
       "      <td>-4.5</td>\n",
       "      <td>46</td>\n",
       "      <td>5275.76895</td>\n",
       "    </tr>\n",
       "    <tr>\n",
       "      <th>12</th>\n",
       "      <td>-4.0</td>\n",
       "      <td>46</td>\n",
       "      <td>4633.54300</td>\n",
       "    </tr>\n",
       "    <tr>\n",
       "      <th>13</th>\n",
       "      <td>-3.5</td>\n",
       "      <td>46</td>\n",
       "      <td>4034.72755</td>\n",
       "    </tr>\n",
       "    <tr>\n",
       "      <th>14</th>\n",
       "      <td>-3.0</td>\n",
       "      <td>46</td>\n",
       "      <td>3479.32260</td>\n",
       "    </tr>\n",
       "    <tr>\n",
       "      <th>15</th>\n",
       "      <td>-2.5</td>\n",
       "      <td>46</td>\n",
       "      <td>2967.32815</td>\n",
       "    </tr>\n",
       "    <tr>\n",
       "      <th>16</th>\n",
       "      <td>-2.0</td>\n",
       "      <td>46</td>\n",
       "      <td>2498.74420</td>\n",
       "    </tr>\n",
       "    <tr>\n",
       "      <th>17</th>\n",
       "      <td>-1.5</td>\n",
       "      <td>46</td>\n",
       "      <td>2073.57075</td>\n",
       "    </tr>\n",
       "    <tr>\n",
       "      <th>18</th>\n",
       "      <td>-1.0</td>\n",
       "      <td>46</td>\n",
       "      <td>1691.80780</td>\n",
       "    </tr>\n",
       "    <tr>\n",
       "      <th>19</th>\n",
       "      <td>-0.5</td>\n",
       "      <td>46</td>\n",
       "      <td>1353.45535</td>\n",
       "    </tr>\n",
       "    <tr>\n",
       "      <th>20</th>\n",
       "      <td>0.0</td>\n",
       "      <td>46</td>\n",
       "      <td>1058.51340</td>\n",
       "    </tr>\n",
       "    <tr>\n",
       "      <th>21</th>\n",
       "      <td>0.5</td>\n",
       "      <td>46</td>\n",
       "      <td>806.98195</td>\n",
       "    </tr>\n",
       "    <tr>\n",
       "      <th>22</th>\n",
       "      <td>1.0</td>\n",
       "      <td>46</td>\n",
       "      <td>598.86100</td>\n",
       "    </tr>\n",
       "    <tr>\n",
       "      <th>23</th>\n",
       "      <td>1.5</td>\n",
       "      <td>46</td>\n",
       "      <td>434.15055</td>\n",
       "    </tr>\n",
       "    <tr>\n",
       "      <th>24</th>\n",
       "      <td>2.0</td>\n",
       "      <td>46</td>\n",
       "      <td>312.85060</td>\n",
       "    </tr>\n",
       "    <tr>\n",
       "      <th>25</th>\n",
       "      <td>2.5</td>\n",
       "      <td>46</td>\n",
       "      <td>234.96115</td>\n",
       "    </tr>\n",
       "    <tr>\n",
       "      <th>26</th>\n",
       "      <td>3.0</td>\n",
       "      <td>46</td>\n",
       "      <td>200.48220</td>\n",
       "    </tr>\n",
       "    <tr>\n",
       "      <th>27</th>\n",
       "      <td>3.5</td>\n",
       "      <td>46</td>\n",
       "      <td>209.41375</td>\n",
       "    </tr>\n",
       "    <tr>\n",
       "      <th>28</th>\n",
       "      <td>4.0</td>\n",
       "      <td>46</td>\n",
       "      <td>261.75580</td>\n",
       "    </tr>\n",
       "    <tr>\n",
       "      <th>29</th>\n",
       "      <td>4.5</td>\n",
       "      <td>46</td>\n",
       "      <td>357.50835</td>\n",
       "    </tr>\n",
       "    <tr>\n",
       "      <th>30</th>\n",
       "      <td>5.0</td>\n",
       "      <td>46</td>\n",
       "      <td>496.67140</td>\n",
       "    </tr>\n",
       "    <tr>\n",
       "      <th>31</th>\n",
       "      <td>5.5</td>\n",
       "      <td>46</td>\n",
       "      <td>679.24495</td>\n",
       "    </tr>\n",
       "    <tr>\n",
       "      <th>32</th>\n",
       "      <td>6.0</td>\n",
       "      <td>46</td>\n",
       "      <td>905.22900</td>\n",
       "    </tr>\n",
       "    <tr>\n",
       "      <th>33</th>\n",
       "      <td>6.5</td>\n",
       "      <td>46</td>\n",
       "      <td>1174.62355</td>\n",
       "    </tr>\n",
       "    <tr>\n",
       "      <th>34</th>\n",
       "      <td>7.0</td>\n",
       "      <td>46</td>\n",
       "      <td>1487.42860</td>\n",
       "    </tr>\n",
       "    <tr>\n",
       "      <th>35</th>\n",
       "      <td>7.5</td>\n",
       "      <td>46</td>\n",
       "      <td>1843.64415</td>\n",
       "    </tr>\n",
       "    <tr>\n",
       "      <th>36</th>\n",
       "      <td>8.0</td>\n",
       "      <td>46</td>\n",
       "      <td>2243.27020</td>\n",
       "    </tr>\n",
       "    <tr>\n",
       "      <th>37</th>\n",
       "      <td>8.5</td>\n",
       "      <td>46</td>\n",
       "      <td>2686.30675</td>\n",
       "    </tr>\n",
       "    <tr>\n",
       "      <th>38</th>\n",
       "      <td>9.0</td>\n",
       "      <td>46</td>\n",
       "      <td>3172.75380</td>\n",
       "    </tr>\n",
       "    <tr>\n",
       "      <th>39</th>\n",
       "      <td>9.5</td>\n",
       "      <td>46</td>\n",
       "      <td>3702.61135</td>\n",
=======
       "      <th>26</th>\n",
       "      <td>3.0</td>\n",
       "      <td>46</td>\n",
       "      <td>200.48220</td>\n",
       "    </tr>\n",
       "    <tr>\n",
       "      <th>27</th>\n",
       "      <td>3.5</td>\n",
       "      <td>46</td>\n",
       "      <td>209.41375</td>\n",
       "    </tr>\n",
       "    <tr>\n",
       "      <th>25</th>\n",
       "      <td>2.5</td>\n",
       "      <td>46</td>\n",
       "      <td>234.96115</td>\n",
       "    </tr>\n",
       "    <tr>\n",
       "      <th>28</th>\n",
       "      <td>4.0</td>\n",
       "      <td>46</td>\n",
       "      <td>261.75580</td>\n",
       "    </tr>\n",
       "    <tr>\n",
       "      <th>24</th>\n",
       "      <td>2.0</td>\n",
       "      <td>46</td>\n",
       "      <td>312.85060</td>\n",
       "    </tr>\n",
       "    <tr>\n",
       "      <th>29</th>\n",
       "      <td>4.5</td>\n",
       "      <td>46</td>\n",
       "      <td>357.50835</td>\n",
       "    </tr>\n",
       "    <tr>\n",
       "      <th>23</th>\n",
       "      <td>1.5</td>\n",
       "      <td>46</td>\n",
       "      <td>434.15055</td>\n",
       "    </tr>\n",
       "    <tr>\n",
       "      <th>30</th>\n",
       "      <td>5.0</td>\n",
       "      <td>46</td>\n",
       "      <td>496.67140</td>\n",
       "    </tr>\n",
       "    <tr>\n",
       "      <th>22</th>\n",
       "      <td>1.0</td>\n",
       "      <td>46</td>\n",
       "      <td>598.86100</td>\n",
       "    </tr>\n",
       "    <tr>\n",
       "      <th>31</th>\n",
       "      <td>5.5</td>\n",
       "      <td>46</td>\n",
       "      <td>679.24495</td>\n",
       "    </tr>\n",
       "    <tr>\n",
       "      <th>21</th>\n",
       "      <td>0.5</td>\n",
       "      <td>46</td>\n",
       "      <td>806.98195</td>\n",
       "    </tr>\n",
       "    <tr>\n",
       "      <th>32</th>\n",
       "      <td>6.0</td>\n",
       "      <td>46</td>\n",
       "      <td>905.22900</td>\n",
       "    </tr>\n",
       "    <tr>\n",
       "      <th>20</th>\n",
       "      <td>0.0</td>\n",
       "      <td>46</td>\n",
       "      <td>1058.51340</td>\n",
       "    </tr>\n",
       "    <tr>\n",
       "      <th>33</th>\n",
       "      <td>6.5</td>\n",
       "      <td>46</td>\n",
       "      <td>1174.62355</td>\n",
       "    </tr>\n",
       "    <tr>\n",
       "      <th>19</th>\n",
       "      <td>-0.5</td>\n",
       "      <td>46</td>\n",
       "      <td>1353.45535</td>\n",
       "    </tr>\n",
       "    <tr>\n",
       "      <th>34</th>\n",
       "      <td>7.0</td>\n",
       "      <td>46</td>\n",
       "      <td>1487.42860</td>\n",
       "    </tr>\n",
       "    <tr>\n",
       "      <th>18</th>\n",
       "      <td>-1.0</td>\n",
       "      <td>46</td>\n",
       "      <td>1691.80780</td>\n",
       "    </tr>\n",
       "    <tr>\n",
       "      <th>35</th>\n",
       "      <td>7.5</td>\n",
       "      <td>46</td>\n",
       "      <td>1843.64415</td>\n",
       "    </tr>\n",
       "    <tr>\n",
       "      <th>17</th>\n",
       "      <td>-1.5</td>\n",
       "      <td>46</td>\n",
       "      <td>2073.57075</td>\n",
       "    </tr>\n",
       "    <tr>\n",
       "      <th>36</th>\n",
       "      <td>8.0</td>\n",
       "      <td>46</td>\n",
       "      <td>2243.27020</td>\n",
       "    </tr>\n",
       "    <tr>\n",
       "      <th>16</th>\n",
       "      <td>-2.0</td>\n",
       "      <td>46</td>\n",
       "      <td>2498.74420</td>\n",
       "    </tr>\n",
       "    <tr>\n",
       "      <th>37</th>\n",
       "      <td>8.5</td>\n",
       "      <td>46</td>\n",
       "      <td>2686.30675</td>\n",
       "    </tr>\n",
       "    <tr>\n",
       "      <th>15</th>\n",
       "      <td>-2.5</td>\n",
       "      <td>46</td>\n",
       "      <td>2967.32815</td>\n",
       "    </tr>\n",
       "    <tr>\n",
       "      <th>38</th>\n",
       "      <td>9.0</td>\n",
       "      <td>46</td>\n",
       "      <td>3172.75380</td>\n",
       "    </tr>\n",
       "    <tr>\n",
       "      <th>14</th>\n",
       "      <td>-3.0</td>\n",
       "      <td>46</td>\n",
       "      <td>3479.32260</td>\n",
       "    </tr>\n",
       "    <tr>\n",
       "      <th>39</th>\n",
       "      <td>9.5</td>\n",
       "      <td>46</td>\n",
       "      <td>3702.61135</td>\n",
       "    </tr>\n",
       "    <tr>\n",
       "      <th>13</th>\n",
       "      <td>-3.5</td>\n",
       "      <td>46</td>\n",
       "      <td>4034.72755</td>\n",
       "    </tr>\n",
       "    <tr>\n",
       "      <th>12</th>\n",
       "      <td>-4.0</td>\n",
       "      <td>46</td>\n",
       "      <td>4633.54300</td>\n",
       "    </tr>\n",
       "    <tr>\n",
       "      <th>11</th>\n",
       "      <td>-4.5</td>\n",
       "      <td>46</td>\n",
       "      <td>5275.76895</td>\n",
       "    </tr>\n",
       "    <tr>\n",
       "      <th>10</th>\n",
       "      <td>-5.0</td>\n",
       "      <td>46</td>\n",
       "      <td>5961.40540</td>\n",
       "    </tr>\n",
       "    <tr>\n",
       "      <th>9</th>\n",
       "      <td>-5.5</td>\n",
       "      <td>46</td>\n",
       "      <td>6690.45235</td>\n",
       "    </tr>\n",
       "    <tr>\n",
       "      <th>8</th>\n",
       "      <td>-6.0</td>\n",
       "      <td>46</td>\n",
       "      <td>7462.90980</td>\n",
       "    </tr>\n",
       "    <tr>\n",
       "      <th>7</th>\n",
       "      <td>-6.5</td>\n",
       "      <td>46</td>\n",
       "      <td>8278.77775</td>\n",
       "    </tr>\n",
       "    <tr>\n",
       "      <th>6</th>\n",
       "      <td>-7.0</td>\n",
       "      <td>46</td>\n",
       "      <td>9138.05620</td>\n",
       "    </tr>\n",
       "    <tr>\n",
       "      <th>5</th>\n",
       "      <td>-7.5</td>\n",
       "      <td>46</td>\n",
       "      <td>10040.74515</td>\n",
       "    </tr>\n",
       "    <tr>\n",
       "      <th>4</th>\n",
       "      <td>-8.0</td>\n",
       "      <td>46</td>\n",
       "      <td>10986.84460</td>\n",
       "    </tr>\n",
       "    <tr>\n",
       "      <th>3</th>\n",
       "      <td>-8.5</td>\n",
       "      <td>46</td>\n",
       "      <td>11976.35455</td>\n",
       "    </tr>\n",
       "    <tr>\n",
       "      <th>2</th>\n",
       "      <td>-9.0</td>\n",
       "      <td>46</td>\n",
       "      <td>13009.27500</td>\n",
       "    </tr>\n",
       "    <tr>\n",
       "      <th>1</th>\n",
       "      <td>-9.5</td>\n",
       "      <td>46</td>\n",
       "      <td>14085.60595</td>\n",
       "    </tr>\n",
       "    <tr>\n",
       "      <th>0</th>\n",
       "      <td>-10.0</td>\n",
       "      <td>46</td>\n",
       "      <td>15205.34740</td>\n",
>>>>>>> 49cab5fb83f54878f6c064202355fd048df1be83
       "    </tr>\n",
       "  </tbody>\n",
       "</table>\n",
       "</div>"
      ],
      "text/plain": [
       "    Slope  Intercept  Sum of Square Errors\n",
<<<<<<< HEAD
       "0   -10.0         46           15205.34740\n",
       "1    -9.5         46           14085.60595\n",
       "2    -9.0         46           13009.27500\n",
       "3    -8.5         46           11976.35455\n",
       "4    -8.0         46           10986.84460\n",
       "5    -7.5         46           10040.74515\n",
       "6    -7.0         46            9138.05620\n",
       "7    -6.5         46            8278.77775\n",
       "8    -6.0         46            7462.90980\n",
       "9    -5.5         46            6690.45235\n",
       "10   -5.0         46            5961.40540\n",
       "11   -4.5         46            5275.76895\n",
       "12   -4.0         46            4633.54300\n",
       "13   -3.5         46            4034.72755\n",
       "14   -3.0         46            3479.32260\n",
       "15   -2.5         46            2967.32815\n",
       "16   -2.0         46            2498.74420\n",
       "17   -1.5         46            2073.57075\n",
       "18   -1.0         46            1691.80780\n",
       "19   -0.5         46            1353.45535\n",
       "20    0.0         46            1058.51340\n",
       "21    0.5         46             806.98195\n",
       "22    1.0         46             598.86100\n",
       "23    1.5         46             434.15055\n",
       "24    2.0         46             312.85060\n",
       "25    2.5         46             234.96115\n",
       "26    3.0         46             200.48220\n",
       "27    3.5         46             209.41375\n",
       "28    4.0         46             261.75580\n",
       "29    4.5         46             357.50835\n",
       "30    5.0         46             496.67140\n",
       "31    5.5         46             679.24495\n",
       "32    6.0         46             905.22900\n",
       "33    6.5         46            1174.62355\n",
       "34    7.0         46            1487.42860\n",
       "35    7.5         46            1843.64415\n",
       "36    8.0         46            2243.27020\n",
       "37    8.5         46            2686.30675\n",
       "38    9.0         46            3172.75380\n",
       "39    9.5         46            3702.61135"
      ]
     },
     "execution_count": 31,
=======
       "26    3.0         46             200.48220\n",
       "27    3.5         46             209.41375\n",
       "25    2.5         46             234.96115\n",
       "28    4.0         46             261.75580\n",
       "24    2.0         46             312.85060\n",
       "29    4.5         46             357.50835\n",
       "23    1.5         46             434.15055\n",
       "30    5.0         46             496.67140\n",
       "22    1.0         46             598.86100\n",
       "31    5.5         46             679.24495\n",
       "21    0.5         46             806.98195\n",
       "32    6.0         46             905.22900\n",
       "20    0.0         46            1058.51340\n",
       "33    6.5         46            1174.62355\n",
       "19   -0.5         46            1353.45535\n",
       "34    7.0         46            1487.42860\n",
       "18   -1.0         46            1691.80780\n",
       "35    7.5         46            1843.64415\n",
       "17   -1.5         46            2073.57075\n",
       "36    8.0         46            2243.27020\n",
       "16   -2.0         46            2498.74420\n",
       "37    8.5         46            2686.30675\n",
       "15   -2.5         46            2967.32815\n",
       "38    9.0         46            3172.75380\n",
       "14   -3.0         46            3479.32260\n",
       "39    9.5         46            3702.61135\n",
       "13   -3.5         46            4034.72755\n",
       "12   -4.0         46            4633.54300\n",
       "11   -4.5         46            5275.76895\n",
       "10   -5.0         46            5961.40540\n",
       "9    -5.5         46            6690.45235\n",
       "8    -6.0         46            7462.90980\n",
       "7    -6.5         46            8278.77775\n",
       "6    -7.0         46            9138.05620\n",
       "5    -7.5         46           10040.74515\n",
       "4    -8.0         46           10986.84460\n",
       "3    -8.5         46           11976.35455\n",
       "2    -9.0         46           13009.27500\n",
       "1    -9.5         46           14085.60595\n",
       "0   -10.0         46           15205.34740"
      ]
     },
     "execution_count": 36,
>>>>>>> 49cab5fb83f54878f6c064202355fd048df1be83
     "metadata": {},
     "output_type": "execute_result"
    }
   ],
   "source": [
    "b = 46\n",
    "ms = np.arange(-10,10,0.5)\n",
    "sses = []\n",
    "\n",
    "for m in ms:\n",
    "    predictions = m * df[feature] + b\n",
    "    errors = predictions - df[target]\n",
    "    square_errors = errors ** 2\n",
    "    sse = square_errors.sum()\n",
    "    sses.append(sse)\n",
    "    \n",
    "hypotheses = pd.DataFrame({'Slope': ms})\n",
    "hypotheses['Intercept'] = b\n",
    "hypotheses['Sum of Square Errors'] = sses\n",
    "\n",
    "hypotheses.sort_values(by='Sum of Square Errors')"
   ]
  },
  {
   "cell_type": "code",
<<<<<<< HEAD
   "execution_count": 32,
=======
   "execution_count": 37,
>>>>>>> 49cab5fb83f54878f6c064202355fd048df1be83
   "metadata": {},
   "outputs": [
    {
     "data": {
<<<<<<< HEAD
      "image/png": "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\n",
=======
      "image/png": "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\n",
>>>>>>> 49cab5fb83f54878f6c064202355fd048df1be83
      "text/plain": [
       "<Figure size 432x288 with 1 Axes>"
      ]
     },
     "metadata": {
      "needs_background": "light"
     },
     "output_type": "display_data"
    }
   ],
   "source": [
    "hypotheses.plot(x='Slope', y='Sum of Square Errors', \n",
    "                title=f'Intercept={b}');"
   ]
  },
  {
   "cell_type": "code",
<<<<<<< HEAD
   "execution_count": 33,
=======
   "execution_count": 38,
>>>>>>> 49cab5fb83f54878f6c064202355fd048df1be83
   "metadata": {},
   "outputs": [
    {
     "data": {
      "text/plain": [
       "((16, 1), (16,))"
      ]
     },
<<<<<<< HEAD
     "execution_count": 33,
=======
     "execution_count": 38,
>>>>>>> 49cab5fb83f54878f6c064202355fd048df1be83
     "metadata": {},
     "output_type": "execute_result"
    }
   ],
   "source": [
    "X = df[[feature]]\n",
    "y = df[target]\n",
    "\n",
    "X.shape, y.shape"
   ]
  },
  {
   "cell_type": "code",
<<<<<<< HEAD
   "execution_count": 34,
=======
   "execution_count": 39,
>>>>>>> 49cab5fb83f54878f6c064202355fd048df1be83
   "metadata": {},
   "outputs": [
    {
     "data": {
      "text/plain": [
       "LinearRegression(copy_X=True, fit_intercept=True, n_jobs=None,\n",
       "         normalize=False)"
      ]
     },
<<<<<<< HEAD
     "execution_count": 34,
=======
     "execution_count": 39,
>>>>>>> 49cab5fb83f54878f6c064202355fd048df1be83
     "metadata": {},
     "output_type": "execute_result"
    }
   ],
   "source": [
    "model = LinearRegression()\n",
    "model.fit(X, y)"
   ]
  },
  {
   "cell_type": "code",
<<<<<<< HEAD
   "execution_count": 35,
=======
   "execution_count": 40,
>>>>>>> 49cab5fb83f54878f6c064202355fd048df1be83
   "metadata": {},
   "outputs": [
    {
     "data": {
      "text/plain": [
       "(array([3.06052805]), 46.247648016800795)"
      ]
     },
<<<<<<< HEAD
     "execution_count": 35,
=======
     "execution_count": 40,
>>>>>>> 49cab5fb83f54878f6c064202355fd048df1be83
     "metadata": {},
     "output_type": "execute_result"
    }
   ],
   "source": [
    "model.coef_, model.intercept_"
   ]
  },
  {
   "cell_type": "code",
<<<<<<< HEAD
   "execution_count": 36,
=======
   "execution_count": 44,
   "metadata": {},
   "outputs": [
    {
     "data": {
      "text/plain": [
       "array([46.24764802])"
      ]
     },
     "execution_count": 44,
     "metadata": {},
     "output_type": "execute_result"
    }
   ],
   "source": [
    "model.predict([[0]])"
   ]
  },
  {
   "cell_type": "code",
   "execution_count": 41,
>>>>>>> 49cab5fb83f54878f6c064202355fd048df1be83
   "metadata": {},
   "outputs": [
    {
     "data": {
      "text/plain": [
       "array([49.30817607])"
      ]
     },
<<<<<<< HEAD
     "execution_count": 36,
=======
     "execution_count": 41,
>>>>>>> 49cab5fb83f54878f6c064202355fd048df1be83
     "metadata": {},
     "output_type": "execute_result"
    }
   ],
   "source": [
    "model.predict([[1]])"
   ]
  },
  {
   "cell_type": "code",
<<<<<<< HEAD
   "execution_count": 37,
=======
   "execution_count": 42,
>>>>>>> 49cab5fb83f54878f6c064202355fd048df1be83
   "metadata": {},
   "outputs": [
    {
     "data": {
      "text/plain": [
       "array([52.36870413])"
      ]
     },
<<<<<<< HEAD
     "execution_count": 37,
=======
     "execution_count": 42,
>>>>>>> 49cab5fb83f54878f6c064202355fd048df1be83
     "metadata": {},
     "output_type": "execute_result"
    }
   ],
   "source": [
    "model.predict([[2]])"
   ]
  },
  {
   "cell_type": "code",
<<<<<<< HEAD
   "execution_count": 38,
=======
   "execution_count": 43,
>>>>>>> 49cab5fb83f54878f6c064202355fd048df1be83
   "metadata": {},
   "outputs": [
    {
     "data": {
      "text/plain": [
       "array([55.42923218])"
      ]
     },
<<<<<<< HEAD
     "execution_count": 38,
=======
     "execution_count": 43,
>>>>>>> 49cab5fb83f54878f6c064202355fd048df1be83
     "metadata": {},
     "output_type": "execute_result"
    }
   ],
   "source": [
    "model.predict([[3]])"
   ]
  },
  {
   "cell_type": "code",
<<<<<<< HEAD
   "execution_count": 39,
=======
   "execution_count": 45,
>>>>>>> 49cab5fb83f54878f6c064202355fd048df1be83
   "metadata": {},
   "outputs": [
    {
     "data": {
      "text/plain": [
       "array([53.59291535, 55.09257409, 48.84909686, 59.13247113, 55.49044274,\n",
       "       57.32675957, 49.55301832, 45.05404208, 58.06128631, 53.1950467 ,\n",
       "       47.41064868, 49.43059719, 53.47049423, 51.51175627, 46.55370082,\n",
       "       49.15514967])"
      ]
     },
<<<<<<< HEAD
     "execution_count": 39,
=======
     "execution_count": 45,
>>>>>>> 49cab5fb83f54878f6c064202355fd048df1be83
     "metadata": {},
     "output_type": "execute_result"
    }
   ],
   "source": [
    "model.predict(X)"
   ]
  },
  {
   "cell_type": "code",
<<<<<<< HEAD
   "execution_count": 40,
=======
   "execution_count": 46,
>>>>>>> 49cab5fb83f54878f6c064202355fd048df1be83
   "metadata": {},
   "outputs": [],
   "source": [
    "df['Prediction'] = model.predict(X)"
   ]
  },
  {
   "cell_type": "code",
<<<<<<< HEAD
   "execution_count": 41,
=======
   "execution_count": 47,
>>>>>>> 49cab5fb83f54878f6c064202355fd048df1be83
   "metadata": {},
   "outputs": [
    {
     "data": {
<<<<<<< HEAD
      "image/png": "iVBORw0KGgoAAAANSUhEUgAAAYwAAAEWCAYAAAB1xKBvAAAABHNCSVQICAgIfAhkiAAAAAlwSFlzAAALEgAACxIB0t1+/AAAADl0RVh0U29mdHdhcmUAbWF0cGxvdGxpYiB2ZXJzaW9uIDMuMC4zLCBodHRwOi8vbWF0cGxvdGxpYi5vcmcvnQurowAAIABJREFUeJzt3Xd8VfX9x/HXOxD2EFkqkaEgiAgRUwVRHCAiImrRWnfVOqu2tYpWbYurjrraX12Iq646kIobFHGLgAKyRESUgIogKMhKyOf3xznBm9yRk5Cbm/F5Ph48cu/3nu85n3sT7ueM7/l8ZWY455xzZcnKdADOOedqBk8YzjnnIvGE4ZxzLhJPGM455yLxhOGccy4STxjOOeci8YThKp2k0ZIeLe9r1YWkjpLWSaqX6VhqIklzJR2U6Thc5fOE4eosSVMk/bZ0u5l9ZWbNzGxLBmI6SFJRmLDWSvpU0ulVHce2MLM9zGxKpuNwlc8ThqsVJNXPdAzbKuY9LDezZkAL4I/AfZK6p3F7zkXiCcNVmKTLJC2L2RMelGCZbElPSBonqUGC1/tJek/SGkmzYk9lSDpd0vxw/YslnRPz2kGS8sMYvgEejGn7k6QVkr6uyN65pM6SrPgLNTwSuVbSu2EsEyW1Scd7iI3DAi8B3wO9Y/r1kDRJ0vfh5/6rmNdaS3pe0o+Spkm6TtI7Ma+bpN9J+gz4LML6hkmaF8a/TNIlYXsbSS+E7/l7SW9LygpfWyJpcPi4oaQ7JC0P/90hqWGp979Nvy9XdTxhuAoJ93gvAH5hZs2Bw4AlpZZpDPwP2AT8ysw2l3q9A/AicB2wPXAJME5S23CRFcBwgj3t04HbJfWNWcUOYb9OwNkxbS2BDsCZwJ2SWlXCWz4xjKEd0CCMNV3vgXDdWZJGAG2ARWFbU2AS8HgYywnAXZL2CLvdCfwUrve08F9pRwP7Aj0jrO9+4Jzwd9wLmBy2/wnIB9oC7YErgER1hq4E+gG5QB9gH+CqUu8/Hb8vlwaeMFxFbQEaEnzpZJvZEjP7POb1FsArwOfA6UmuB5wMvGRmL5lZkZlNAqYDwwDM7EUz+zzc034TmAgcENO/CPibmW0ysw1hWwFwjZkVhHvn64DKOJ3zoJktDLfzFMEXYLrew06S1gAbgPHAxWb2cfjacGCJmT1oZoVm9hEwDjhWwUX6keH61pvZPODhBO/lBjP7Ptxe0vWFyxYQ/I5bmNnq8PXi9h2BTuFn/bYlLkx3EsHvY4WZfQdcDZwS83q6fl8uDTxhuAoxs0XAH4DRwApJ/5W0U8wi/QhOo9yY5IsEgr3q48LTGmvCL8n9Cb6IkHS4pA/CUx5rCL6E28T0/87MNpZa5yozK4x5vh5oVsG3GeubJOtMx3tYbmbbESTdfwGHxLzWCdi31PZOIthTbwvUB5bGLB/7OFFbqvVBkICGAV9KelNS/7D9HwRHPRPDU22XJ9gOwE7AlzHPvwzbiqXr9+XSwBOGqzAze9zM9if40jHgppiXJwI3AK9Lap9kFUuBR8xsu5h/Tc3sxvA89zjgFqB9+AX6EqDYECr7PVVA2t6DmW0CLgP2lHR0zPbeLLW9ZmZ2HvAdUAjkxKxm50SrLhV/svVhZtPM7CiC01X/Izi6wszWmtmfzGwX4EjgYiW4hgUsJ/j7KNYxbHM1kCcMVyGSuks6JPxS3Ehw+qTEaSczu5ng3PjrsReJYzwKHCnpMEn1JDUKL4TmEFwnaEj4JSjpcGBIGt5K/XC7xf+yy9k/re8hvO5zK/DXsOkFYDdJpygYUJAt6ReSdg9P+z0LjJbURFIP4NQyNpF0fZIaSDpJUkszKwB+JPwdSxouqaskxbQnOu34BHCVpLbh38Bfw8/M1UCeMFxFNQRuBFYSnK5pR3DhswQzu5Zgz/Q1SduXem0pcFTY7zuCvd1LgSwzWwtcRLBHu5rgovOENLyPuwmSXfG/B1MvXlIVvYcHgI6SjgzXOQT4NcGe+jcER3YNw2UvILiI/A3wCMEX9qYU8Ze1vlOAJZJ+BM4luGYD0A14jeCaw/vAXUnuvbiO4JrObOAT4KOwzdVA8gmUnKu9JN0E7GBmiUZLOVcufoThXC0S3lPRW4F9CIaqjs90XK528Ds9natdmhOchtqJ4B6QW4HnMhqRqzX8lJRzzrlI0nqEIWk7YCzBHaIGnAH8kmAY3mZ+vqlrTYK+S4C1BCMvCs0sL52xOuecSy2tRxiSHgbeNrOxCuoINSEoDTDZzArDC3KY2WUJ+i4B8sxsZdTttWnTxjp37lwpsTvnXF0wY8aMlWbWtuwl03iEIakFMBD4DWwdT76Z4IauYh/wcwmCbda5c2emT59eWatzzrlaT9KXZS8VSOcoqV0IxqU/KOljSWPDQmexzgBeTtLfCMoOzJB0dpJlkHS2pOmSpn/33XeVE7lzzrk46UwY9YG+wN1mthdBBc2t9WYkXUlQxuCxJP0HmFlf4HDgd5IGJlrIzMaYWZ6Z5bVtG+moyjnnXAWkM2HkA/lmNjV8/gxBAkHSaQRVMk9KVpjOzJaHP1cQjCPfJ42xOuecK0ParmGY2TeSlkrqbmafAoOAeZKGEhRUO9DM1ifqG566yjKzteHjIcA1FYmjoKCA/Px8Nm4sXRDUVVSjRo3IyckhO7u8ZZecczVZum/cuxB4LBwhtZhgAplpBHVqJgV1y/jAzM4NS2OPNbNhBBOyjA9frw88bmavVCSA/Px8mjdvTufOnQnX57aBmbFq1Sry8/Pp0qVLpsNxzlWhtCYMM5sJlL5/omuSZZfz86Qziwlm59pmGzdu9GRRiSTRunVrfICBc4mtWreJ/NUbyGnVmNbNGpbdoQapE6VBPFlULv88nUvsuZnLuGzcbLKzsigoKuLmkb0Zkdsh02FVGi8+6JxzlWDVuk1cNm42GwuKWLupkI0FRYwaN5tV65JWl69xPGFUgXr16pGbm0uvXr047rjjWL8+4bX+SKZMmcLw4cMBmDBhAjfeeGPSZdesWcNdd9219fny5cs59thKu0/SORcjf/UGsrNKfqVmZ2WRv3pDkh41jyeMKtC4cWNmzpzJnDlzaNCgAffcc0+J182MoqKicq93xIgRXH55sqmU4xPGTjvtxDPPPFPu7TjnypbTqjEFpf4fFxQVkdOqcYYiqnyeMKrYAQccwKJFi1iyZAm77747559/Pn379mXp0qVMnDiR/v3707dvX4477jjWrVsHwCuvvEKPHj3Yf//9efbZZ7eu66GHHuKCCy4A4Ntvv+WYY46hT58+9OnTh/fee4/LL7+czz//nNzcXC699FKWLFlCr169gGAwwOmnn86ee+7JXnvtxRtvvLF1nb/85S8ZOnQo3bp1Y9SoUVX8CTlXM7Vu1pCbR/amUXYWzRvWp1F2FjeP7F2rLnzXiYvexa5+fi7zlv9YqevsuVML/nbkHpGWLSws5OWXX2bo0KEAfPrppzz44IPcddddrFy5kuuuu47XXnuNpk2bctNNN3HbbbcxatQozjrrLCZPnkzXrl05/vjjE677oosu4sADD2T8+PFs2bKFdevWceONNzJnzhxmzpwJwJIlS7Yuf+eddwLwySefsGDBAoYMGcLChQsBmDlzJh9//DENGzake/fuXHjhhey8884V/YicqzNG5HZgQNc2NWaU1Kp1m1B24yZRl/cjjCqwYcMGcnNzycvLo2PHjpx55pkAdOrUiX79+gHwwQcfMG/ePAYMGEBubi4PP/wwX375JQsWLKBLly5069YNSZx88skJtzF58mTOO+88ILhm0rJly5QxvfPOO5xyyikA9OjRg06dOm1NGIMGDaJly5Y0atSInj178uWXkWuTOVfntW7WkD47b1ftk8VzM5cx4KbJ1G+1425R+9SpI4yoRwKVrfgaRmlNm/5ci9HMOPTQQ3niiSdKLDNz5sy0DGNNVda+YcOf/9Dr1atHYWFhpW/fOZc5sSO6lJVVL2o/P8KoJvr168e7777LokWLAFi/fj0LFy6kR48efPHFF3z++ecAcQml2KBBg7j77rsB2LJlCz/++CPNmzdn7dq1CZcfOHAgjz0W1H1cuHAhX331Fd27d6/st+Wcq4YSjeiKwhNGNdG2bVseeughTjjhBHr37k2/fv1YsGABjRo1YsyYMRxxxBHsv//+dOrUKWH/f/7zn7zxxhvsueee7L333sydO5fWrVszYMAAevXqxaWXXlpi+fPPP58tW7aw5557cvzxx/PQQw+VOLJwztVeiUZ0RVGr5vTOy8uz0hMozZ8/n9133z1DEdVe/rk6V7NNmLmMUeNms3jMBVs2f/t5pMsTdeoahnPOuUDxiK62N329MGofPyXlnHN1VOtmDbGCDZFLT9SJhFGbTrtVB/55Olc31fqE0ahRI1atWuVfcpWkeD6MRo0aZToU51wVq/XXMHJycsjPz/f5GypR8Yx7zrm6pdYnjOzsbJ8ZzjnnKkGtPyXlnHOucnjCcM45F4knDOecc5GkNWFI2k7SM5IWSJovqb+k7SVNkvRZ+LNVkr5DJX0qaZGk5LMEOeecqxLpPsL4J/CKmfUA+gDzgcuB182sG/B6+LwESfWAO4HDgZ7ACZJ6pjlW55xzKaQtYUhqAQwE7gcws81mtgY4Cng4XOxh4OgE3fcBFpnZYjPbDPw37Oeccy5D0nmEsQvwHfCgpI8ljZXUFGhvZl8DhD/bJejbAVga8zw/bIsj6WxJ0yVN93stnHMufdKZMOoDfYG7zWwv4CcSnH5KItGMQQlv1TazMWaWZ2Z5bdu2rVikzjnnypTOhJEP5JvZ1PD5MwQJ5FtJOwKEP1ck6Rs7iXQOsDyNsTrnnCtD2hKGmX0DLJVUPI3bIGAeMAE4LWw7DXguQfdpQDdJXSQ1AH4d9nPOOZch6S4NciHwWPilvxg4nSBJPSXpTOAr4DgASTsBY81smJkVSroAeBWoBzxgZnPTHKtzzrkU0powzGwmkJfgpUEJll0ODIt5/hLwUvqic845Vx5+p7dzzlVDq9ZtYtbSNaxatynToWxV66vVOudcTfPczGVcNm422VlZFBQVcfPI3ozITXhnQZXyIwznnKtGVq3bxGXjZrOxoIi1mwrZWFDEqHGzq8WRRuSEEd5055xzLo3yV28gO6vkV3N2Vhb5qzdU6nYWfruWzpe/WK4+ZZ6SkrQfMBZoBnSU1Ac4x8zOr1CUzjnnkspp1ZiCoqISbQVFReS0alwp65+5dA1H3/luhfpGOcK4HTgMWAVgZrMIakQ555yrZK2bNeTmkb1plJ1F84b1aZSdxc0je9O6WcNtWu97i1bS+fIXSySLsacmGsSaXKSL3ma2VCpRrWNLubbinHMushG5HRjQtQ35qzeQ06rxNiWLV+d+wzmPzCjR9sRZ/ei/a+tyrytKwlganpay8Aa8iwjKlDvnnEuT1s0ablOieGZGPpc8PatE24QLBtA7Z7sKrzNKwjiXYF6LDgQ1niYCv6vwFp1zzqXNA+98wTUvzCvRNumPA+nWvvk2rztlwggnMjrFzE7a5i0555xLCzPjjtc+45+vf7a1rWH9LF67+EB23r5JpW0nZcIwsy2SjiK48O2cc64aMTOufn4eD723ZGtbu+YNefGiA2jbfNsukicS5ZTUu5L+DTxJMKdFcaAfVXo0zjnnyrSlyLj06Vk8+/GyrW27tW/G0+fuR8vG2WnbbpSEsV/485qYNgMOqfxwnHPOJbOpcAvnPfoRkxf8PI3QLzq34uEz9qFJg/RXeipzC2Z2cNqjcM45l9T6zYWccv+HzPhy9da2wbu3486T+tKwfr0qiyNSSpJ0BLAH0Ki4zcyuSd7DOefctvphfQEj73mPRSvWbW0b2TeHm4/tTb2sRDNZp1eU0iD3AE2AgwlKhBwLfJjmuJxzrs6au/wHjvjXOyXazhjQhb8M351SN1FXqUjXMMyst6TZZna1pFuBZ9MdmHPO1TXvf76KE+77oETbHwfvxkWDumY0URSLkjCKSySuD6dRXQV0SV9Izrm6YtW6TZVS/qKme+mTrzn/sZIDTzu3bsKUS6vXJeQoCeMFSdsB/wA+IhghNTatUTnnar3qOklQVXrkgy/5y//mlGjbv2sbHv3tvhmKKLUoo6SuDR+Ok/QC0MjMfoiycklLgLUExQoLzSxP0pNA93CR7YA1ZpYbpW+UbTrnqr/YSYI2EpTyHjVuNgO6tqkTRxq3TVrIv2LuygY4du8cbjmuT4YiiibqKKn9gM7Fy0vCzP4TcRsHm9nK4idmdnzMem8FUiWfEn2dc7VD8SRBxckCfp4kqDYnjMuemc2T05eWaLvg4K5cclj3JD2qlyijpB4BdgVm8nNZcwOiJoxk6xXwK/wGQOfqnHRPElTdnPrAh7y18LsSbdcctQen9u+cmYAqKMoRRh7Q08ysAus3YKIkA+41szExrx0AfGtmnyXumrKvc64GK54kaFSpaxi17ehi0K1T+Py7n0q03XliX47ovWOGIto2URLGHGAH4OsKrH+AmS2X1A6YJGmBmb0VvnYC8EQF+24l6WzgbICOHTtWIETnXCZU5iRB1YmZ0eXPL8W1P/bbfRnQtU0GIqo8SnbgIOl5gr385kAuwc16m4pfN7MR5dqQNBpYZ2a3SKoPLAP2NrP88vRNtVxeXp5Nnz69PGE551ylKCoydrkiPlG8cOH+9OrQMgMRRSNpRtRBRamOMFJ+OUcIoimQZWZrw8dD+LmA4WBgQbJkUUZf55yrNjYWbKHHX16Ja3/z0oPo1LppBiJKn6QJw8zejH0uqTUwEPjKzGYk7lVCe2B8eHdifeBxMyv+VH9NqdNR4U2BY81sWBl9nXMu49as30zuNZPi2qdcchCd29SuRFEsacII77m43MzmSNqR4Ka96cCuksaY2R2pVmxmi4GEg4rN7DcJ2pYDw8rq65xzmZS/ej373/RGXPuMqwbXmuswyaQ6JdXFzIpvQTwdmGRmp0pqDrwLpEwYzjlXm8xb/iPD/vV2XPv8a4bSuEHVlRjPpFQJoyDm8SDgPoDwukJR4i7OOVe7vPPZSk6+f2pc+6LrD6d+vawMRJQ5qRLGUkkXAvlAX+AVAEmNgfTNAeicc9XA+I/z+eOTs+Lav7hhWLWoHJsJqRLGmQQjkwYDx5vZmrC9H/BgugNzzrlMuPONRfzj1U/j2pfceEQGoqleUo2SWgGcm6D9DSD+io9zztVgV47/hMemfhXX7oniZ+mfNdw556qxk8dO5Z1FJWucNmlQj3nXDM1QRNWXJwznXJ203w2vs/yHjSXaeue0ZMIF+2coourPE4Zzrk7pfPmLcW3De+/Iv0/sm4FoapYo5c13A+4G2ptZL0m9gRFmdl3ao3POuUqSKFGcf9CujBraIwPR1ExRjjDuAy4F7gUws9mSHgc8YTjnqr1EieK6o3txcr9OGYimZouSMJqY2Yelxh0Xpike55zbZskqx953ah6H9myfgYhqhygJY6WkXQlKnSPpWCo2N4ZzzqXVpsItdL8qvk7puPP2Y+9OrTIQUe0SJWH8DhgD9JC0DPgCOCmtUTnnXDn8sKGAPldPjGuf/KcD2aVtswxEVDtFSRhmZoNLzVHRJd2BOedcWb7+YQP9b5gc1z7tysG0bV67K8dmQpSEMQ7oa2axE9M+A+ydnpCccy61T79Zy2F3xM3YzNyrD6NpQ79bIF1SzYfRA9gDaCnplzEvtQAapTsw55wr7b3PV3LiffGVYz+7/nCy61jl2ExIlYq7A8OB7YAjY9rXAmelMyjnnIs1YdZyLnri47j2ulw5NhNSFR98DnhOUn8ze78KY3LOOQBem/ctv/3P9Lh2LwiYGVFO9i2VNB4YQDC09h3g92aWn9bInHN11lPTljJq3Oy4dk8UmRUlYTwIPA4cFz4/OWw7NF1BOefqprumLOLmV0rOReF1nqqPKAmjnZnFTpj0kKQ/RFm5pCUE1zy2AIVmlidpNME1kO/Cxa4ws7hbMiUNBf4J1APGmtmNUbbpnKt5Rk+Yy0PvLSnR9tv9u3DV8J6ZCcglFCVhfCfpZOCJ8PkJwKpybONgM1tZqu12M7slWQdJ9YA7CY5i8oFpkiaY2bxybNc5V80lqvN0xbAenD1w1wxE48oSJWGcAfwbuJ3gGsZ7YVs67QMsMrPFAJL+CxwFeMJwrhZIlChu+1Ufftk3JwPRuKhS3YeRZ2bTzewrYEQF12/AREkG3GtmY8L2CySdCkwH/mRmq0v16wAsjXmeD+ybJM6zgbMBOnbsWMEwXbqtWreJ/NUbyGnVmNbN/A7cuipRovjbkT05fYAXj6gJUh1h3CepGcGpqCfMbH4F1j/AzJZLagdMkrSAYG6NawmSybXArcQfsSQaWG2JNhAmoTEAeXl5CZdxmfXczGVcNm422VlZFBQVcfPI3ozI7ZDpsFwVMTO6/Dm+cuzdJ/Xl8D13zEBErqJS3Yexl6TuwK+BcZI2EySP/5rZl1FWbmbLw58rwqG5+5jZ1vv5Jd0HvJCgaz6wc8zzHGB5lG266mXVuk1cNm42GwuK2EgRAKPGzWZA1zZ+pFHLbS4sYrerXo5rf+qc/uzTZfsMROS2VcprGGb2KXA1cLWkPgTJY7Kkb8xsQKq+pYoVNgWGANdI2tHMisujHwPMSdB9GtAtLHK4LNzuieV5Y656yF+9geysrK3JAiA7K4v81Rs8YdRSazcWsOfo+Mqxk/44kG7tm2cgIldZIlXpkpQFtAPaA035eUhsKu2B8eFt+/WBx83sFUmPSMolOMW0BDgn3MZOBMNnh5lZoaQLgFcJhtU+YGZzy/XOXLWQ06oxBUVFJdoKiorIadU4QxG5dFnx40b2+fvrce1TrxhE+xZefq42kFny0/6SDiAYRns0wZHAf4FxZvZD1YRXPnl5eTZ9enwZAZdZE2YuY5Rfw6i1Fq1Yy+Db4ivHfjJ6CM0bZWcgIlcekmaYWV6UZVONkloKfEWQJK42s28rKT5Xx4zI7cCArm18lFQtM23J9xx3T3yZuYXXHU6D+l45tjZKdUpq/6gXt50rS+tmDT1R1BKvzPmacx/9KK7dK8fWfqlGSXmycM5t9dC7XzD6+fh7Z70gYN3hU1M551L6+0vzGfPW4rh2TxR1T5kJQ9L2ZvZ9VQTjnKu4yr6b/txHZvDK3G/i2j1R1F1RjjCmSppJUNL8ZUs1rMo5lxGVeTf9Ybe/xaffri3R1ql1E9689ODKCNXVYFESxm7AYILyHf8n6UngITNbmNbInHORVNbd9Lte8RJbikruDx7cvS0Pnr5Ppcbraq4yE0Z4RDGJoBbUwcCjwPmSZgGX+/StzmXWtt5Nn6gg4G/268zoEXtUapyu5otyDaM1wSx7pwDfAhcCE4Bc4GnAy0w6l0EVvZs+UaK4ctjunDVwl0qNz9UeUU5JvQ88Ahxdah7v6ZLuSU9YzrmoWjdryM0je8fdTZ/o6CJZ5dh/nbAXI/rsVBXhuhosSsK4ysyeim2QdJyZPW1mN6UpLudcOZR1N33hliK6XhlfOfaJs/rRf9fWVRWmq+GiJIzLgadKtf2Z4HSUc66aSHQ3fbLKsa/+YSDdd/DKsa58UtWSOhwYBnSQ9K+Yl1oAhekOzDlXcd/+uJF9E1SO/fDKQbRr7pVjXcWkOsJYTjCF6ghgRkz7WuCP6QzKOVcxn36zlsPuiK8cO/Ovh7JdkwYZiMjVJqlqSc2SNAcYYmYPV2FMzrlyeu/zlZx439S49gXXDqVRdr0MRORqo7Jm3NsiqbWkBma2uaqCcs5F87+Pl/GHJ2fGtS/++zCysrxyrKtcUS56fwm8K2kC8FNxo5ndlraonHMp3fnGIv7x6qdx7V7nyaVTlISxPPyXBfiwCucy6PJxs/nvtKVx7Z4oXFWIUhrk6qoIxDmX3K/ueZ8Pl8QXjfZE4apSlNIgbYFRwB7A1vF4ZnZIGuNyzgG510xkzfqCuHZPFC4TopySegx4EhgOnAucBnwXZeWSlhAMw90CFJpZnqR/AEcCm4HPgdPNbE2UvlG26VxtkKjOU5c2TXnjkoOqPhjnQlESRmszu1/S783sTeBNSW+WYxsHm9nKmOeTgD+bWaGkmwjuGr8sYl/narVEiWLw7u0Ye9ovMhCNcyVFSRjFx8NfSzqC4AJ4TkU3aGaxdQo+AI6t6Lqcqy0SJYqzDujClUf0zEA0ziUWJWFcJ6kl8Cfg/whKg0S909uAiZIMuNfMxpR6/QyC010V6QuApLOBswE6duwYMSznMi9Z5dhrjtqDU/t3rvqAnCtDlITxgZn9APwAlHeOxgFmtlxSO4IJmBaY2VsAkq4kqEn1WHn7xgoTyRiAvLw8nz7WVXvJKsfee8reHLbHDhmIyLloUhUfPBJ4ACiUtAX4lZm9V56Vm9ny8OcKSeOBfYC3JJ1GcBF9ULI5wpP1Lc/2natOftpUyB5/ezWu/dnz96Nvx1YZiMi58kl1hHE9cICZLZC0L3AzcGDUFUtqCmSZ2drw8RDgGklDCS5yH2hm68vTN+q2XWasWrcp6XwMddmKtRvZ5/r4yrFTLjmIzm2aZiAi5yomVcIoNLMFAGY2VVJ57/JuD4yXVLydx83sFUmLgIYEp5kgOOV1rqSdgLFmNixZ33Ju31Wh52Yu47JSM76NyO2Q6bAyatGKtQy+Lf6geMZVgz2huhopVcJoJ+niZM/LqiVlZouBPgnauyZZfjnB/BtJ+7rqadW6TVw2bjYbC4rYSDC39KhxsxnQtU2d/GL88Ivv+dW978e1z79mKI0beOVYV3OlShj3UbJ2VOnnzgGQv3oD2VlZW5MFQHZWFvmrN9SphPHC7OVc8PjHce2f/30Y9bxyrKsFUs2H4TWkXCQ5rRpTUFRUoq2gqIicVo0zFFHVuu+txVz/0vy4di/f4WqbKMNqnUupdbOG3DyyN6NKXcOo7UcXf31uDv95/8u4dk8UrrbyhOEqxYjcDgzo2qZOjJI65f6pvP1ZfMUaTxSutotSrbaLmX1RVptzrZs1rNWJot/fX+ebHzfGtXuicHVFlCOMcUDfUm3PAHtXfjjOVT+J6jzt1LIR7/15UAaicS5zUt3p3YNgDoyWkn4Z81ILYubFcK62SpQocnfejvtPy6vVR1JfwhZXAAAZKElEQVTOJZPqCKM7QfmO7Qjmryi2FjgrnUE5l0mJEsXAbm34cMn3fL5iHQNumuw3Jro6KdWw2ueA5yT1N7P4u5Ccq0WSVY696ojdOWavDgy4abLfmOjqvCjXMBZJugLoHLu8mZ2RrqCcqypbioxdr4hPFHee2Jcjeu8IwKyla/zGROeIljCeA94GXiOYLtW5Gm/D5i3s/tf48mRPn9ufX3TevkRbXb8x0bliURJGEzNLNoWqczXKynWbyLvutbj21y4+kK7tmiXsU1dvTHSutCgJ4wVJw8ws/rjduRrii5U/cfAtU+Lap105mLbNy/7ir0s3JjqXTJSE8XvgCkmbgc2AADOzFmmNzLlKMOPL1Yy8O37er7lXH0bThuUrdFDbb0x0rixl/o8xM69Q62qcV+Z8zbmPfhTXvuj6w6lfLysDETlX80UpDSLgJKCLmV0raWdgRzP7MO3ROVdOD777BVc/Py+u/YsbhhFOyOWcq6Aox+R3AUXAIcC1wDrgTuAXaYzLuXK55vl5PPBufHkzr/PkXOWJkjD2NbO+kj4GMLPVkhqkOS7nIjnjoWlMXrAirt0TRUk+37qrDFESRoGkeoABSGoLFKXu4lx6Dbz5Db76fn1cuyeKeD7fuqssURLGv4DxQHtJ1wPHAlelNSrnkkhU52n7pg346C+HZiCa6s/nW3eVKcooqcckzQCKazkfbWbx81EmIGkJQbHCLUChmeVJ2h54kqDUyBLgV2a2OkHfocA/gXrAWDO7Mco2Xe2UKFHs22V7njynfwaiqTl8vnVXmaIORG9C8MVtQHnrIRxsZrHTk10OvG5mN0q6PHxe4k7y8BTYncChQD4wTdIEM4sf/uKqVFWfC0+UKE7YpyM3/HLPtG+7NvCyJq4yRRlW+1fgOIKJlAQ8KOlpM7uugts8CjgofPwwMIVSCQPYB1hkZovDGP4b9vOEkUFVeS48UaK4bGgPzjto17Rsr7bysiauMkU5wjgB2MvMNgJIuhH4CIiSMAyYKMmAe81sDNDezL4GMLOvJbVL0K8DsDTmeT6wb6INSDobOBugY8eOEUJyFVEV58KLioxdElSO/eevcznKL9JWmJc1cZUlSsJYQjDDXvFkxg2BzyOuf4CZLQ+TwiRJCyL2S3SHlSVaMExCYwDy8vISLuO2XTrPhW8s2EKPv8RXjn3irH7037X1Nq3bBWp6WRMfFlw9pJqi9f8IvqQ3AXMlTQqfHwq8E2XlZrY8/LlC0niCU03fStoxPLrYEYgfRB8cUewc8zwHWB5lmy490nEufPVPm9nr2klx7RP/OJDd2ntFGhfwYcHVR6ojjOnhzxkEw2qLTYmyYklNgSwzWxs+HgJcA0wATgNuDH8+l6D7NKCbpC7AMuDXwIlRtuvSozLPhX+1aj0D//FGXPvUKwbRvoVPF+9+5sOCq5dUU7Q+vI3rbg+MD+v31AceN7NXJE0DnpJ0JvAVwQV1JO1EMHx2mJkVSroAeJVgdNYDZjZ3G+Nx22hbz4XPzl/DiH+/G9c+5+rDaFbOyrGubvBhwdVLlFFSwwlqSHUKl49U3jwc4dQnQfsqfr6nI7Z9OTAs5vlLgM/BUc1U5Fz46/O/5cyHp8e1f3b94WR75ViXgg8Lrl6i7NbdAfwS+MTM/KKyi+zRD77kqv/NiWv3yrEuKh8WXL1ESRhLgTmeLFxUN7w8n3vfXBzX7nWeXEX4sODqI0rCGAW8JOlNghFTAJjZbWmLytVII+9+jxlfxlV58UThtllNHxZcW0RJGNcTzIHRCPCy5i5Oz7++wvrNW+LakyUKH1PvXM0UJWFsb2ZD0h6Jq3ESle+A1EcUPqbeuZorSsJ4TdIQM5uY9mhcjZAoUbRv0ZCpVwxO2c/H1DtXs0VJGL8DRknaBBQQcVitq30SJYoDd2vLw2fsE6m/j6l3rmaLMh+G12io4xIlitMHdOZvR+5RrvX4mHrnarYoN+4NTNRuZm9VfjiuukhWOfaek/dmaK8dKrROH1PvXM0W5ZTUpTGPGxEUEJwBHJKWiFxGbS4sYrerXo5rH3def/butP02r9/H1DtXc0U5JXVk7HNJOwM3py0ilxE/biyg9+j4cQ2vXXwgXds1q9Rt+Zh652qmilR8ywd6VXYgLjO++WEj/W54Pa79wysH0a65V451zv0syjWM4nkxALKAXGBWOoNy6bfw27UMuT3+MpRXjnXOJRPlmyG2zGgh8ISZxdeodjXC1MWrOH7MB3HtXjnWOVeWKAnjGWCjmW0BkFRPUhMzW5/e0FxlenH21/zu8Y/i2r1yrHMuqigJ43VgMEE9KYDGwERgv3QF5SrP/e98wbUvzItr94KAzrnyipIwGplZcbLAzNZJapLGmFwluPaFedz/zhdx7Z4onHMVFSVh/CSpr5l9BCBpb2BDesNyFfXbh6fz2vxv49o9UTjntlWUhPEH4GlJy8PnOwLHpy8kVxGDb3uTRSvWlWjbtW1TXv/TQZkJyDlX60S5cW+apB5Ad4LCgwvMrCDqBiTVIxhptczMhkt6MlwXwHbAGjPLTdBvCbAW2AIUmlle1G3WJYnqPA3evT1jT/OPyzlXuaIOuP8F0Dlcfi9JmNl/Ivb9PTAfaAFgZluPTiTdCvyQou/BZrYy4nbqlESJ4owBXfjrkT0zEI1zri6IcuPeI8CuwEyCvX0IbuQrM2FIygGOIJi17+JSrwn4FV6TqlwSJYqrjtid3x6wSwaicc7VJVGOMPKAnmZmZS4Z7w6COcETlUg/APjWzD5L0teAiZIMuNfMxiRaSNLZwNkAHTt2rECI1Z+Z0eXP8ZVj/33iXgzvvVMGInLO1UVREsYcYAfg6/KsWNJwYIWZzZB0UIJFTgCeSLGKAWa2XFI7YJKkBYlKqoeJZAxAXl5eRZJatVW4pYiuV8ZXjn3y7H7su0vrDETknKvLoiSMNsA8SR8Cm4obzWxEGf0GACMkDSMoi95C0qNmdrKk+sAvgb2TdTaz5eHPFZLGE5RVrxNzcGws2EKPv7wS1z7xjwPZrb3PZ+Wcy4woCWN0RVZsZn8G/gwQHmFcYmYnhy8PJhhtlZ+or6SmQJaZrQ0fDwGuqUgcNckPGwroc3V8ifGZfz2U7Zo0yEBEzjn3syjDat9Mw3Z/TanTUZJ2Asaa2TCgPTA+rHFUH3jczOJ3uWuJb3/cyL5/jy8xPv+aoTRuUC8DETnnXLykCUPSWn4ua17iJcDMrEXUjZjZFGBKzPPfJFhmOTAsfLwY6BN1/TXV59+tY9Ct8fl40fWHU98rxzrnqpmkCcPM/GR5msxauoaj7oyvEO+VY51z1ZnPlFOF3lz4Hac98GGJtuaN6vPJ6MMyFJFzzkXnCaMK/O/jZfzhyZkl2nbfsQUv//6AyOtYtW4T+as3kNOqsc+H7ZzLCE8YaTT27cVc9+L8Em2H9mzPfaeWr87TczOXcdm42WRnZVFQVMTNI3szIrdDZYbqnHNl8oSRBs/PWs6FT3xcou2Ufp249uhe5V7XqnWbuGzcbDYWFLGRIgBGjZvNgK5t/EjDOVelPGFUopc/+ZrzHis5Deqlh3Xndwd3rfA681dvIDsra2uyAMjOyiJ/9QZPGM65KuUJoxI8NW0po8bNLtHWJLseRRg7t2q8TevOadWYgqKiEm0FRUXkbON6nXOuvHyw/zYY+/ZiOl/+Yolk0aB+MCx2fcEWNhYUMWrcbFat25RsFWVq3awhN4/sTaPsLJo3rE+j7CxuHtnbjy6cc1XOjzDKycy4fdJC/jV50da2Jg3qMeniA1m5dhMnj53K5sLCra9VxumjEbkdGNC1jY+Scs5llCeMiIqKjNHPz+U/73+5tW3Hlo14/sL9aRN+gTeqn5W200etmzX0ROGcyyhPGGUo3FLEn56exXMzl29t67FDc548pz8tG2eXWLb49NGoUkNg/YveOVcbeMJIYlPhFs55ZAZTPv1ua9u+XbbnodP3SVkQ0E8fOedqK08Ypfy0qZCTxk5l5tI1W9uG9GzPv0/sS4P60cYI+Okj51xt5AkjtGb9Zo656z2+WPnT1rbj9s7hxpG9qZflBQGdc67OJ4wVP25k6D/f5vufNm9tO+uALlwxbHevHOucczHqbML4atV6DrrlDYpiZvy4ZMhuXHBIt8wF5Zxz1VidSxgLv13LkNtLTg1+7VF7cEr/zpkJyDnnaog6kzA+/mo1x9z1Xom224/vwzF75WQoIuecq1lqfcJ4d9FKTho7tUTb2FPzGNyzfYYics65mqnWJoxX5nzDuY/OKNH2xFn96L9r6wxF5JxzNVvaE4akesB0YJmZDZc0GjgLKL4j7gozeylBv6HAP4F6wFgzuzHK9p6Zkc8lT88q0fb8BfuzZ07Lir8J55xzVXKE8XtgPtAipu12M7slWYcwydwJHArkA9MkTTCzeak29MmyH0oki9cuHkjXds23JXbnnHOhtCYMSTnAEcD1wMXl6LoPsMjMFofr+S9wFJAyYQA0rJ/FaxcfyM7bN6lAxM4555JJ93wYdwCjgKJS7RdImi3pAUmtEvTrACyNeZ4ftsWRdLak6ZKmt2tQwKfXHe7Jwjnn0iBtCUPScGCFmc0o9dLdwK5ALvA1cGui7gnaLEEbZjbGzPLMLK9Fy1bbNFmRc8655NJ5hDEAGCFpCfBf4BBJj5rZt2a2xcyKgPsITj+Vlg/sHPM8B1ieYLkSFq/8iQE3TWbCzGXbHr1ztdSqdZuYtXSN71y5cktbwjCzP5tZjpl1Bn4NTDazkyXtGLPYMcCcBN2nAd0kdZHUIOw/oaxtFplVyrSoztVWz81cxoCbJnPy2Km+c+XKLRNzet8s6RNJs4GDgT8CSNpJ0ksAZlYIXAC8SjDC6ikzmxt1A8XTojrnfrZq3SYuGzebjQVFrN1U6DtXrtyq5MY9M5sCTAkfn5JkmeXAsJjnLwFx92dEUVnTojpXm+Sv3kB2VhYbY8agVMac867uyMQRRtpkSTTKzvJpUZ1LIKdV47TNOe/qhlqVMHZp05R3LzuEEbkJR+A6V6cVzznfKDuL5g3r+86VK7daVUuqcYN6/sfvXAo+57zbFrUqYTjnyuZzzruKqlWnpJxzzqWPJwznnHOReMJwzjkXiScM55xzkXjCcM45F4nMEhaBrZEkfQd8WYWbbAOsrMLt1UT+GZXNP6PU/PMp27Z8Rp3MrG2UBWtVwqhqkqabWV6m46jO/DMqm39GqfnnU7aq+oz8lJRzzrlIPGE455yLxBPGthmT6QBqAP+MyuafUWr++ZStSj4jv4bhnHMuEj/CcM45F4knDOecc5F4wqgASUMlfSppkaTLMx1PdSTpAUkrJCWas73Ok7SzpDckzZc0V9LvMx1TdSOpkaQPJc0KP6OrMx1TdSSpnqSPJb2Q7m15wignSfWAO4HDgZ7ACZJ6ZjaqaukhYGimg6jGCoE/mdnuQD/gd/53FGcTcIiZ9QFygaGS+mU4puro98D8qtiQJ4zy2wdYZGaLzWwz8F/gqAzHVO2Y2VvA95mOo7oys6/N7KPw8VqC//A+VWQMC6wLn2aH/3yUTgxJOcARwNiq2J4njPLrACyNeZ6P/0d320BSZ2AvYGpmI6l+wtMtM4EVwCQz88+opDuAUUBRWQtWBk8Y5acEbb7X4ypEUjNgHPAHM/sx0/FUN2a2xcxygRxgH0m9Mh1TdSFpOLDCzGZU1TY9YZRfPrBzzPMcYHmGYnE1mKRsgmTxmJk9m+l4qjMzWwNMwa+LxRoAjJC0hODU+CGSHk3nBj1hlN80oJukLpIaAL8GJmQ4JlfDSBJwPzDfzG7LdDzVkaS2krYLHzcGBgMLMhtV9WFmfzazHDPrTPA9NNnMTk7nNj1hlJOZFQIXAK8SXKh8yszmZjaq6kfSE8D7QHdJ+ZLOzHRM1cwA4BSCvcKZ4b9hmQ6qmtkReEPSbIIdtUlmlvahoy45Lw3inHMuEj/CcM45F4knDOecc5F4wnDOOReJJwznnHOReMJwzjkXiSeMGkjSMZJMUo9Mx1IWSQdJ+iGsprlA0i1VuO3cVENVJe0jaYqkzyR9JOlFSXumMwZJoyVdEqHfS8X3IETczmhJy8LhuXMkjahozOmQ7H1H/Txc9eAJo2Y6AXiH4GadbRZW4E2nt81sL4J6ScMlDUjz9orlAgkThqT2wFPAFWbWzcz6AjcAuyZYtn46YkjFzIaFdzeXx+1hGY3jgAckRfr/vY3vz9UhnjBqmLD20ADgTGIShqQnS+3JPiRpZFi87R+SpkmaLemc8PWDwvkYHgc+Cdv+J2lGOPfA2THrOlPSwnBv/D5J/w7b20oaF657WlmJwMw2ADMJizVKahrOmzEtPAI5KmyvJ+kWSZ+EMV8Ytu8t6c0wxlcl7Ri2T5F0Uzh3wkJJB4R34V8DHB/udR9fKpwLgIfN7L2Y+N4xs//FfH63SXoDuEnS9uHnM1vSB5J6h8t9Imk7BVZJOjVsf0TSkCQx9AxjXizpoiS/5yWS2kjqrGDOjPvC38vE8K7nVJ/zfILy6W2S/Y7CPfsxkiYC/5G0R/j5zQzfY7dwuYvDI5Y5kv4QtiWNSdJZ4XZmhdttkirWUu857vcYtif7exgU/t18Ev4dNYz57P4u6X1J0yX1Df9ePpd0bsz2Lo35f3F12NZUwZHmrPA9l/67qdvMzP/VoH/AycD94eP3gL7h42MIvgABGhBU1G0MnA1cFbY3BKYDXYCDgJ+ALjHr3j782RiYA7QGdgKWANsTlJd+G/h3uNzjwP7h444EZS5Kx3sQ8EL4uBUwA9ghfP534OTw8XbAQqApcB5BjaX6xXGF234PaBu2HQ88ED6eAtwaPh4GvBY+/k1xrAniehY4KsXn/BDwAlAvfP5/wN/Cx4cAM8PH9xCUl+5FcDfyfWH7Z0Cz0jEAo8P30RBoA6wCshNsf0n4emeCL//csP2p4s+s1PKjgUvCx/sS1DdTst9RuPwMoHHM+zsp5u+nMbA3wc5E0/C9zCU4SkwaE9A6JqbrgAtLx5ci7mS/x0R/D40I/sZ3C9v+Q1DAsfizOy98fDswG2gOtCUo1gcwBBgTfkZZ4e96IDCy+HcYLtcy0//nq9M/PxSteU4gKGkMQcGxE4CPgJeBf4V7WUOBt8xsQ7iX21vSsWGflkA3YDPwoZl9EbPuiyQdEz7eOVxuB+BNM/seQNLTwG7hMoMJ9paL+7eQ1NyC+R1iHaCgvEN34EYz+yZsH0JQPK34HHYjgi+1wcA9FpRhwcy+V1CltBcwKdxePeDrmG0UF++bQfCFVi6SpgItgIlmVjz73dNmtiV8vD/BlwlmNllSa0ktCRLoQOBL4G7gbEkdgO/NbF3MZxPrRTPbBGyStAJoT1DUMpkvzGxmhPf3R0knA2uB483MJCX8HYWPJ1hw1AdBGZcrFcyv8KyZfSZpf2C8mf0UfkbPAgcQ1E5LFlMvSdcR7AA0IyihUx6Jfo+J/h76hDEsDJd5GPgdP//fKK7v9gnQLPybXCtpo4JrQ0PCfx+HyzUj+Ht/G7hF0k0EOzpvlzP+Ws0TRg0iqTXB3m0vSUbwpWmSRpnZRklTgMMI9r6fKO5GsJf3aql1HURwhBH7fDDQ38zWh+tqROJy7sWywuU3pFgGgmsYwyXtBrwjaXz4ZSNgpJl9Wio2EV8yXsBcM+ufZBubwp9biPZ3PRfoCzwHYGb7hkl1eMwyP8U8TlbW/i2CL6qOwJUER3rHEnzxJLMp5nGUeEsvn+yU1O1mVnpQQcLfUZhAtr4/M3s8TJpHAK9K+i2pf/fJYnoIONrMZkn6DcERZnkk+j0m+3uIsp6iUrEWhesVcIOZ3Vu6o6S9CY5wbpA00cyuiR5+7ebXMGqWY4H/mFknM+tsZjsDXxDs/UJwxHE6wV5gcYJ4FThPQSltJO0mqWmCdbcEVofJogfBtKEAHwIHSmql4OLoyJg+EwmuBRCuOzdV8OHe4A3AZTGxXRgmCCTtFbPec8PtIWl74FOgraT+YVu2pD1SbY9gT7t5ktfuBH4jab+YtlTn298CTgq3fRCw0sx+NLOlBKeOupnZYoLBCJfwc8JIFUNViPQ7krQLsNjM/kWwd96b4D0fLalJ+DdzDKkTIQTv9evw7+2kSogfEv89LAA6S+oaLnMK8GY51vkqcIaCa4JI6iCpnaSdgPVm9ihwC8FOhQt5wqhZTgDGl2obB5wYPp5IcHrkNQumj4Vg6sZ5wEeS5gD3kniP9hWgfnjq6FrgAwAzW0ZwrWEq8Fq4rh/CPhcBeeFFw3nAuXFrjXcPMFBSl3A72cDsMLZrY2L+KmyfBZwYvp9jCS5AzyK4eL5f3NpLeoPgdEzcRe/wtNjxBHuRiyS9F67/30nWNbr4vQI3AqfFvDaV4PoLBF+oHQgSR8oYqkjU39HxwBwFs9v1INgx+YjgiOFDgvc41sw+TtK/2F/CZSdReaXIE/09bCTYOXpa0icERw73RF2hmU0kuL7zftj/GYJktyfwYfg5XElwHcaFvFqtK5OkZuH5+PoECesBMyuduJxztZwfYbgoRod7XHMIToH9L8PxOOcywI8wnHPOReJHGM455yLxhOGccy4STxjOOeci8YThnHMuEk8YzjnnIvl/Uh/5sm7ls5YAAAAASUVORK5CYII=\n",
=======
      "image/png": "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\n",
>>>>>>> 49cab5fb83f54878f6c064202355fd048df1be83
      "text/plain": [
       "<Figure size 432x288 with 1 Axes>"
      ]
     },
     "metadata": {
      "needs_background": "light"
     },
     "output_type": "display_data"
    }
   ],
   "source": [
    "ax = df.plot(x=feature, y=target, kind='scatter', title='sklearn LinearRegression')\n",
    "df.plot(x=feature, y='Prediction', kind='line', ax=ax);"
   ]
  },
  {
   "cell_type": "code",
<<<<<<< HEAD
   "execution_count": 42,
=======
   "execution_count": 48,
>>>>>>> 49cab5fb83f54878f6c064202355fd048df1be83
   "metadata": {},
   "outputs": [],
   "source": [
    "df['Error'] = df['Prediction'] - y"
   ]
  },
  {
   "cell_type": "code",
<<<<<<< HEAD
   "execution_count": 43,
=======
   "execution_count": 49,
>>>>>>> 49cab5fb83f54878f6c064202355fd048df1be83
   "metadata": {},
   "outputs": [],
   "source": [
    "df['Absolute Error'] = df['Error'].abs()\n",
    "df['Square Error'] = df['Error'] ** 2"
   ]
  },
  {
   "cell_type": "code",
<<<<<<< HEAD
   "execution_count": 44,
=======
   "execution_count": 50,
>>>>>>> 49cab5fb83f54878f6c064202355fd048df1be83
   "metadata": {},
   "outputs": [
    {
     "data": {
      "text/plain": [
<<<<<<< HEAD
       "12.392042143389563"
      ]
     },
     "execution_count": 44,
=======
       "12.392042143389562"
      ]
     },
     "execution_count": 50,
>>>>>>> 49cab5fb83f54878f6c064202355fd048df1be83
     "metadata": {},
     "output_type": "execute_result"
    }
   ],
   "source": [
    "df['Square Error'].mean()"
   ]
  },
  {
   "cell_type": "code",
<<<<<<< HEAD
   "execution_count": 45,
=======
   "execution_count": 51,
>>>>>>> 49cab5fb83f54878f6c064202355fd048df1be83
   "metadata": {},
   "outputs": [
    {
     "data": {
      "text/plain": [
<<<<<<< HEAD
       "12.392042143389563"
      ]
     },
     "execution_count": 45,
=======
       "12.39204214338956"
      ]
     },
     "execution_count": 51,
>>>>>>> 49cab5fb83f54878f6c064202355fd048df1be83
     "metadata": {},
     "output_type": "execute_result"
    }
   ],
   "source": [
    "mean_squared_error(y_true=y, y_pred=model.predict(X))"
   ]
  },
  {
   "cell_type": "code",
<<<<<<< HEAD
   "execution_count": 46,
=======
   "execution_count": 52,
>>>>>>> 49cab5fb83f54878f6c064202355fd048df1be83
   "metadata": {},
   "outputs": [
    {
     "data": {
      "text/plain": [
<<<<<<< HEAD
       "3.520233251276052"
      ]
     },
     "execution_count": 46,
=======
       "3.5202332512760512"
      ]
     },
     "execution_count": 52,
>>>>>>> 49cab5fb83f54878f6c064202355fd048df1be83
     "metadata": {},
     "output_type": "execute_result"
    }
   ],
   "source": [
    "np.sqrt(mean_squared_error(y, model.predict(X)))"
   ]
  },
  {
   "cell_type": "code",
<<<<<<< HEAD
   "execution_count": 47,
=======
   "execution_count": 53,
>>>>>>> 49cab5fb83f54878f6c064202355fd048df1be83
   "metadata": {},
   "outputs": [
    {
     "data": {
      "text/plain": [
       "0.5798462099485426"
      ]
     },
<<<<<<< HEAD
     "execution_count": 47,
=======
     "execution_count": 53,
>>>>>>> 49cab5fb83f54878f6c064202355fd048df1be83
     "metadata": {},
     "output_type": "execute_result"
    }
   ],
   "source": [
    "model.score(X, y)"
   ]
  },
  {
   "cell_type": "code",
<<<<<<< HEAD
   "execution_count": 48,
=======
   "execution_count": 54,
>>>>>>> 49cab5fb83f54878f6c064202355fd048df1be83
   "metadata": {},
   "outputs": [
    {
     "data": {
      "text/plain": [
       "0.5798462099485426"
      ]
     },
<<<<<<< HEAD
     "execution_count": 48,
=======
     "execution_count": 54,
>>>>>>> 49cab5fb83f54878f6c064202355fd048df1be83
     "metadata": {},
     "output_type": "execute_result"
    }
   ],
   "source": [
    "r2_score(y, model.predict(X))"
   ]
  },
  {
   "cell_type": "markdown",
   "metadata": {},
   "source": [
    "### Statsmodels"
   ]
  },
  {
   "cell_type": "markdown",
   "metadata": {},
   "source": [
    "https://www.statsmodels.org/dev/examples/notebooks/generated/ols.html"
   ]
  },
  {
   "cell_type": "code",
   "execution_count": 57,
   "metadata": {},
   "outputs": [
    {
     "data": {
      "text/html": [
       "<div>\n",
       "<style scoped>\n",
       "    .dataframe tbody tr th:only-of-type {\n",
       "        vertical-align: middle;\n",
       "    }\n",
       "\n",
       "    .dataframe tbody tr th {\n",
       "        vertical-align: top;\n",
       "    }\n",
       "\n",
       "    .dataframe thead th {\n",
       "        text-align: right;\n",
       "    }\n",
       "</style>\n",
       "<table border=\"1\" class=\"dataframe\">\n",
       "  <thead>\n",
       "    <tr style=\"text-align: right;\">\n",
       "      <th></th>\n",
       "      <th>Average Recent Growth in Personal Incomes</th>\n",
       "    </tr>\n",
       "  </thead>\n",
       "  <tbody>\n",
       "    <tr>\n",
       "      <th>0</th>\n",
       "      <td>2.40</td>\n",
       "    </tr>\n",
       "    <tr>\n",
       "      <th>1</th>\n",
       "      <td>2.89</td>\n",
       "    </tr>\n",
       "    <tr>\n",
       "      <th>2</th>\n",
       "      <td>0.85</td>\n",
       "    </tr>\n",
       "    <tr>\n",
       "      <th>3</th>\n",
       "      <td>4.21</td>\n",
       "    </tr>\n",
       "    <tr>\n",
       "      <th>4</th>\n",
       "      <td>3.02</td>\n",
       "    </tr>\n",
       "    <tr>\n",
       "      <th>5</th>\n",
       "      <td>3.62</td>\n",
       "    </tr>\n",
       "    <tr>\n",
       "      <th>6</th>\n",
       "      <td>1.08</td>\n",
       "    </tr>\n",
       "    <tr>\n",
       "      <th>7</th>\n",
       "      <td>-0.39</td>\n",
       "    </tr>\n",
       "    <tr>\n",
       "      <th>8</th>\n",
       "      <td>3.86</td>\n",
       "    </tr>\n",
       "    <tr>\n",
       "      <th>9</th>\n",
       "      <td>2.27</td>\n",
       "    </tr>\n",
       "    <tr>\n",
       "      <th>10</th>\n",
       "      <td>0.38</td>\n",
       "    </tr>\n",
       "    <tr>\n",
       "      <th>11</th>\n",
       "      <td>1.04</td>\n",
       "    </tr>\n",
       "    <tr>\n",
       "      <th>12</th>\n",
       "      <td>2.36</td>\n",
       "    </tr>\n",
       "    <tr>\n",
       "      <th>13</th>\n",
       "      <td>1.72</td>\n",
       "    </tr>\n",
       "    <tr>\n",
       "      <th>14</th>\n",
       "      <td>0.10</td>\n",
       "    </tr>\n",
       "    <tr>\n",
       "      <th>15</th>\n",
       "      <td>0.95</td>\n",
       "    </tr>\n",
       "  </tbody>\n",
       "</table>\n",
       "</div>"
      ],
      "text/plain": [
       "    Average Recent Growth in Personal Incomes\n",
       "0                                        2.40\n",
       "1                                        2.89\n",
       "2                                        0.85\n",
       "3                                        4.21\n",
       "4                                        3.02\n",
       "5                                        3.62\n",
       "6                                        1.08\n",
       "7                                       -0.39\n",
       "8                                        3.86\n",
       "9                                        2.27\n",
       "10                                       0.38\n",
       "11                                       1.04\n",
       "12                                       2.36\n",
       "13                                       1.72\n",
       "14                                       0.10\n",
       "15                                       0.95"
      ]
     },
     "execution_count": 57,
     "metadata": {},
     "output_type": "execute_result"
    }
   ],
   "source": [
    "X"
   ]
  },
  {
   "cell_type": "code",
   "execution_count": 58,
   "metadata": {},
   "outputs": [
    {
     "data": {
      "text/html": [
       "<div>\n",
       "<style scoped>\n",
       "    .dataframe tbody tr th:only-of-type {\n",
       "        vertical-align: middle;\n",
       "    }\n",
       "\n",
       "    .dataframe tbody tr th {\n",
       "        vertical-align: top;\n",
       "    }\n",
       "\n",
       "    .dataframe thead th {\n",
       "        text-align: right;\n",
       "    }\n",
       "</style>\n",
       "<table border=\"1\" class=\"dataframe\">\n",
       "  <thead>\n",
       "    <tr style=\"text-align: right;\">\n",
       "      <th></th>\n",
       "      <th>const</th>\n",
       "      <th>Average Recent Growth in Personal Incomes</th>\n",
       "    </tr>\n",
       "  </thead>\n",
       "  <tbody>\n",
       "    <tr>\n",
       "      <th>0</th>\n",
       "      <td>1.0</td>\n",
       "      <td>2.40</td>\n",
       "    </tr>\n",
       "    <tr>\n",
       "      <th>1</th>\n",
       "      <td>1.0</td>\n",
       "      <td>2.89</td>\n",
       "    </tr>\n",
       "    <tr>\n",
       "      <th>2</th>\n",
       "      <td>1.0</td>\n",
       "      <td>0.85</td>\n",
       "    </tr>\n",
       "    <tr>\n",
       "      <th>3</th>\n",
       "      <td>1.0</td>\n",
       "      <td>4.21</td>\n",
       "    </tr>\n",
       "    <tr>\n",
       "      <th>4</th>\n",
       "      <td>1.0</td>\n",
       "      <td>3.02</td>\n",
       "    </tr>\n",
       "    <tr>\n",
       "      <th>5</th>\n",
       "      <td>1.0</td>\n",
       "      <td>3.62</td>\n",
       "    </tr>\n",
       "    <tr>\n",
       "      <th>6</th>\n",
       "      <td>1.0</td>\n",
       "      <td>1.08</td>\n",
       "    </tr>\n",
       "    <tr>\n",
       "      <th>7</th>\n",
       "      <td>1.0</td>\n",
       "      <td>-0.39</td>\n",
       "    </tr>\n",
       "    <tr>\n",
       "      <th>8</th>\n",
       "      <td>1.0</td>\n",
       "      <td>3.86</td>\n",
       "    </tr>\n",
       "    <tr>\n",
       "      <th>9</th>\n",
       "      <td>1.0</td>\n",
       "      <td>2.27</td>\n",
       "    </tr>\n",
       "    <tr>\n",
       "      <th>10</th>\n",
       "      <td>1.0</td>\n",
       "      <td>0.38</td>\n",
       "    </tr>\n",
       "    <tr>\n",
       "      <th>11</th>\n",
       "      <td>1.0</td>\n",
       "      <td>1.04</td>\n",
       "    </tr>\n",
       "    <tr>\n",
       "      <th>12</th>\n",
       "      <td>1.0</td>\n",
       "      <td>2.36</td>\n",
       "    </tr>\n",
       "    <tr>\n",
       "      <th>13</th>\n",
       "      <td>1.0</td>\n",
       "      <td>1.72</td>\n",
       "    </tr>\n",
       "    <tr>\n",
       "      <th>14</th>\n",
       "      <td>1.0</td>\n",
       "      <td>0.10</td>\n",
       "    </tr>\n",
       "    <tr>\n",
       "      <th>15</th>\n",
       "      <td>1.0</td>\n",
       "      <td>0.95</td>\n",
       "    </tr>\n",
       "  </tbody>\n",
       "</table>\n",
       "</div>"
      ],
      "text/plain": [
       "    const  Average Recent Growth in Personal Incomes\n",
       "0     1.0                                       2.40\n",
       "1     1.0                                       2.89\n",
       "2     1.0                                       0.85\n",
       "3     1.0                                       4.21\n",
       "4     1.0                                       3.02\n",
       "5     1.0                                       3.62\n",
       "6     1.0                                       1.08\n",
       "7     1.0                                      -0.39\n",
       "8     1.0                                       3.86\n",
       "9     1.0                                       2.27\n",
       "10    1.0                                       0.38\n",
       "11    1.0                                       1.04\n",
       "12    1.0                                       2.36\n",
       "13    1.0                                       1.72\n",
       "14    1.0                                       0.10\n",
       "15    1.0                                       0.95"
      ]
     },
     "execution_count": 58,
     "metadata": {},
     "output_type": "execute_result"
    }
   ],
   "source": [
    "sm.add_constant(X)"
   ]
  },
  {
   "cell_type": "code",
   "execution_count": 55,
   "metadata": {},
   "outputs": [
    {
     "name": "stdout",
     "output_type": "stream",
     "text": [
      "                                OLS Regression Results                                \n",
      "======================================================================================\n",
      "Dep. Variable:     Incumbent Party Vote Share   R-squared:                       0.580\n",
      "Model:                                    OLS   Adj. R-squared:                  0.550\n",
      "Method:                         Least Squares   F-statistic:                     19.32\n",
      "Date:                        Mon, 29 Apr 2019   Prob (F-statistic):           0.000610\n",
      "Time:                                12:42:56   Log-Likelihood:                -42.839\n",
      "No. Observations:                          16   AIC:                             89.68\n",
      "Df Residuals:                              14   BIC:                             91.22\n",
      "Df Model:                                   1                                         \n",
      "Covariance Type:                    nonrobust                                         \n",
      "=============================================================================================================\n",
      "                                                coef    std err          t      P>|t|      [0.025      0.975]\n",
      "-------------------------------------------------------------------------------------------------------------\n",
      "const                                        46.2476      1.622     28.514      0.000      42.769      49.726\n",
      "Average Recent Growth in Personal Incomes     3.0605      0.696      4.396      0.001       1.567       4.554\n",
      "==============================================================================\n",
      "Omnibus:                        5.392   Durbin-Watson:                   2.379\n",
      "Prob(Omnibus):                  0.067   Jarque-Bera (JB):                2.828\n",
      "Skew:                          -0.961   Prob(JB):                        0.243\n",
      "Kurtosis:                       3.738   Cond. No.                         4.54\n",
      "==============================================================================\n",
      "\n",
      "Warnings:\n",
      "[1] Standard Errors assume that the covariance matrix of the errors is correctly specified.\n"
     ]
    },
    {
     "name": "stderr",
     "output_type": "stream",
     "text": [
      "/anaconda3/lib/python3.7/site-packages/scipy/stats/stats.py:1416: UserWarning: kurtosistest only valid for n>=20 ... continuing anyway, n=16\n",
      "  \"anyway, n=%i\" % int(n))\n"
     ]
    }
   ],
   "source": [
    "model = sm.OLS(y, sm.add_constant(X))\n",
    "results = model.fit()\n",
    "print(results.summary())"
   ]
  },
  {
   "cell_type": "markdown",
   "metadata": {},
   "source": [
    "# The Anatomy of Linear Regression\n",
    "\n",
    "- Intercept: The $b$ value in our line equation $y=mx+b$\n",
    "- Slope: The $m$ value in our line equation $y=mx+b$. These two values together define our regression line.\n",
    "\n",
    "![Slope and Intercept](http://www.ryanleeallred.com/wp-content/uploads/2018/08/linear-regression-diagram.png)\n",
    "\n",
    "- $\\hat{y}$ : A prediction\n",
    "- Line of Best Fit (Regression Line)\n",
    "- Predicted (fitted) Values: Points on our regression line\n",
    "- Observed Values: Points from our dataset\n",
    "- Error: The distance between predicted and observed values.\n",
    "\n",
    "![Residual Error](http://www.ryanleeallred.com/wp-content/uploads/2018/08/residual-or-error.gif)\n"
   ]
  },
  {
   "cell_type": "markdown",
   "metadata": {},
   "source": [
    "# More Formal Notation\n",
    "\n",
    "![Simple Linear Regression](http://www.ryanleeallred.com/wp-content/uploads/2018/08/simple-regression-formula.png)\n",
    "\n",
    "We have talked about a line of regression being represented like a regular line $y=mx+b$ but as we get to more complicated versions we're going to need to extend this equation. So lets establish the proper terminology.\n",
    "\n",
    "**X** - Independent Variable, predictor variable, explanatory variable, regressor, covariate\n",
    "\n",
    "**Y** - Response variable, predicted variable, measured vairable, explained variable, outcome variable\n",
    "\n",
    "$\\beta_0$ - \"Beta Naught\" or \"Beta Zero\", the intercept value. This is how much of y would exist if X were zero. This is sometimes represented by the letter \"a\" but I hate that. So it's \"Beta 0\" during my lecture.\n",
    "\n",
    "$\\beta_1$ - \"Beta One\" The primary coefficient of interest. This values is the slope of the line that is estimated by \"minimizing the sum of the squared errors/residuals\" - We'll get to that. \n",
    "\n",
    "$\\epsilon$ - \"Epsilon\" The \"error term\", random noise, things outside of our model that affect y."
   ]
  },
  {
   "cell_type": "markdown",
   "metadata": {},
   "source": [
    "# How Does it do it?\n",
    "\n",
    "## Minimizing the Sum of the Squared Error\n",
    "\n",
    "The most common method of estimating our $\\beta$ parameters  is what's known as \"Ordinary Least Squares\" (OLS). (There are different methods of arriving at a line of best fit). OLS estimates the parameters that minimize the squared distance between each point in our dataset and our line of best fit. \n",
    "\n",
    "\\begin{align}\n",
    "SSE = \\sum(y_i - \\hat{y})^2\n",
    "\\end{align}\n",
    "\n"
   ]
  },
  {
   "cell_type": "markdown",
   "metadata": {},
   "source": [
    "## Linear Algebra!\n",
    "\n",
    "The same result that is found by minimizing the sum of the squared errors can be also found through a linear algebra process known as the \"Least Squares Solution:\"\n",
    "\n",
    "![OLS Regression](http://www.ryanleeallred.com/wp-content/uploads/2018/08/OLS-linear-algebra.png)\n",
    "\n",
    "Before we can work with this equation in its linear algebra form we have to understand how to set up the matrices that are involved in this equation. "
   ]
  },
  {
   "cell_type": "markdown",
   "metadata": {},
   "source": [
    "### The $\\beta$ vector\n",
    "\n",
    "The $\\beta$ vector represents all the parameters that we are trying to estimate, our $y$ vector and $X$ matrix values are full of data from our dataset. The $\\beta$ vector holds the variables that we are solving for: $\\beta_0$ and $\\beta_1$\n",
    "\n",
    "Now that we have all of the necessary parts we can set them up in the following equation:\n",
    "\n",
    "\\begin{align}\n",
    "y = X \\beta + \\epsilon\n",
    "\\end{align}\n",
    "\n",
    "Since our $\\epsilon$ value represents **random** error we can assume that it will equal zero on average.\n",
    "\n",
    "\\begin{align}\n",
    "y = X \\beta\n",
    "\\end{align}\n",
    "\n",
    "The objective now is to isolate the $\\beta$ matrix. We can do this by pre-multiplying both sides by \"X transpose\" $X^{T}$.\n",
    "\n",
    "\\begin{align}\n",
    "X^{T}y =  X^{T}X \\beta\n",
    "\\end{align}\n",
    "\n",
    "Since anything times its transpose will result in a square matrix, if that matrix is then an invertible matrix, then we should be able to multiply both sides by its inverse to remove it from the right hand side. (We'll talk tomorrow about situations that could lead to $X^{T}X$ not being invertible.)\n",
    "\n",
    "\\begin{align}\n",
    "(X^{T}X)^{-1}X^{T}y =  (X^{T}X)^{-1}X^{T}X \\beta\n",
    "\\end{align}\n",
    "\n",
    "Since any matrix multiplied by its inverse results in the identity matrix, and anything multiplied by the identity matrix is itself, we are left with only $\\beta$ on the right hand side:\n",
    "\n",
    "\\begin{align}\n",
    "(X^{T}X)^{-1}X^{T}y = \\hat{\\beta}\n",
    "\\end{align}\n",
    "\n",
    "We will now call it \"beta hat\" $\\hat{\\beta}$ because it now represents our estimated values for $\\beta_0$ and $\\beta_1$\n",
    "\n",
    "### Lets calculate our $\\beta$ coefficients with numpy!"
   ]
  },
  {
   "cell_type": "code",
   "execution_count": 59,
   "metadata": {},
   "outputs": [
    {
     "name": "stdout",
     "output_type": "stream",
     "text": [
      "X\n",
      "[[ 1.    2.4 ]\n",
      " [ 1.    2.89]\n",
      " [ 1.    0.85]\n",
      " [ 1.    4.21]\n",
      " [ 1.    3.02]\n",
      " [ 1.    3.62]\n",
      " [ 1.    1.08]\n",
      " [ 1.   -0.39]\n",
      " [ 1.    3.86]\n",
      " [ 1.    2.27]\n",
      " [ 1.    0.38]\n",
      " [ 1.    1.04]\n",
      " [ 1.    2.36]\n",
      " [ 1.    1.72]\n",
      " [ 1.    0.1 ]\n",
      " [ 1.    0.95]]\n",
      "y\n",
      "[[44.6 ]\n",
      " [57.76]\n",
      " [49.91]\n",
      " [61.34]\n",
      " [49.6 ]\n",
      " [61.79]\n",
      " [48.95]\n",
      " [44.7 ]\n",
      " [59.17]\n",
      " [53.94]\n",
      " [46.55]\n",
      " [54.74]\n",
      " [50.27]\n",
      " [51.24]\n",
      " [46.32]\n",
      " [52.  ]]\n",
      "X Transpose\n",
      "[[ 1.    1.    1.    1.    1.    1.    1.    1.    1.    1.    1.    1.\n",
      "   1.    1.    1.    1.  ]\n",
      " [ 2.4   2.89  0.85  4.21  3.02  3.62  1.08 -0.39  3.86  2.27  0.38  1.04\n",
      "   2.36  1.72  0.1   0.95]]\n",
      "X Transpose X\n",
      "[[16.    30.36 ]\n",
      " [30.36  86.821]]\n",
      "X Transpose X Inverse\n",
      "[[ 0.18575056 -0.06495418]\n",
      " [-0.06495418  0.03423145]]\n",
      "X Transpose y\n",
      "[[ 832.88  ]\n",
      " [1669.7967]]\n",
      "Beta Hat\n",
      "[[46.24764802]\n",
      " [ 3.06052805]]\n"
     ]
    }
   ],
   "source": [
    "X = sm.add_constant(df[feature]).values\n",
    "print('X')\n",
    "print(X)\n",
    "\n",
    "y = df[target].values[:, np.newaxis]\n",
    "print('y')\n",
    "print(y)\n",
    "\n",
    "X_transpose = X.T\n",
    "print('X Transpose')\n",
    "print(X_transpose)\n",
    "\n",
    "X_transpose_X = X_transpose @ X\n",
    "print('X Transpose X')\n",
    "print(X_transpose_X)\n",
    "\n",
    "X_transpose_X_inverse = np.linalg.inv(X_transpose_X)\n",
    "print('X Transpose X Inverse')\n",
    "print(X_transpose_X_inverse)\n",
    "\n",
    "X_transpose_y = X_transpose @ y\n",
    "print('X Transpose y')\n",
    "print(X_transpose_y)\n",
    "\n",
    "beta_hat = X_transpose_X_inverse @ X_transpose_y\n",
    "print('Beta Hat')\n",
    "print(beta_hat)"
   ]
  },
  {
   "cell_type": "markdown",
   "metadata": {},
   "source": [
    "# Multiple Regression\n",
    "\n",
    "Simple or bivariate linear regression involves a single $x$ variable and a single $y$ variable. However, we can have many $x$ variables. A linear regression model that involves multiple x variables is known as **Multiple** Regression - NOT MULTIVARIATE!\n",
    "\n",
    "![Multiple Regression](http://www.ryanleeallred.com/wp-content/uploads/2018/08/multiple-regression-model.png)"
   ]
  },
  {
   "cell_type": "code",
<<<<<<< HEAD
   "execution_count": 49,
=======
   "execution_count": 60,
>>>>>>> 49cab5fb83f54878f6c064202355fd048df1be83
   "metadata": {},
   "outputs": [
    {
     "data": {
      "text/html": [
       "<div>\n",
       "<style scoped>\n",
       "    .dataframe tbody tr th:only-of-type {\n",
       "        vertical-align: middle;\n",
       "    }\n",
       "\n",
       "    .dataframe tbody tr th {\n",
       "        vertical-align: top;\n",
       "    }\n",
       "\n",
       "    .dataframe thead th {\n",
       "        text-align: right;\n",
       "    }\n",
       "</style>\n",
       "<table border=\"1\" class=\"dataframe\">\n",
       "  <thead>\n",
       "    <tr style=\"text-align: right;\">\n",
       "      <th></th>\n",
       "      <th>Year</th>\n",
       "      <th>Incumbent Party Candidate</th>\n",
       "      <th>Other Candidate</th>\n",
       "      <th>Incumbent Party Vote Share</th>\n",
       "      <th>Prediction</th>\n",
       "      <th>Error</th>\n",
       "      <th>Absolute Error</th>\n",
       "      <th>Average Recent Growth in Personal Incomes</th>\n",
       "      <th>Square Error</th>\n",
       "    </tr>\n",
       "  </thead>\n",
       "  <tbody>\n",
       "    <tr>\n",
       "      <th>0</th>\n",
       "      <td>1952</td>\n",
       "      <td>Stevenson</td>\n",
       "      <td>Eisenhower</td>\n",
       "      <td>44.60</td>\n",
       "      <td>53.592915</td>\n",
       "      <td>8.992915</td>\n",
       "      <td>8.992915</td>\n",
       "      <td>2.40</td>\n",
       "      <td>80.872526</td>\n",
       "    </tr>\n",
       "    <tr>\n",
       "      <th>4</th>\n",
       "      <td>1968</td>\n",
       "      <td>Humphrey</td>\n",
       "      <td>Nixon</td>\n",
       "      <td>49.60</td>\n",
       "      <td>55.490443</td>\n",
       "      <td>5.890443</td>\n",
       "      <td>5.890443</td>\n",
       "      <td>3.02</td>\n",
       "      <td>34.697316</td>\n",
       "    </tr>\n",
       "    <tr>\n",
       "      <th>11</th>\n",
       "      <td>1996</td>\n",
       "      <td>Clinton</td>\n",
       "      <td>Dole</td>\n",
       "      <td>54.74</td>\n",
       "      <td>49.430597</td>\n",
       "      <td>-5.309403</td>\n",
       "      <td>5.309403</td>\n",
       "      <td>1.04</td>\n",
       "      <td>28.189758</td>\n",
       "    </tr>\n",
       "    <tr>\n",
       "      <th>5</th>\n",
       "      <td>1972</td>\n",
       "      <td>Nixon</td>\n",
       "      <td>McGovern</td>\n",
       "      <td>61.79</td>\n",
       "      <td>57.326760</td>\n",
       "      <td>-4.463240</td>\n",
       "      <td>4.463240</td>\n",
       "      <td>3.62</td>\n",
       "      <td>19.920515</td>\n",
       "    </tr>\n",
       "    <tr>\n",
       "      <th>12</th>\n",
       "      <td>2000</td>\n",
       "      <td>Gore</td>\n",
       "      <td>Bush, Jr.</td>\n",
       "      <td>50.27</td>\n",
       "      <td>53.470494</td>\n",
       "      <td>3.200494</td>\n",
       "      <td>3.200494</td>\n",
       "      <td>2.36</td>\n",
       "      <td>10.243163</td>\n",
       "    </tr>\n",
       "    <tr>\n",
       "      <th>15</th>\n",
       "      <td>2012</td>\n",
       "      <td>Obama</td>\n",
       "      <td>Romney</td>\n",
       "      <td>52.00</td>\n",
       "      <td>49.155150</td>\n",
       "      <td>-2.844850</td>\n",
       "      <td>2.844850</td>\n",
       "      <td>0.95</td>\n",
       "      <td>8.093173</td>\n",
       "    </tr>\n",
       "    <tr>\n",
       "      <th>1</th>\n",
       "      <td>1956</td>\n",
       "      <td>Eisenhower</td>\n",
       "      <td>Stevenson</td>\n",
       "      <td>57.76</td>\n",
       "      <td>55.092574</td>\n",
       "      <td>-2.667426</td>\n",
       "      <td>2.667426</td>\n",
       "      <td>2.89</td>\n",
       "      <td>7.115161</td>\n",
       "    </tr>\n",
       "    <tr>\n",
       "      <th>3</th>\n",
       "      <td>1964</td>\n",
       "      <td>Johnson</td>\n",
       "      <td>Goldwater</td>\n",
       "      <td>61.34</td>\n",
       "      <td>59.132471</td>\n",
       "      <td>-2.207529</td>\n",
       "      <td>2.207529</td>\n",
       "      <td>4.21</td>\n",
       "      <td>4.873184</td>\n",
       "    </tr>\n",
       "    <tr>\n",
       "      <th>8</th>\n",
       "      <td>1984</td>\n",
       "      <td>Reagan</td>\n",
       "      <td>Mondale</td>\n",
       "      <td>59.17</td>\n",
       "      <td>58.061286</td>\n",
       "      <td>-1.108714</td>\n",
       "      <td>1.108714</td>\n",
       "      <td>3.86</td>\n",
       "      <td>1.229246</td>\n",
       "    </tr>\n",
       "    <tr>\n",
       "      <th>2</th>\n",
       "      <td>1960</td>\n",
       "      <td>Nixon</td>\n",
       "      <td>Kennedy</td>\n",
       "      <td>49.91</td>\n",
       "      <td>48.849097</td>\n",
       "      <td>-1.060903</td>\n",
       "      <td>1.060903</td>\n",
       "      <td>0.85</td>\n",
       "      <td>1.125515</td>\n",
       "    </tr>\n",
       "    <tr>\n",
       "      <th>10</th>\n",
       "      <td>1992</td>\n",
       "      <td>Bush, Sr.</td>\n",
       "      <td>Clinton</td>\n",
       "      <td>46.55</td>\n",
       "      <td>47.410649</td>\n",
       "      <td>0.860649</td>\n",
       "      <td>0.860649</td>\n",
       "      <td>0.38</td>\n",
       "      <td>0.740716</td>\n",
       "    </tr>\n",
       "    <tr>\n",
       "      <th>9</th>\n",
       "      <td>1988</td>\n",
       "      <td>Bush, Sr.</td>\n",
       "      <td>Dukakis</td>\n",
       "      <td>53.94</td>\n",
       "      <td>53.195047</td>\n",
       "      <td>-0.744953</td>\n",
       "      <td>0.744953</td>\n",
       "      <td>2.27</td>\n",
       "      <td>0.554955</td>\n",
       "    </tr>\n",
       "    <tr>\n",
       "      <th>6</th>\n",
       "      <td>1976</td>\n",
       "      <td>Ford</td>\n",
       "      <td>Carter</td>\n",
       "      <td>48.95</td>\n",
       "      <td>49.553018</td>\n",
       "      <td>0.603018</td>\n",
       "      <td>0.603018</td>\n",
       "      <td>1.08</td>\n",
       "      <td>0.363631</td>\n",
       "    </tr>\n",
       "    <tr>\n",
       "      <th>7</th>\n",
       "      <td>1980</td>\n",
       "      <td>Carter</td>\n",
       "      <td>Reagan</td>\n",
       "      <td>44.70</td>\n",
       "      <td>45.054042</td>\n",
       "      <td>0.354042</td>\n",
       "      <td>0.354042</td>\n",
       "      <td>-0.39</td>\n",
       "      <td>0.125346</td>\n",
       "    </tr>\n",
       "    <tr>\n",
       "      <th>13</th>\n",
       "      <td>2004</td>\n",
       "      <td>Bush, Jr.</td>\n",
       "      <td>Kerry</td>\n",
       "      <td>51.24</td>\n",
       "      <td>51.511756</td>\n",
       "      <td>0.271756</td>\n",
       "      <td>0.271756</td>\n",
       "      <td>1.72</td>\n",
       "      <td>0.073851</td>\n",
       "    </tr>\n",
       "    <tr>\n",
       "      <th>14</th>\n",
       "      <td>2008</td>\n",
       "      <td>McCain</td>\n",
       "      <td>Obama</td>\n",
       "      <td>46.32</td>\n",
       "      <td>46.553701</td>\n",
       "      <td>0.233701</td>\n",
       "      <td>0.233701</td>\n",
       "      <td>0.10</td>\n",
       "      <td>0.054616</td>\n",
       "    </tr>\n",
       "  </tbody>\n",
       "</table>\n",
       "</div>"
      ],
      "text/plain": [
       "    Year Incumbent Party Candidate Other Candidate  \\\n",
       "0   1952                 Stevenson      Eisenhower   \n",
       "4   1968                  Humphrey           Nixon   \n",
       "11  1996                   Clinton            Dole   \n",
       "5   1972                     Nixon        McGovern   \n",
       "12  2000                      Gore       Bush, Jr.   \n",
       "15  2012                     Obama          Romney   \n",
       "1   1956                Eisenhower       Stevenson   \n",
       "3   1964                   Johnson       Goldwater   \n",
       "8   1984                    Reagan         Mondale   \n",
       "2   1960                     Nixon         Kennedy   \n",
       "10  1992                 Bush, Sr.         Clinton   \n",
       "9   1988                 Bush, Sr.         Dukakis   \n",
       "6   1976                      Ford          Carter   \n",
       "7   1980                    Carter          Reagan   \n",
       "13  2004                 Bush, Jr.           Kerry   \n",
       "14  2008                    McCain           Obama   \n",
       "\n",
       "    Incumbent Party Vote Share  Prediction     Error  Absolute Error  \\\n",
       "0                        44.60   53.592915  8.992915        8.992915   \n",
       "4                        49.60   55.490443  5.890443        5.890443   \n",
       "11                       54.74   49.430597 -5.309403        5.309403   \n",
       "5                        61.79   57.326760 -4.463240        4.463240   \n",
       "12                       50.27   53.470494  3.200494        3.200494   \n",
       "15                       52.00   49.155150 -2.844850        2.844850   \n",
       "1                        57.76   55.092574 -2.667426        2.667426   \n",
       "3                        61.34   59.132471 -2.207529        2.207529   \n",
       "8                        59.17   58.061286 -1.108714        1.108714   \n",
       "2                        49.91   48.849097 -1.060903        1.060903   \n",
       "10                       46.55   47.410649  0.860649        0.860649   \n",
       "9                        53.94   53.195047 -0.744953        0.744953   \n",
       "6                        48.95   49.553018  0.603018        0.603018   \n",
       "7                        44.70   45.054042  0.354042        0.354042   \n",
       "13                       51.24   51.511756  0.271756        0.271756   \n",
       "14                       46.32   46.553701  0.233701        0.233701   \n",
       "\n",
       "    Average Recent Growth in Personal Incomes  Square Error  \n",
       "0                                        2.40     80.872526  \n",
       "4                                        3.02     34.697316  \n",
       "11                                       1.04     28.189758  \n",
       "5                                        3.62     19.920515  \n",
       "12                                       2.36     10.243163  \n",
       "15                                       0.95      8.093173  \n",
       "1                                        2.89      7.115161  \n",
       "3                                        4.21      4.873184  \n",
       "8                                        3.86      1.229246  \n",
       "2                                        0.85      1.125515  \n",
       "10                                       0.38      0.740716  \n",
       "9                                        2.27      0.554955  \n",
       "6                                        1.08      0.363631  \n",
       "7                                       -0.39      0.125346  \n",
       "13                                       1.72      0.073851  \n",
       "14                                       0.10      0.054616  "
      ]
     },
<<<<<<< HEAD
     "execution_count": 49,
=======
     "execution_count": 60,
>>>>>>> 49cab5fb83f54878f6c064202355fd048df1be83
     "metadata": {},
     "output_type": "execute_result"
    }
   ],
   "source": [
    "df.sort_values(by='Square Error', ascending=False)"
   ]
  },
  {
   "cell_type": "code",
<<<<<<< HEAD
   "execution_count": 50,
=======
   "execution_count": 63,
>>>>>>> 49cab5fb83f54878f6c064202355fd048df1be83
   "metadata": {},
   "outputs": [],
   "source": [
    "\"\"\"\n",
    "Fatalities denotes the cumulative number of American military\n",
    "fatalities per millions of US population the in Korea, Vietnam,\n",
    "Iraq and Afghanistan wars during the presidential terms\n",
    "preceding the 1952, 1964, 1968, 1976 and 2004, 2008 and\n",
    "2012 elections.\n",
    "\n",
    "http://www.douglas-hibbs.com/HibbsArticles/HIBBS-PRESVOTE-SLIDES-MELBOURNE-Part1-2014-02-26.pdf\n",
    "\"\"\"\n",
    "\n",
    "columns = ['Year','US Military Fatalities per Million']\n",
    "\n",
    "data = [[1952,190],\n",
    "        [1956,  0],\n",
    "        [1960,  0],\n",
    "        [1964,  1],\n",
    "        [1968,146],\n",
    "        [1972,  0],\n",
    "        [1976,  2],\n",
    "        [1980,  0],\n",
    "        [1984,  0],\n",
    "        [1988,  0],\n",
    "        [1992,  0],\n",
    "        [1996,  0],\n",
    "        [2000,  0],\n",
    "        [2004,  4],\n",
    "        [2008, 14],\n",
    "        [2012,  5]]\n",
    "        \n",
    "deaths = pd.DataFrame(data=data, columns=columns)"
   ]
  },
  {
   "cell_type": "code",
<<<<<<< HEAD
   "execution_count": 51,
=======
   "execution_count": 64,
>>>>>>> 49cab5fb83f54878f6c064202355fd048df1be83
   "metadata": {},
   "outputs": [],
   "source": [
    "df = df.merge(deaths)"
   ]
  },
  {
   "cell_type": "code",
<<<<<<< HEAD
   "execution_count": 52,
   "metadata": {},
   "outputs": [
    {
     "name": "stderr",
     "output_type": "stream",
     "text": [
      "D:\\Miniconda\\envs\\JupyterLab\\lib\\site-packages\\numpy\\core\\fromnumeric.py:2389: FutureWarning: Method .ptp is deprecated and will be removed in a future version. Use numpy.ptp instead.\n",
      "  return ptp(axis=axis, out=out, **kwargs)\n"
     ]
    },
    {
=======
   "execution_count": 65,
   "metadata": {},
   "outputs": [
    {
>>>>>>> 49cab5fb83f54878f6c064202355fd048df1be83
     "name": "stdout",
     "output_type": "stream",
     "text": [
      "                                OLS Regression Results                                \n",
      "======================================================================================\n",
      "Dep. Variable:     Incumbent Party Vote Share   R-squared:                       0.871\n",
      "Model:                                    OLS   Adj. R-squared:                  0.851\n",
      "Method:                         Least Squares   F-statistic:                     43.77\n",
      "Date:                        Mon, 29 Apr 2019   Prob (F-statistic):           1.68e-06\n",
<<<<<<< HEAD
      "Time:                                17:01:56   Log-Likelihood:                -33.412\n",
=======
      "Time:                                12:57:54   Log-Likelihood:                -33.412\n",
>>>>>>> 49cab5fb83f54878f6c064202355fd048df1be83
      "No. Observations:                          16   AIC:                             72.82\n",
      "Df Residuals:                              13   BIC:                             75.14\n",
      "Df Model:                                   2                                         \n",
      "Covariance Type:                    nonrobust                                         \n",
      "=============================================================================================================\n",
      "                                                coef    std err          t      P>|t|      [0.025      0.975]\n",
      "-------------------------------------------------------------------------------------------------------------\n",
      "const                                        46.6621      0.937     49.806      0.000      44.638      48.686\n",
      "Average Recent Growth in Personal Incomes     3.4820      0.408      8.527      0.000       2.600       4.364\n",
      "US Military Fatalities per Million           -0.0537      0.010     -5.408      0.000      -0.075      -0.032\n",
      "==============================================================================\n",
      "Omnibus:                        2.475   Durbin-Watson:                   2.607\n",
      "Prob(Omnibus):                  0.290   Jarque-Bera (JB):                0.666\n",
      "Skew:                           0.096   Prob(JB):                        0.717\n",
      "Kurtosis:                       3.981   Cond. No.                         110.\n",
      "==============================================================================\n",
      "\n",
      "Warnings:\n",
      "[1] Standard Errors assume that the covariance matrix of the errors is correctly specified.\n"
     ]
    },
    {
     "name": "stderr",
     "output_type": "stream",
     "text": [
<<<<<<< HEAD
      "D:\\Miniconda\\envs\\JupyterLab\\lib\\site-packages\\scipy\\stats\\stats.py:1416: UserWarning: kurtosistest only valid for n>=20 ... continuing anyway, n=16\n",
=======
      "/anaconda3/lib/python3.7/site-packages/scipy/stats/stats.py:1416: UserWarning: kurtosistest only valid for n>=20 ... continuing anyway, n=16\n",
>>>>>>> 49cab5fb83f54878f6c064202355fd048df1be83
      "  \"anyway, n=%i\" % int(n))\n"
     ]
    }
   ],
   "source": [
    "features = ['Average Recent Growth in Personal Incomes', \n",
    "            'US Military Fatalities per Million']\n",
    "\n",
    "target = 'Incumbent Party Vote Share'\n",
    "\n",
    "X = df[features]\n",
    "y = df[target]\n",
    "\n",
    "model = sm.OLS(y, sm.add_constant(X))\n",
    "results = model.fit()\n",
    "print(results.summary())"
   ]
  },
  {
   "cell_type": "code",
   "execution_count": 66,
   "metadata": {},
   "outputs": [
    {
     "name": "stdout",
     "output_type": "stream",
     "text": [
      "Intercept: 46.662064098015115\n"
     ]
    },
    {
     "data": {
      "text/plain": [
       "Average Recent Growth in Personal Incomes    3.481956\n",
       "US Military Fatalities per Million          -0.053661\n",
       "dtype: float64"
      ]
     },
     "execution_count": 66,
     "metadata": {},
     "output_type": "execute_result"
    }
   ],
   "source": [
    "model = LinearRegression()\n",
    "model.fit(X, y)\n",
    "print('Intercept:', model.intercept_)\n",
    "pd.Series(model.coef_, features)"
   ]
  },
  {
   "cell_type": "code",
   "execution_count": 67,
   "metadata": {},
   "outputs": [
    {
     "data": {
      "text/plain": [
       "1.9528760602450586"
      ]
     },
     "execution_count": 67,
     "metadata": {},
     "output_type": "execute_result"
    }
   ],
   "source": [
    "np.sqrt(mean_squared_error(y, model.predict(X)))"
   ]
  },
  {
   "cell_type": "markdown",
   "metadata": {},
   "source": [
    "# Train / Test Split"
   ]
  },
  {
   "cell_type": "code",
   "execution_count": 68,
   "metadata": {},
   "outputs": [
    {
     "data": {
      "text/plain": [
       "((14, 2), (14,), (2, 2), (2,))"
      ]
     },
     "execution_count": 68,
     "metadata": {},
     "output_type": "execute_result"
    }
   ],
   "source": [
    "train = df.query('Year < 2008')\n",
    "test  = df.query('Year >= 2008')\n",
    "X_train = train[features]\n",
    "y_train = train[target]\n",
    "X_test  = test[features]\n",
    "y_test  = test[target]\n",
    "X_train.shape, y_train.shape, X_test.shape, y_test.shape"
   ]
  },
  {
   "cell_type": "code",
   "execution_count": 69,
   "metadata": {},
   "outputs": [
    {
     "data": {
      "text/plain": [
       "array([45.86970509, 49.39965918])"
      ]
     },
     "execution_count": 69,
     "metadata": {},
     "output_type": "execute_result"
    }
   ],
   "source": [
    "model.fit(X_train, y_train)\n",
    "model.predict(X_test)"
   ]
  },
  {
   "cell_type": "code",
   "execution_count": 70,
   "metadata": {},
   "outputs": [
    {
     "data": {
      "text/html": [
       "<div>\n",
       "<style scoped>\n",
       "    .dataframe tbody tr th:only-of-type {\n",
       "        vertical-align: middle;\n",
       "    }\n",
       "\n",
       "    .dataframe tbody tr th {\n",
       "        vertical-align: top;\n",
       "    }\n",
       "\n",
       "    .dataframe thead th {\n",
       "        text-align: right;\n",
       "    }\n",
       "</style>\n",
       "<table border=\"1\" class=\"dataframe\">\n",
       "  <thead>\n",
       "    <tr style=\"text-align: right;\">\n",
       "      <th></th>\n",
       "      <th>Year</th>\n",
       "      <th>Incumbent Party Candidate</th>\n",
       "      <th>Other Candidate</th>\n",
       "      <th>Incumbent Party Vote Share</th>\n",
       "      <th>Prediction</th>\n",
       "      <th>Error</th>\n",
       "      <th>Absolute Error</th>\n",
       "      <th>Average Recent Growth in Personal Incomes</th>\n",
       "      <th>Square Error</th>\n",
       "      <th>US Military Fatalities per Million</th>\n",
       "    </tr>\n",
       "  </thead>\n",
       "  <tbody>\n",
       "    <tr>\n",
       "      <th>14</th>\n",
       "      <td>2008</td>\n",
       "      <td>McCain</td>\n",
       "      <td>Obama</td>\n",
       "      <td>46.32</td>\n",
       "      <td>46.553701</td>\n",
       "      <td>0.233701</td>\n",
       "      <td>0.233701</td>\n",
       "      <td>0.10</td>\n",
       "      <td>0.054616</td>\n",
       "      <td>14</td>\n",
       "    </tr>\n",
       "    <tr>\n",
       "      <th>15</th>\n",
       "      <td>2012</td>\n",
       "      <td>Obama</td>\n",
       "      <td>Romney</td>\n",
       "      <td>52.00</td>\n",
       "      <td>49.155150</td>\n",
       "      <td>-2.844850</td>\n",
       "      <td>2.844850</td>\n",
       "      <td>0.95</td>\n",
       "      <td>8.093173</td>\n",
       "      <td>5</td>\n",
       "    </tr>\n",
       "  </tbody>\n",
       "</table>\n",
       "</div>"
      ],
      "text/plain": [
       "    Year Incumbent Party Candidate Other Candidate  \\\n",
       "14  2008                    McCain           Obama   \n",
       "15  2012                     Obama          Romney   \n",
       "\n",
       "    Incumbent Party Vote Share  Prediction     Error  Absolute Error  \\\n",
       "14                       46.32   46.553701  0.233701        0.233701   \n",
       "15                       52.00   49.155150 -2.844850        2.844850   \n",
       "\n",
       "    Average Recent Growth in Personal Incomes  Square Error  \\\n",
       "14                                       0.10      0.054616   \n",
       "15                                       0.95      8.093173   \n",
       "\n",
       "    US Military Fatalities per Million  \n",
       "14                                  14  \n",
       "15                                   5  "
      ]
     },
     "execution_count": 70,
     "metadata": {},
     "output_type": "execute_result"
    }
   ],
   "source": [
    "test"
   ]
  },
  {
   "cell_type": "markdown",
   "metadata": {},
   "source": [
    "### More about the \"Bread & Peace\" model\n",
    "- https://fivethirtyeight.com/features/what-do-economic-models-really-tell-us-about-elections/\n",
    "- https://statmodeling.stat.columbia.edu/2007/12/15/bread_and_peace/\n",
    "- https://avehtari.github.io/RAOS-Examples/ElectionsEconomy/hibbs.html\n",
    "- https://douglas-hibbs.com/\n",
    "- http://www.douglas-hibbs.com/HibbsArticles/HIBBS-PRESVOTE-SLIDES-MELBOURNE-Part1-2014-02-26.pdf"
   ]
  },
  {
   "cell_type": "markdown",
   "metadata": {},
   "source": [
    "# Dimensionality in Linear Regression!\n",
    "\n",
    "Muliple Regression is simply an extension of the bivariate case. The reason why we see the bivariate case demonstrated so often is simply because it's easier to graph and all of the intuition from the bivariate case is the same as we keep on adding explanatory variables.\n",
    "\n",
    "As we increase the number of $x$ values in our model we are simply fitting a n-1-dimensional plane to an n-dimensional cloud of points within an n-dimensional hypercube. "
   ]
  },
  {
   "cell_type": "markdown",
   "metadata": {},
   "source": [
    "# Interpreting Coefficients\n",
    "\n",
    "One of Linear Regression's strengths is that the parameters of the model (coefficients) are readily interpretable and useful. Not only do they describe the relationship between x and y but they put a number on just how much x is associated with y. We should be careful to not speak about this relationshiop in terms of causality because these coefficients are in fact correlative measures. We would need a host of additional techniques in order to estimate a causal effect using linear regression (econometrics).\n",
    "\n",
    "\\begin{align}\n",
    "\\hat{\\beta} = \\frac{Cov(x,y)}{Var(y)}\n",
    "\\end{align}\n",
    "\n",
    "Going back to the two equations for the two models that we have estimated so far, lets replace their beta values with their actual values to see if we can make sense of how to interpret these beta coefficients."
   ]
  },
  {
   "cell_type": "markdown",
   "metadata": {},
   "source": [
    "## Bivariate Model\n",
    "\n",
    "$y_i = \\beta_0 + \\beta_1temperature + \\epsilon$\n",
    "\n",
    "$sales_i = -596.2 + 24.69temperature + \\epsilon$\n",
    "\n",
    "What might $\\beta_0$ in this model represent? It represents the level of sales that we would have if temperature were 0. Since this is negative one way of interpreting it is that it's so cold outside that you would have to pay people to eat ice cream. A more appropriate interpretation is probably that the ice cream store owner should close his store down long before the temperature reaches 0 degrees farenheit (-17.7 celsius). The owner can compare his predicted sales with his costs of doing business to know how warm the weather has to get before he should open his store.\n",
    "\n",
    "What might the $beta_1$ in this model reprsent? it represents the increase in sales for each degree of temperature increase. For every degree that the temperature goes up outside he has $25 more in sales."
   ]
  },
  {
   "cell_type": "markdown",
   "metadata": {},
   "source": [
    "## Multiple Regression Model\n",
    "\n",
    "$y_i = \\beta_0 + \\beta_1age_i + \\beta_2weight_i + \\epsilon$\n",
    "\n",
    "$BloodPressure_i = 30.99+ .86age_i + .33weight_i + \\epsilon$\n",
    "\n",
    "The interpretation of coefficients in this example are similar. The intercept value repesents the blood pressure a person would have if they were 0 years old and weighed 0 pounds. This not a super useful interpretation. If we look at our data it is unlikely that we have any measurements like these in the dataset. This means that our interpretation of our intercept likely comes from extrapolating the regression line (plane). Coefficients having straightforward interpretations is a strength of linear regression if we're careful about extrapolation and only interpreting our data within the context that it was gathered.\n",
    "\n",
    "The interpretation of our other coefficients can be a useful indicator for how much a person similar to those in our dataset's blood pressure will go up on average with each additional year of age and pound of weight."
   ]
  },
  {
   "cell_type": "markdown",
   "metadata": {},
   "source": [
    "# Basic Model Validation\n",
    "\n",
    "One of the downsides of relying on $R^2$ too much is that although it tells you when you're fitting the data well, it doesn't tell you when you're *overfitting* the data. The best way to tell if you're overfitting the data is to get some data that your model hasn't seen yet, and evaluate how your predictions do. This is essentially what \"model validation\" is."
   ]
  },
  {
   "cell_type": "markdown",
   "metadata": {},
   "source": [
    "# Why is Linear Regression so Important?\n",
    "\n",
    "## Popularity \n",
    "\n",
    "Linear Regression is an extremely popular technique that every data scientist **needs** to understand. It's not the most advanced technique and there are supervised learning techniques that will obtain a higher accuracy, but where it lacks in accuracy it makes up for it in interpretability and simplicity.\n",
    "\n",
    "## Interpretability\n",
    "\n",
    "Few other models possess coefficients that are so directly linked to their variables with a such a clear interpretation. Tomorrow we're going to learn about ways to make them even easier to interpret.\n",
    "\n",
    "## Simplicity\n",
    "\n",
    "A linear regression model can be communicated just by writing out its equation. It's kind of incredible that such high dimensional relationships can be described from just a linear combination of variables and coefficients. "
   ]
  }
 ],
 "metadata": {
  "kernelspec": {
   "display_name": "Python 3",
   "language": "python",
   "name": "python3"
  },
  "language_info": {
   "codemirror_mode": {
    "name": "ipython",
    "version": 3
   },
   "file_extension": ".py",
   "mimetype": "text/x-python",
   "name": "python",
   "nbconvert_exporter": "python",
   "pygments_lexer": "ipython3",
   "version": "3.7.1"
  }
 },
 "nbformat": 4,
 "nbformat_minor": 2
}
