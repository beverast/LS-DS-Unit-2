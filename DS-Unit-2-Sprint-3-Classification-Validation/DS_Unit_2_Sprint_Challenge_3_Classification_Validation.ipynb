{
 "cells": [
  {
   "cell_type": "markdown",
   "metadata": {
    "colab_type": "text",
    "id": "PC9RfopIWrc9"
   },
   "source": [
    " _Lambda School Data Science Unit 2_\n",
    " \n",
    " # Classification & Validation Sprint Challenge"
   ]
  },
  {
   "cell_type": "markdown",
   "metadata": {
    "colab_type": "text",
    "id": "UV7ArLFQN84W"
   },
   "source": [
    "Follow the instructions for each numbered part to earn a score of 2. See the bottom of the notebook for a list of ways you can earn a score of 3."
   ]
  },
  {
   "cell_type": "markdown",
   "metadata": {
    "colab_type": "text",
    "id": "bAZcbTtiUlkI"
   },
   "source": [
    "#### For this Sprint Challenge, you'll predict whether a person's income exceeds $50k/yr, based on census data.\n",
    "\n",
    "You can read more about the Adult Census Income dataset at the UCI Machine Learning Repository: https://archive.ics.uci.edu/ml/datasets/adult"
   ]
  },
  {
   "cell_type": "markdown",
   "metadata": {},
   "source": [
    "#### Run this cell to load the data:"
   ]
  },
  {
   "cell_type": "code",
   "execution_count": 74,
   "metadata": {
    "colab": {},
    "colab_type": "code",
    "id": "gvV9VORbxyvu"
   },
   "outputs": [],
   "source": [
    "import category_encoders as ce\n",
    "import numpy as np\n",
    "import pandas as pd\n",
    "from sklearn.calibration import CalibratedClassifierCV\n",
    "from sklearn.ensemble import RandomForestClassifier\n",
    "from sklearn.linear_model import LogisticRegression\n",
    "from sklearn.metrics import roc_auc_score, accuracy_score\n",
    "from sklearn.model_selection import cross_val_score\n",
    "from sklearn.preprocessing import StandardScaler\n",
    "from sklearn.pipeline import make_pipeline\n",
    "import warnings\n",
    "\n",
    "\n",
    "warnings.simplefilter(action='ignore', category=FutureWarning)\n",
    "\n",
    "columns = ['age', \n",
    "           'workclass', \n",
    "           'fnlwgt', \n",
    "           'education', \n",
    "           'education-num', \n",
    "           'marital-status', \n",
    "           'occupation', \n",
    "           'relationship', \n",
    "           'race', \n",
    "           'sex', \n",
    "           'capital-gain', \n",
    "           'capital-loss', \n",
    "           'hours-per-week', \n",
    "           'native-country', \n",
    "           'income']\n",
    "\n",
    "df = pd.read_csv('https://archive.ics.uci.edu/ml/machine-learning-databases/adult/adult.data', \n",
    "                 header=None, names=columns)\n",
    "\n",
    "df['income'] = df['income'].str.strip()"
   ]
  },
  {
   "cell_type": "markdown",
   "metadata": {},
   "source": [
    "## Part 1 — Begin with baselines\n",
    "\n",
    "Split the data into an **X matrix** (all the features) and **y vector** (the target).\n",
    "\n",
    "(You _don't_ need to split the data into train and test sets here. You'll be asked to do that at the _end_ of Part 1.)"
   ]
  },
  {
   "cell_type": "code",
   "execution_count": 75,
   "metadata": {},
   "outputs": [],
   "source": [
    "features = df.drop(columns='income').columns.tolist()\n",
    "target = 'income'\n",
    "X = df[features]\n",
    "y = df[target]"
   ]
  },
  {
   "cell_type": "markdown",
   "metadata": {
    "colab_type": "text",
    "id": "IxKfgx4ycb3c"
   },
   "source": [
    "What **accuracy score** would you get here with a **\"majority class baseline\"?** \n",
    " \n",
    "(You can answer this question either with a scikit-learn function or with a pandas function.)"
   ]
  },
  {
   "cell_type": "code",
   "execution_count": 76,
   "metadata": {
    "colab": {},
    "colab_type": "code",
    "id": "3oo31Remcq-x"
   },
   "outputs": [
    {
     "name": "stdout",
     "output_type": "stream",
     "text": [
      "<=50K    0.75919\n",
      ">50K     0.24081\n",
      "Name: income, dtype: float64\n",
      "Majority class baseline accuracy:  0.7591904425539756\n"
     ]
    }
   ],
   "source": [
    "# Get percentage of observations for each class in target feature\n",
    "# Output accuracy score of majority class baseline\n",
    "print(y.value_counts(normalize=True))\n",
    "print('Majority class baseline accuracy: ', y.value_counts(normalize=True)[0])"
   ]
  },
  {
   "cell_type": "markdown",
   "metadata": {
    "colab_type": "text",
    "id": "_KdxE1TrcriI"
   },
   "source": [
    "What **ROC AUC score** would you get here with a **majority class baseline?**\n",
    "\n",
    "(You can answer this question either with a scikit-learn function or with no code, just your understanding of ROC AUC.)"
   ]
  },
  {
   "cell_type": "code",
   "execution_count": 77,
   "metadata": {
    "colab": {},
    "colab_type": "code",
    "id": "ILS0fN0Cctyc"
   },
   "outputs": [
    {
     "name": "stdout",
     "output_type": "stream",
     "text": [
      "y_true:  ['<=50K' '<=50K' '<=50K' '<=50K' '<=50K']\n",
      "y_score:  [0.7591904425539756, 0.7591904425539756, 0.7591904425539756, 0.7591904425539756, 0.7591904425539756]\n"
     ]
    },
    {
     "data": {
      "text/plain": [
       "0.5"
      ]
     },
     "execution_count": 77,
     "metadata": {},
     "output_type": "execute_result"
    }
   ],
   "source": [
    "# ROC AUC can be calculated by TPR/FPR\n",
    "# y_true is the array of true binary label indicators\n",
    "# y_score is the array of probability estimates of the positive class\n",
    "\n",
    "print('y_true: ', y.values[:5])\n",
    "print('y_score: ', ([y.value_counts(normalize=True)[0]]*len(y))[:5])\n",
    "roc_auc_score(y.values, [y.value_counts(normalize=True)[0]]*len(y))"
   ]
  },
  {
   "cell_type": "markdown",
   "metadata": {
    "colab_type": "text",
    "id": "QqYNDtwKYhji"
   },
   "source": [
    "In this Sprint Challenge, you will use **\"Cross-Validation with Independent Test Set\"** for your model validaton method.\n",
    "\n",
    "First, **split the data into `X_train, X_test, y_train, y_test`**. You can include 80% of the data in the train set, and hold out 20% for the test set."
   ]
  },
  {
   "cell_type": "code",
   "execution_count": 78,
   "metadata": {
    "colab": {},
    "colab_type": "code",
    "id": "mPKf86yDYf0t"
   },
   "outputs": [
    {
     "data": {
      "text/plain": [
       "((26048, 14), (6513, 14), (26048,), (6513,))"
      ]
     },
     "execution_count": 78,
     "metadata": {},
     "output_type": "execute_result"
    }
   ],
   "source": [
    "from sklearn.model_selection import train_test_split\n",
    "\n",
    "X_train, X_test, y_train, y_test = \\\n",
    "train_test_split(X, y, test_size=0.20, random_state=42)\n",
    "\n",
    "X_train.shape, X_test.shape, y_train.shape, y_test.shape"
   ]
  },
  {
   "cell_type": "markdown",
   "metadata": {},
   "source": [
    "## Part 2 — Modeling with Logistic Regression!"
   ]
  },
  {
   "cell_type": "markdown",
   "metadata": {
    "colab_type": "text",
    "id": "E_ATNJdqTCuZ"
   },
   "source": [
    "- You may do exploratory data analysis and visualization, but it is not required.\n",
    "- You may **use all the features, or select any features** of your choice, as long as you select at least one numeric feature and one categorical feature.\n",
    "- **Scale your numeric features**, using any scikit-learn [Scaler](https://scikit-learn.org/stable/modules/classes.html#module-sklearn.preprocessing) of your choice.\n",
    "- **Encode your categorical features**. You may use any encoding (One-Hot, Ordinal, etc) and any library (category_encoders, scikit-learn, pandas, etc) of your choice.\n",
    "- You may choose to use a pipeline, but it is not required.\n",
    "- Use a **Logistic Regression** model.\n",
    "- Use scikit-learn's [**cross_val_score**](https://scikit-learn.org/stable/modules/generated/sklearn.model_selection.cross_val_score.html) function. For [scoring](https://scikit-learn.org/stable/modules/model_evaluation.html#the-scoring-parameter-defining-model-evaluation-rules), use **accuracy**.\n",
    "- **Print your model's cross-validation accuracy score.**"
   ]
  },
  {
   "cell_type": "code",
   "execution_count": 79,
   "metadata": {},
   "outputs": [
    {
     "data": {
      "text/html": [
       "<div>\n",
       "<style scoped>\n",
       "    .dataframe tbody tr th:only-of-type {\n",
       "        vertical-align: middle;\n",
       "    }\n",
       "\n",
       "    .dataframe tbody tr th {\n",
       "        vertical-align: top;\n",
       "    }\n",
       "\n",
       "    .dataframe thead th {\n",
       "        text-align: right;\n",
       "    }\n",
       "</style>\n",
       "<table border=\"1\" class=\"dataframe\">\n",
       "  <thead>\n",
       "    <tr style=\"text-align: right;\">\n",
       "      <th></th>\n",
       "      <th>age</th>\n",
       "      <th>fnlwgt</th>\n",
       "      <th>education-num</th>\n",
       "      <th>capital-gain</th>\n",
       "      <th>capital-loss</th>\n",
       "      <th>hours-per-week</th>\n",
       "    </tr>\n",
       "  </thead>\n",
       "  <tbody>\n",
       "    <tr>\n",
       "      <th>age</th>\n",
       "      <td>1.000000</td>\n",
       "      <td>-0.073580</td>\n",
       "      <td>0.038749</td>\n",
       "      <td>0.079644</td>\n",
       "      <td>0.056354</td>\n",
       "      <td>0.074627</td>\n",
       "    </tr>\n",
       "    <tr>\n",
       "      <th>fnlwgt</th>\n",
       "      <td>-0.073580</td>\n",
       "      <td>1.000000</td>\n",
       "      <td>-0.041892</td>\n",
       "      <td>0.001656</td>\n",
       "      <td>-0.010029</td>\n",
       "      <td>-0.018145</td>\n",
       "    </tr>\n",
       "    <tr>\n",
       "      <th>education-num</th>\n",
       "      <td>0.038749</td>\n",
       "      <td>-0.041892</td>\n",
       "      <td>1.000000</td>\n",
       "      <td>0.123857</td>\n",
       "      <td>0.083419</td>\n",
       "      <td>0.145229</td>\n",
       "    </tr>\n",
       "    <tr>\n",
       "      <th>capital-gain</th>\n",
       "      <td>0.079644</td>\n",
       "      <td>0.001656</td>\n",
       "      <td>0.123857</td>\n",
       "      <td>1.000000</td>\n",
       "      <td>-0.031766</td>\n",
       "      <td>0.077219</td>\n",
       "    </tr>\n",
       "    <tr>\n",
       "      <th>capital-loss</th>\n",
       "      <td>0.056354</td>\n",
       "      <td>-0.010029</td>\n",
       "      <td>0.083419</td>\n",
       "      <td>-0.031766</td>\n",
       "      <td>1.000000</td>\n",
       "      <td>0.051329</td>\n",
       "    </tr>\n",
       "    <tr>\n",
       "      <th>hours-per-week</th>\n",
       "      <td>0.074627</td>\n",
       "      <td>-0.018145</td>\n",
       "      <td>0.145229</td>\n",
       "      <td>0.077219</td>\n",
       "      <td>0.051329</td>\n",
       "      <td>1.000000</td>\n",
       "    </tr>\n",
       "  </tbody>\n",
       "</table>\n",
       "</div>"
      ],
      "text/plain": [
       "                     age    fnlwgt  education-num  capital-gain  capital-loss  \\\n",
       "age             1.000000 -0.073580       0.038749      0.079644      0.056354   \n",
       "fnlwgt         -0.073580  1.000000      -0.041892      0.001656     -0.010029   \n",
       "education-num   0.038749 -0.041892       1.000000      0.123857      0.083419   \n",
       "capital-gain    0.079644  0.001656       0.123857      1.000000     -0.031766   \n",
       "capital-loss    0.056354 -0.010029       0.083419     -0.031766      1.000000   \n",
       "hours-per-week  0.074627 -0.018145       0.145229      0.077219      0.051329   \n",
       "\n",
       "                hours-per-week  \n",
       "age                   0.074627  \n",
       "fnlwgt               -0.018145  \n",
       "education-num         0.145229  \n",
       "capital-gain          0.077219  \n",
       "capital-loss          0.051329  \n",
       "hours-per-week        1.000000  "
      ]
     },
     "execution_count": 79,
     "metadata": {},
     "output_type": "execute_result"
    }
   ],
   "source": [
    "# Explore the data, look for multicollinearity in numeric features\n",
    "X_train.corr()"
   ]
  },
  {
   "cell_type": "code",
   "execution_count": 80,
   "metadata": {},
   "outputs": [
    {
     "data": {
      "text/html": [
       "<div>\n",
       "<style scoped>\n",
       "    .dataframe tbody tr th:only-of-type {\n",
       "        vertical-align: middle;\n",
       "    }\n",
       "\n",
       "    .dataframe tbody tr th {\n",
       "        vertical-align: top;\n",
       "    }\n",
       "\n",
       "    .dataframe thead th {\n",
       "        text-align: right;\n",
       "    }\n",
       "</style>\n",
       "<table border=\"1\" class=\"dataframe\">\n",
       "  <thead>\n",
       "    <tr style=\"text-align: right;\">\n",
       "      <th></th>\n",
       "      <th>workclass</th>\n",
       "      <th>education</th>\n",
       "      <th>marital-status</th>\n",
       "      <th>occupation</th>\n",
       "      <th>relationship</th>\n",
       "      <th>race</th>\n",
       "      <th>sex</th>\n",
       "      <th>native-country</th>\n",
       "    </tr>\n",
       "  </thead>\n",
       "  <tbody>\n",
       "    <tr>\n",
       "      <th>count</th>\n",
       "      <td>26048</td>\n",
       "      <td>26048</td>\n",
       "      <td>26048</td>\n",
       "      <td>26048</td>\n",
       "      <td>26048</td>\n",
       "      <td>26048</td>\n",
       "      <td>26048</td>\n",
       "      <td>26048</td>\n",
       "    </tr>\n",
       "    <tr>\n",
       "      <th>unique</th>\n",
       "      <td>9</td>\n",
       "      <td>16</td>\n",
       "      <td>7</td>\n",
       "      <td>15</td>\n",
       "      <td>6</td>\n",
       "      <td>5</td>\n",
       "      <td>2</td>\n",
       "      <td>42</td>\n",
       "    </tr>\n",
       "    <tr>\n",
       "      <th>top</th>\n",
       "      <td>Private</td>\n",
       "      <td>HS-grad</td>\n",
       "      <td>Married-civ-spouse</td>\n",
       "      <td>Prof-specialty</td>\n",
       "      <td>Husband</td>\n",
       "      <td>White</td>\n",
       "      <td>Male</td>\n",
       "      <td>United-States</td>\n",
       "    </tr>\n",
       "    <tr>\n",
       "      <th>freq</th>\n",
       "      <td>18118</td>\n",
       "      <td>8416</td>\n",
       "      <td>12026</td>\n",
       "      <td>3312</td>\n",
       "      <td>10603</td>\n",
       "      <td>22221</td>\n",
       "      <td>17403</td>\n",
       "      <td>23300</td>\n",
       "    </tr>\n",
       "  </tbody>\n",
       "</table>\n",
       "</div>"
      ],
      "text/plain": [
       "       workclass education       marital-status       occupation relationship  \\\n",
       "count      26048     26048                26048            26048        26048   \n",
       "unique         9        16                    7               15            6   \n",
       "top      Private   HS-grad   Married-civ-spouse   Prof-specialty      Husband   \n",
       "freq       18118      8416                12026             3312        10603   \n",
       "\n",
       "          race    sex  native-country  \n",
       "count    26048  26048           26048  \n",
       "unique       5      2              42  \n",
       "top      White   Male   United-States  \n",
       "freq     22221  17403           23300  "
      ]
     },
     "execution_count": 80,
     "metadata": {},
     "output_type": "execute_result"
    }
   ],
   "source": [
    "# Examine categorical data, check ordinality \n",
    "X_train.describe(exclude='number')"
   ]
  },
  {
   "cell_type": "code",
   "execution_count": 81,
   "metadata": {},
   "outputs": [
    {
     "name": "stderr",
     "output_type": "stream",
     "text": [
      "D:\\Miniconda\\envs\\JupyterLab\\lib\\site-packages\\sklearn\\preprocessing\\data.py:645: DataConversionWarning: Data with input dtype int64 were all converted to float64 by StandardScaler.\n",
      "  return self.partial_fit(X, y)\n",
      "D:\\Miniconda\\envs\\JupyterLab\\lib\\site-packages\\sklearn\\base.py:464: DataConversionWarning: Data with input dtype int64 were all converted to float64 by StandardScaler.\n",
      "  return self.fit(X, **fit_params).transform(X)\n"
     ]
    },
    {
     "data": {
      "text/html": [
       "<div>\n",
       "<style scoped>\n",
       "    .dataframe tbody tr th:only-of-type {\n",
       "        vertical-align: middle;\n",
       "    }\n",
       "\n",
       "    .dataframe tbody tr th {\n",
       "        vertical-align: top;\n",
       "    }\n",
       "\n",
       "    .dataframe thead th {\n",
       "        text-align: right;\n",
       "    }\n",
       "</style>\n",
       "<table border=\"1\" class=\"dataframe\">\n",
       "  <thead>\n",
       "    <tr style=\"text-align: right;\">\n",
       "      <th></th>\n",
       "      <th>0</th>\n",
       "      <th>1</th>\n",
       "      <th>2</th>\n",
       "      <th>3</th>\n",
       "      <th>4</th>\n",
       "      <th>5</th>\n",
       "      <th>6</th>\n",
       "      <th>7</th>\n",
       "      <th>8</th>\n",
       "      <th>9</th>\n",
       "      <th>...</th>\n",
       "      <th>26</th>\n",
       "      <th>27</th>\n",
       "      <th>28</th>\n",
       "      <th>29</th>\n",
       "      <th>30</th>\n",
       "      <th>31</th>\n",
       "      <th>32</th>\n",
       "      <th>33</th>\n",
       "      <th>34</th>\n",
       "      <th>35</th>\n",
       "    </tr>\n",
       "  </thead>\n",
       "  <tbody>\n",
       "    <tr>\n",
       "      <th>0</th>\n",
       "      <td>-0.408756</td>\n",
       "      <td>-0.025555</td>\n",
       "      <td>-0.436206</td>\n",
       "      <td>-2.369145</td>\n",
       "      <td>1.917634</td>\n",
       "      <td>0.080051</td>\n",
       "      <td>-0.039705</td>\n",
       "      <td>-0.473168</td>\n",
       "      <td>-1.335366</td>\n",
       "      <td>-0.959732</td>\n",
       "      <td>...</td>\n",
       "      <td>1.418827</td>\n",
       "      <td>-0.145715</td>\n",
       "      <td>-0.217998</td>\n",
       "      <td>0.779460</td>\n",
       "      <td>-0.098838</td>\n",
       "      <td>-0.167153</td>\n",
       "      <td>-0.18896</td>\n",
       "      <td>-0.187209</td>\n",
       "      <td>-0.282171</td>\n",
       "      <td>0.234889</td>\n",
       "    </tr>\n",
       "    <tr>\n",
       "      <th>1</th>\n",
       "      <td>-0.188857</td>\n",
       "      <td>-0.025555</td>\n",
       "      <td>-0.436206</td>\n",
       "      <td>0.422093</td>\n",
       "      <td>-0.521476</td>\n",
       "      <td>-0.981653</td>\n",
       "      <td>-0.039705</td>\n",
       "      <td>-0.473168</td>\n",
       "      <td>-1.335366</td>\n",
       "      <td>1.041957</td>\n",
       "      <td>...</td>\n",
       "      <td>-0.704807</td>\n",
       "      <td>-0.145715</td>\n",
       "      <td>4.457168</td>\n",
       "      <td>0.779460</td>\n",
       "      <td>-0.098838</td>\n",
       "      <td>-0.167153</td>\n",
       "      <td>-0.18896</td>\n",
       "      <td>-0.187209</td>\n",
       "      <td>-0.282171</td>\n",
       "      <td>0.234889</td>\n",
       "    </tr>\n",
       "    <tr>\n",
       "      <th>2</th>\n",
       "      <td>1.423734</td>\n",
       "      <td>-0.025555</td>\n",
       "      <td>-0.436206</td>\n",
       "      <td>0.422093</td>\n",
       "      <td>1.917634</td>\n",
       "      <td>0.126197</td>\n",
       "      <td>-0.039705</td>\n",
       "      <td>-0.473168</td>\n",
       "      <td>-1.335366</td>\n",
       "      <td>1.041957</td>\n",
       "      <td>...</td>\n",
       "      <td>-0.704807</td>\n",
       "      <td>-0.145715</td>\n",
       "      <td>-0.217998</td>\n",
       "      <td>-0.031510</td>\n",
       "      <td>-0.098838</td>\n",
       "      <td>-0.167153</td>\n",
       "      <td>-0.18896</td>\n",
       "      <td>-0.187209</td>\n",
       "      <td>-0.282171</td>\n",
       "      <td>0.234889</td>\n",
       "    </tr>\n",
       "    <tr>\n",
       "      <th>3</th>\n",
       "      <td>-1.288351</td>\n",
       "      <td>-0.025555</td>\n",
       "      <td>-0.436206</td>\n",
       "      <td>0.422093</td>\n",
       "      <td>-0.521476</td>\n",
       "      <td>-0.090935</td>\n",
       "      <td>-0.039705</td>\n",
       "      <td>-0.473168</td>\n",
       "      <td>-1.335366</td>\n",
       "      <td>1.041957</td>\n",
       "      <td>...</td>\n",
       "      <td>-0.704807</td>\n",
       "      <td>-0.145715</td>\n",
       "      <td>-0.217998</td>\n",
       "      <td>0.455072</td>\n",
       "      <td>-0.098838</td>\n",
       "      <td>-0.167153</td>\n",
       "      <td>-0.18896</td>\n",
       "      <td>-0.187209</td>\n",
       "      <td>-0.282171</td>\n",
       "      <td>0.234889</td>\n",
       "    </tr>\n",
       "    <tr>\n",
       "      <th>4</th>\n",
       "      <td>-0.848554</td>\n",
       "      <td>-0.025555</td>\n",
       "      <td>-0.436206</td>\n",
       "      <td>0.422093</td>\n",
       "      <td>-0.521476</td>\n",
       "      <td>0.856334</td>\n",
       "      <td>-0.039705</td>\n",
       "      <td>-0.473168</td>\n",
       "      <td>0.748858</td>\n",
       "      <td>-0.959732</td>\n",
       "      <td>...</td>\n",
       "      <td>-0.704807</td>\n",
       "      <td>-0.145715</td>\n",
       "      <td>-0.217998</td>\n",
       "      <td>-0.031510</td>\n",
       "      <td>-0.098838</td>\n",
       "      <td>-0.167153</td>\n",
       "      <td>-0.18896</td>\n",
       "      <td>-0.187209</td>\n",
       "      <td>-0.282171</td>\n",
       "      <td>0.234889</td>\n",
       "    </tr>\n",
       "  </tbody>\n",
       "</table>\n",
       "<p>5 rows × 36 columns</p>\n",
       "</div>"
      ],
      "text/plain": [
       "         0         1         2         3         4         5         6   \\\n",
       "0 -0.408756 -0.025555 -0.436206 -2.369145  1.917634  0.080051 -0.039705   \n",
       "1 -0.188857 -0.025555 -0.436206  0.422093 -0.521476 -0.981653 -0.039705   \n",
       "2  1.423734 -0.025555 -0.436206  0.422093  1.917634  0.126197 -0.039705   \n",
       "3 -1.288351 -0.025555 -0.436206  0.422093 -0.521476 -0.090935 -0.039705   \n",
       "4 -0.848554 -0.025555 -0.436206  0.422093 -0.521476  0.856334 -0.039705   \n",
       "\n",
       "         7         8         9     ...           26        27        28  \\\n",
       "0 -0.473168 -1.335366 -0.959732    ...     1.418827 -0.145715 -0.217998   \n",
       "1 -0.473168 -1.335366  1.041957    ...    -0.704807 -0.145715  4.457168   \n",
       "2 -0.473168 -1.335366  1.041957    ...    -0.704807 -0.145715 -0.217998   \n",
       "3 -0.473168 -1.335366  1.041957    ...    -0.704807 -0.145715 -0.217998   \n",
       "4 -0.473168  0.748858 -0.959732    ...    -0.704807 -0.145715 -0.217998   \n",
       "\n",
       "         29        30        31       32        33        34        35  \n",
       "0  0.779460 -0.098838 -0.167153 -0.18896 -0.187209 -0.282171  0.234889  \n",
       "1  0.779460 -0.098838 -0.167153 -0.18896 -0.187209 -0.282171  0.234889  \n",
       "2 -0.031510 -0.098838 -0.167153 -0.18896 -0.187209 -0.282171  0.234889  \n",
       "3  0.455072 -0.098838 -0.167153 -0.18896 -0.187209 -0.282171  0.234889  \n",
       "4 -0.031510 -0.098838 -0.167153 -0.18896 -0.187209 -0.282171  0.234889  \n",
       "\n",
       "[5 rows x 36 columns]"
      ]
     },
     "execution_count": 81,
     "metadata": {},
     "output_type": "execute_result"
    }
   ],
   "source": [
    "# Make pipeline / Encode categoricals\n",
    "preprocessor = make_pipeline(ce.BinaryEncoder(drop_invariant=True), StandardScaler())\n",
    "\n",
    "X_train_encoded = preprocessor.fit_transform(X_train)\n",
    "X_train_encoded = pd.DataFrame(X_train_encoded)\n",
    "\n",
    "X_train_encoded.head()"
   ]
  },
  {
   "cell_type": "code",
   "execution_count": 82,
   "metadata": {},
   "outputs": [
    {
     "name": "stdout",
     "output_type": "stream",
     "text": [
      "Cross Validation Accuracy Scores:  [0.84452975 0.84664107 0.84606526 0.84123632 0.84622768]\n"
     ]
    }
   ],
   "source": [
    "# Instantiate and fit a Logistic Regression model\n",
    "log_reg = LogisticRegression(solver='lbfgs', max_iter=1000, random_state=42)\n",
    "log_reg.fit(X_train_encoded, y_train)\n",
    "\n",
    "# Get cross validation accuracy \n",
    "cv_accuracy_scores = cross_val_score(log_reg, X_train_encoded, y_train, n_jobs=-1, scoring='accuracy', cv=5)\n",
    "print('Cross Validation Accuracy Scores: ', cv_accuracy_scores)"
   ]
  },
  {
   "cell_type": "markdown",
   "metadata": {},
   "source": [
    "## Part 3 — Modeling with Tree Ensembles!\n",
    "\n",
    "Part 3 is the same as Part 2, except this time, use a **Random Forest** or **Gradient Boosting** classifier. You may use scikit-learn, xgboost, or any other library. Then, print your model's cross-validation accuracy score."
   ]
  },
  {
   "cell_type": "code",
   "execution_count": 83,
   "metadata": {
    "colab": {},
    "colab_type": "code",
    "id": "qAxxkjG7gACP"
   },
   "outputs": [
    {
     "data": {
      "text/plain": [
       "CalibratedClassifierCV(base_estimator=RandomForestClassifier(bootstrap=True, class_weight=None, criterion='gini',\n",
       "            max_depth=5, max_features='auto', max_leaf_nodes=None,\n",
       "            min_impurity_decrease=0.0, min_impurity_split=None,\n",
       "            min_samples_leaf=1, min_samples_split=2,\n",
       "            min_weight_fraction_leaf=0.0, n_estimators=100, n_jobs=-1,\n",
       "            oob_score=False, random_state=42, verbose=0, warm_start=False),\n",
       "            cv=None, method='sigmoid')"
      ]
     },
     "execution_count": 83,
     "metadata": {},
     "output_type": "execute_result"
    }
   ],
   "source": [
    "# Random Forest Classifier with sigmoid (Platt) calibration\n",
    "# cv=None specifies the use of sklearn.model_selection.StratifiedKFold\n",
    "rf_clf = RandomForestClassifier(max_depth=5, n_estimators=100, \n",
    "                                n_jobs=-1, random_state=42)\n",
    "rf_clf_sigmoid = CalibratedClassifierCV(rf_clf, cv=None, method='sigmoid')\n",
    "rf_clf_sigmoid.fit(X_train_encoded, y_train)"
   ]
  },
  {
   "cell_type": "code",
   "execution_count": 84,
   "metadata": {},
   "outputs": [
    {
     "name": "stdout",
     "output_type": "stream",
     "text": [
      "ROC AUC:\t 0.8973490432799287\n",
      "CV Accuracy Scores:  [0.84587332 0.8512476  0.85028791 0.85025917 0.85659436]\n"
     ]
    }
   ],
   "source": [
    "# Still using X_train_encoded data for model evaluation\n",
    "rf_clf_pos_prob = rf_clf_sigmoid.predict_proba(X_train_encoded)[:,1]\n",
    "print('ROC AUC:\\t', roc_auc_score(y_train, rf_clf_pos_prob))\n",
    "\n",
    "cv_accuracy_scores = cross_val_score(rf_clf_sigmoid, X_train_encoded, y_train, cv=5)\n",
    "print('CV Accuracy Scores: ', cv_accuracy_scores)"
   ]
  },
  {
   "cell_type": "markdown",
   "metadata": {
    "colab_type": "text",
    "id": "jkyHoRIbEgRR"
   },
   "source": [
    "## Part 4 — Calculate classification metrics from a confusion matrix\n",
    "\n",
    "Suppose this is the confusion matrix for your binary classification model:\n",
    "\n",
    "<table>\n",
    "  <tr>\n",
    "    <td colspan=\"2\" rowspan=\"2\"></td>\n",
    "    <td colspan=\"2\">Predicted</td>\n",
    "  </tr>\n",
    "  <tr>\n",
    "    <td>Negative</td>\n",
    "    <td>Positive</td>\n",
    "  </tr>\n",
    "  <tr>\n",
    "    <td rowspan=\"2\">Actual</td>\n",
    "    <td>Negative</td>\n",
    "    <td style=\"border: solid\">85</td>\n",
    "    <td style=\"border: solid\">58</td>\n",
    "  </tr>\n",
    "  <tr>\n",
    "    <td>Positive</td>\n",
    "    <td style=\"border: solid\">8</td>\n",
    "    <td style=\"border: solid\"> 36</td>\n",
    "  </tr>\n",
    "</table>"
   ]
  },
  {
   "cell_type": "markdown",
   "metadata": {
    "colab_type": "text",
    "id": "LhyMM5H-JpVB"
   },
   "source": [
    "Calculate accuracy"
   ]
  },
  {
   "cell_type": "code",
   "execution_count": 85,
   "metadata": {
    "colab": {},
    "colab_type": "code",
    "id": "TZPwqdh2KUcB"
   },
   "outputs": [
    {
     "name": "stdout",
     "output_type": "stream",
     "text": [
      "0.6470588235294118\n"
     ]
    }
   ],
   "source": [
    "TP = 36\n",
    "TN = 85\n",
    "FP = 58\n",
    "FN = 8\n",
    "\n",
    "accuracy = (TP + TN) / (TP + TN + FP + FN)\n",
    "print(accuracy)"
   ]
  },
  {
   "cell_type": "markdown",
   "metadata": {
    "colab_type": "text",
    "id": "BRWLfGcGKeQw"
   },
   "source": [
    "Calculate precision"
   ]
  },
  {
   "cell_type": "code",
   "execution_count": 86,
   "metadata": {
    "colab": {},
    "colab_type": "code",
    "id": "A-FEZ4i_Kf_n"
   },
   "outputs": [
    {
     "name": "stdout",
     "output_type": "stream",
     "text": [
      "0.3829787234042553\n"
     ]
    }
   ],
   "source": [
    "precision = (TP) / (TP + FP)\n",
    "print(precision)"
   ]
  },
  {
   "cell_type": "markdown",
   "metadata": {
    "colab_type": "text",
    "id": "h_mH2NYDKi2C"
   },
   "source": [
    "Calculate recall"
   ]
  },
  {
   "cell_type": "code",
   "execution_count": 87,
   "metadata": {
    "colab": {},
    "colab_type": "code",
    "id": "U4_wJGyjKkXJ"
   },
   "outputs": [
    {
     "name": "stdout",
     "output_type": "stream",
     "text": [
      "0.8181818181818182\n"
     ]
    }
   ],
   "source": [
    "recall = (TP) / (TP + FN)\n",
    "print(recall)"
   ]
  },
  {
   "cell_type": "markdown",
   "metadata": {
    "colab_type": "text",
    "id": "9KEaWsk5Kk9W"
   },
   "source": [
    "## BONUS — How you can earn a score of 3\n",
    "\n",
    "### Part 1\n",
    "Do feature engineering, to try improving your cross-validation score.\n",
    "\n",
    "### Part 2\n",
    "Experiment with feature selection, preprocessing, categorical encoding, and hyperparameter optimization, to try improving your cross-validation score.\n",
    "\n",
    "### Part 3\n",
    "Which model had the best cross-validation score? Refit this model on the train set and do a final evaluation on the held out test set — what is the test score? \n",
    "\n",
    "### Part 4\n",
    "Calculate F1 score and False Positive Rate. "
   ]
  },
  {
   "cell_type": "code",
   "execution_count": 88,
   "metadata": {},
   "outputs": [
    {
     "name": "stdout",
     "output_type": "stream",
     "text": [
      "['workclass', 'education', 'marital-status', 'occupation', 'relationship', 'race', 'sex', 'native-country']\n"
     ]
    },
    {
     "data": {
      "text/html": [
       "<div>\n",
       "<style scoped>\n",
       "    .dataframe tbody tr th:only-of-type {\n",
       "        vertical-align: middle;\n",
       "    }\n",
       "\n",
       "    .dataframe tbody tr th {\n",
       "        vertical-align: top;\n",
       "    }\n",
       "\n",
       "    .dataframe thead th {\n",
       "        text-align: right;\n",
       "    }\n",
       "</style>\n",
       "<table border=\"1\" class=\"dataframe\">\n",
       "  <thead>\n",
       "    <tr style=\"text-align: right;\">\n",
       "      <th></th>\n",
       "      <th>workclass</th>\n",
       "      <th>education</th>\n",
       "      <th>marital-status</th>\n",
       "      <th>occupation</th>\n",
       "      <th>relationship</th>\n",
       "      <th>race</th>\n",
       "      <th>sex</th>\n",
       "      <th>native-country</th>\n",
       "      <th>income</th>\n",
       "    </tr>\n",
       "  </thead>\n",
       "  <tbody>\n",
       "    <tr>\n",
       "      <th>count</th>\n",
       "      <td>32561</td>\n",
       "      <td>32561</td>\n",
       "      <td>32561</td>\n",
       "      <td>32561</td>\n",
       "      <td>32561</td>\n",
       "      <td>32561</td>\n",
       "      <td>32561</td>\n",
       "      <td>32561</td>\n",
       "      <td>32561</td>\n",
       "    </tr>\n",
       "    <tr>\n",
       "      <th>unique</th>\n",
       "      <td>9</td>\n",
       "      <td>16</td>\n",
       "      <td>7</td>\n",
       "      <td>15</td>\n",
       "      <td>6</td>\n",
       "      <td>5</td>\n",
       "      <td>2</td>\n",
       "      <td>42</td>\n",
       "      <td>2</td>\n",
       "    </tr>\n",
       "    <tr>\n",
       "      <th>top</th>\n",
       "      <td>Private</td>\n",
       "      <td>HS-grad</td>\n",
       "      <td>Married-civ-spouse</td>\n",
       "      <td>Prof-specialty</td>\n",
       "      <td>Husband</td>\n",
       "      <td>White</td>\n",
       "      <td>Male</td>\n",
       "      <td>United-States</td>\n",
       "      <td>&lt;=50K</td>\n",
       "    </tr>\n",
       "    <tr>\n",
       "      <th>freq</th>\n",
       "      <td>22696</td>\n",
       "      <td>10501</td>\n",
       "      <td>14976</td>\n",
       "      <td>4140</td>\n",
       "      <td>13193</td>\n",
       "      <td>27816</td>\n",
       "      <td>21790</td>\n",
       "      <td>29170</td>\n",
       "      <td>24720</td>\n",
       "    </tr>\n",
       "  </tbody>\n",
       "</table>\n",
       "</div>"
      ],
      "text/plain": [
       "       workclass education       marital-status       occupation relationship  \\\n",
       "count      32561     32561                32561            32561        32561   \n",
       "unique         9        16                    7               15            6   \n",
       "top      Private   HS-grad   Married-civ-spouse   Prof-specialty      Husband   \n",
       "freq       22696     10501                14976             4140        13193   \n",
       "\n",
       "          race    sex  native-country income  \n",
       "count    32561  32561           32561  32561  \n",
       "unique       5      2              42      2  \n",
       "top      White   Male   United-States  <=50K  \n",
       "freq     27816  21790           29170  24720  "
      ]
     },
     "execution_count": 88,
     "metadata": {},
     "output_type": "execute_result"
    }
   ],
   "source": [
    "### Part 1 ###\n",
    "\n",
    "# This time select only non-numeric features\n",
    "features = df.drop(columns='income').select_dtypes('object').columns.tolist()\n",
    "target = 'income'\n",
    "X = df[features]\n",
    "y = df[target]\n",
    "\n",
    "print(features)\n",
    "df.describe(exclude='number')"
   ]
  },
  {
   "cell_type": "code",
   "execution_count": 89,
   "metadata": {},
   "outputs": [
    {
     "name": "stderr",
     "output_type": "stream",
     "text": [
      "D:\\Miniconda\\envs\\JupyterLab\\lib\\site-packages\\sklearn\\preprocessing\\data.py:645: DataConversionWarning: Data with input dtype int32 were all converted to float64 by StandardScaler.\n",
      "  return self.partial_fit(X, y)\n",
      "D:\\Miniconda\\envs\\JupyterLab\\lib\\site-packages\\sklearn\\base.py:464: DataConversionWarning: Data with input dtype int32 were all converted to float64 by StandardScaler.\n",
      "  return self.fit(X, **fit_params).transform(X)\n"
     ]
    }
   ],
   "source": [
    "# Create a pipeline\n",
    "preprocessor = make_pipeline(ce.OrdinalEncoder(), StandardScaler())\n",
    "\n",
    "df_X = preprocessor.fit_transform(X)\n",
    "df_X = pd.DataFrame(df_X)\n",
    "df_y = y\n",
    "\n",
    "X_train, X_test, y_train, y_test = \\\n",
    "train_test_split(df_X, df_y, test_size=0.2, random_state=42)"
   ]
  },
  {
   "cell_type": "code",
   "execution_count": 90,
   "metadata": {},
   "outputs": [
    {
     "data": {
      "text/plain": [
       "array([0.82835821, 0.8355445 , 0.83599005])"
      ]
     },
     "execution_count": 90,
     "metadata": {},
     "output_type": "execute_result"
    }
   ],
   "source": [
    "from xgboost import XGBClassifier\n",
    "\n",
    "# Same params as Random Forest Classifier\n",
    "model = XGBClassifier(max_depth=5, n_estimators=100)\n",
    "model.fit(X_train, y_train)\n",
    "\n",
    "cross_val_score(model, df_X, df_y)"
   ]
  }
 ],
 "metadata": {
  "colab": {
   "collapsed_sections": [],
   "name": "DS_Unit_2_Sprint_Challenge_4_Model_Validation.ipynb",
   "provenance": [],
   "version": "0.3.2"
  },
  "kernelspec": {
   "display_name": "Python 3",
   "language": "python",
   "name": "python3"
  },
  "language_info": {
   "codemirror_mode": {
    "name": "ipython",
    "version": 3
   },
   "file_extension": ".py",
   "mimetype": "text/x-python",
   "name": "python",
   "nbconvert_exporter": "python",
   "pygments_lexer": "ipython3",
   "version": "3.7.3"
  }
 },
 "nbformat": 4,
 "nbformat_minor": 2
}
