{
 "cells": [
  {
   "cell_type": "markdown",
   "metadata": {},
   "source": [
    "_Lambda School Data Science Unit 2_\n",
    " \n",
    " # Sprint Challenge: Practicing & Understanding Predictive Modeling"
   ]
  },
  {
   "cell_type": "markdown",
   "metadata": {},
   "source": [
    "### Chicago Food Inspections\n",
    "\n",
    "For this Sprint Challenge, you'll use a dataset with information from inspections of restaurants and other food establishments in Chicago from January 2010 to March 2019. \n",
    "\n",
    "[See this PDF](https://data.cityofchicago.org/api/assets/BAD5301B-681A-4202-9D25-51B2CAE672FF) for descriptions of the data elements included in this dataset.\n",
    "\n",
    "According to [Chicago Department of Public Health — Food Protection Services](https://www.chicago.gov/city/en/depts/cdph/provdrs/healthy_restaurants/svcs/food-protection-services.html), \"Chicago is home to 16,000 food establishments like restaurants, grocery stores, bakeries, wholesalers, lunchrooms, mobile food vendors and more. Our business is food safety and sanitation with one goal, to prevent the spread of food-borne disease. We do this by inspecting food businesses, responding to complaints and food recalls.\" "
   ]
  },
  {
   "cell_type": "markdown",
   "metadata": {},
   "source": [
    "#### Your challenge: Predict whether inspections failed\n",
    "\n",
    "The target is the `Fail` column.\n",
    "\n",
    "- When the food establishment **failed the inspection, the target is `1`.**\n",
    "- When the establishment **passed, the target is `0`.**"
   ]
  },
  {
   "cell_type": "markdown",
   "metadata": {},
   "source": [
    "#### Run this cell to load the data:"
   ]
  },
  {
   "cell_type": "code",
   "execution_count": 15,
   "metadata": {},
   "outputs": [
    {
     "name": "stdout",
     "output_type": "stream",
     "text": [
      "The blackcellmagic extension is already loaded. To reload it, use:\n",
      "  %reload_ext blackcellmagic\n"
     ]
    }
   ],
   "source": [
    "%load_ext blackcellmagic"
   ]
  },
  {
   "cell_type": "code",
   "execution_count": 16,
   "metadata": {},
   "outputs": [],
   "source": [
    "import altair.vegalite.v2 as alt\n",
    "import matplotlib.pyplot as plt\n",
    "import numpy as np\n",
    "import pandas as pd\n",
    "import seaborn as sns\n",
    "\n",
    "import category_encoders as ce\n",
    "from scipy.stats import randint\n",
    "from sklearn.metrics import roc_auc_score\n",
    "from sklearn.model_selection import RandomizedSearchCV\n",
    "from xgboost import XGBClassifier\n",
    "\n",
    "from eli5.xgboost import explain_weights_xgboost\n",
    "\n",
    "# Better stack traces\n",
    "import stackprinter\n",
    "\n",
    "stackprinter.set_excepthook(style=\"lightbg\")"
   ]
  },
  {
   "cell_type": "code",
   "execution_count": 17,
   "metadata": {},
   "outputs": [],
   "source": [
    "train_url = (\n",
    "    \"https://drive.google.com/uc?export=download&id=13_tP9JpLcZHSPVpWcua4t2rY44K_s4H5\"\n",
    ")\n",
    "test_url = (\n",
    "    \"https://drive.google.com/uc?export=download&id=1GkDHjsiGrzOXoF_xcYjdzBTSjOIi3g5a\"\n",
    ")\n",
    "\n",
    "train = pd.read_csv(train_url)\n",
    "test = pd.read_csv(test_url)\n",
    "\n",
    "assert train.shape == (51916, 17)\n",
    "assert test.shape == (17306, 17)"
   ]
  },
  {
   "cell_type": "markdown",
   "metadata": {},
   "source": [
    "---------------"
   ]
  },
  {
   "cell_type": "markdown",
   "metadata": {},
   "source": [
    "### Part 1: Preprocessing\n",
    "\n",
    "You may choose which features you want to use, and whether/how you will preprocess them. If you use categorical features, you may use any tools and techniques for encoding. (Pandas, category_encoders, sklearn.preprocessing, or any other library.)\n",
    "\n",
    "_To earn a score of 3 for this part, find and explain leakage. The dataset has a feature that will give you an ROC AUC score > 0.90 if you process and use the feature. Find the leakage and explain why the feature shouldn't be used in a real-world model to predict the results of future inspections._"
   ]
  },
  {
   "cell_type": "code",
   "execution_count": 18,
   "metadata": {},
   "outputs": [
    {
     "data": {
      "text/html": [
       "<div>\n",
       "<style scoped>\n",
       "    .dataframe tbody tr th:only-of-type {\n",
       "        vertical-align: middle;\n",
       "    }\n",
       "\n",
       "    .dataframe tbody tr th {\n",
       "        vertical-align: top;\n",
       "    }\n",
       "\n",
       "    .dataframe thead th {\n",
       "        text-align: right;\n",
       "    }\n",
       "</style>\n",
       "<table border=\"1\" class=\"dataframe\">\n",
       "  <thead>\n",
       "    <tr style=\"text-align: right;\">\n",
       "      <th></th>\n",
       "      <th>Inspection ID</th>\n",
       "      <th>License #</th>\n",
       "      <th>Zip</th>\n",
       "      <th>Latitude</th>\n",
       "      <th>Longitude</th>\n",
       "      <th>Fail</th>\n",
       "    </tr>\n",
       "  </thead>\n",
       "  <tbody>\n",
       "    <tr>\n",
       "      <th>count</th>\n",
       "      <td>5.191600e+04</td>\n",
       "      <td>5.191100e+04</td>\n",
       "      <td>51890.000000</td>\n",
       "      <td>51718.000000</td>\n",
       "      <td>51718.000000</td>\n",
       "      <td>51916.000000</td>\n",
       "    </tr>\n",
       "    <tr>\n",
       "      <th>mean</th>\n",
       "      <td>1.330265e+06</td>\n",
       "      <td>1.549491e+06</td>\n",
       "      <td>60628.834669</td>\n",
       "      <td>41.879568</td>\n",
       "      <td>-87.676663</td>\n",
       "      <td>0.258610</td>\n",
       "    </tr>\n",
       "    <tr>\n",
       "      <th>std</th>\n",
       "      <td>6.202664e+05</td>\n",
       "      <td>9.018283e+05</td>\n",
       "      <td>22.736963</td>\n",
       "      <td>0.081126</td>\n",
       "      <td>0.059509</td>\n",
       "      <td>0.437875</td>\n",
       "    </tr>\n",
       "    <tr>\n",
       "      <th>min</th>\n",
       "      <td>4.425000e+04</td>\n",
       "      <td>0.000000e+00</td>\n",
       "      <td>60007.000000</td>\n",
       "      <td>41.644670</td>\n",
       "      <td>-87.914428</td>\n",
       "      <td>0.000000</td>\n",
       "    </tr>\n",
       "    <tr>\n",
       "      <th>25%</th>\n",
       "      <td>6.796205e+05</td>\n",
       "      <td>1.140745e+06</td>\n",
       "      <td>60614.000000</td>\n",
       "      <td>41.830296</td>\n",
       "      <td>-87.707857</td>\n",
       "      <td>0.000000</td>\n",
       "    </tr>\n",
       "    <tr>\n",
       "      <th>50%</th>\n",
       "      <td>1.424226e+06</td>\n",
       "      <td>1.958619e+06</td>\n",
       "      <td>60625.000000</td>\n",
       "      <td>41.890166</td>\n",
       "      <td>-87.666524</td>\n",
       "      <td>0.000000</td>\n",
       "    </tr>\n",
       "    <tr>\n",
       "      <th>75%</th>\n",
       "      <td>1.946952e+06</td>\n",
       "      <td>2.215507e+06</td>\n",
       "      <td>60643.000000</td>\n",
       "      <td>41.939167</td>\n",
       "      <td>-87.634461</td>\n",
       "      <td>1.000000</td>\n",
       "    </tr>\n",
       "    <tr>\n",
       "      <th>max</th>\n",
       "      <td>2.279709e+06</td>\n",
       "      <td>8.700606e+06</td>\n",
       "      <td>60827.000000</td>\n",
       "      <td>42.021064</td>\n",
       "      <td>-87.525094</td>\n",
       "      <td>1.000000</td>\n",
       "    </tr>\n",
       "  </tbody>\n",
       "</table>\n",
       "</div>"
      ],
      "text/plain": [
       "       Inspection ID     License #           Zip      Latitude     Longitude  \\\n",
       "count   5.191600e+04  5.191100e+04  51890.000000  51718.000000  51718.000000   \n",
       "mean    1.330265e+06  1.549491e+06  60628.834669     41.879568    -87.676663   \n",
       "std     6.202664e+05  9.018283e+05     22.736963      0.081126      0.059509   \n",
       "min     4.425000e+04  0.000000e+00  60007.000000     41.644670    -87.914428   \n",
       "25%     6.796205e+05  1.140745e+06  60614.000000     41.830296    -87.707857   \n",
       "50%     1.424226e+06  1.958619e+06  60625.000000     41.890166    -87.666524   \n",
       "75%     1.946952e+06  2.215507e+06  60643.000000     41.939167    -87.634461   \n",
       "max     2.279709e+06  8.700606e+06  60827.000000     42.021064    -87.525094   \n",
       "\n",
       "               Fail  \n",
       "count  51916.000000  \n",
       "mean       0.258610  \n",
       "std        0.437875  \n",
       "min        0.000000  \n",
       "25%        0.000000  \n",
       "50%        0.000000  \n",
       "75%        1.000000  \n",
       "max        1.000000  "
      ]
     },
     "execution_count": 18,
     "metadata": {},
     "output_type": "execute_result"
    }
   ],
   "source": [
    "train.describe()"
   ]
  },
  {
   "cell_type": "code",
   "execution_count": 19,
   "metadata": {},
   "outputs": [
    {
     "data": {
      "text/html": [
       "<div>\n",
       "<style scoped>\n",
       "    .dataframe tbody tr th:only-of-type {\n",
       "        vertical-align: middle;\n",
       "    }\n",
       "\n",
       "    .dataframe tbody tr th {\n",
       "        vertical-align: top;\n",
       "    }\n",
       "\n",
       "    .dataframe thead th {\n",
       "        text-align: right;\n",
       "    }\n",
       "</style>\n",
       "<table border=\"1\" class=\"dataframe\">\n",
       "  <thead>\n",
       "    <tr style=\"text-align: right;\">\n",
       "      <th></th>\n",
       "      <th>count</th>\n",
       "      <th>unique</th>\n",
       "      <th>top</th>\n",
       "      <th>freq</th>\n",
       "    </tr>\n",
       "  </thead>\n",
       "  <tbody>\n",
       "    <tr>\n",
       "      <th>State</th>\n",
       "      <td>51906</td>\n",
       "      <td>1</td>\n",
       "      <td>IL</td>\n",
       "      <td>51906</td>\n",
       "    </tr>\n",
       "    <tr>\n",
       "      <th>Risk</th>\n",
       "      <td>51904</td>\n",
       "      <td>3</td>\n",
       "      <td>Risk 1 (High)</td>\n",
       "      <td>37731</td>\n",
       "    </tr>\n",
       "    <tr>\n",
       "      <th>City</th>\n",
       "      <td>51863</td>\n",
       "      <td>39</td>\n",
       "      <td>CHICAGO</td>\n",
       "      <td>51659</td>\n",
       "    </tr>\n",
       "    <tr>\n",
       "      <th>Inspection Type</th>\n",
       "      <td>51915</td>\n",
       "      <td>51</td>\n",
       "      <td>Canvass</td>\n",
       "      <td>24170</td>\n",
       "    </tr>\n",
       "    <tr>\n",
       "      <th>Facility Type</th>\n",
       "      <td>51692</td>\n",
       "      <td>329</td>\n",
       "      <td>Restaurant</td>\n",
       "      <td>34264</td>\n",
       "    </tr>\n",
       "    <tr>\n",
       "      <th>Inspection Date</th>\n",
       "      <td>51916</td>\n",
       "      <td>2257</td>\n",
       "      <td>2017-03-23T00:00:00</td>\n",
       "      <td>50</td>\n",
       "    </tr>\n",
       "    <tr>\n",
       "      <th>Location</th>\n",
       "      <td>51718</td>\n",
       "      <td>13410</td>\n",
       "      <td>{'longitude': '-87.91442843927047', 'latitude'...</td>\n",
       "      <td>741</td>\n",
       "    </tr>\n",
       "    <tr>\n",
       "      <th>Address</th>\n",
       "      <td>51916</td>\n",
       "      <td>13954</td>\n",
       "      <td>11601 W TOUHY AVE</td>\n",
       "      <td>741</td>\n",
       "    </tr>\n",
       "    <tr>\n",
       "      <th>AKA Name</th>\n",
       "      <td>51293</td>\n",
       "      <td>16350</td>\n",
       "      <td>SUBWAY</td>\n",
       "      <td>802</td>\n",
       "    </tr>\n",
       "    <tr>\n",
       "      <th>DBA Name</th>\n",
       "      <td>51916</td>\n",
       "      <td>17049</td>\n",
       "      <td>SUBWAY</td>\n",
       "      <td>654</td>\n",
       "    </tr>\n",
       "    <tr>\n",
       "      <th>Violations</th>\n",
       "      <td>42261</td>\n",
       "      <td>42164</td>\n",
       "      <td>38. VENTILATION: ROOMS AND EQUIPMENT VENTED AS...</td>\n",
       "      <td>3</td>\n",
       "    </tr>\n",
       "  </tbody>\n",
       "</table>\n",
       "</div>"
      ],
      "text/plain": [
       "                 count unique  \\\n",
       "State            51906      1   \n",
       "Risk             51904      3   \n",
       "City             51863     39   \n",
       "Inspection Type  51915     51   \n",
       "Facility Type    51692    329   \n",
       "Inspection Date  51916   2257   \n",
       "Location         51718  13410   \n",
       "Address          51916  13954   \n",
       "AKA Name         51293  16350   \n",
       "DBA Name         51916  17049   \n",
       "Violations       42261  42164   \n",
       "\n",
       "                                                               top   freq  \n",
       "State                                                           IL  51906  \n",
       "Risk                                                 Risk 1 (High)  37731  \n",
       "City                                                       CHICAGO  51659  \n",
       "Inspection Type                                            Canvass  24170  \n",
       "Facility Type                                           Restaurant  34264  \n",
       "Inspection Date                                2017-03-23T00:00:00     50  \n",
       "Location         {'longitude': '-87.91442843927047', 'latitude'...    741  \n",
       "Address                                         11601 W TOUHY AVE     741  \n",
       "AKA Name                                                    SUBWAY    802  \n",
       "DBA Name                                                    SUBWAY    654  \n",
       "Violations       38. VENTILATION: ROOMS AND EQUIPMENT VENTED AS...      3  "
      ]
     },
     "execution_count": 19,
     "metadata": {},
     "output_type": "execute_result"
    }
   ],
   "source": [
    "train.describe(exclude='number').T.sort_values(by='unique')"
   ]
  },
  {
   "cell_type": "code",
   "execution_count": 20,
   "metadata": {},
   "outputs": [
    {
     "data": {
      "text/html": [
       "<div>\n",
       "<style scoped>\n",
       "    .dataframe tbody tr th:only-of-type {\n",
       "        vertical-align: middle;\n",
       "    }\n",
       "\n",
       "    .dataframe tbody tr th {\n",
       "        vertical-align: top;\n",
       "    }\n",
       "\n",
       "    .dataframe thead th {\n",
       "        text-align: right;\n",
       "    }\n",
       "</style>\n",
       "<table border=\"1\" class=\"dataframe\">\n",
       "  <thead>\n",
       "    <tr style=\"text-align: right;\">\n",
       "      <th></th>\n",
       "      <th>Inspection ID</th>\n",
       "      <th>DBA Name</th>\n",
       "      <th>AKA Name</th>\n",
       "      <th>License #</th>\n",
       "      <th>Facility Type</th>\n",
       "      <th>Risk</th>\n",
       "      <th>Address</th>\n",
       "      <th>City</th>\n",
       "      <th>State</th>\n",
       "      <th>Zip</th>\n",
       "      <th>Inspection Date</th>\n",
       "      <th>Inspection Type</th>\n",
       "      <th>Violations</th>\n",
       "      <th>Latitude</th>\n",
       "      <th>Longitude</th>\n",
       "      <th>Location</th>\n",
       "      <th>Fail</th>\n",
       "    </tr>\n",
       "  </thead>\n",
       "  <tbody>\n",
       "    <tr>\n",
       "      <th>0</th>\n",
       "      <td>2088270</td>\n",
       "      <td>TOM YUM RICE &amp; NOODLE, INC.</td>\n",
       "      <td>TOM YUM CAFE</td>\n",
       "      <td>2354911.0</td>\n",
       "      <td>Restaurant</td>\n",
       "      <td>Risk 1 (High)</td>\n",
       "      <td>608 W BARRY</td>\n",
       "      <td>CHICAGO</td>\n",
       "      <td>IL</td>\n",
       "      <td>60657.0</td>\n",
       "      <td>2017-09-15T00:00:00</td>\n",
       "      <td>Canvass</td>\n",
       "      <td>3. POTENTIALLY HAZARDOUS FOOD MEETS TEMPERATUR...</td>\n",
       "      <td>41.938007</td>\n",
       "      <td>-87.644755</td>\n",
       "      <td>{'longitude': '-87.6447545707008', 'latitude':...</td>\n",
       "      <td>1</td>\n",
       "    </tr>\n",
       "    <tr>\n",
       "      <th>1</th>\n",
       "      <td>555268</td>\n",
       "      <td>FILLING STATION  &amp; CONVENIENCE  STORE</td>\n",
       "      <td>FILLING STATION  &amp; CONVENIENCE  STORE</td>\n",
       "      <td>1044901.0</td>\n",
       "      <td>Grocery Store</td>\n",
       "      <td>Risk 3 (Low)</td>\n",
       "      <td>6646-6658 S WESTERN AVE</td>\n",
       "      <td>CHICAGO</td>\n",
       "      <td>IL</td>\n",
       "      <td>60636.0</td>\n",
       "      <td>2011-10-20T00:00:00</td>\n",
       "      <td>Complaint Re-Inspection</td>\n",
       "      <td>32. FOOD AND NON-FOOD CONTACT SURFACES PROPERL...</td>\n",
       "      <td>41.772402</td>\n",
       "      <td>-87.683603</td>\n",
       "      <td>{'longitude': '-87.68360273081268', 'latitude'...</td>\n",
       "      <td>0</td>\n",
       "    </tr>\n",
       "    <tr>\n",
       "      <th>2</th>\n",
       "      <td>1751394</td>\n",
       "      <td>A P DELI</td>\n",
       "      <td>A P DELI</td>\n",
       "      <td>47405.0</td>\n",
       "      <td>Restaurant</td>\n",
       "      <td>Risk 1 (High)</td>\n",
       "      <td>2025 E 75TH ST</td>\n",
       "      <td>CHICAGO</td>\n",
       "      <td>IL</td>\n",
       "      <td>60649.0</td>\n",
       "      <td>2016-04-05T00:00:00</td>\n",
       "      <td>Canvass Re-Inspection</td>\n",
       "      <td>35. WALLS, CEILINGS, ATTACHED EQUIPMENT CONSTR...</td>\n",
       "      <td>41.758779</td>\n",
       "      <td>-87.575054</td>\n",
       "      <td>{'longitude': '-87.57505446746121', 'latitude'...</td>\n",
       "      <td>0</td>\n",
       "    </tr>\n",
       "    <tr>\n",
       "      <th>3</th>\n",
       "      <td>1763905</td>\n",
       "      <td>FRANK'S CHICAGO SHRIMP HOUSE</td>\n",
       "      <td>FRANK'S CHICAGO SHRIMP HOUSE</td>\n",
       "      <td>6414.0</td>\n",
       "      <td>Restaurant</td>\n",
       "      <td>Risk 2 (Medium)</td>\n",
       "      <td>4459 S ARCHER AVE</td>\n",
       "      <td>CHICAGO</td>\n",
       "      <td>IL</td>\n",
       "      <td>60632.0</td>\n",
       "      <td>2016-04-29T00:00:00</td>\n",
       "      <td>Canvass</td>\n",
       "      <td>38. VENTILATION: ROOMS AND EQUIPMENT VENTED AS...</td>\n",
       "      <td>41.812181</td>\n",
       "      <td>-87.707125</td>\n",
       "      <td>{'longitude': '-87.70712481334274', 'latitude'...</td>\n",
       "      <td>0</td>\n",
       "    </tr>\n",
       "    <tr>\n",
       "      <th>4</th>\n",
       "      <td>453326</td>\n",
       "      <td>MORRILL</td>\n",
       "      <td>MORRILL</td>\n",
       "      <td>24571.0</td>\n",
       "      <td>School</td>\n",
       "      <td>Risk 1 (High)</td>\n",
       "      <td>6011 S Rockwell (2600W) AVE</td>\n",
       "      <td>CHICAGO</td>\n",
       "      <td>IL</td>\n",
       "      <td>60629.0</td>\n",
       "      <td>2011-01-10T00:00:00</td>\n",
       "      <td>Canvass</td>\n",
       "      <td>34. FLOORS: CONSTRUCTED PER CODE, CLEANED, GOO...</td>\n",
       "      <td>NaN</td>\n",
       "      <td>NaN</td>\n",
       "      <td>NaN</td>\n",
       "      <td>0</td>\n",
       "    </tr>\n",
       "  </tbody>\n",
       "</table>\n",
       "</div>"
      ],
      "text/plain": [
       "   Inspection ID                               DBA Name  \\\n",
       "0        2088270            TOM YUM RICE & NOODLE, INC.   \n",
       "1         555268  FILLING STATION  & CONVENIENCE  STORE   \n",
       "2        1751394                               A P DELI   \n",
       "3        1763905           FRANK'S CHICAGO SHRIMP HOUSE   \n",
       "4         453326                                MORRILL   \n",
       "\n",
       "                                AKA Name  License #  Facility Type  \\\n",
       "0                           TOM YUM CAFE  2354911.0     Restaurant   \n",
       "1  FILLING STATION  & CONVENIENCE  STORE  1044901.0  Grocery Store   \n",
       "2                               A P DELI    47405.0     Restaurant   \n",
       "3           FRANK'S CHICAGO SHRIMP HOUSE     6414.0     Restaurant   \n",
       "4                                MORRILL    24571.0         School   \n",
       "\n",
       "              Risk                       Address     City State      Zip  \\\n",
       "0    Risk 1 (High)                  608 W BARRY   CHICAGO    IL  60657.0   \n",
       "1     Risk 3 (Low)      6646-6658 S WESTERN AVE   CHICAGO    IL  60636.0   \n",
       "2    Risk 1 (High)               2025 E 75TH ST   CHICAGO    IL  60649.0   \n",
       "3  Risk 2 (Medium)            4459 S ARCHER AVE   CHICAGO    IL  60632.0   \n",
       "4    Risk 1 (High)  6011 S Rockwell (2600W) AVE   CHICAGO    IL  60629.0   \n",
       "\n",
       "       Inspection Date          Inspection Type  \\\n",
       "0  2017-09-15T00:00:00                  Canvass   \n",
       "1  2011-10-20T00:00:00  Complaint Re-Inspection   \n",
       "2  2016-04-05T00:00:00    Canvass Re-Inspection   \n",
       "3  2016-04-29T00:00:00                  Canvass   \n",
       "4  2011-01-10T00:00:00                  Canvass   \n",
       "\n",
       "                                          Violations   Latitude  Longitude  \\\n",
       "0  3. POTENTIALLY HAZARDOUS FOOD MEETS TEMPERATUR...  41.938007 -87.644755   \n",
       "1  32. FOOD AND NON-FOOD CONTACT SURFACES PROPERL...  41.772402 -87.683603   \n",
       "2  35. WALLS, CEILINGS, ATTACHED EQUIPMENT CONSTR...  41.758779 -87.575054   \n",
       "3  38. VENTILATION: ROOMS AND EQUIPMENT VENTED AS...  41.812181 -87.707125   \n",
       "4  34. FLOORS: CONSTRUCTED PER CODE, CLEANED, GOO...        NaN        NaN   \n",
       "\n",
       "                                            Location  Fail  \n",
       "0  {'longitude': '-87.6447545707008', 'latitude':...     1  \n",
       "1  {'longitude': '-87.68360273081268', 'latitude'...     0  \n",
       "2  {'longitude': '-87.57505446746121', 'latitude'...     0  \n",
       "3  {'longitude': '-87.70712481334274', 'latitude'...     0  \n",
       "4                                                NaN     0  "
      ]
     },
     "execution_count": 20,
     "metadata": {},
     "output_type": "execute_result"
    }
   ],
   "source": [
    "train.head()"
   ]
  },
  {
   "cell_type": "code",
   "execution_count": 21,
   "metadata": {},
   "outputs": [
    {
     "data": {
      "image/png": "[encoded data removed]",
      "text/plain": [
       "<Figure size 432x288 with 1 Axes>"
      ]
     },
     "metadata": {
      "needs_background": "light"
     },
     "output_type": "display_data"
    }
   ],
   "source": [
    "# Look at target variable distribution: check for class imbalance\n",
    "sns.distplot(train['Fail']);"
   ]
  },
  {
   "cell_type": "code",
   "execution_count": 22,
   "metadata": {},
   "outputs": [],
   "source": [
    "# Drop non-predictive and duplicative features, and engineer features\n",
    "def wrangle(X):\n",
    "    df = X.copy()\n",
    "    encoder_ord = ce.OrdinalEncoder()\n",
    "\n",
    "    # Encode Violations as a numeric feature\n",
    "    df[\"Violation_Text_Length\"] = df[\"Violations\"].str.split(\" \").str.len()\n",
    "\n",
    "    # Drop\n",
    "    df.drop(\n",
    "        columns=[\"State\", \"Location\", \"Address\", \"AKA Name\", \"DBA Name\", \"Violations\"],\n",
    "        inplace=True,\n",
    "    )\n",
    "\n",
    "    # Convert: similar to Jake VDP's method\n",
    "    df[\"Inspection Date\"] = pd.to_datetime(\n",
    "        df[\"Inspection Date\"], infer_datetime_format=True\n",
    "    ).values.astype(np.float)\n",
    "    df[\"Inspection Date\"] = (\n",
    "        df[\"Inspection Date\"] - df[\"Inspection Date\"].min()\n",
    "    ) / 365.0\n",
    "\n",
    "    df[\n",
    "        [\"City\", \"Risk\", \"Inspection Type\", \"Facility Type\"]\n",
    "    ] = encoder_ord.fit_transform(\n",
    "        df[[\"City\", \"Risk\", \"Inspection Type\", \"Facility Type\"]]\n",
    "    )\n",
    "\n",
    "    return df"
   ]
  },
  {
   "cell_type": "code",
   "execution_count": 23,
   "metadata": {},
   "outputs": [],
   "source": [
    "# Now wrangle train and test sets\n",
    "# What happens to the train set must also happen to the test set\n",
    "X_train = wrangle(train).drop(columns=\"Fail\")\n",
    "X_test = wrangle(test).drop(columns=\"Fail\")\n",
    "y_train = train[\"Fail\"]\n",
    "y_test = test[\"Fail\"]"
   ]
  },
  {
   "cell_type": "code",
   "execution_count": 24,
   "metadata": {},
   "outputs": [
    {
     "data": {
      "text/plain": [
       "Inspection ID               0\n",
       "License #                   5\n",
       "Facility Type               0\n",
       "Risk                        0\n",
       "City                        0\n",
       "Zip                        26\n",
       "Inspection Date             0\n",
       "Inspection Type             0\n",
       "Latitude                  198\n",
       "Longitude                 198\n",
       "Violation_Text_Length    9655\n",
       "dtype: int64"
      ]
     },
     "execution_count": 24,
     "metadata": {},
     "output_type": "execute_result"
    }
   ],
   "source": [
    "X_train.isna().sum()"
   ]
  },
  {
   "cell_type": "code",
   "execution_count": 25,
   "metadata": {},
   "outputs": [],
   "source": [
    "X_train.fillna(X_train.median(), inplace=True)\n",
    "X_test.fillna(X_test.median(), inplace=True)"
   ]
  },
  {
   "cell_type": "code",
   "execution_count": 26,
   "metadata": {},
   "outputs": [
    {
     "data": {
      "text/plain": [
       "Fail                     1.000000\n",
       "Violation_Text_Length    0.544683\n",
       "Inspection Type          0.084138\n",
       "License #                0.043235\n",
       "Risk                     0.019954\n",
       "Longitude                0.015747\n",
       "Zip                      0.014190\n",
       "Inspection Date          0.013286\n",
       "Facility Type            0.011775\n",
       "Inspection ID            0.004624\n",
       "City                    -0.010147\n",
       "Latitude                -0.014143\n",
       "Name: Fail, dtype: float64"
      ]
     },
     "execution_count": 26,
     "metadata": {},
     "output_type": "execute_result"
    }
   ],
   "source": [
    "wrangle(train).corr()['Fail'].sort_values(ascending=False)"
   ]
  },
  {
   "cell_type": "markdown",
   "metadata": {},
   "source": [
    "**Above**, it is shown that `Violation_Text_Length` is the source of data leakage. In production usage the model would not have access to this data because it wouldn't have been \"generated\" by the inspector yet. This information is only available after the verdict of Pass or Fail has been given, so it must be dropped before the model is fit."
   ]
  },
  {
   "cell_type": "code",
   "execution_count": 27,
   "metadata": {},
   "outputs": [],
   "source": [
    "X_train.drop(columns=\"Violation_Text_Length\", inplace=True)\n",
    "X_test.drop(columns=\"Violation_Text_Length\", inplace=True)"
   ]
  },
  {
   "cell_type": "markdown",
   "metadata": {},
   "source": [
    "------------------"
   ]
  },
  {
   "cell_type": "markdown",
   "metadata": {},
   "source": [
    "### Part 2: Modeling\n",
    "\n",
    "**Fit a model** with the train set. (You may use scikit-learn, xgboost, or any other library.) **Use cross-validation** to **do hyperparameter optimization**, and **estimate your ROC AUC** validation score.\n",
    "\n",
    "Use your model to **predict probabilities** for the test set. **Get an ROC AUC test score >= 0.60.**\n",
    "\n",
    "_To earn a score of 3 for this part, get an ROC AUC test score >= 0.70 (without using the feature with leakage)._"
   ]
  },
  {
   "cell_type": "code",
   "execution_count": 28,
   "metadata": {},
   "outputs": [
    {
     "name": "stdout",
     "output_type": "stream",
     "text": [
      "Fitting 3 folds for each of 5 candidates, totalling 15 fits\n"
     ]
    },
    {
     "name": "stderr",
     "output_type": "stream",
     "text": [
      "[Parallel(n_jobs=-1)]: Using backend LokyBackend with 12 concurrent workers.\n",
      "[Parallel(n_jobs=-1)]: Done   4 out of  15 | elapsed:   13.6s remaining:   37.6s\n",
      "[Parallel(n_jobs=-1)]: Done  10 out of  15 | elapsed:   28.3s remaining:   14.1s\n",
      "[Parallel(n_jobs=-1)]: Done  15 out of  15 | elapsed:   29.8s finished\n"
     ]
    },
    {
     "data": {
      "text/plain": [
       "RandomizedSearchCV(cv=3, error_score='raise-deprecating',\n",
       "          estimator=XGBClassifier(base_score=0.5, booster='gbtree', colsample_bylevel=1,\n",
       "       colsample_bytree=1, gamma=0, learning_rate=0.1, max_delta_step=0,\n",
       "       max_depth=3, min_child_weight=1, missing=None, n_estimators=100,\n",
       "       n_jobs=-1, nthread=None, objective='binary:logistic',\n",
       "       random_state=42, reg_alpha=0, reg_lambda=1, scale_pos_weight=1,\n",
       "       seed=None, silent=True, subsample=1),\n",
       "          fit_params=None, iid='warn', n_iter=5, n_jobs=-1,\n",
       "          param_distributions={'n_estimators': <scipy.stats._distn_infrastructure.rv_frozen object at 0x000001E1EA62DFD0>, 'max_depth': <scipy.stats._distn_infrastructure.rv_frozen object at 0x000001E1EA628198>},\n",
       "          pre_dispatch='2*n_jobs', random_state=42, refit=True,\n",
       "          return_train_score=True, scoring='roc_auc', verbose=3)"
      ]
     },
     "execution_count": 28,
     "metadata": {},
     "output_type": "execute_result"
    }
   ],
   "source": [
    "# Decision trees aren't very sensitive to scaling, so its not performed here\n",
    "\n",
    "# Hyperparamter optimization\n",
    "param_distributions = {\"n_estimators\": randint(50, 300), \"max_depth\": randint(2, 5)}\n",
    "\n",
    "search = RandomizedSearchCV(\n",
    "    estimator=XGBClassifier(n_jobs=-1, random_state=42),\n",
    "    param_distributions=param_distributions,\n",
    "    n_iter=5,\n",
    "    scoring=\"roc_auc\",\n",
    "    n_jobs=-1,\n",
    "    cv=3,\n",
    "    verbose=3,\n",
    "    return_train_score=True,\n",
    "    random_state=42,\n",
    ")\n",
    "\n",
    "search.fit(X_train.values, y_train.values)"
   ]
  },
  {
   "cell_type": "code",
   "execution_count": 29,
   "metadata": {},
   "outputs": [
    {
     "name": "stdout",
     "output_type": "stream",
     "text": [
      "Best estimator ROC AUC score:  0.7305793147459074\n"
     ]
    }
   ],
   "source": [
    "best = search.best_estimator_\n",
    "print(\"Best estimator ROC AUC score: \", search.best_score_)"
   ]
  },
  {
   "cell_type": "code",
   "execution_count": 30,
   "metadata": {},
   "outputs": [
    {
     "data": {
      "text/plain": [
       "City               0.012537\n",
       "Risk               0.022765\n",
       "Facility Type      0.067634\n",
       "Zip                0.069614\n",
       "Inspection Date    0.096668\n",
       "Inspection Type    0.096998\n",
       "Longitude          0.136259\n",
       "License #          0.137248\n",
       "Latitude           0.141537\n",
       "Inspection ID      0.218740\n",
       "dtype: float32"
      ]
     },
     "execution_count": 30,
     "metadata": {},
     "output_type": "execute_result"
    }
   ],
   "source": [
    "pd.Series(best.feature_importances_, X_train.columns).sort_values()"
   ]
  },
  {
   "cell_type": "code",
   "execution_count": 31,
   "metadata": {},
   "outputs": [
    {
     "name": "stdout",
     "output_type": "stream",
     "text": [
      "Test ROC AUC: 0.6468852364799114\n"
     ]
    }
   ],
   "source": [
    "y_pred_proba = best.predict_proba(X_test.values)[:, 1]\n",
    "print(\"Test ROC AUC:\", roc_auc_score(y_test, y_pred_proba))"
   ]
  },
  {
   "cell_type": "markdown",
   "metadata": {},
   "source": [
    "----------------"
   ]
  },
  {
   "cell_type": "markdown",
   "metadata": {},
   "source": [
    "### Part 3: Visualization\n",
    "\n",
    "Make one visualization for model interpretation. (You may use any libraries.) Choose one of these types:\n",
    "\n",
    "- Feature Importances\n",
    "- Permutation Importances\n",
    "- Partial Dependence Plot\n",
    "- Shapley Values\n",
    "\n",
    "_To earn a score of 3 for this part, make at least two of these visualization types._"
   ]
  },
  {
   "cell_type": "code",
   "execution_count": 32,
   "metadata": {},
   "outputs": [
    {
     "data": {
      "application/vnd.vegalite.v2+json": {
       "$schema": "https://vega.github.io/schema/vega-lite/v2.6.0.json",
       "config": {
        "view": {
         "height": 300,
         "width": 400
        }
       },
       "data": {
        "name": "data-b0b151a1ae36d7632b2e95d610254ef8"
       },
       "datasets": {
        "data-b0b151a1ae36d7632b2e95d610254ef8": [
         {
          "feature": "Inspection ID",
          "importance": 0.21873968839645386
         },
         {
          "feature": "License #",
          "importance": 0.1372484266757965
         },
         {
          "feature": "Facility Type",
          "importance": 0.06763444095849991
         },
         {
          "feature": "Risk",
          "importance": 0.022764764726161957
         },
         {
          "feature": "City",
          "importance": 0.012537116184830666
         },
         {
          "feature": "Zip",
          "importance": 0.0696139857172966
         },
         {
          "feature": "Inspection Date",
          "importance": 0.09666776657104492
         },
         {
          "feature": "Inspection Type",
          "importance": 0.0969976931810379
         },
         {
          "feature": "Latitude",
          "importance": 0.14153744280338287
         },
         {
          "feature": "Longitude",
          "importance": 0.13625866174697876
         }
        ]
       },
       "encoding": {
        "x": {
         "field": "importance",
         "title": "Importance",
         "type": "quantitative"
        },
        "y": {
         "field": "feature",
         "sort": {
          "field": "importance",
          "op": "sum",
          "order": "ascending"
         },
         "title": "Feature",
         "type": "nominal"
        }
       },
       "height": 600,
       "mark": "bar"
      },
      "image/png": "[encoded data removed]",
      "text/plain": [
       "<VegaLite 2 object>\n",
       "\n",
       "If you see this message, it means the renderer has not been properly enabled\n",
       "for the frontend that you are using. For more information, see\n",
       "https://altair-viz.github.io/user_guide/troubleshooting.html\n"
      ]
     },
     "execution_count": 32,
     "metadata": {},
     "output_type": "execute_result"
    }
   ],
   "source": [
    "# Create DataFrame of features and importances\n",
    "importances = pd.DataFrame(\n",
    "    {\"feature\": X_train.columns.tolist(), \"importance\": best.feature_importances_}\n",
    ")\n",
    "\n",
    "# Create bar chart object\n",
    "bars = (\n",
    "    alt.Chart(importances)\n",
    "    .mark_bar()\n",
    "    .encode(\n",
    "        alt.X(\"importance:Q\", title=\"Importance\"),\n",
    "        alt.Y(\n",
    "            \"feature:N\",\n",
    "            title=\"Feature\",\n",
    "            sort=alt.EncodingSortField(field=\"importance\", op=\"sum\", order=\"ascending\"),\n",
    "        ),\n",
    "    )\n",
    ")\n",
    "\n",
    "# Plot\n",
    "bars.properties(height=600)"
   ]
  },
  {
   "cell_type": "code",
   "execution_count": 33,
   "metadata": {},
   "outputs": [
    {
     "data": {
      "text/html": [
       "\n",
       "    <style>\n",
       "    table.eli5-weights tr:hover {\n",
       "        filter: brightness(85%);\n",
       "    }\n",
       "</style>\n",
       "\n",
       "\n",
       "\n",
       "    \n",
       "\n",
       "    \n",
       "\n",
       "    \n",
       "\n",
       "    \n",
       "\n",
       "    \n",
       "\n",
       "    \n",
       "\n",
       "\n",
       "    \n",
       "\n",
       "    \n",
       "\n",
       "    \n",
       "\n",
       "    \n",
       "\n",
       "    \n",
       "\n",
       "    \n",
       "\n",
       "\n",
       "    \n",
       "\n",
       "    \n",
       "\n",
       "    \n",
       "\n",
       "    \n",
       "\n",
       "    \n",
       "        <table class=\"eli5-weights eli5-feature-importances\" style=\"border-collapse: collapse; border: none; margin-top: 0em; table-layout: auto;\">\n",
       "    <thead>\n",
       "    <tr style=\"border: none;\">\n",
       "        <th style=\"padding: 0 1em 0 0.5em; text-align: right; border: none;\">Weight</th>\n",
       "        <th style=\"padding: 0 0.5em 0 0.5em; text-align: left; border: none;\">Feature</th>\n",
       "    </tr>\n",
       "    </thead>\n",
       "    <tbody>\n",
       "    \n",
       "        <tr style=\"background-color: hsl(120, 100.00%, 80.00%); border: none;\">\n",
       "            <td style=\"padding: 0 1em 0 0.5em; text-align: right; border: none;\">\n",
       "                0.4507\n",
       "                \n",
       "            </td>\n",
       "            <td style=\"padding: 0 0.5em 0 0.5em; text-align: left; border: none;\">\n",
       "                Inspection Type\n",
       "            </td>\n",
       "        </tr>\n",
       "    \n",
       "        <tr style=\"background-color: hsl(120, 100.00%, 93.59%); border: none;\">\n",
       "            <td style=\"padding: 0 1em 0 0.5em; text-align: right; border: none;\">\n",
       "                0.0887\n",
       "                \n",
       "            </td>\n",
       "            <td style=\"padding: 0 0.5em 0 0.5em; text-align: left; border: none;\">\n",
       "                Inspection ID\n",
       "            </td>\n",
       "        </tr>\n",
       "    \n",
       "        <tr style=\"background-color: hsl(120, 100.00%, 94.12%); border: none;\">\n",
       "            <td style=\"padding: 0 1em 0 0.5em; text-align: right; border: none;\">\n",
       "                0.0785\n",
       "                \n",
       "            </td>\n",
       "            <td style=\"padding: 0 0.5em 0 0.5em; text-align: left; border: none;\">\n",
       "                Zip\n",
       "            </td>\n",
       "        </tr>\n",
       "    \n",
       "        <tr style=\"background-color: hsl(120, 100.00%, 94.59%); border: none;\">\n",
       "            <td style=\"padding: 0 1em 0 0.5em; text-align: right; border: none;\">\n",
       "                0.0697\n",
       "                \n",
       "            </td>\n",
       "            <td style=\"padding: 0 0.5em 0 0.5em; text-align: left; border: none;\">\n",
       "                Facility Type\n",
       "            </td>\n",
       "        </tr>\n",
       "    \n",
       "        <tr style=\"background-color: hsl(120, 100.00%, 94.76%); border: none;\">\n",
       "            <td style=\"padding: 0 1em 0 0.5em; text-align: right; border: none;\">\n",
       "                0.0665\n",
       "                \n",
       "            </td>\n",
       "            <td style=\"padding: 0 0.5em 0 0.5em; text-align: left; border: none;\">\n",
       "                License #\n",
       "            </td>\n",
       "        </tr>\n",
       "    \n",
       "        <tr style=\"background-color: hsl(120, 100.00%, 95.03%); border: none;\">\n",
       "            <td style=\"padding: 0 1em 0 0.5em; text-align: right; border: none;\">\n",
       "                0.0617\n",
       "                \n",
       "            </td>\n",
       "            <td style=\"padding: 0 0.5em 0 0.5em; text-align: left; border: none;\">\n",
       "                Latitude\n",
       "            </td>\n",
       "        </tr>\n",
       "    \n",
       "        <tr style=\"background-color: hsl(120, 100.00%, 95.21%); border: none;\">\n",
       "            <td style=\"padding: 0 1em 0 0.5em; text-align: right; border: none;\">\n",
       "                0.0585\n",
       "                \n",
       "            </td>\n",
       "            <td style=\"padding: 0 0.5em 0 0.5em; text-align: left; border: none;\">\n",
       "                Inspection Date\n",
       "            </td>\n",
       "        </tr>\n",
       "    \n",
       "        <tr style=\"background-color: hsl(120, 100.00%, 95.26%); border: none;\">\n",
       "            <td style=\"padding: 0 1em 0 0.5em; text-align: right; border: none;\">\n",
       "                0.0577\n",
       "                \n",
       "            </td>\n",
       "            <td style=\"padding: 0 0.5em 0 0.5em; text-align: left; border: none;\">\n",
       "                Longitude\n",
       "            </td>\n",
       "        </tr>\n",
       "    \n",
       "        <tr style=\"background-color: hsl(120, 100.00%, 95.80%); border: none;\">\n",
       "            <td style=\"padding: 0 1em 0 0.5em; text-align: right; border: none;\">\n",
       "                0.0485\n",
       "                \n",
       "            </td>\n",
       "            <td style=\"padding: 0 0.5em 0 0.5em; text-align: left; border: none;\">\n",
       "                Risk\n",
       "            </td>\n",
       "        </tr>\n",
       "    \n",
       "        <tr style=\"background-color: hsl(120, 100.00%, 97.77%); border: none;\">\n",
       "            <td style=\"padding: 0 1em 0 0.5em; text-align: right; border: none;\">\n",
       "                0.0196\n",
       "                \n",
       "            </td>\n",
       "            <td style=\"padding: 0 0.5em 0 0.5em; text-align: left; border: none;\">\n",
       "                City\n",
       "            </td>\n",
       "        </tr>\n",
       "    \n",
       "    \n",
       "    </tbody>\n",
       "</table>\n",
       "    \n",
       "\n",
       "    \n",
       "\n",
       "\n",
       "    \n",
       "\n",
       "    \n",
       "\n",
       "    \n",
       "\n",
       "    \n",
       "\n",
       "    \n",
       "\n",
       "    \n",
       "\n",
       "\n",
       "\n"
      ],
      "text/plain": [
       "Explanation(estimator=\"XGBClassifier(base_score=0.5, booster='gbtree', colsample_bylevel=1,\\n       colsample_bytree=1, gamma=0, learning_rate=0.1, max_delta_step=0,\\n       max_depth=4, min_child_weight=1, missing=None, n_estimators=229,\\n       n_jobs=-1, nthread=None, objective='binary:logistic',\\n       random_state=42, reg_alpha=0, reg_lambda=1, scale_pos_weight=1,\\n       seed=None, silent=True, subsample=1)\", description='\\nXGBoost feature importances; values are numbers 0 <= x <= 1;\\nall values sum to 1.\\n', error=None, method='feature importances', is_regression=False, targets=None, feature_importances=FeatureImportances(importances=[FeatureWeight(feature='Inspection Type', weight=0.4506637, std=None, value=None), FeatureWeight(feature='Inspection ID', weight=0.08870309, std=None, value=None), FeatureWeight(feature='Zip', weight=0.07845577, std=None, value=None), FeatureWeight(feature='Facility Type', weight=0.06968191, std=None, value=None), FeatureWeight(feature='License #', weight=0.0664605, std=None, value=None), FeatureWeight(feature='Latitude', weight=0.06167192, std=None, value=None), FeatureWeight(feature='Inspection Date', weight=0.058549307, std=None, value=None), FeatureWeight(feature='Longitude', weight=0.05768942, std=None, value=None), FeatureWeight(feature='Risk', weight=0.048502944, std=None, value=None), FeatureWeight(feature='City', weight=0.019621508, std=None, value=None)], remaining=0), decision_tree=None, highlight_spaces=None, transition_features=None)"
      ]
     },
     "execution_count": 33,
     "metadata": {},
     "output_type": "execute_result"
    }
   ],
   "source": [
    "feature_names = X_test.columns.tolist()\n",
    "explain_weights_xgboost(best, top=None, feature_names=feature_names)"
   ]
  },
  {
   "cell_type": "markdown",
   "metadata": {},
   "source": [
    "-----------"
   ]
  },
  {
   "cell_type": "markdown",
   "metadata": {},
   "source": [
    "### Part 4: Gradient Descent\n",
    "\n",
    "Answer both of these two questions:\n",
    "\n",
    "- What does Gradient Descent seek to minimize?\n",
    "- What is the \"Learning Rate\" and what is its function?\n",
    "\n",
    "One sentence is sufficient for each.\n",
    "\n",
    "_To earn a score of 3 for this part, go above and beyond. Show depth of understanding and mastery of intuition in your answers._"
   ]
  },
  {
   "cell_type": "markdown",
   "metadata": {},
   "source": [
    "**What does Gradient Descent seek to minimize?**\n",
    "\n",
    "* Gradient Descent seeks to minimize the cost function. A cost function may also be referred to as a loss function, scoring function, or error function. An example of a cost function is the Sum of Squared Error. The Sum of Squared Error metric is especially useful when gradient descent is being applied to various forms of linear regression; univariate, bivariate, etc., as well as many other linear and polynomial functions.\n",
    "\n",
    "**What is the \"Learning Rate\" and what is its function?**\n",
    "\n",
    "* The learning rate is the coefficient (of the negative gradient) that scales the distance of the X-value for each iteration of Gradient Descent. The higher the learning rate is set the more likely it is that the Gradient Descent algorithm will overcorrect- jump \"over\" the minima- and not reach convergence. Finding an appropriate learning rate / \"alpha\" is one way to optimize the execution of Gradient Descent if necessary. When the alpha is set too low many iterations are necessary to reach the minimum, and if its too high it may never reach convergence or also take unnecessary extra iterations."
   ]
  }
 ],
 "metadata": {
  "kernelspec": {
   "display_name": "Python 3",
   "language": "python",
   "name": "python3"
  },
  "language_info": {
   "codemirror_mode": {
    "name": "ipython",
    "version": 3
   },
   "file_extension": ".py",
   "mimetype": "text/x-python",
   "name": "python",
   "nbconvert_exporter": "python",
   "pygments_lexer": "ipython3",
   "version": "3.7.3"
  }
 },
 "nbformat": 4,
 "nbformat_minor": 2
}
