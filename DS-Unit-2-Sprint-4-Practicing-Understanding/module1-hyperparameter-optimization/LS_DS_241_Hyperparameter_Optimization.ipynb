{
 "cells": [
  {
   "cell_type": "markdown",
   "metadata": {
    "colab_type": "text",
    "id": "O67uhlT4MExK"
   },
   "source": [
    "_Lambda School Data Science — Practicing & Understanding Predictive Modeling_\n",
    "\n",
    "# Hyperparameter Optimization"
   ]
  },
  {
   "cell_type": "markdown",
   "metadata": {
    "colab_type": "text",
    "id": "VE4rfZd4NUGA"
   },
   "source": [
    "Today we'll use this process:\n",
    "\n",
    "## \"A universal workflow of machine learning\"\n",
    "\n",
    "_Excerpt from Francois Chollet, [Deep Learning with Python](https://github.com/fchollet/deep-learning-with-python-notebooks/blob/master/README.md), Chapter 4: Fundamentals of machine learning_\n",
    " \n",
    "**1. Define the problem at hand and the data on which you’ll train.** Collect this data, or annotate it with labels if need be.\n",
    "\n",
    "**2. Choose how you’ll measure success on your problem.** Which metrics will you monitor on your validation data?\n",
    "\n",
    "**3. Determine your evaluation protocol:** hold-out validation? K-fold validation? Which portion of the data should you use for validation?\n",
    "\n",
    "**4. Develop a first model that does better than a basic baseline:** a model with statistical power.\n",
    "\n",
    "**5. Develop a model that overfits.** The universal tension in machine learning is between optimization and generalization; the ideal model is one that stands right at the border between underfitting and overfitting; between undercapacity and overcapacity. To figure out where this border lies, first you must cross it.\n",
    "\n",
    "**6. Regularize your model and tune its hyperparameters, based on performance on the validation data.** Repeatedly modify your model, train it, evaluate on your validation data (not the test data, at this point), modify it again, and repeat, until the model is as good as it can get. \n",
    "\n",
    "**Iterate on feature engineering: add new features, or remove features that don’t seem to be informative.** \n",
    "\n",
    "Once you’ve developed a satisfactory model configuration, you can **train your final production model on all the available data (training and validation) and evaluate it one last time on the test set.**\n"
   ]
  },
  {
   "cell_type": "markdown",
   "metadata": {
    "colab_type": "text",
    "id": "3kt6bzEcOIaa"
   },
   "source": [
    "## 1. Define the problem at hand and the data on which you'll train"
   ]
  },
  {
   "cell_type": "markdown",
   "metadata": {
    "colab_type": "text",
    "id": "di16k7vpRg67"
   },
   "source": [
    "We'll apply the workflow to a [project from _Python Data Science Handbook_](https://jakevdp.github.io/PythonDataScienceHandbook/05.06-linear-regression.html#Example:-Predicting-Bicycle-Traffic) by Jake VanderPlas:\n",
    "\n",
    "> **Predicting Bicycle Traffic**\n",
    "\n",
    "> As an example, let's take a look at whether we can predict the number of bicycle trips across Seattle's Fremont Bridge based on weather, season, and other factors.\n",
    "\n",
    "> We will join the bike data with another dataset, and try to determine the extent to which weather and seasonal factors—temperature, precipitation, and daylight hours—affect the volume of bicycle traffic through this corridor. Fortunately, the NOAA makes available their daily [weather station data](http://www.ncdc.noaa.gov/cdo-web/search?datasetid=GHCND) (I used station ID USW00024233) and we can easily use Pandas to join the two data sources.\n",
    "\n",
    "> Let's start by loading the two datasets, indexing by date:"
   ]
  },
  {
   "cell_type": "markdown",
   "metadata": {
    "colab_type": "text",
    "id": "19dpb_d0R1A6"
   },
   "source": [
    "So this is a regression problem, not a classification problem. We'll define the target, choose an evaluation metric, and choose models that are appropriate for regression problems.\n",
    "\n",
    "\n"
   ]
  },
  {
   "cell_type": "markdown",
   "metadata": {
    "colab_type": "text",
    "id": "os1zruXQ30KM"
   },
   "source": [
    "### Download data\n",
    "\n",
    "Commands for use in Colab"
   ]
  },
  {
   "cell_type": "code",
   "execution_count": 367,
   "metadata": {
    "colab": {},
    "colab_type": "code",
    "id": "5XVu-HSeMDtV"
   },
   "outputs": [],
   "source": [
    "# !curl -o FremontBridge.csv https://data.seattle.gov/api/views/65db-xm6k/rows.csv?accessType=DOWNLOAD"
   ]
  },
  {
   "cell_type": "code",
   "execution_count": 368,
   "metadata": {
    "colab": {},
    "colab_type": "code",
    "id": "sih_7mTzMdfr"
   },
   "outputs": [],
   "source": [
    "# !wget https://raw.githubusercontent.com/jakevdp/PythonDataScienceHandbook/master/notebooks/data/BicycleWeather.csv"
   ]
  },
  {
   "cell_type": "markdown",
   "metadata": {
    "colab_type": "text",
    "id": "9GYm74kD34OQ"
   },
   "source": [
    "### Load data"
   ]
  },
  {
   "cell_type": "code",
   "execution_count": 369,
   "metadata": {},
   "outputs": [],
   "source": [
    "import stackprinter\n",
    "stackprinter.set_excepthook(style='lightbg')"
   ]
  },
  {
   "cell_type": "code",
   "execution_count": 370,
   "metadata": {
    "colab": {},
    "colab_type": "code",
    "id": "BfQ7gE28MNdF"
   },
   "outputs": [],
   "source": [
    "# Modified from cells 15, 16, and 20, at\n",
    "# https://jakevdp.github.io/PythonDataScienceHandbook/05.06-linear-regression.html#Example:-Predicting-Bicycle-Traffic\n",
    "\n",
    "import pandas as pd\n",
    "\n",
    "# Download and join data into a dataframe\n",
    "def load(): \n",
    "    fremont_bridge = '~/U2S4-Practicing-Understanding/module1-hyperparameter-optimization/FremontBridge.csv'\n",
    "    \n",
    "    bicycle_weather = '~/U2S4-Practicing-Understanding/module1-hyperparameter-optimization/BicycleWeather.csv'\n",
    "\n",
    "    counts = pd.read_csv(fremont_bridge, index_col='Date', parse_dates=True, \n",
    "                         infer_datetime_format=True)\n",
    "\n",
    "    weather = pd.read_csv(bicycle_weather, index_col='DATE', parse_dates=True, \n",
    "                          infer_datetime_format=True)\n",
    "\n",
    "    daily = counts.resample('d').sum()\n",
    "    daily['Total'] = daily.sum(axis=1)\n",
    "    daily = daily[['Total']] # remove other columns\n",
    "\n",
    "    weather_columns = ['PRCP', 'SNOW', 'SNWD', 'TMAX', 'TMIN', 'AWND']\n",
    "    daily = daily.join(weather[weather_columns], how='inner')\n",
    "    \n",
    "    # Make a feature for yesterday's total\n",
    "    daily['Total_yesterday'] = daily.Total.shift(1)\n",
    "    daily = daily.drop(index=daily.index[0])\n",
    "    \n",
    "    return daily\n",
    "\n",
    "daily = load()"
   ]
  },
  {
   "cell_type": "markdown",
   "metadata": {
    "colab_type": "text",
    "id": "VVB3g4704An5"
   },
   "source": [
    "### First fast look at the data\n",
    "- What's the shape?\n",
    "- What's the date range?\n",
    "- What's the target and the features?"
   ]
  },
  {
   "cell_type": "code",
   "execution_count": 371,
   "metadata": {},
   "outputs": [
    {
     "name": "stdout",
     "output_type": "stream",
     "text": [
      "daily shape: (1063, 8)\n",
      "<class 'pandas.core.frame.DataFrame'>\n",
      "DatetimeIndex: 1063 entries, 2012-10-04 to 2015-09-01\n",
      "Data columns (total 8 columns):\n",
      "Total              1063 non-null float64\n",
      "PRCP               1063 non-null int64\n",
      "SNOW               1063 non-null int64\n",
      "SNWD               1063 non-null int64\n",
      "TMAX               1063 non-null int64\n",
      "TMIN               1063 non-null int64\n",
      "AWND               1063 non-null int64\n",
      "Total_yesterday    1063 non-null float64\n",
      "dtypes: float64(2), int64(6)\n",
      "memory usage: 74.7 KB\n"
     ]
    }
   ],
   "source": [
    "print('daily shape:', daily.shape)\n",
    "daily.info()"
   ]
  },
  {
   "cell_type": "code",
   "execution_count": 372,
   "metadata": {},
   "outputs": [
    {
     "data": {
      "text/html": [
       "<div>\n",
       "<style scoped>\n",
       "    .dataframe tbody tr th:only-of-type {\n",
       "        vertical-align: middle;\n",
       "    }\n",
       "\n",
       "    .dataframe tbody tr th {\n",
       "        vertical-align: top;\n",
       "    }\n",
       "\n",
       "    .dataframe thead th {\n",
       "        text-align: right;\n",
       "    }\n",
       "</style>\n",
       "<table border=\"1\" class=\"dataframe\">\n",
       "  <thead>\n",
       "    <tr style=\"text-align: right;\">\n",
       "      <th></th>\n",
       "      <th>Total</th>\n",
       "      <th>PRCP</th>\n",
       "      <th>SNOW</th>\n",
       "      <th>SNWD</th>\n",
       "      <th>TMAX</th>\n",
       "      <th>TMIN</th>\n",
       "      <th>AWND</th>\n",
       "      <th>Total_yesterday</th>\n",
       "    </tr>\n",
       "  </thead>\n",
       "  <tbody>\n",
       "    <tr>\n",
       "      <th>2012-10-04</th>\n",
       "      <td>3475.0</td>\n",
       "      <td>0</td>\n",
       "      <td>0</td>\n",
       "      <td>0</td>\n",
       "      <td>189</td>\n",
       "      <td>83</td>\n",
       "      <td>65</td>\n",
       "      <td>3521.0</td>\n",
       "    </tr>\n",
       "    <tr>\n",
       "      <th>2012-10-05</th>\n",
       "      <td>3148.0</td>\n",
       "      <td>0</td>\n",
       "      <td>0</td>\n",
       "      <td>0</td>\n",
       "      <td>217</td>\n",
       "      <td>89</td>\n",
       "      <td>57</td>\n",
       "      <td>3475.0</td>\n",
       "    </tr>\n",
       "    <tr>\n",
       "      <th>2012-10-06</th>\n",
       "      <td>2006.0</td>\n",
       "      <td>0</td>\n",
       "      <td>0</td>\n",
       "      <td>0</td>\n",
       "      <td>239</td>\n",
       "      <td>78</td>\n",
       "      <td>51</td>\n",
       "      <td>3148.0</td>\n",
       "    </tr>\n",
       "    <tr>\n",
       "      <th>2012-10-07</th>\n",
       "      <td>2142.0</td>\n",
       "      <td>0</td>\n",
       "      <td>0</td>\n",
       "      <td>0</td>\n",
       "      <td>239</td>\n",
       "      <td>78</td>\n",
       "      <td>13</td>\n",
       "      <td>2006.0</td>\n",
       "    </tr>\n",
       "    <tr>\n",
       "      <th>2012-10-08</th>\n",
       "      <td>3537.0</td>\n",
       "      <td>0</td>\n",
       "      <td>0</td>\n",
       "      <td>0</td>\n",
       "      <td>211</td>\n",
       "      <td>78</td>\n",
       "      <td>19</td>\n",
       "      <td>2142.0</td>\n",
       "    </tr>\n",
       "  </tbody>\n",
       "</table>\n",
       "</div>"
      ],
      "text/plain": [
       "             Total  PRCP  SNOW  SNWD  TMAX  TMIN  AWND  Total_yesterday\n",
       "2012-10-04  3475.0     0     0     0   189    83    65           3521.0\n",
       "2012-10-05  3148.0     0     0     0   217    89    57           3475.0\n",
       "2012-10-06  2006.0     0     0     0   239    78    51           3148.0\n",
       "2012-10-07  2142.0     0     0     0   239    78    13           2006.0\n",
       "2012-10-08  3537.0     0     0     0   211    78    19           2142.0"
      ]
     },
     "execution_count": 372,
     "metadata": {},
     "output_type": "execute_result"
    }
   ],
   "source": [
    "daily.head()"
   ]
  },
  {
   "cell_type": "code",
   "execution_count": 373,
   "metadata": {},
   "outputs": [
    {
     "data": {
      "text/html": [
       "<div>\n",
       "<style scoped>\n",
       "    .dataframe tbody tr th:only-of-type {\n",
       "        vertical-align: middle;\n",
       "    }\n",
       "\n",
       "    .dataframe tbody tr th {\n",
       "        vertical-align: top;\n",
       "    }\n",
       "\n",
       "    .dataframe thead th {\n",
       "        text-align: right;\n",
       "    }\n",
       "</style>\n",
       "<table border=\"1\" class=\"dataframe\">\n",
       "  <thead>\n",
       "    <tr style=\"text-align: right;\">\n",
       "      <th></th>\n",
       "      <th>Total</th>\n",
       "      <th>PRCP</th>\n",
       "      <th>SNOW</th>\n",
       "      <th>SNWD</th>\n",
       "      <th>TMAX</th>\n",
       "      <th>TMIN</th>\n",
       "      <th>AWND</th>\n",
       "      <th>Total_yesterday</th>\n",
       "    </tr>\n",
       "  </thead>\n",
       "  <tbody>\n",
       "    <tr>\n",
       "      <th>2015-08-28</th>\n",
       "      <td>2653.0</td>\n",
       "      <td>5</td>\n",
       "      <td>0</td>\n",
       "      <td>0</td>\n",
       "      <td>233</td>\n",
       "      <td>156</td>\n",
       "      <td>26</td>\n",
       "      <td>4336.0</td>\n",
       "    </tr>\n",
       "    <tr>\n",
       "      <th>2015-08-29</th>\n",
       "      <td>699.0</td>\n",
       "      <td>325</td>\n",
       "      <td>0</td>\n",
       "      <td>0</td>\n",
       "      <td>222</td>\n",
       "      <td>133</td>\n",
       "      <td>58</td>\n",
       "      <td>2653.0</td>\n",
       "    </tr>\n",
       "    <tr>\n",
       "      <th>2015-08-30</th>\n",
       "      <td>1213.0</td>\n",
       "      <td>102</td>\n",
       "      <td>0</td>\n",
       "      <td>0</td>\n",
       "      <td>200</td>\n",
       "      <td>128</td>\n",
       "      <td>47</td>\n",
       "      <td>699.0</td>\n",
       "    </tr>\n",
       "    <tr>\n",
       "      <th>2015-08-31</th>\n",
       "      <td>2823.0</td>\n",
       "      <td>0</td>\n",
       "      <td>0</td>\n",
       "      <td>0</td>\n",
       "      <td>189</td>\n",
       "      <td>161</td>\n",
       "      <td>58</td>\n",
       "      <td>1213.0</td>\n",
       "    </tr>\n",
       "    <tr>\n",
       "      <th>2015-09-01</th>\n",
       "      <td>2876.0</td>\n",
       "      <td>58</td>\n",
       "      <td>0</td>\n",
       "      <td>0</td>\n",
       "      <td>194</td>\n",
       "      <td>139</td>\n",
       "      <td>-9999</td>\n",
       "      <td>2823.0</td>\n",
       "    </tr>\n",
       "  </tbody>\n",
       "</table>\n",
       "</div>"
      ],
      "text/plain": [
       "             Total  PRCP  SNOW  SNWD  TMAX  TMIN  AWND  Total_yesterday\n",
       "2015-08-28  2653.0     5     0     0   233   156    26           4336.0\n",
       "2015-08-29   699.0   325     0     0   222   133    58           2653.0\n",
       "2015-08-30  1213.0   102     0     0   200   128    47            699.0\n",
       "2015-08-31  2823.0     0     0     0   189   161    58           1213.0\n",
       "2015-09-01  2876.0    58     0     0   194   139 -9999           2823.0"
      ]
     },
     "execution_count": 373,
     "metadata": {},
     "output_type": "execute_result"
    }
   ],
   "source": [
    "daily.tail()"
   ]
  },
  {
   "cell_type": "markdown",
   "metadata": {
    "colab_type": "text",
    "id": "XgMvCsaWJR7Q"
   },
   "source": [
    "Target\n",
    "- Total : Daily total number of bicycle trips across Seattle's Fremont Bridge\n",
    "\n",
    "Features\n",
    "- Date (index) : from 2012-10-04 to 2015-09-01\n",
    "- Total_yesterday : Total trips yesterday\n",
    "- PRCP : Precipitation (1/10 mm)\n",
    "- SNOW : Snowfall (1/10 mm)\n",
    "- SNWD : Snow depth (1/10 mm)\n",
    "- TMAX : Maximum temperature (1/10 Celsius)\n",
    "- TMIN : Minimum temperature (1/10 Celsius)\n",
    "- AWND : Average daily wind speed (1/10 meters per second)"
   ]
  },
  {
   "cell_type": "markdown",
   "metadata": {
    "colab_type": "text",
    "id": "lenL-przSYCo"
   },
   "source": [
    "## 2. Choose how you’ll measure success on your problem.\n",
    "\n",
    "Which metrics will you monitor on your validation data?\n",
    "\n",
    "This is a regression problem, so we need to choose a regression [metric](https://scikit-learn.org/stable/modules/model_evaluation.html#common-cases-predefined-values).\n",
    "\n",
    "\n",
    "\n",
    "I'll choose mean absolute error.\n",
    "\n"
   ]
  },
  {
   "cell_type": "code",
   "execution_count": 374,
   "metadata": {
    "colab": {},
    "colab_type": "code",
    "id": "1TqbomapSyRP"
   },
   "outputs": [],
   "source": [
    "# https://scikit-learn.org/stable/modules/model_evaluation.html#scoring-parameter\n",
    "from sklearn.metrics import mean_absolute_error"
   ]
  },
  {
   "cell_type": "markdown",
   "metadata": {
    "colab_type": "text",
    "id": "IRHrB3rsS5hF"
   },
   "source": [
    "## 3. Determine your evaluation protocol \n",
    "\n",
    "We're doing model selection, hyperparameter optimization, and performance estimation. So generally we have two ideal [options](https://sebastianraschka.com/images/blog/2018/model-evaluation-selection-part4/model-eval-conclusions.jpg) to choose from:\n",
    "\n",
    "- 3-way holdout method (train/validation/test split)\n",
    "- Cross-validation with independent test set\n",
    "\n",
    "I'll choose cross-validation with independent test set. Scikit-learn makes cross-validation convenient for us!\n",
    "\n",
    "Specifically, I will use random shuffled cross validation to train and validate, but I will hold out an **\"out-of-time\" test set**, from the last 100 days of data.\n",
    "\n",
    "Out-of-time test/validation sets can actually be more difficult/realistic as evaluation data.\n",
    "\n"
   ]
  },
  {
   "cell_type": "code",
   "execution_count": 375,
   "metadata": {
    "colab": {},
    "colab_type": "code",
    "id": "A3xo6HgbPMFm"
   },
   "outputs": [
    {
     "data": {
      "text/plain": [
       "((963, 8), (100, 8))"
      ]
     },
     "execution_count": 375,
     "metadata": {},
     "output_type": "execute_result"
    }
   ],
   "source": [
    "train = daily[:-100] # everything except last 100 days\n",
    "test = daily[-100:] # last 100 days\n",
    "train.shape, test.shape"
   ]
  },
  {
   "cell_type": "code",
   "execution_count": 376,
   "metadata": {},
   "outputs": [
    {
     "name": "stdout",
     "output_type": "stream",
     "text": [
      "Shapes of X_train, y_train, X_test, y_test:  (963, 7) (963,) (100, 7) (100,)\n"
     ]
    }
   ],
   "source": [
    "X_train = train.drop(columns='Total')\n",
    "y_train = train['Total']\n",
    "\n",
    "X_test = test.drop(columns='Total')\n",
    "y_test = test['Total']\n",
    "\n",
    "print('Shapes of X_train, y_train, X_test, y_test: ', X_train.shape, y_train.shape, X_test.shape, y_test.shape)"
   ]
  },
  {
   "cell_type": "markdown",
   "metadata": {
    "colab_type": "text",
    "id": "vH6IsORQTvTU"
   },
   "source": [
    "## 4. Develop a first model that does better than a basic baseline"
   ]
  },
  {
   "cell_type": "markdown",
   "metadata": {
    "colab_type": "text",
    "id": "DJBs2nQkj7oB"
   },
   "source": [
    "### Look at the target's distribution and descriptive stats"
   ]
  },
  {
   "cell_type": "code",
   "execution_count": 377,
   "metadata": {
    "colab": {},
    "colab_type": "code",
    "id": "P5peakv9Zs71"
   },
   "outputs": [
    {
     "data": {
      "image/png": "[encoded data removed]",
      "text/plain": [
       "<Figure size 432x288 with 1 Axes>"
      ]
     },
     "metadata": {
      "needs_background": "light"
     },
     "output_type": "display_data"
    }
   ],
   "source": [
    "import seaborn as sns\n",
    "sns.distplot(y_train);"
   ]
  },
  {
   "cell_type": "code",
   "execution_count": 378,
   "metadata": {},
   "outputs": [
    {
     "data": {
      "text/plain": [
       "count     963.000000\n",
       "mean     2534.329180\n",
       "std      1224.065027\n",
       "min        98.000000\n",
       "25%      1755.000000\n",
       "50%      2381.000000\n",
       "75%      3317.500000\n",
       "max      6088.000000\n",
       "Name: Total, dtype: float64"
      ]
     },
     "execution_count": 378,
     "metadata": {},
     "output_type": "execute_result"
    }
   ],
   "source": [
    "y_train.describe()"
   ]
  },
  {
   "cell_type": "markdown",
   "metadata": {
    "colab_type": "text",
    "id": "fEjxxgV9kExY"
   },
   "source": [
    "### Basic baseline 1"
   ]
  },
  {
   "cell_type": "markdown",
   "metadata": {
    "colab": {},
    "colab_type": "code",
    "id": "6GepKdQjYcEP"
   },
   "source": [
    "We could always predict mean, always predict median, etc.. The units of MAE is in the units of the target: number of cyclists.\n",
    "\n",
    "Link to MAE explanation: https://www.statisticshowto.datasciencecentral.com/absolute-error/"
   ]
  },
  {
   "cell_type": "code",
   "execution_count": 379,
   "metadata": {
    "colab": {},
    "colab_type": "code",
    "id": "6GepKdQjYcEP"
   },
   "outputs": [
    {
     "data": {
      "text/plain": [
       "971.9376947040498"
      ]
     },
     "execution_count": 379,
     "metadata": {},
     "output_type": "execute_result"
    }
   ],
   "source": [
    "y_pred = [y_train.median()] * len(y_train)\n",
    "mean_absolute_error(y_train, y_pred)"
   ]
  },
  {
   "cell_type": "markdown",
   "metadata": {
    "colab_type": "text",
    "id": "tN2I_F3FkIHb"
   },
   "source": [
    "### Basic baseline 2"
   ]
  },
  {
   "cell_type": "code",
   "execution_count": 380,
   "metadata": {},
   "outputs": [
    {
     "data": {
      "text/html": [
       "<div>\n",
       "<style scoped>\n",
       "    .dataframe tbody tr th:only-of-type {\n",
       "        vertical-align: middle;\n",
       "    }\n",
       "\n",
       "    .dataframe tbody tr th {\n",
       "        vertical-align: top;\n",
       "    }\n",
       "\n",
       "    .dataframe thead th {\n",
       "        text-align: right;\n",
       "    }\n",
       "</style>\n",
       "<table border=\"1\" class=\"dataframe\">\n",
       "  <thead>\n",
       "    <tr style=\"text-align: right;\">\n",
       "      <th></th>\n",
       "      <th>PRCP</th>\n",
       "      <th>SNOW</th>\n",
       "      <th>SNWD</th>\n",
       "      <th>TMAX</th>\n",
       "      <th>TMIN</th>\n",
       "      <th>AWND</th>\n",
       "      <th>Total_yesterday</th>\n",
       "    </tr>\n",
       "  </thead>\n",
       "  <tbody>\n",
       "    <tr>\n",
       "      <th>2012-10-04</th>\n",
       "      <td>0</td>\n",
       "      <td>0</td>\n",
       "      <td>0</td>\n",
       "      <td>189</td>\n",
       "      <td>83</td>\n",
       "      <td>65</td>\n",
       "      <td>3521.0</td>\n",
       "    </tr>\n",
       "    <tr>\n",
       "      <th>2012-10-05</th>\n",
       "      <td>0</td>\n",
       "      <td>0</td>\n",
       "      <td>0</td>\n",
       "      <td>217</td>\n",
       "      <td>89</td>\n",
       "      <td>57</td>\n",
       "      <td>3475.0</td>\n",
       "    </tr>\n",
       "    <tr>\n",
       "      <th>2012-10-06</th>\n",
       "      <td>0</td>\n",
       "      <td>0</td>\n",
       "      <td>0</td>\n",
       "      <td>239</td>\n",
       "      <td>78</td>\n",
       "      <td>51</td>\n",
       "      <td>3148.0</td>\n",
       "    </tr>\n",
       "    <tr>\n",
       "      <th>2012-10-07</th>\n",
       "      <td>0</td>\n",
       "      <td>0</td>\n",
       "      <td>0</td>\n",
       "      <td>239</td>\n",
       "      <td>78</td>\n",
       "      <td>13</td>\n",
       "      <td>2006.0</td>\n",
       "    </tr>\n",
       "    <tr>\n",
       "      <th>2012-10-08</th>\n",
       "      <td>0</td>\n",
       "      <td>0</td>\n",
       "      <td>0</td>\n",
       "      <td>211</td>\n",
       "      <td>78</td>\n",
       "      <td>19</td>\n",
       "      <td>2142.0</td>\n",
       "    </tr>\n",
       "  </tbody>\n",
       "</table>\n",
       "</div>"
      ],
      "text/plain": [
       "            PRCP  SNOW  SNWD  TMAX  TMIN  AWND  Total_yesterday\n",
       "2012-10-04     0     0     0   189    83    65           3521.0\n",
       "2012-10-05     0     0     0   217    89    57           3475.0\n",
       "2012-10-06     0     0     0   239    78    51           3148.0\n",
       "2012-10-07     0     0     0   239    78    13           2006.0\n",
       "2012-10-08     0     0     0   211    78    19           2142.0"
      ]
     },
     "execution_count": 380,
     "metadata": {},
     "output_type": "execute_result"
    }
   ],
   "source": [
    "X_train.head()"
   ]
  },
  {
   "cell_type": "code",
   "execution_count": 381,
   "metadata": {
    "colab": {},
    "colab_type": "code",
    "id": "ZW8bhZFtTunV"
   },
   "outputs": [
    {
     "data": {
      "text/plain": [
       "708.061266874351"
      ]
     },
     "execution_count": 381,
     "metadata": {},
     "output_type": "execute_result"
    }
   ],
   "source": [
    "y_pred = X_train['Total_yesterday']    # Sometimes called \"Lag of 1\" prediction\n",
    "mean_absolute_error(y_train, y_pred)"
   ]
  },
  {
   "cell_type": "markdown",
   "metadata": {
    "colab_type": "text",
    "id": "Ggf3VpxwkJ0T"
   },
   "source": [
    "### First model that does better than a basic baseline"
   ]
  },
  {
   "cell_type": "markdown",
   "metadata": {
    "colab_type": "text",
    "id": "KfaqL1Ezer2-"
   },
   "source": [
    "https://scikit-learn.org/stable/modules/generated/sklearn.model_selection.cross_validate.html"
   ]
  },
  {
   "cell_type": "code",
   "execution_count": 382,
   "metadata": {
    "colab": {},
    "colab_type": "code",
    "id": "OeBtU68skfW-"
   },
   "outputs": [],
   "source": [
    "from sklearn.linear_model import LinearRegression\n",
    "from sklearn.model_selection import cross_validate"
   ]
  },
  {
   "cell_type": "markdown",
   "metadata": {
    "colab": {},
    "colab_type": "code",
    "id": "OeBtU68skfW-"
   },
   "source": [
    "`cross_validate()` can also return scores per fold and estimator per fold. \n",
    "\n",
    "Most of the sklearn metrics are trying to MAXIMIZE the score, so metrics starting w/ `neg_` means that the lower score is better where 0 is good."
   ]
  },
  {
   "cell_type": "code",
   "execution_count": 383,
   "metadata": {
    "colab": {},
    "colab_type": "code",
    "id": "OeBtU68skfW-"
   },
   "outputs": [],
   "source": [
    "scores = cross_validate(LinearRegression(), X_train, y_train,\n",
    "                        scoring='neg_mean_absolute_error', cv=3,\n",
    "                        return_train_score=True, return_estimator=True)"
   ]
  },
  {
   "cell_type": "code",
   "execution_count": 384,
   "metadata": {},
   "outputs": [
    {
     "data": {
      "text/plain": [
       "{'fit_time': array([0.01097083, 0.01296258, 0.0109694 ]),\n",
       " 'score_time': array([0.00498629, 0.00498891, 0.00299287]),\n",
       " 'estimator': (LinearRegression(copy_X=True, fit_intercept=True, n_jobs=None,\n",
       "           normalize=False),\n",
       "  LinearRegression(copy_X=True, fit_intercept=True, n_jobs=None,\n",
       "           normalize=False),\n",
       "  LinearRegression(copy_X=True, fit_intercept=True, n_jobs=None,\n",
       "           normalize=False)),\n",
       " 'test_score': array([-555.18627454, -651.12651327, -615.96579978]),\n",
       " 'train_score': array([-619.50920623, -583.42770209, -589.3413007 ])}"
      ]
     },
     "execution_count": 384,
     "metadata": {},
     "output_type": "execute_result"
    }
   ],
   "source": [
    "# Returns a dictionary, but converts to DataFrame nicely\n",
    "scores"
   ]
  },
  {
   "cell_type": "code",
   "execution_count": 385,
   "metadata": {},
   "outputs": [
    {
     "data": {
      "text/html": [
       "<div>\n",
       "<style scoped>\n",
       "    .dataframe tbody tr th:only-of-type {\n",
       "        vertical-align: middle;\n",
       "    }\n",
       "\n",
       "    .dataframe tbody tr th {\n",
       "        vertical-align: top;\n",
       "    }\n",
       "\n",
       "    .dataframe thead th {\n",
       "        text-align: right;\n",
       "    }\n",
       "</style>\n",
       "<table border=\"1\" class=\"dataframe\">\n",
       "  <thead>\n",
       "    <tr style=\"text-align: right;\">\n",
       "      <th></th>\n",
       "      <th>fit_time</th>\n",
       "      <th>score_time</th>\n",
       "      <th>estimator</th>\n",
       "      <th>test_score</th>\n",
       "      <th>train_score</th>\n",
       "    </tr>\n",
       "  </thead>\n",
       "  <tbody>\n",
       "    <tr>\n",
       "      <th>0</th>\n",
       "      <td>0.010971</td>\n",
       "      <td>0.004986</td>\n",
       "      <td>LinearRegression(copy_X=True, fit_intercept=Tr...</td>\n",
       "      <td>-555.186275</td>\n",
       "      <td>-619.509206</td>\n",
       "    </tr>\n",
       "    <tr>\n",
       "      <th>1</th>\n",
       "      <td>0.012963</td>\n",
       "      <td>0.004989</td>\n",
       "      <td>LinearRegression(copy_X=True, fit_intercept=Tr...</td>\n",
       "      <td>-651.126513</td>\n",
       "      <td>-583.427702</td>\n",
       "    </tr>\n",
       "    <tr>\n",
       "      <th>2</th>\n",
       "      <td>0.010969</td>\n",
       "      <td>0.002993</td>\n",
       "      <td>LinearRegression(copy_X=True, fit_intercept=Tr...</td>\n",
       "      <td>-615.965800</td>\n",
       "      <td>-589.341301</td>\n",
       "    </tr>\n",
       "  </tbody>\n",
       "</table>\n",
       "</div>"
      ],
      "text/plain": [
       "   fit_time  score_time                                          estimator  \\\n",
       "0  0.010971    0.004986  LinearRegression(copy_X=True, fit_intercept=Tr...   \n",
       "1  0.012963    0.004989  LinearRegression(copy_X=True, fit_intercept=Tr...   \n",
       "2  0.010969    0.002993  LinearRegression(copy_X=True, fit_intercept=Tr...   \n",
       "\n",
       "   test_score  train_score  \n",
       "0 -555.186275  -619.509206  \n",
       "1 -651.126513  -583.427702  \n",
       "2 -615.965800  -589.341301  "
      ]
     },
     "execution_count": 385,
     "metadata": {},
     "output_type": "execute_result"
    }
   ],
   "source": [
    "pd.DataFrame(scores)"
   ]
  },
  {
   "cell_type": "code",
   "execution_count": 386,
   "metadata": {},
   "outputs": [
    {
     "data": {
      "text/plain": [
       "607.4261958631805"
      ]
     },
     "execution_count": 386,
     "metadata": {},
     "output_type": "execute_result"
    }
   ],
   "source": [
    "# Python syntax: prepend a subtraction operator to\n",
    "# flip the sign / multiply by -1\n",
    "-scores['test_score'].mean()"
   ]
  },
  {
   "cell_type": "code",
   "execution_count": 387,
   "metadata": {},
   "outputs": [
    {
     "name": "stdout",
     "output_type": "stream",
     "text": [
      "Model from coss-validation fold #0\n",
      "Intercept:  566.7766337283692\n",
      "PRCP               -3.525103\n",
      "SNOW               -0.082029\n",
      "SNWD              -12.045027\n",
      "TMAX                9.475238\n",
      "TMIN               -4.607775\n",
      "AWND               -2.745191\n",
      "Total_yesterday     0.417360 \n",
      "\n",
      "Model from coss-validation fold #1\n",
      "Intercept:  671.9064515706045\n",
      "PRCP               -2.772253\n",
      "SNOW               -0.000995\n",
      "SNWD               20.800688\n",
      "TMAX                8.804948\n",
      "TMIN               -3.741386\n",
      "AWND               -6.108300\n",
      "Total_yesterday     0.405074 \n",
      "\n",
      "Model from coss-validation fold #2\n",
      "Intercept:  465.84525362296336\n",
      "PRCP               -2.876196\n",
      "SNOW               -0.016432\n",
      "SNWD               -8.809696\n",
      "TMAX               10.419441\n",
      "TMIN               -5.862868\n",
      "AWND               -2.398991\n",
      "Total_yesterday     0.423493 \n",
      "\n"
     ]
    }
   ],
   "source": [
    "for i, model in enumerate(scores['estimator']):\n",
    "    coefficients = model.coef_\n",
    "    intercept = model.intercept_\n",
    "    feature_names = X_train.columns\n",
    "    \n",
    "    print(f'Model from coss-validation fold #{i}')\n",
    "    print('Intercept: ', intercept)\n",
    "    print(pd.Series(coefficients, feature_names).to_string(), '\\n')"
   ]
  },
  {
   "cell_type": "markdown",
   "metadata": {
    "colab_type": "text",
    "id": "fg1YI4X8n9nI"
   },
   "source": [
    "## 5. Develop a model that overfits. \n",
    "\n",
    "\"The universal tension in machine learning is between optimization and generalization; the ideal model is one that stands right at the border between underfitting and overfitting; between undercapacity and overcapacity. To figure out where this border lies, first you must cross it.\" —Chollet"
   ]
  },
  {
   "cell_type": "markdown",
   "metadata": {
    "colab_type": "text",
    "id": "lodd6UPOoy89"
   },
   "source": [
    "<img src=\"https://jakevdp.github.io/PythonDataScienceHandbook/figures/05.03-validation-curve.png\">\n",
    "\n",
    "Diagram Source: https://jakevdp.github.io/PythonDataScienceHandbook/05.03-hyperparameters-and-model-validation.html#Validation-curves-in-Scikit-Learn"
   ]
  },
  {
   "cell_type": "markdown",
   "metadata": {
    "colab_type": "text",
    "id": "xj82P0VdwYlh"
   },
   "source": [
    "### Random Forest?\n",
    "\n",
    "https://scikit-learn.org/stable/modules/generated/sklearn.ensemble.RandomForestRegressor.html"
   ]
  },
  {
   "cell_type": "code",
   "execution_count": 388,
   "metadata": {
    "colab": {},
    "colab_type": "code",
    "id": "_yYXpk99C4cM"
   },
   "outputs": [],
   "source": [
    "from sklearn.ensemble import RandomForestRegressor"
   ]
  },
  {
   "cell_type": "code",
   "execution_count": 389,
   "metadata": {
    "colab": {},
    "colab_type": "code",
    "id": "_yYXpk99C4cM"
   },
   "outputs": [
    {
     "data": {
      "text/html": [
       "<div>\n",
       "<style scoped>\n",
       "    .dataframe tbody tr th:only-of-type {\n",
       "        vertical-align: middle;\n",
       "    }\n",
       "\n",
       "    .dataframe tbody tr th {\n",
       "        vertical-align: top;\n",
       "    }\n",
       "\n",
       "    .dataframe thead th {\n",
       "        text-align: right;\n",
       "    }\n",
       "</style>\n",
       "<table border=\"1\" class=\"dataframe\">\n",
       "  <thead>\n",
       "    <tr style=\"text-align: right;\">\n",
       "      <th></th>\n",
       "      <th>fit_time</th>\n",
       "      <th>score_time</th>\n",
       "      <th>estimator</th>\n",
       "      <th>test_score</th>\n",
       "      <th>train_score</th>\n",
       "    </tr>\n",
       "  </thead>\n",
       "  <tbody>\n",
       "    <tr>\n",
       "      <th>0</th>\n",
       "      <td>3.740008</td>\n",
       "      <td>0.112251</td>\n",
       "      <td>(DecisionTreeRegressor(criterion='mse', max_de...</td>\n",
       "      <td>-559.582368</td>\n",
       "      <td>-244.363754</td>\n",
       "    </tr>\n",
       "    <tr>\n",
       "      <th>1</th>\n",
       "      <td>0.298212</td>\n",
       "      <td>0.109167</td>\n",
       "      <td>(DecisionTreeRegressor(criterion='mse', max_de...</td>\n",
       "      <td>-643.953333</td>\n",
       "      <td>-224.569221</td>\n",
       "    </tr>\n",
       "    <tr>\n",
       "      <th>2</th>\n",
       "      <td>0.367982</td>\n",
       "      <td>0.111306</td>\n",
       "      <td>(DecisionTreeRegressor(criterion='mse', max_de...</td>\n",
       "      <td>-642.810530</td>\n",
       "      <td>-223.789922</td>\n",
       "    </tr>\n",
       "  </tbody>\n",
       "</table>\n",
       "</div>"
      ],
      "text/plain": [
       "   fit_time  score_time                                          estimator  \\\n",
       "0  3.740008    0.112251  (DecisionTreeRegressor(criterion='mse', max_de...   \n",
       "1  0.298212    0.109167  (DecisionTreeRegressor(criterion='mse', max_de...   \n",
       "2  0.367982    0.111306  (DecisionTreeRegressor(criterion='mse', max_de...   \n",
       "\n",
       "   test_score  train_score  \n",
       "0 -559.582368  -244.363754  \n",
       "1 -643.953333  -224.569221  \n",
       "2 -642.810530  -223.789922  "
      ]
     },
     "execution_count": 389,
     "metadata": {},
     "output_type": "execute_result"
    }
   ],
   "source": [
    "model = RandomForestRegressor(n_estimators=100, max_depth=None, n_jobs=-1)\n",
    "\n",
    "scores = cross_validate(model, X_train, y_train, scoring='neg_mean_absolute_error',\n",
    "                        cv=3, return_train_score=True, return_estimator=True)\n",
    "\n",
    "pd.DataFrame(scores)"
   ]
  },
  {
   "cell_type": "code",
   "execution_count": 390,
   "metadata": {},
   "outputs": [
    {
     "data": {
      "text/plain": [
       "615.4487435098649"
      ]
     },
     "execution_count": 390,
     "metadata": {},
     "output_type": "execute_result"
    }
   ],
   "source": [
    "# 'test_score' is more akin to validation score\n",
    "-scores['test_score'].mean()"
   ]
  },
  {
   "cell_type": "markdown",
   "metadata": {
    "colab_type": "text",
    "id": "_ryO1hVKr-6f"
   },
   "source": [
    "### Validation Curve\n",
    "\n",
    "https://scikit-learn.org/stable/modules/generated/sklearn.model_selection.validation_curve.html\n",
    "\n",
    "> Validation curve. Determine training and test scores for varying parameter values. This is similar to grid search with one parameter."
   ]
  },
  {
   "cell_type": "code",
   "execution_count": 391,
   "metadata": {
    "colab": {},
    "colab_type": "code",
    "id": "apKk4vKiwgtM"
   },
   "outputs": [
    {
     "data": {
      "image/png": "[encoded data removed]",
      "text/plain": [
       "<Figure size 432x288 with 1 Axes>"
      ]
     },
     "metadata": {
      "needs_background": "light"
     },
     "output_type": "display_data"
    }
   ],
   "source": [
    "# Modified from cell 13 at\n",
    "# https://jakevdp.github.io/PythonDataScienceHandbook/05.03-hyperparameters-and-model-validation.html#Validation-curves-in-Scikit-Learn\n",
    "\n",
    "import matplotlib.pyplot as plt\n",
    "import numpy as np\n",
    "from sklearn.model_selection import validation_curve\n",
    "\n",
    "model = RandomForestRegressor(n_estimators=100)\n",
    "\n",
    "depth = [2, 3, 4, 5, 6]\n",
    "train_score, val_score = validation_curve(\n",
    "    model, X_train, y_train,\n",
    "    param_name='max_depth', param_range=depth, \n",
    "    scoring='neg_mean_absolute_error', cv=3)\n",
    "\n",
    "plt.plot(depth, np.median(train_score, 1), color='blue', label='training score')\n",
    "plt.plot(depth, np.median(val_score, 1), color='red', label='validation score')\n",
    "plt.legend(loc='best')\n",
    "plt.xlabel('depth');"
   ]
  },
  {
   "cell_type": "markdown",
   "metadata": {
    "colab_type": "text",
    "id": "DQoMvZ7-yCAQ"
   },
   "source": [
    "### `RandomizedSearchCV`\n",
    "\n",
    "https://scikit-learn.org/stable/modules/generated/sklearn.model_selection.RandomizedSearchCV.html\n",
    "\n",
    "https://scikit-learn.org/stable/modules/grid_search.html"
   ]
  },
  {
   "cell_type": "code",
   "execution_count": 392,
   "metadata": {
    "colab": {},
    "colab_type": "code",
    "id": "bk_dX_mByKm7"
   },
   "outputs": [
    {
     "name": "stdout",
     "output_type": "stream",
     "text": [
      "Fitting 3 folds for each of 8 candidates, totalling 24 fits\n"
     ]
    },
    {
     "name": "stderr",
     "output_type": "stream",
     "text": [
      "[Parallel(n_jobs=-1)]: Using backend LokyBackend with 12 concurrent workers.\n",
      "[Parallel(n_jobs=-1)]: Done   1 tasks      | elapsed:    5.6s\n",
      "[Parallel(n_jobs=-1)]: Done   4 out of  24 | elapsed:    5.7s remaining:   28.9s\n",
      "[Parallel(n_jobs=-1)]: Done   7 out of  24 | elapsed:    6.5s remaining:   16.0s\n",
      "[Parallel(n_jobs=-1)]: Done  10 out of  24 | elapsed:    7.2s remaining:   10.1s\n",
      "[Parallel(n_jobs=-1)]: Done  13 out of  24 | elapsed:   10.8s remaining:    9.1s\n",
      "[Parallel(n_jobs=-1)]: Done  16 out of  24 | elapsed:   12.6s remaining:    6.2s\n",
      "[Parallel(n_jobs=-1)]: Done  19 out of  24 | elapsed:   12.7s remaining:    3.3s\n",
      "[Parallel(n_jobs=-1)]: Done  22 out of  24 | elapsed:   12.9s remaining:    1.1s\n",
      "[Parallel(n_jobs=-1)]: Done  24 out of  24 | elapsed:   13.0s finished\n"
     ]
    },
    {
     "data": {
      "text/plain": [
       "RandomizedSearchCV(cv=3, error_score='raise-deprecating',\n",
       "          estimator=RandomForestRegressor(bootstrap=True, criterion='mse', max_depth=None,\n",
       "           max_features='auto', max_leaf_nodes=None,\n",
       "           min_impurity_decrease=0.0, min_impurity_split=None,\n",
       "           min_samples_leaf=1, min_samples_split=2,\n",
       "           min_weight_fraction_leaf=0.0, n_estimators='warn', n_jobs=-1,\n",
       "           oob_score=False, random_state=42, verbose=0, warm_start=False),\n",
       "          fit_params=None, iid='warn', n_iter=8, n_jobs=-1,\n",
       "          param_distributions={'n_estimators': [100, 200], 'max_depth': [4, 5], 'criterion': ['mse', 'mae']},\n",
       "          pre_dispatch='2*n_jobs', random_state=None, refit=True,\n",
       "          return_train_score=True, scoring='neg_mean_absolute_error',\n",
       "          verbose=10)"
      ]
     },
     "execution_count": 392,
     "metadata": {},
     "output_type": "execute_result"
    }
   ],
   "source": [
    "from sklearn.model_selection import RandomizedSearchCV\n",
    "\n",
    "param_distributions = {\n",
    "    'n_estimators': [100,200,],\n",
    "    'max_depth': [4,5,],\n",
    "    'criterion': ['mse','mae',],\n",
    "}\n",
    "\n",
    "random_search = RandomizedSearchCV(\n",
    "    RandomForestRegressor(n_jobs=-1, random_state=42),\n",
    "    param_distributions = param_distributions,\n",
    "    n_jobs = -1,\n",
    "    n_iter = 8,\n",
    "    cv = 3,\n",
    "    scoring = 'neg_mean_absolute_error',\n",
    "    verbose = 10,\n",
    "    return_train_score = True,\n",
    ")\n",
    "\n",
    "random_search.fit(X_train, y_train)"
   ]
  },
  {
   "cell_type": "code",
   "execution_count": 393,
   "metadata": {},
   "outputs": [
    {
     "data": {
      "text/html": [
       "<div>\n",
       "<style scoped>\n",
       "    .dataframe tbody tr th:only-of-type {\n",
       "        vertical-align: middle;\n",
       "    }\n",
       "\n",
       "    .dataframe tbody tr th {\n",
       "        vertical-align: top;\n",
       "    }\n",
       "\n",
       "    .dataframe thead th {\n",
       "        text-align: right;\n",
       "    }\n",
       "</style>\n",
       "<table border=\"1\" class=\"dataframe\">\n",
       "  <thead>\n",
       "    <tr style=\"text-align: right;\">\n",
       "      <th></th>\n",
       "      <th>mean_fit_time</th>\n",
       "      <th>std_fit_time</th>\n",
       "      <th>mean_score_time</th>\n",
       "      <th>std_score_time</th>\n",
       "      <th>param_n_estimators</th>\n",
       "      <th>param_max_depth</th>\n",
       "      <th>param_criterion</th>\n",
       "      <th>params</th>\n",
       "      <th>split0_test_score</th>\n",
       "      <th>split1_test_score</th>\n",
       "      <th>split2_test_score</th>\n",
       "      <th>mean_test_score</th>\n",
       "      <th>std_test_score</th>\n",
       "      <th>rank_test_score</th>\n",
       "      <th>split0_train_score</th>\n",
       "      <th>split1_train_score</th>\n",
       "      <th>split2_train_score</th>\n",
       "      <th>mean_train_score</th>\n",
       "      <th>std_train_score</th>\n",
       "    </tr>\n",
       "  </thead>\n",
       "  <tbody>\n",
       "    <tr>\n",
       "      <th>7</th>\n",
       "      <td>5.060804</td>\n",
       "      <td>0.151792</td>\n",
       "      <td>0.167886</td>\n",
       "      <td>0.056940</td>\n",
       "      <td>200</td>\n",
       "      <td>5</td>\n",
       "      <td>mae</td>\n",
       "      <td>{'n_estimators': 200, 'max_depth': 5, 'criteri...</td>\n",
       "      <td>-537.343224</td>\n",
       "      <td>-633.188069</td>\n",
       "      <td>-611.812399</td>\n",
       "      <td>-594.114564</td>\n",
       "      <td>41.080965</td>\n",
       "      <td>1</td>\n",
       "      <td>-514.399139</td>\n",
       "      <td>-476.132208</td>\n",
       "      <td>-486.784755</td>\n",
       "      <td>-492.438701</td>\n",
       "      <td>16.125856</td>\n",
       "    </tr>\n",
       "    <tr>\n",
       "      <th>6</th>\n",
       "      <td>2.883291</td>\n",
       "      <td>0.128478</td>\n",
       "      <td>0.982707</td>\n",
       "      <td>0.096035</td>\n",
       "      <td>100</td>\n",
       "      <td>5</td>\n",
       "      <td>mae</td>\n",
       "      <td>{'n_estimators': 100, 'max_depth': 5, 'criteri...</td>\n",
       "      <td>-539.744330</td>\n",
       "      <td>-635.247773</td>\n",
       "      <td>-610.870031</td>\n",
       "      <td>-595.287378</td>\n",
       "      <td>40.516179</td>\n",
       "      <td>2</td>\n",
       "      <td>-513.924961</td>\n",
       "      <td>-475.585023</td>\n",
       "      <td>-489.148606</td>\n",
       "      <td>-492.886197</td>\n",
       "      <td>15.873771</td>\n",
       "    </tr>\n",
       "    <tr>\n",
       "      <th>4</th>\n",
       "      <td>1.673194</td>\n",
       "      <td>0.363340</td>\n",
       "      <td>2.164213</td>\n",
       "      <td>0.914925</td>\n",
       "      <td>100</td>\n",
       "      <td>4</td>\n",
       "      <td>mae</td>\n",
       "      <td>{'n_estimators': 100, 'max_depth': 4, 'criteri...</td>\n",
       "      <td>-545.553738</td>\n",
       "      <td>-635.478629</td>\n",
       "      <td>-609.898505</td>\n",
       "      <td>-596.976957</td>\n",
       "      <td>37.831612</td>\n",
       "      <td>3</td>\n",
       "      <td>-554.610927</td>\n",
       "      <td>-515.603583</td>\n",
       "      <td>-525.162173</td>\n",
       "      <td>-531.792227</td>\n",
       "      <td>16.600431</td>\n",
       "    </tr>\n",
       "    <tr>\n",
       "      <th>5</th>\n",
       "      <td>4.609010</td>\n",
       "      <td>0.164526</td>\n",
       "      <td>1.740016</td>\n",
       "      <td>0.405574</td>\n",
       "      <td>200</td>\n",
       "      <td>4</td>\n",
       "      <td>mae</td>\n",
       "      <td>{'n_estimators': 200, 'max_depth': 4, 'criteri...</td>\n",
       "      <td>-545.615950</td>\n",
       "      <td>-634.226674</td>\n",
       "      <td>-611.571316</td>\n",
       "      <td>-597.137980</td>\n",
       "      <td>37.587285</td>\n",
       "      <td>4</td>\n",
       "      <td>-554.012714</td>\n",
       "      <td>-515.754478</td>\n",
       "      <td>-524.948497</td>\n",
       "      <td>-531.571896</td>\n",
       "      <td>16.305934</td>\n",
       "    </tr>\n",
       "    <tr>\n",
       "      <th>3</th>\n",
       "      <td>1.169871</td>\n",
       "      <td>0.024030</td>\n",
       "      <td>0.290890</td>\n",
       "      <td>0.034147</td>\n",
       "      <td>200</td>\n",
       "      <td>5</td>\n",
       "      <td>mse</td>\n",
       "      <td>{'n_estimators': 200, 'max_depth': 5, 'criteri...</td>\n",
       "      <td>-545.774354</td>\n",
       "      <td>-637.307005</td>\n",
       "      <td>-627.616934</td>\n",
       "      <td>-603.566098</td>\n",
       "      <td>41.055966</td>\n",
       "      <td>5</td>\n",
       "      <td>-524.163469</td>\n",
       "      <td>-490.204130</td>\n",
       "      <td>-490.472466</td>\n",
       "      <td>-501.613355</td>\n",
       "      <td>15.945715</td>\n",
       "    </tr>\n",
       "    <tr>\n",
       "      <th>2</th>\n",
       "      <td>0.553187</td>\n",
       "      <td>0.026329</td>\n",
       "      <td>0.133976</td>\n",
       "      <td>0.016070</td>\n",
       "      <td>100</td>\n",
       "      <td>5</td>\n",
       "      <td>mse</td>\n",
       "      <td>{'n_estimators': 100, 'max_depth': 5, 'criteri...</td>\n",
       "      <td>-546.995243</td>\n",
       "      <td>-639.080607</td>\n",
       "      <td>-629.837818</td>\n",
       "      <td>-605.304556</td>\n",
       "      <td>41.403214</td>\n",
       "      <td>6</td>\n",
       "      <td>-526.882336</td>\n",
       "      <td>-490.560190</td>\n",
       "      <td>-492.252512</td>\n",
       "      <td>-503.231679</td>\n",
       "      <td>16.737805</td>\n",
       "    </tr>\n",
       "    <tr>\n",
       "      <th>1</th>\n",
       "      <td>1.522261</td>\n",
       "      <td>0.041658</td>\n",
       "      <td>0.246009</td>\n",
       "      <td>0.005423</td>\n",
       "      <td>200</td>\n",
       "      <td>4</td>\n",
       "      <td>mse</td>\n",
       "      <td>{'n_estimators': 200, 'max_depth': 4, 'criteri...</td>\n",
       "      <td>-555.634757</td>\n",
       "      <td>-640.866167</td>\n",
       "      <td>-625.853913</td>\n",
       "      <td>-607.451613</td>\n",
       "      <td>37.149085</td>\n",
       "      <td>7</td>\n",
       "      <td>-572.252550</td>\n",
       "      <td>-529.625674</td>\n",
       "      <td>-536.655286</td>\n",
       "      <td>-546.177836</td>\n",
       "      <td>18.659615</td>\n",
       "    </tr>\n",
       "    <tr>\n",
       "      <th>0</th>\n",
       "      <td>0.562828</td>\n",
       "      <td>0.019635</td>\n",
       "      <td>0.126662</td>\n",
       "      <td>0.007101</td>\n",
       "      <td>100</td>\n",
       "      <td>4</td>\n",
       "      <td>mse</td>\n",
       "      <td>{'n_estimators': 100, 'max_depth': 4, 'criteri...</td>\n",
       "      <td>-557.174302</td>\n",
       "      <td>-642.450417</td>\n",
       "      <td>-629.072181</td>\n",
       "      <td>-609.565633</td>\n",
       "      <td>37.446700</td>\n",
       "      <td>8</td>\n",
       "      <td>-574.472102</td>\n",
       "      <td>-530.248079</td>\n",
       "      <td>-538.576526</td>\n",
       "      <td>-547.765569</td>\n",
       "      <td>19.188016</td>\n",
       "    </tr>\n",
       "  </tbody>\n",
       "</table>\n",
       "</div>"
      ],
      "text/plain": [
       "   mean_fit_time  std_fit_time  mean_score_time  std_score_time  \\\n",
       "7       5.060804      0.151792         0.167886        0.056940   \n",
       "6       2.883291      0.128478         0.982707        0.096035   \n",
       "4       1.673194      0.363340         2.164213        0.914925   \n",
       "5       4.609010      0.164526         1.740016        0.405574   \n",
       "3       1.169871      0.024030         0.290890        0.034147   \n",
       "2       0.553187      0.026329         0.133976        0.016070   \n",
       "1       1.522261      0.041658         0.246009        0.005423   \n",
       "0       0.562828      0.019635         0.126662        0.007101   \n",
       "\n",
       "  param_n_estimators param_max_depth param_criterion  \\\n",
       "7                200               5             mae   \n",
       "6                100               5             mae   \n",
       "4                100               4             mae   \n",
       "5                200               4             mae   \n",
       "3                200               5             mse   \n",
       "2                100               5             mse   \n",
       "1                200               4             mse   \n",
       "0                100               4             mse   \n",
       "\n",
       "                                              params  split0_test_score  \\\n",
       "7  {'n_estimators': 200, 'max_depth': 5, 'criteri...        -537.343224   \n",
       "6  {'n_estimators': 100, 'max_depth': 5, 'criteri...        -539.744330   \n",
       "4  {'n_estimators': 100, 'max_depth': 4, 'criteri...        -545.553738   \n",
       "5  {'n_estimators': 200, 'max_depth': 4, 'criteri...        -545.615950   \n",
       "3  {'n_estimators': 200, 'max_depth': 5, 'criteri...        -545.774354   \n",
       "2  {'n_estimators': 100, 'max_depth': 5, 'criteri...        -546.995243   \n",
       "1  {'n_estimators': 200, 'max_depth': 4, 'criteri...        -555.634757   \n",
       "0  {'n_estimators': 100, 'max_depth': 4, 'criteri...        -557.174302   \n",
       "\n",
       "   split1_test_score  split2_test_score  mean_test_score  std_test_score  \\\n",
       "7        -633.188069        -611.812399      -594.114564       41.080965   \n",
       "6        -635.247773        -610.870031      -595.287378       40.516179   \n",
       "4        -635.478629        -609.898505      -596.976957       37.831612   \n",
       "5        -634.226674        -611.571316      -597.137980       37.587285   \n",
       "3        -637.307005        -627.616934      -603.566098       41.055966   \n",
       "2        -639.080607        -629.837818      -605.304556       41.403214   \n",
       "1        -640.866167        -625.853913      -607.451613       37.149085   \n",
       "0        -642.450417        -629.072181      -609.565633       37.446700   \n",
       "\n",
       "   rank_test_score  split0_train_score  split1_train_score  \\\n",
       "7                1         -514.399139         -476.132208   \n",
       "6                2         -513.924961         -475.585023   \n",
       "4                3         -554.610927         -515.603583   \n",
       "5                4         -554.012714         -515.754478   \n",
       "3                5         -524.163469         -490.204130   \n",
       "2                6         -526.882336         -490.560190   \n",
       "1                7         -572.252550         -529.625674   \n",
       "0                8         -574.472102         -530.248079   \n",
       "\n",
       "   split2_train_score  mean_train_score  std_train_score  \n",
       "7         -486.784755       -492.438701        16.125856  \n",
       "6         -489.148606       -492.886197        15.873771  \n",
       "4         -525.162173       -531.792227        16.600431  \n",
       "5         -524.948497       -531.571896        16.305934  \n",
       "3         -490.472466       -501.613355        15.945715  \n",
       "2         -492.252512       -503.231679        16.737805  \n",
       "1         -536.655286       -546.177836        18.659615  \n",
       "0         -538.576526       -547.765569        19.188016  "
      ]
     },
     "execution_count": 393,
     "metadata": {},
     "output_type": "execute_result"
    }
   ],
   "source": [
    "pd.DataFrame(random_search.cv_results_).sort_values('rank_test_score')"
   ]
  },
  {
   "cell_type": "code",
   "execution_count": 394,
   "metadata": {},
   "outputs": [
    {
     "data": {
      "text/plain": [
       "RandomForestRegressor(bootstrap=True, criterion='mae', max_depth=5,\n",
       "           max_features='auto', max_leaf_nodes=None,\n",
       "           min_impurity_decrease=0.0, min_impurity_split=None,\n",
       "           min_samples_leaf=1, min_samples_split=2,\n",
       "           min_weight_fraction_leaf=0.0, n_estimators=200, n_jobs=-1,\n",
       "           oob_score=False, random_state=42, verbose=0, warm_start=False)"
      ]
     },
     "execution_count": 394,
     "metadata": {},
     "output_type": "execute_result"
    }
   ],
   "source": [
    "random_search.best_estimator_"
   ]
  },
  {
   "cell_type": "markdown",
   "metadata": {
    "colab_type": "text",
    "id": "ZW5HfYtU0GW2"
   },
   "source": [
    "## FEATURE ENGINEERING!"
   ]
  },
  {
   "cell_type": "markdown",
   "metadata": {
    "colab_type": "text",
    "id": "0ms-eoOHFvPG"
   },
   "source": [
    "Jake VanderPlas demonstrates this feature engineering: \n",
    "https://jakevdp.github.io/PythonDataScienceHandbook/05.06-linear-regression.html#Example:-Predicting-Bicycle-Traffic"
   ]
  },
  {
   "cell_type": "code",
   "execution_count": 395,
   "metadata": {
    "colab": {},
    "colab_type": "code",
    "id": "sEwME8wR3A5g"
   },
   "outputs": [],
   "source": [
    "# Modified from code cells 17-21 at\n",
    "# https://jakevdp.github.io/PythonDataScienceHandbook/05.06-linear-regression.html#Example:-Predicting-Bicycle-Traffic\n",
    "\n",
    "def jake_wrangle(X):  \n",
    "    X = X.copy()\n",
    "\n",
    "    # patterns of use generally vary from day to day; \n",
    "    # let's add binary columns that indicate the day of the week:\n",
    "    days = ['Mon', 'Tue', 'Wed', 'Thu', 'Fri', 'Sat', 'Sun']\n",
    "    for i, day in enumerate(days):\n",
    "        X[day] = (X.index.dayofweek == i).astype(float)\n",
    "\n",
    "\n",
    "    # we might expect riders to behave differently on holidays; \n",
    "    # let's add an indicator of this as well:\n",
    "    from pandas.tseries.holiday import USFederalHolidayCalendar\n",
    "    cal = USFederalHolidayCalendar()\n",
    "    holidays = cal.holidays('2012', '2016')\n",
    "    X = X.join(pd.Series(1, index=holidays, name='holiday'))\n",
    "    X['holiday'].fillna(0, inplace=True)\n",
    "\n",
    "\n",
    "    # We also might suspect that the hours of daylight would affect \n",
    "    # how many people ride; let's use the standard astronomical calculation \n",
    "    # to add this information:\n",
    "    def hours_of_daylight(date, axis=23.44, latitude=47.61):\n",
    "        \"\"\"Compute the hours of daylight for the given date\"\"\"\n",
    "        days = (date - pd.datetime(2000, 12, 21)).days\n",
    "        m = (1. - np.tan(np.radians(latitude))\n",
    "             * np.tan(np.radians(axis) * np.cos(days * 2 * np.pi / 365.25)))\n",
    "        return 24. * np.degrees(np.arccos(1 - np.clip(m, 0, 2))) / 180.\n",
    "\n",
    "    X['daylight_hrs'] = list(map(hours_of_daylight, X.index))\n",
    "\n",
    "    \n",
    "    # temperatures are in 1/10 deg C; convert to C\n",
    "    X['TMIN'] /= 10\n",
    "    X['TMAX'] /= 10\n",
    "    \n",
    "    # We can also calcuate the average temperature.\n",
    "    X['Temp (C)'] = 0.5 * (X['TMIN'] + X['TMAX'])\n",
    "\n",
    "    # precip is in 1/10 mm; convert to inches\n",
    "    X['PRCP'] /= 254\n",
    "\n",
    "    # In addition to the inches of precipitation, let's add a flag that \n",
    "    # indicates whether a day is dry (has zero precipitation):\n",
    "    X['dry day'] = (X['PRCP'] == 0).astype(int)\n",
    "\n",
    "\n",
    "    # Let's add a counter that increases from day 1, and measures how many \n",
    "    # years have passed. This will let us measure any observed annual increase \n",
    "    # or decrease in daily crossings:\n",
    "    X['annual'] = (X.index - X.index[0]).days / 365.\n",
    "\n",
    "    return X\n",
    "\n",
    "X_train = jake_wrangle(X_train)"
   ]
  },
  {
   "cell_type": "markdown",
   "metadata": {
    "colab_type": "text",
    "id": "dDGkAv813Wtj"
   },
   "source": [
    "### Linear Regression (with new features)"
   ]
  },
  {
   "cell_type": "code",
   "execution_count": 396,
   "metadata": {
    "colab": {},
    "colab_type": "code",
    "id": "cj3HTM6p5F1A"
   },
   "outputs": [
    {
     "data": {
      "text/html": [
       "<div>\n",
       "<style scoped>\n",
       "    .dataframe tbody tr th:only-of-type {\n",
       "        vertical-align: middle;\n",
       "    }\n",
       "\n",
       "    .dataframe tbody tr th {\n",
       "        vertical-align: top;\n",
       "    }\n",
       "\n",
       "    .dataframe thead th {\n",
       "        text-align: right;\n",
       "    }\n",
       "</style>\n",
       "<table border=\"1\" class=\"dataframe\">\n",
       "  <thead>\n",
       "    <tr style=\"text-align: right;\">\n",
       "      <th></th>\n",
       "      <th>fit_time</th>\n",
       "      <th>score_time</th>\n",
       "      <th>estimator</th>\n",
       "      <th>test_score</th>\n",
       "      <th>train_score</th>\n",
       "    </tr>\n",
       "  </thead>\n",
       "  <tbody>\n",
       "    <tr>\n",
       "      <th>0</th>\n",
       "      <td>0.010930</td>\n",
       "      <td>0.005984</td>\n",
       "      <td>LinearRegression(copy_X=True, fit_intercept=Tr...</td>\n",
       "      <td>-297.692524</td>\n",
       "      <td>-294.532315</td>\n",
       "    </tr>\n",
       "    <tr>\n",
       "      <th>1</th>\n",
       "      <td>0.007982</td>\n",
       "      <td>0.002989</td>\n",
       "      <td>LinearRegression(copy_X=True, fit_intercept=Tr...</td>\n",
       "      <td>-300.419037</td>\n",
       "      <td>-283.779461</td>\n",
       "    </tr>\n",
       "    <tr>\n",
       "      <th>2</th>\n",
       "      <td>0.010966</td>\n",
       "      <td>0.002992</td>\n",
       "      <td>LinearRegression(copy_X=True, fit_intercept=Tr...</td>\n",
       "      <td>-322.640378</td>\n",
       "      <td>-283.509114</td>\n",
       "    </tr>\n",
       "  </tbody>\n",
       "</table>\n",
       "</div>"
      ],
      "text/plain": [
       "   fit_time  score_time                                          estimator  \\\n",
       "0  0.010930    0.005984  LinearRegression(copy_X=True, fit_intercept=Tr...   \n",
       "1  0.007982    0.002989  LinearRegression(copy_X=True, fit_intercept=Tr...   \n",
       "2  0.010966    0.002992  LinearRegression(copy_X=True, fit_intercept=Tr...   \n",
       "\n",
       "   test_score  train_score  \n",
       "0 -297.692524  -294.532315  \n",
       "1 -300.419037  -283.779461  \n",
       "2 -322.640378  -283.509114  "
      ]
     },
     "execution_count": 396,
     "metadata": {},
     "output_type": "execute_result"
    }
   ],
   "source": [
    "scores = cross_validate(LinearRegression(), X_train, y_train, scoring='neg_mean_absolute_error',\n",
    "                        cv=3, return_train_score=True, return_estimator=True)\n",
    "pd.DataFrame(scores)"
   ]
  },
  {
   "cell_type": "code",
   "execution_count": 397,
   "metadata": {},
   "outputs": [
    {
     "data": {
      "text/plain": [
       "306.9173130794431"
      ]
     },
     "execution_count": 397,
     "metadata": {},
     "output_type": "execute_result"
    }
   ],
   "source": [
    "-scores['test_score'].mean()"
   ]
  },
  {
   "cell_type": "markdown",
   "metadata": {
    "colab_type": "text",
    "id": "b6zxN2xB3bX_"
   },
   "source": [
    "### Random Forest (with new features)"
   ]
  },
  {
   "cell_type": "code",
   "execution_count": 398,
   "metadata": {
    "colab": {},
    "colab_type": "code",
    "id": "3sWUDZIz1-kk"
   },
   "outputs": [
    {
     "name": "stdout",
     "output_type": "stream",
     "text": [
      "Fitting 3 folds for each of 4 candidates, totalling 12 fits\n"
     ]
    },
    {
     "name": "stderr",
     "output_type": "stream",
     "text": [
      "[Parallel(n_jobs=-1)]: Using backend LokyBackend with 12 concurrent workers.\n",
      "[Parallel(n_jobs=-1)]: Done   1 tasks      | elapsed:   14.0s\n",
      "[Parallel(n_jobs=-1)]: Done   3 out of  12 | elapsed:   14.0s remaining:   42.2s\n",
      "[Parallel(n_jobs=-1)]: Done   5 out of  12 | elapsed:   14.1s remaining:   19.7s\n",
      "[Parallel(n_jobs=-1)]: Done   7 out of  12 | elapsed:   14.1s remaining:   10.0s\n",
      "[Parallel(n_jobs=-1)]: Done   9 out of  12 | elapsed:   14.2s remaining:    4.7s\n",
      "[Parallel(n_jobs=-1)]: Done  12 out of  12 | elapsed:   14.3s finished\n"
     ]
    },
    {
     "data": {
      "text/plain": [
       "RandomizedSearchCV(cv=3, error_score='raise-deprecating',\n",
       "          estimator=RandomForestRegressor(bootstrap=True, criterion='mse', max_depth=None,\n",
       "           max_features='auto', max_leaf_nodes=None,\n",
       "           min_impurity_decrease=0.0, min_impurity_split=None,\n",
       "           min_samples_leaf=1, min_samples_split=2,\n",
       "           min_weight_fraction_leaf=0.0, n_estimators='warn', n_jobs=-1,\n",
       "           oob_score=False, random_state=42, verbose=0, warm_start=False),\n",
       "          fit_params=None, iid='warn', n_iter=4, n_jobs=-1,\n",
       "          param_distributions={'n_estimators': [100], 'max_depth': [5, 19, 15, None], 'criterion': ['mae']},\n",
       "          pre_dispatch='2*n_jobs', random_state=None, refit=True,\n",
       "          return_train_score=True, scoring='neg_mean_absolute_error',\n",
       "          verbose=10)"
      ]
     },
     "execution_count": 398,
     "metadata": {},
     "output_type": "execute_result"
    }
   ],
   "source": [
    "param_distributions = {\n",
    "    'n_estimators': [100],\n",
    "    'max_depth': [5, 19, 15, None],\n",
    "    'criterion': ['mae'],\n",
    "}\n",
    "\n",
    "random_search = RandomizedSearchCV(\n",
    "    RandomForestRegressor(n_jobs=-1, random_state=42),\n",
    "    param_distributions = param_distributions,\n",
    "    n_jobs = -1,\n",
    "    n_iter = 4,\n",
    "    cv = 3,\n",
    "    scoring = 'neg_mean_absolute_error',\n",
    "    verbose = 10,\n",
    "    return_train_score = True,\n",
    ")\n",
    "\n",
    "random_search.fit(X_train, y_train)"
   ]
  },
  {
   "cell_type": "code",
   "execution_count": 399,
   "metadata": {},
   "outputs": [
    {
     "data": {
      "text/html": [
       "<div>\n",
       "<style scoped>\n",
       "    .dataframe tbody tr th:only-of-type {\n",
       "        vertical-align: middle;\n",
       "    }\n",
       "\n",
       "    .dataframe tbody tr th {\n",
       "        vertical-align: top;\n",
       "    }\n",
       "\n",
       "    .dataframe thead th {\n",
       "        text-align: right;\n",
       "    }\n",
       "</style>\n",
       "<table border=\"1\" class=\"dataframe\">\n",
       "  <thead>\n",
       "    <tr style=\"text-align: right;\">\n",
       "      <th></th>\n",
       "      <th>mean_fit_time</th>\n",
       "      <th>std_fit_time</th>\n",
       "      <th>mean_score_time</th>\n",
       "      <th>std_score_time</th>\n",
       "      <th>param_n_estimators</th>\n",
       "      <th>param_max_depth</th>\n",
       "      <th>param_criterion</th>\n",
       "      <th>params</th>\n",
       "      <th>split0_test_score</th>\n",
       "      <th>split1_test_score</th>\n",
       "      <th>split2_test_score</th>\n",
       "      <th>mean_test_score</th>\n",
       "      <th>std_test_score</th>\n",
       "      <th>rank_test_score</th>\n",
       "      <th>split0_train_score</th>\n",
       "      <th>split1_train_score</th>\n",
       "      <th>split2_train_score</th>\n",
       "      <th>mean_train_score</th>\n",
       "      <th>std_train_score</th>\n",
       "    </tr>\n",
       "  </thead>\n",
       "  <tbody>\n",
       "    <tr>\n",
       "      <th>2</th>\n",
       "      <td>12.626956</td>\n",
       "      <td>1.619306</td>\n",
       "      <td>1.312161</td>\n",
       "      <td>1.604867</td>\n",
       "      <td>100</td>\n",
       "      <td>15</td>\n",
       "      <td>mae</td>\n",
       "      <td>{'n_estimators': 100, 'max_depth': 15, 'criter...</td>\n",
       "      <td>-347.235405</td>\n",
       "      <td>-319.651340</td>\n",
       "      <td>-304.428754</td>\n",
       "      <td>-323.771833</td>\n",
       "      <td>17.716963</td>\n",
       "      <td>1</td>\n",
       "      <td>-112.552009</td>\n",
       "      <td>-102.188061</td>\n",
       "      <td>-116.336075</td>\n",
       "      <td>-110.358715</td>\n",
       "      <td>5.980495</td>\n",
       "    </tr>\n",
       "    <tr>\n",
       "      <th>1</th>\n",
       "      <td>9.246991</td>\n",
       "      <td>0.567503</td>\n",
       "      <td>4.620981</td>\n",
       "      <td>0.530648</td>\n",
       "      <td>100</td>\n",
       "      <td>19</td>\n",
       "      <td>mae</td>\n",
       "      <td>{'n_estimators': 100, 'max_depth': 19, 'criter...</td>\n",
       "      <td>-354.854439</td>\n",
       "      <td>-320.053115</td>\n",
       "      <td>-302.378193</td>\n",
       "      <td>-325.761916</td>\n",
       "      <td>21.800335</td>\n",
       "      <td>2</td>\n",
       "      <td>-108.333808</td>\n",
       "      <td>-100.009984</td>\n",
       "      <td>-113.756168</td>\n",
       "      <td>-107.366654</td>\n",
       "      <td>5.653373</td>\n",
       "    </tr>\n",
       "    <tr>\n",
       "      <th>3</th>\n",
       "      <td>13.904874</td>\n",
       "      <td>0.076956</td>\n",
       "      <td>0.124999</td>\n",
       "      <td>0.005299</td>\n",
       "      <td>100</td>\n",
       "      <td>None</td>\n",
       "      <td>mae</td>\n",
       "      <td>{'n_estimators': 100, 'max_depth': None, 'crit...</td>\n",
       "      <td>-358.797290</td>\n",
       "      <td>-320.268505</td>\n",
       "      <td>-301.250794</td>\n",
       "      <td>-326.772196</td>\n",
       "      <td>23.939135</td>\n",
       "      <td>3</td>\n",
       "      <td>-108.845631</td>\n",
       "      <td>-99.839463</td>\n",
       "      <td>-113.803692</td>\n",
       "      <td>-107.496262</td>\n",
       "      <td>5.780168</td>\n",
       "    </tr>\n",
       "    <tr>\n",
       "      <th>0</th>\n",
       "      <td>5.287246</td>\n",
       "      <td>0.127156</td>\n",
       "      <td>6.288521</td>\n",
       "      <td>0.075123</td>\n",
       "      <td>100</td>\n",
       "      <td>5</td>\n",
       "      <td>mae</td>\n",
       "      <td>{'n_estimators': 100, 'max_depth': 5, 'criteri...</td>\n",
       "      <td>-360.615374</td>\n",
       "      <td>-387.242134</td>\n",
       "      <td>-335.736137</td>\n",
       "      <td>-361.197882</td>\n",
       "      <td>21.031269</td>\n",
       "      <td>4</td>\n",
       "      <td>-299.174914</td>\n",
       "      <td>-266.206192</td>\n",
       "      <td>-294.979984</td>\n",
       "      <td>-286.787030</td>\n",
       "      <td>14.653271</td>\n",
       "    </tr>\n",
       "  </tbody>\n",
       "</table>\n",
       "</div>"
      ],
      "text/plain": [
       "   mean_fit_time  std_fit_time  mean_score_time  std_score_time  \\\n",
       "2      12.626956      1.619306         1.312161        1.604867   \n",
       "1       9.246991      0.567503         4.620981        0.530648   \n",
       "3      13.904874      0.076956         0.124999        0.005299   \n",
       "0       5.287246      0.127156         6.288521        0.075123   \n",
       "\n",
       "  param_n_estimators param_max_depth param_criterion  \\\n",
       "2                100              15             mae   \n",
       "1                100              19             mae   \n",
       "3                100            None             mae   \n",
       "0                100               5             mae   \n",
       "\n",
       "                                              params  split0_test_score  \\\n",
       "2  {'n_estimators': 100, 'max_depth': 15, 'criter...        -347.235405   \n",
       "1  {'n_estimators': 100, 'max_depth': 19, 'criter...        -354.854439   \n",
       "3  {'n_estimators': 100, 'max_depth': None, 'crit...        -358.797290   \n",
       "0  {'n_estimators': 100, 'max_depth': 5, 'criteri...        -360.615374   \n",
       "\n",
       "   split1_test_score  split2_test_score  mean_test_score  std_test_score  \\\n",
       "2        -319.651340        -304.428754      -323.771833       17.716963   \n",
       "1        -320.053115        -302.378193      -325.761916       21.800335   \n",
       "3        -320.268505        -301.250794      -326.772196       23.939135   \n",
       "0        -387.242134        -335.736137      -361.197882       21.031269   \n",
       "\n",
       "   rank_test_score  split0_train_score  split1_train_score  \\\n",
       "2                1         -112.552009         -102.188061   \n",
       "1                2         -108.333808         -100.009984   \n",
       "3                3         -108.845631          -99.839463   \n",
       "0                4         -299.174914         -266.206192   \n",
       "\n",
       "   split2_train_score  mean_train_score  std_train_score  \n",
       "2         -116.336075       -110.358715         5.980495  \n",
       "1         -113.756168       -107.366654         5.653373  \n",
       "3         -113.803692       -107.496262         5.780168  \n",
       "0         -294.979984       -286.787030        14.653271  "
      ]
     },
     "execution_count": 399,
     "metadata": {},
     "output_type": "execute_result"
    }
   ],
   "source": [
    "pd.DataFrame(random_search.cv_results_).sort_values('rank_test_score')"
   ]
  },
  {
   "cell_type": "markdown",
   "metadata": {
    "colab_type": "text",
    "id": "edpJ87A8A8sd"
   },
   "source": [
    "\n",
    "### Feature engineering, explained by Francois Chollet\n",
    "\n",
    "> _Feature engineering_ is the process of using your own knowledge about the data and about the machine learning algorithm at hand to make the algorithm work better by applying hardcoded (nonlearned) transformations to the data before it goes into the model. In many cases, it isn’t reasonable to expect a machine-learning model to be able to learn from completely arbitrary data. The data needs to be presented to the model in a way that will make the model’s job easier.\n",
    "\n",
    "> Let’s look at an intuitive example. Suppose you’re trying to develop a model that can take as input an image of a clock and can output the time of day.\n",
    "\n",
    "> If you choose to use the raw pixels of the image as input data, then you have a difficult machine-learning problem on your hands. You’ll need a convolutional neural network to solve it, and you’ll have to expend quite a bit of computational resources to train the network.\n",
    "\n",
    "> But if you already understand the problem at a high level (you understand how humans read time on a clock face), then you can come up with much better input features for a machine-learning algorithm: for instance, write a Python script to follow the black pixels of the clock hands and output the (x, y) coordinates of the tip of each hand. Then a simple machine-learning algorithm can learn to associate these coordinates with the appropriate time of day.\n",
    "\n",
    "> You can go even further: do a coordinate change, and express the (x, y) coordinates as polar coordinates with regard to the center of the image. Your input will become the angle theta of each clock hand. At this point, your features are making the problem so easy that no machine learning is required; a simple rounding operation and dictionary lookup are enough to recover the approximate time of day.\n",
    "\n",
    "> That’s the essence of feature engineering: making a problem easier by expressing it in a simpler way. It usually requires understanding the problem in depth.\n",
    "\n",
    "> Before convolutional neural networks became successful on the MNIST digit-classification problem, solutions were typically based on hardcoded features such as the number of loops in a digit image, the height of each digit in an image, a histogram of pixel values, and so on.\n",
    "\n",
    "> Neural networks are capable of automatically extracting useful features from raw data. Does this mean you don’t have to worry about feature engineering as long as you’re using deep neural networks? No, for two reasons:\n",
    "\n",
    "> - Good features still allow you to solve problems more elegantly while using fewer resources. For instance, it would be ridiculous to solve the problem of reading a clock face using a convolutional neural network.\n",
    "> - Good features let you solve a problem with far less data. The ability of deep-learning models to learn features on their own relies on having lots of training data available; if you have only a few samples, then the information value in their features becomes critical.\n"
   ]
  },
  {
   "cell_type": "markdown",
   "metadata": {
    "colab_type": "text",
    "id": "oux-dd-5FD6p"
   },
   "source": [
    "# ASSIGNMENT\n",
    "\n",
    "✔️ **1.** Complete the notebook cells that were originally commented **`TODO`**. \n",
    "\n",
    "✔️ **2.** Then, focus on feature engineering to improve your cross validation scores. Collaborate with your cohort on Slack. You could start with the ideas [Jake VanderPlas suggests:](https://jakevdp.github.io/PythonDataScienceHandbook/05.06-linear-regression.html#Example:-Predicting-Bicycle-Traffic)\n",
    "\n",
    "> Our model is almost certainly missing some relevant information. For example, nonlinear effects (such as effects of precipitation and cold temperature) and nonlinear trends within each variable (such as disinclination to ride at very cold and very hot temperatures) cannot be accounted for in this model. Additionally, we have thrown away some of the finer-grained information (such as the difference between a rainy morning and a rainy afternoon), and we have ignored correlations between days (such as the possible effect of a rainy Tuesday on Wednesday's numbers, or the effect of an unexpected sunny day after a streak of rainy days). These are all potentially interesting effects, and you now have the tools to begin exploring them if you wish!\n",
    "\n",
    "✔️ **3.** Experiment with the Categorical Encoding notebook.\n",
    "\n",
    "**4.** At the end of the day, take the last step in the \"universal workflow of machine learning\" — \"You can train your final production model on all the available data (training and validation) and evaluate it one last time on the test set.\"\n",
    "\n",
    "See the [`RandomizedSearchCV`](https://scikit-learn.org/stable/modules/generated/sklearn.model_selection.RandomizedSearchCV.html) documentation for the `refit` parameter, `best_estimator_` attribute, and `predict` method:\n",
    "\n",
    "> **refit : boolean, or string, default=True**\n",
    "\n",
    "> Refit an estimator using the best found parameters on the whole dataset.\n",
    "\n",
    "> The refitted estimator is made available at the `best_estimator_` attribute and permits using `predict` directly on this `GridSearchCV` instance.\n",
    "\n",
    "### STRETCH\n",
    "\n",
    "**A.** Apply this lesson other datasets you've worked with, like Ames Housing, Bank Marketing, or others.\n",
    "\n",
    "✔️ **B.** In additon to `RandomizedSearchCV`, scikit-learn has [`GridSearchCV`](https://scikit-learn.org/stable/modules/generated/sklearn.model_selection.GridSearchCV.html). Another library called scikit-optimize has [`BayesSearchCV`](https://scikit-optimize.github.io/notebooks/sklearn-gridsearchcv-replacement.html). Experiment with these alternatives.\n",
    "\n",
    "✔️ **C.** _[Introduction to Machine Learning with Python](http://shop.oreilly.com/product/0636920030515.do)_ discusses options for \"Grid-Searching Which Model To Use\" in Chapter 6:\n",
    "\n",
    "> You can even go further in combining GridSearchCV and Pipeline: it is also possible to search over the actual steps being performed in the pipeline (say whether to use StandardScaler or MinMaxScaler). This leads to an even bigger search space and should be considered carefully. Trying all possible solutions is usually not a viable machine learning strategy. However, here is an example comparing a RandomForestClassifier and an SVC ...\n",
    "\n",
    "The example is shown in [the accompanying notebook](https://github.com/amueller/introduction_to_ml_with_python/blob/master/06-algorithm-chains-and-pipelines.ipynb), code cells 35-37. Could you apply this concept to your own pipelines?"
   ]
  },
  {
   "cell_type": "markdown",
   "metadata": {},
   "source": [
    "--------------\n",
    "\n",
    "Target\n",
    "- Total : Daily total number of bicycle trips across Seattle's Fremont Bridge\n",
    "\n",
    "Features\n",
    "- Date (index) : from 2012-10-04 to 2015-09-01\n",
    "- Total_yesterday : Total trips yesterday\n",
    "- PRCP : Precipitation (1/10 mm)\n",
    "- SNOW : Snowfall (1/10 mm)\n",
    "- SNWD : Snow depth (1/10 mm)\n",
    "- TMAX : Maximum temperature (1/10 Celsius)\n",
    "- TMIN : Minimum temperature (1/10 Celsius)\n",
    "- AWND : Average daily wind speed (1/10 meters per second)\n",
    "\n",
    "------------------------------"
   ]
  },
  {
   "cell_type": "markdown",
   "metadata": {},
   "source": [
    "### More Feature Engineering"
   ]
  },
  {
   "cell_type": "code",
   "execution_count": 400,
   "metadata": {},
   "outputs": [
    {
     "data": {
      "text/html": [
       "<div>\n",
       "<style scoped>\n",
       "    .dataframe tbody tr th:only-of-type {\n",
       "        vertical-align: middle;\n",
       "    }\n",
       "\n",
       "    .dataframe tbody tr th {\n",
       "        vertical-align: top;\n",
       "    }\n",
       "\n",
       "    .dataframe thead th {\n",
       "        text-align: right;\n",
       "    }\n",
       "</style>\n",
       "<table border=\"1\" class=\"dataframe\">\n",
       "  <thead>\n",
       "    <tr style=\"text-align: right;\">\n",
       "      <th></th>\n",
       "      <th>PRCP</th>\n",
       "      <th>SNOW</th>\n",
       "      <th>SNWD</th>\n",
       "      <th>TMAX</th>\n",
       "      <th>TMIN</th>\n",
       "      <th>AWND</th>\n",
       "      <th>Total_yesterday</th>\n",
       "      <th>Mon</th>\n",
       "      <th>Tue</th>\n",
       "      <th>Wed</th>\n",
       "      <th>Thu</th>\n",
       "      <th>Fri</th>\n",
       "      <th>Sat</th>\n",
       "      <th>Sun</th>\n",
       "      <th>holiday</th>\n",
       "      <th>daylight_hrs</th>\n",
       "      <th>Temp (C)</th>\n",
       "      <th>dry day</th>\n",
       "      <th>annual</th>\n",
       "    </tr>\n",
       "  </thead>\n",
       "  <tbody>\n",
       "    <tr>\n",
       "      <th>2012-10-04</th>\n",
       "      <td>0.0</td>\n",
       "      <td>0</td>\n",
       "      <td>0</td>\n",
       "      <td>18.9</td>\n",
       "      <td>8.3</td>\n",
       "      <td>65</td>\n",
       "      <td>3521.0</td>\n",
       "      <td>0.0</td>\n",
       "      <td>0.0</td>\n",
       "      <td>0.0</td>\n",
       "      <td>1.0</td>\n",
       "      <td>0.0</td>\n",
       "      <td>0.0</td>\n",
       "      <td>0.0</td>\n",
       "      <td>0.0</td>\n",
       "      <td>11.219142</td>\n",
       "      <td>13.60</td>\n",
       "      <td>1</td>\n",
       "      <td>0.000000</td>\n",
       "    </tr>\n",
       "    <tr>\n",
       "      <th>2012-10-05</th>\n",
       "      <td>0.0</td>\n",
       "      <td>0</td>\n",
       "      <td>0</td>\n",
       "      <td>21.7</td>\n",
       "      <td>8.9</td>\n",
       "      <td>57</td>\n",
       "      <td>3475.0</td>\n",
       "      <td>0.0</td>\n",
       "      <td>0.0</td>\n",
       "      <td>0.0</td>\n",
       "      <td>0.0</td>\n",
       "      <td>1.0</td>\n",
       "      <td>0.0</td>\n",
       "      <td>0.0</td>\n",
       "      <td>0.0</td>\n",
       "      <td>11.161038</td>\n",
       "      <td>15.30</td>\n",
       "      <td>1</td>\n",
       "      <td>0.002740</td>\n",
       "    </tr>\n",
       "    <tr>\n",
       "      <th>2012-10-06</th>\n",
       "      <td>0.0</td>\n",
       "      <td>0</td>\n",
       "      <td>0</td>\n",
       "      <td>23.9</td>\n",
       "      <td>7.8</td>\n",
       "      <td>51</td>\n",
       "      <td>3148.0</td>\n",
       "      <td>0.0</td>\n",
       "      <td>0.0</td>\n",
       "      <td>0.0</td>\n",
       "      <td>0.0</td>\n",
       "      <td>0.0</td>\n",
       "      <td>1.0</td>\n",
       "      <td>0.0</td>\n",
       "      <td>0.0</td>\n",
       "      <td>11.103056</td>\n",
       "      <td>15.85</td>\n",
       "      <td>1</td>\n",
       "      <td>0.005479</td>\n",
       "    </tr>\n",
       "    <tr>\n",
       "      <th>2012-10-07</th>\n",
       "      <td>0.0</td>\n",
       "      <td>0</td>\n",
       "      <td>0</td>\n",
       "      <td>23.9</td>\n",
       "      <td>7.8</td>\n",
       "      <td>13</td>\n",
       "      <td>2006.0</td>\n",
       "      <td>0.0</td>\n",
       "      <td>0.0</td>\n",
       "      <td>0.0</td>\n",
       "      <td>0.0</td>\n",
       "      <td>0.0</td>\n",
       "      <td>0.0</td>\n",
       "      <td>1.0</td>\n",
       "      <td>0.0</td>\n",
       "      <td>11.045208</td>\n",
       "      <td>15.85</td>\n",
       "      <td>1</td>\n",
       "      <td>0.008219</td>\n",
       "    </tr>\n",
       "    <tr>\n",
       "      <th>2012-10-08</th>\n",
       "      <td>0.0</td>\n",
       "      <td>0</td>\n",
       "      <td>0</td>\n",
       "      <td>21.1</td>\n",
       "      <td>7.8</td>\n",
       "      <td>19</td>\n",
       "      <td>2142.0</td>\n",
       "      <td>1.0</td>\n",
       "      <td>0.0</td>\n",
       "      <td>0.0</td>\n",
       "      <td>0.0</td>\n",
       "      <td>0.0</td>\n",
       "      <td>0.0</td>\n",
       "      <td>0.0</td>\n",
       "      <td>1.0</td>\n",
       "      <td>10.987503</td>\n",
       "      <td>14.45</td>\n",
       "      <td>1</td>\n",
       "      <td>0.010959</td>\n",
       "    </tr>\n",
       "  </tbody>\n",
       "</table>\n",
       "</div>"
      ],
      "text/plain": [
       "            PRCP  SNOW  SNWD  TMAX  TMIN  AWND  Total_yesterday  Mon  Tue  \\\n",
       "2012-10-04   0.0     0     0  18.9   8.3    65           3521.0  0.0  0.0   \n",
       "2012-10-05   0.0     0     0  21.7   8.9    57           3475.0  0.0  0.0   \n",
       "2012-10-06   0.0     0     0  23.9   7.8    51           3148.0  0.0  0.0   \n",
       "2012-10-07   0.0     0     0  23.9   7.8    13           2006.0  0.0  0.0   \n",
       "2012-10-08   0.0     0     0  21.1   7.8    19           2142.0  1.0  0.0   \n",
       "\n",
       "            Wed  Thu  Fri  Sat  Sun  holiday  daylight_hrs  Temp (C)  dry day  \\\n",
       "2012-10-04  0.0  1.0  0.0  0.0  0.0      0.0     11.219142     13.60        1   \n",
       "2012-10-05  0.0  0.0  1.0  0.0  0.0      0.0     11.161038     15.30        1   \n",
       "2012-10-06  0.0  0.0  0.0  1.0  0.0      0.0     11.103056     15.85        1   \n",
       "2012-10-07  0.0  0.0  0.0  0.0  1.0      0.0     11.045208     15.85        1   \n",
       "2012-10-08  0.0  0.0  0.0  0.0  0.0      1.0     10.987503     14.45        1   \n",
       "\n",
       "              annual  \n",
       "2012-10-04  0.000000  \n",
       "2012-10-05  0.002740  \n",
       "2012-10-06  0.005479  \n",
       "2012-10-07  0.008219  \n",
       "2012-10-08  0.010959  "
      ]
     },
     "execution_count": 400,
     "metadata": {},
     "output_type": "execute_result"
    }
   ],
   "source": [
    "X_train.head()"
   ]
  },
  {
   "cell_type": "code",
   "execution_count": 401,
   "metadata": {},
   "outputs": [],
   "source": [
    "# Engineered temperature features\n",
    "X_train['intraday_temp_difference'] = X_train['TMAX'] - X_train['TMIN']\n",
    "X_train['interday_temp_pct_change'] = X_train['TMAX'].pct_change()"
   ]
  },
  {
   "cell_type": "code",
   "execution_count": 402,
   "metadata": {},
   "outputs": [
    {
     "data": {
      "text/html": [
       "<div>\n",
       "<style scoped>\n",
       "    .dataframe tbody tr th:only-of-type {\n",
       "        vertical-align: middle;\n",
       "    }\n",
       "\n",
       "    .dataframe tbody tr th {\n",
       "        vertical-align: top;\n",
       "    }\n",
       "\n",
       "    .dataframe thead th {\n",
       "        text-align: right;\n",
       "    }\n",
       "</style>\n",
       "<table border=\"1\" class=\"dataframe\">\n",
       "  <thead>\n",
       "    <tr style=\"text-align: right;\">\n",
       "      <th></th>\n",
       "      <th>min</th>\n",
       "      <th>max</th>\n",
       "    </tr>\n",
       "  </thead>\n",
       "  <tbody>\n",
       "    <tr>\n",
       "      <th>PRCP</th>\n",
       "      <td>0.000000</td>\n",
       "      <td>2.200787</td>\n",
       "    </tr>\n",
       "    <tr>\n",
       "      <th>SNOW</th>\n",
       "      <td>-9999.000000</td>\n",
       "      <td>74.000000</td>\n",
       "    </tr>\n",
       "    <tr>\n",
       "      <th>SNWD</th>\n",
       "      <td>0.000000</td>\n",
       "      <td>80.000000</td>\n",
       "    </tr>\n",
       "    <tr>\n",
       "      <th>TMAX</th>\n",
       "      <td>-1.600000</td>\n",
       "      <td>35.600000</td>\n",
       "    </tr>\n",
       "    <tr>\n",
       "      <th>TMIN</th>\n",
       "      <td>-7.100000</td>\n",
       "      <td>18.300000</td>\n",
       "    </tr>\n",
       "    <tr>\n",
       "      <th>AWND</th>\n",
       "      <td>4.000000</td>\n",
       "      <td>95.000000</td>\n",
       "    </tr>\n",
       "    <tr>\n",
       "      <th>Total_yesterday</th>\n",
       "      <td>98.000000</td>\n",
       "      <td>6088.000000</td>\n",
       "    </tr>\n",
       "    <tr>\n",
       "      <th>Mon</th>\n",
       "      <td>0.000000</td>\n",
       "      <td>1.000000</td>\n",
       "    </tr>\n",
       "    <tr>\n",
       "      <th>Tue</th>\n",
       "      <td>0.000000</td>\n",
       "      <td>1.000000</td>\n",
       "    </tr>\n",
       "    <tr>\n",
       "      <th>Wed</th>\n",
       "      <td>0.000000</td>\n",
       "      <td>1.000000</td>\n",
       "    </tr>\n",
       "    <tr>\n",
       "      <th>Thu</th>\n",
       "      <td>0.000000</td>\n",
       "      <td>1.000000</td>\n",
       "    </tr>\n",
       "    <tr>\n",
       "      <th>Fri</th>\n",
       "      <td>0.000000</td>\n",
       "      <td>1.000000</td>\n",
       "    </tr>\n",
       "    <tr>\n",
       "      <th>Sat</th>\n",
       "      <td>0.000000</td>\n",
       "      <td>1.000000</td>\n",
       "    </tr>\n",
       "    <tr>\n",
       "      <th>Sun</th>\n",
       "      <td>0.000000</td>\n",
       "      <td>1.000000</td>\n",
       "    </tr>\n",
       "    <tr>\n",
       "      <th>holiday</th>\n",
       "      <td>0.000000</td>\n",
       "      <td>1.000000</td>\n",
       "    </tr>\n",
       "    <tr>\n",
       "      <th>daylight_hrs</th>\n",
       "      <td>8.218894</td>\n",
       "      <td>15.781095</td>\n",
       "    </tr>\n",
       "    <tr>\n",
       "      <th>Temp (C)</th>\n",
       "      <td>-3.800000</td>\n",
       "      <td>26.700000</td>\n",
       "    </tr>\n",
       "    <tr>\n",
       "      <th>dry day</th>\n",
       "      <td>0.000000</td>\n",
       "      <td>1.000000</td>\n",
       "    </tr>\n",
       "    <tr>\n",
       "      <th>annual</th>\n",
       "      <td>0.000000</td>\n",
       "      <td>2.635616</td>\n",
       "    </tr>\n",
       "    <tr>\n",
       "      <th>intraday_temp_difference</th>\n",
       "      <td>0.600000</td>\n",
       "      <td>18.800000</td>\n",
       "    </tr>\n",
       "    <tr>\n",
       "      <th>interday_temp_pct_change</th>\n",
       "      <td>-3.062500</td>\n",
       "      <td>inf</td>\n",
       "    </tr>\n",
       "  </tbody>\n",
       "</table>\n",
       "</div>"
      ],
      "text/plain": [
       "                                  min          max\n",
       "PRCP                         0.000000     2.200787\n",
       "SNOW                     -9999.000000    74.000000\n",
       "SNWD                         0.000000    80.000000\n",
       "TMAX                        -1.600000    35.600000\n",
       "TMIN                        -7.100000    18.300000\n",
       "AWND                         4.000000    95.000000\n",
       "Total_yesterday             98.000000  6088.000000\n",
       "Mon                          0.000000     1.000000\n",
       "Tue                          0.000000     1.000000\n",
       "Wed                          0.000000     1.000000\n",
       "Thu                          0.000000     1.000000\n",
       "Fri                          0.000000     1.000000\n",
       "Sat                          0.000000     1.000000\n",
       "Sun                          0.000000     1.000000\n",
       "holiday                      0.000000     1.000000\n",
       "daylight_hrs                 8.218894    15.781095\n",
       "Temp (C)                    -3.800000    26.700000\n",
       "dry day                      0.000000     1.000000\n",
       "annual                       0.000000     2.635616\n",
       "intraday_temp_difference     0.600000    18.800000\n",
       "interday_temp_pct_change    -3.062500          inf"
      ]
     },
     "execution_count": 402,
     "metadata": {},
     "output_type": "execute_result"
    }
   ],
   "source": [
    "# Check for suspicious values / outliers\n",
    "X_train.describe().T[['min','max']]"
   ]
  },
  {
   "cell_type": "markdown",
   "metadata": {},
   "source": [
    "Gotcha! `df.pct_change()` returns an `inf` observation, which _is_ a legal float value. This is problematic because it won't show up with `df.isna()` or `df.info()`. Luckily, it does show up as a legitimate float-type max value when `df.describe()` is called."
   ]
  },
  {
   "cell_type": "code",
   "execution_count": 403,
   "metadata": {},
   "outputs": [],
   "source": [
    "X_train.replace([np.inf, -np.inf], np.nan, inplace=True)\n",
    "X_train['interday_temp_pct_change'].fillna(value=X_train['interday_temp_pct_change'].mean(), inplace=True)"
   ]
  },
  {
   "cell_type": "markdown",
   "metadata": {},
   "source": [
    "I see another peculiar outlier in the dataframe: a minimum value in `SNOW` of -9999... This can't be right. My guess is that this is the source's imputation method for days in which there is no data and it _didn't_ snow. `SNOW` and `SNWD` are likely very collinear, so I'm opting to drop the `SNOW` feature."
   ]
  },
  {
   "cell_type": "code",
   "execution_count": 404,
   "metadata": {},
   "outputs": [
    {
     "data": {
      "text/html": [
       "<div>\n",
       "<style scoped>\n",
       "    .dataframe tbody tr th:only-of-type {\n",
       "        vertical-align: middle;\n",
       "    }\n",
       "\n",
       "    .dataframe tbody tr th {\n",
       "        vertical-align: top;\n",
       "    }\n",
       "\n",
       "    .dataframe thead th {\n",
       "        text-align: right;\n",
       "    }\n",
       "</style>\n",
       "<table border=\"1\" class=\"dataframe\">\n",
       "  <thead>\n",
       "    <tr style=\"text-align: right;\">\n",
       "      <th></th>\n",
       "      <th>PRCP</th>\n",
       "      <th>SNOW</th>\n",
       "      <th>SNWD</th>\n",
       "      <th>TMAX</th>\n",
       "      <th>TMIN</th>\n",
       "      <th>AWND</th>\n",
       "      <th>Total_yesterday</th>\n",
       "      <th>Mon</th>\n",
       "      <th>Tue</th>\n",
       "      <th>Wed</th>\n",
       "      <th>...</th>\n",
       "      <th>Fri</th>\n",
       "      <th>Sat</th>\n",
       "      <th>Sun</th>\n",
       "      <th>holiday</th>\n",
       "      <th>daylight_hrs</th>\n",
       "      <th>Temp (C)</th>\n",
       "      <th>dry day</th>\n",
       "      <th>annual</th>\n",
       "      <th>intraday_temp_difference</th>\n",
       "      <th>interday_temp_pct_change</th>\n",
       "    </tr>\n",
       "  </thead>\n",
       "  <tbody>\n",
       "    <tr>\n",
       "      <th>2013-04-13</th>\n",
       "      <td>0.370079</td>\n",
       "      <td>-9999</td>\n",
       "      <td>0</td>\n",
       "      <td>10.6</td>\n",
       "      <td>3.3</td>\n",
       "      <td>57</td>\n",
       "      <td>2045.0</td>\n",
       "      <td>0.0</td>\n",
       "      <td>0.0</td>\n",
       "      <td>0.0</td>\n",
       "      <td>...</td>\n",
       "      <td>0.0</td>\n",
       "      <td>1.0</td>\n",
       "      <td>0.0</td>\n",
       "      <td>0.0</td>\n",
       "      <td>13.263023</td>\n",
       "      <td>6.95</td>\n",
       "      <td>0</td>\n",
       "      <td>0.523288</td>\n",
       "      <td>7.3</td>\n",
       "      <td>0.358974</td>\n",
       "    </tr>\n",
       "    <tr>\n",
       "      <th>2013-04-16</th>\n",
       "      <td>0.011811</td>\n",
       "      <td>-9999</td>\n",
       "      <td>0</td>\n",
       "      <td>13.9</td>\n",
       "      <td>3.3</td>\n",
       "      <td>26</td>\n",
       "      <td>2687.0</td>\n",
       "      <td>0.0</td>\n",
       "      <td>1.0</td>\n",
       "      <td>0.0</td>\n",
       "      <td>...</td>\n",
       "      <td>0.0</td>\n",
       "      <td>0.0</td>\n",
       "      <td>0.0</td>\n",
       "      <td>0.0</td>\n",
       "      <td>13.432650</td>\n",
       "      <td>8.60</td>\n",
       "      <td>0</td>\n",
       "      <td>0.531507</td>\n",
       "      <td>10.6</td>\n",
       "      <td>0.000000</td>\n",
       "    </tr>\n",
       "    <tr>\n",
       "      <th>2014-06-16</th>\n",
       "      <td>0.141732</td>\n",
       "      <td>-9999</td>\n",
       "      <td>0</td>\n",
       "      <td>17.8</td>\n",
       "      <td>8.9</td>\n",
       "      <td>24</td>\n",
       "      <td>1267.0</td>\n",
       "      <td>1.0</td>\n",
       "      <td>0.0</td>\n",
       "      <td>0.0</td>\n",
       "      <td>...</td>\n",
       "      <td>0.0</td>\n",
       "      <td>0.0</td>\n",
       "      <td>0.0</td>\n",
       "      <td>0.0</td>\n",
       "      <td>15.757561</td>\n",
       "      <td>13.35</td>\n",
       "      <td>0</td>\n",
       "      <td>1.698630</td>\n",
       "      <td>8.9</td>\n",
       "      <td>-0.027322</td>\n",
       "    </tr>\n",
       "    <tr>\n",
       "      <th>2014-12-16</th>\n",
       "      <td>0.000000</td>\n",
       "      <td>-9999</td>\n",
       "      <td>0</td>\n",
       "      <td>10.0</td>\n",
       "      <td>8.3</td>\n",
       "      <td>40</td>\n",
       "      <td>2283.0</td>\n",
       "      <td>0.0</td>\n",
       "      <td>1.0</td>\n",
       "      <td>0.0</td>\n",
       "      <td>...</td>\n",
       "      <td>0.0</td>\n",
       "      <td>0.0</td>\n",
       "      <td>0.0</td>\n",
       "      <td>0.0</td>\n",
       "      <td>8.239536</td>\n",
       "      <td>9.15</td>\n",
       "      <td>1</td>\n",
       "      <td>2.200000</td>\n",
       "      <td>1.7</td>\n",
       "      <td>-0.180328</td>\n",
       "    </tr>\n",
       "  </tbody>\n",
       "</table>\n",
       "<p>4 rows × 21 columns</p>\n",
       "</div>"
      ],
      "text/plain": [
       "                PRCP  SNOW  SNWD  TMAX  TMIN  AWND  Total_yesterday  Mon  Tue  \\\n",
       "2013-04-13  0.370079 -9999     0  10.6   3.3    57           2045.0  0.0  0.0   \n",
       "2013-04-16  0.011811 -9999     0  13.9   3.3    26           2687.0  0.0  1.0   \n",
       "2014-06-16  0.141732 -9999     0  17.8   8.9    24           1267.0  1.0  0.0   \n",
       "2014-12-16  0.000000 -9999     0  10.0   8.3    40           2283.0  0.0  1.0   \n",
       "\n",
       "            Wed  ...  Fri  Sat  Sun  holiday  daylight_hrs  Temp (C)  dry day  \\\n",
       "2013-04-13  0.0  ...  0.0  1.0  0.0      0.0     13.263023      6.95        0   \n",
       "2013-04-16  0.0  ...  0.0  0.0  0.0      0.0     13.432650      8.60        0   \n",
       "2014-06-16  0.0  ...  0.0  0.0  0.0      0.0     15.757561     13.35        0   \n",
       "2014-12-16  0.0  ...  0.0  0.0  0.0      0.0      8.239536      9.15        1   \n",
       "\n",
       "              annual  intraday_temp_difference  interday_temp_pct_change  \n",
       "2013-04-13  0.523288                       7.3                  0.358974  \n",
       "2013-04-16  0.531507                      10.6                  0.000000  \n",
       "2014-06-16  1.698630                       8.9                 -0.027322  \n",
       "2014-12-16  2.200000                       1.7                 -0.180328  \n",
       "\n",
       "[4 rows x 21 columns]"
      ]
     },
     "execution_count": 404,
     "metadata": {},
     "output_type": "execute_result"
    }
   ],
   "source": [
    "X_train.loc[ X_train['SNOW'] == -9999]"
   ]
  },
  {
   "cell_type": "code",
   "execution_count": 405,
   "metadata": {},
   "outputs": [],
   "source": [
    "X_train.drop(columns='SNOW', inplace=True)"
   ]
  },
  {
   "cell_type": "markdown",
   "metadata": {},
   "source": [
    "### Random Forest Regressor Hyperparameter Optimization via `BayesSearchCV`"
   ]
  },
  {
   "cell_type": "code",
   "execution_count": 406,
   "metadata": {},
   "outputs": [],
   "source": [
    "from skopt import BayesSearchCV\n",
    "from skopt.space import Real, Categorical, Integer"
   ]
  },
  {
   "cell_type": "code",
   "execution_count": null,
   "metadata": {},
   "outputs": [],
   "source": [
    "# Bayesian hyperparameter search for the Random Forest Regressor\n",
    "search_spaces_rf = {\n",
    "    'n_estimators': Integer(50,200),\n",
    "    'max_features': Integer(2,20),\n",
    "    'max_depth': Integer(1,10),\n",
    "    'min_samples_split': Integer(2,6),\n",
    "    'min_samples_leaf': Integer(1,6),\n",
    "}\n",
    "\n",
    "bayes_search = BayesSearchCV(\n",
    "    RandomForestRegressor(n_jobs=-1, random_state=42),\n",
    "    search_spaces=search_spaces_rf,\n",
    "    random_state=42,\n",
    "    n_jobs=-1,\n",
    "    n_iter=50,  # default\n",
    "    cv=3,\n",
    "    verbose=0,\n",
    "    scoring='neg_mean_absolute_error',\n",
    "    return_train_score=True,\n",
    ")\n",
    "\n",
    "bayes_search.fit(X_train, y_train)"
   ]
  },
  {
   "cell_type": "code",
   "execution_count": 409,
   "metadata": {},
   "outputs": [
    {
     "name": "stdout",
     "output_type": "stream",
     "text": [
      "RandomForestRegressor(bootstrap=True, criterion='mse', max_depth=8,\n",
      "           max_features=19, max_leaf_nodes=None, min_impurity_decrease=0.0,\n",
      "           min_impurity_split=None, min_samples_leaf=2,\n",
      "           min_samples_split=3, min_weight_fraction_leaf=0.0,\n",
      "           n_estimators=151, n_jobs=-1, oob_score=False, random_state=42,\n",
      "           verbose=0, warm_start=False)\n"
     ]
    },
    {
     "data": {
      "text/html": [
       "<div>\n",
       "<style scoped>\n",
       "    .dataframe tbody tr th:only-of-type {\n",
       "        vertical-align: middle;\n",
       "    }\n",
       "\n",
       "    .dataframe tbody tr th {\n",
       "        vertical-align: top;\n",
       "    }\n",
       "\n",
       "    .dataframe thead th {\n",
       "        text-align: right;\n",
       "    }\n",
       "</style>\n",
       "<table border=\"1\" class=\"dataframe\">\n",
       "  <thead>\n",
       "    <tr style=\"text-align: right;\">\n",
       "      <th></th>\n",
       "      <th>split0_test_score</th>\n",
       "      <th>split1_test_score</th>\n",
       "      <th>split2_test_score</th>\n",
       "      <th>mean_test_score</th>\n",
       "      <th>std_test_score</th>\n",
       "      <th>rank_test_score</th>\n",
       "      <th>split0_train_score</th>\n",
       "      <th>split1_train_score</th>\n",
       "      <th>split2_train_score</th>\n",
       "      <th>mean_train_score</th>\n",
       "      <th>...</th>\n",
       "      <th>mean_fit_time</th>\n",
       "      <th>std_fit_time</th>\n",
       "      <th>mean_score_time</th>\n",
       "      <th>std_score_time</th>\n",
       "      <th>param_max_depth</th>\n",
       "      <th>param_max_features</th>\n",
       "      <th>param_min_samples_leaf</th>\n",
       "      <th>param_min_samples_split</th>\n",
       "      <th>param_n_estimators</th>\n",
       "      <th>params</th>\n",
       "    </tr>\n",
       "  </thead>\n",
       "  <tbody>\n",
       "    <tr>\n",
       "      <th>18</th>\n",
       "      <td>-293.532209</td>\n",
       "      <td>-331.073780</td>\n",
       "      <td>-296.596204</td>\n",
       "      <td>-307.067398</td>\n",
       "      <td>17.021101</td>\n",
       "      <td>1</td>\n",
       "      <td>-170.098015</td>\n",
       "      <td>-155.302753</td>\n",
       "      <td>-166.514220</td>\n",
       "      <td>-163.971663</td>\n",
       "      <td>...</td>\n",
       "      <td>0.778917</td>\n",
       "      <td>0.030326</td>\n",
       "      <td>0.114030</td>\n",
       "      <td>0.002050</td>\n",
       "      <td>8</td>\n",
       "      <td>19</td>\n",
       "      <td>2</td>\n",
       "      <td>3</td>\n",
       "      <td>151</td>\n",
       "      <td>{'max_depth': 8, 'max_features': 19, 'min_samp...</td>\n",
       "    </tr>\n",
       "    <tr>\n",
       "      <th>21</th>\n",
       "      <td>-293.180038</td>\n",
       "      <td>-331.275685</td>\n",
       "      <td>-296.861521</td>\n",
       "      <td>-307.105748</td>\n",
       "      <td>17.156684</td>\n",
       "      <td>1</td>\n",
       "      <td>-169.861127</td>\n",
       "      <td>-155.325622</td>\n",
       "      <td>-166.365423</td>\n",
       "      <td>-163.850724</td>\n",
       "      <td>...</td>\n",
       "      <td>0.751657</td>\n",
       "      <td>0.037015</td>\n",
       "      <td>0.117691</td>\n",
       "      <td>0.002936</td>\n",
       "      <td>8</td>\n",
       "      <td>19</td>\n",
       "      <td>2</td>\n",
       "      <td>3</td>\n",
       "      <td>156</td>\n",
       "      <td>{'max_depth': 8, 'max_features': 19, 'min_samp...</td>\n",
       "    </tr>\n",
       "    <tr>\n",
       "      <th>17</th>\n",
       "      <td>-295.642626</td>\n",
       "      <td>-331.898693</td>\n",
       "      <td>-293.793095</td>\n",
       "      <td>-307.111471</td>\n",
       "      <td>17.543469</td>\n",
       "      <td>1</td>\n",
       "      <td>-170.790727</td>\n",
       "      <td>-155.990971</td>\n",
       "      <td>-168.511348</td>\n",
       "      <td>-165.097682</td>\n",
       "      <td>...</td>\n",
       "      <td>0.767626</td>\n",
       "      <td>0.047225</td>\n",
       "      <td>0.113683</td>\n",
       "      <td>0.001421</td>\n",
       "      <td>9</td>\n",
       "      <td>18</td>\n",
       "      <td>3</td>\n",
       "      <td>6</td>\n",
       "      <td>158</td>\n",
       "      <td>{'max_depth': 9, 'max_features': 18, 'min_samp...</td>\n",
       "    </tr>\n",
       "    <tr>\n",
       "      <th>15</th>\n",
       "      <td>-296.695262</td>\n",
       "      <td>-329.691090</td>\n",
       "      <td>-294.990182</td>\n",
       "      <td>-307.125511</td>\n",
       "      <td>15.971450</td>\n",
       "      <td>1</td>\n",
       "      <td>-169.933291</td>\n",
       "      <td>-154.892245</td>\n",
       "      <td>-169.119994</td>\n",
       "      <td>-164.648510</td>\n",
       "      <td>...</td>\n",
       "      <td>0.923200</td>\n",
       "      <td>0.019087</td>\n",
       "      <td>0.116019</td>\n",
       "      <td>0.001241</td>\n",
       "      <td>9</td>\n",
       "      <td>18</td>\n",
       "      <td>3</td>\n",
       "      <td>6</td>\n",
       "      <td>200</td>\n",
       "      <td>{'max_depth': 9, 'max_features': 18, 'min_samp...</td>\n",
       "    </tr>\n",
       "    <tr>\n",
       "      <th>42</th>\n",
       "      <td>-296.441057</td>\n",
       "      <td>-331.658835</td>\n",
       "      <td>-293.693356</td>\n",
       "      <td>-307.264416</td>\n",
       "      <td>17.285895</td>\n",
       "      <td>1</td>\n",
       "      <td>-170.772067</td>\n",
       "      <td>-155.862307</td>\n",
       "      <td>-168.635799</td>\n",
       "      <td>-165.090058</td>\n",
       "      <td>...</td>\n",
       "      <td>0.679181</td>\n",
       "      <td>0.054643</td>\n",
       "      <td>0.115691</td>\n",
       "      <td>0.004071</td>\n",
       "      <td>9</td>\n",
       "      <td>18</td>\n",
       "      <td>3</td>\n",
       "      <td>6</td>\n",
       "      <td>160</td>\n",
       "      <td>{'max_depth': 9, 'max_features': 18, 'min_samp...</td>\n",
       "    </tr>\n",
       "  </tbody>\n",
       "</table>\n",
       "<p>5 rows × 21 columns</p>\n",
       "</div>"
      ],
      "text/plain": [
       "    split0_test_score  split1_test_score  split2_test_score  mean_test_score  \\\n",
       "18        -293.532209        -331.073780        -296.596204      -307.067398   \n",
       "21        -293.180038        -331.275685        -296.861521      -307.105748   \n",
       "17        -295.642626        -331.898693        -293.793095      -307.111471   \n",
       "15        -296.695262        -329.691090        -294.990182      -307.125511   \n",
       "42        -296.441057        -331.658835        -293.693356      -307.264416   \n",
       "\n",
       "    std_test_score  rank_test_score  split0_train_score  split1_train_score  \\\n",
       "18       17.021101                1         -170.098015         -155.302753   \n",
       "21       17.156684                1         -169.861127         -155.325622   \n",
       "17       17.543469                1         -170.790727         -155.990971   \n",
       "15       15.971450                1         -169.933291         -154.892245   \n",
       "42       17.285895                1         -170.772067         -155.862307   \n",
       "\n",
       "    split2_train_score  mean_train_score  ...  mean_fit_time  std_fit_time  \\\n",
       "18         -166.514220       -163.971663  ...       0.778917      0.030326   \n",
       "21         -166.365423       -163.850724  ...       0.751657      0.037015   \n",
       "17         -168.511348       -165.097682  ...       0.767626      0.047225   \n",
       "15         -169.119994       -164.648510  ...       0.923200      0.019087   \n",
       "42         -168.635799       -165.090058  ...       0.679181      0.054643   \n",
       "\n",
       "    mean_score_time  std_score_time  param_max_depth  param_max_features  \\\n",
       "18         0.114030        0.002050                8                  19   \n",
       "21         0.117691        0.002936                8                  19   \n",
       "17         0.113683        0.001421                9                  18   \n",
       "15         0.116019        0.001241                9                  18   \n",
       "42         0.115691        0.004071                9                  18   \n",
       "\n",
       "    param_min_samples_leaf  param_min_samples_split  param_n_estimators  \\\n",
       "18                       2                        3                 151   \n",
       "21                       2                        3                 156   \n",
       "17                       3                        6                 158   \n",
       "15                       3                        6                 200   \n",
       "42                       3                        6                 160   \n",
       "\n",
       "                                               params  \n",
       "18  {'max_depth': 8, 'max_features': 19, 'min_samp...  \n",
       "21  {'max_depth': 8, 'max_features': 19, 'min_samp...  \n",
       "17  {'max_depth': 9, 'max_features': 18, 'min_samp...  \n",
       "15  {'max_depth': 9, 'max_features': 18, 'min_samp...  \n",
       "42  {'max_depth': 9, 'max_features': 18, 'min_samp...  \n",
       "\n",
       "[5 rows x 21 columns]"
      ]
     },
     "execution_count": 409,
     "metadata": {},
     "output_type": "execute_result"
    }
   ],
   "source": [
    "print(bayes_search.best_estimator_)\n",
    "pd.DataFrame(bayes_search.cv_results_).sort_values('mean_test_score', ascending=False).head()"
   ]
  },
  {
   "cell_type": "markdown",
   "metadata": {},
   "source": [
    "### XGBoost Regressor Hyperparameter & Pipeline Optimization with `BayesSearchCV` "
   ]
  },
  {
   "cell_type": "code",
   "execution_count": 410,
   "metadata": {},
   "outputs": [],
   "source": [
    "from xgboost import XGBRegressor\n",
    "from sklearn.pipeline import Pipeline\n",
    "from sklearn.decomposition import PCA"
   ]
  },
  {
   "cell_type": "code",
   "execution_count": null,
   "metadata": {},
   "outputs": [],
   "source": [
    "pipe = Pipeline([('preprocessing', PCA(random_state=42, n_components=0.90, svd_solver='full')), \n",
    "                 ('model', XGBRegressor(n_jobs=-1, random_state=42, booster='dart', tree_method='auto'))\n",
    "])\n",
    "\n",
    "search_spaces_xgb = {\n",
    "     'preprocessing':           Categorical([PCA(random_state=42, n_components=0.90, svd_solver='full'), None]),\n",
    "     'model':                   Categorical([XGBRegressor(n_jobs=-1, random_state=42, booster='dart', tree_method='auto')]), \n",
    "     'model__n_estimators':     Integer(50,150),\n",
    "     'model__max_depth':        Integer(4,10),\n",
    "     'model__learning_rate':    Real(0.01,0.6),\n",
    "     'model__gamma':            Real(1.0e-6,1.0e6,'log-uniform'),\n",
    "}\n",
    "#     'model__min_child_weight': Real(0.0,1.0e6),\n",
    "#     'model__max_delta_step':   Real(0.0,1.0e6),\n",
    "\n",
    "opt = BayesSearchCV(\n",
    "    estimator=pipe,\n",
    "    search_spaces=search_spaces_xgb,\n",
    "    random_state=42,\n",
    "    n_jobs=-1,\n",
    "    n_iter=100,\n",
    "    cv=3,\n",
    "    verbose=1,\n",
    "    scoring='neg_mean_absolute_error',\n",
    ")\n",
    "\n",
    "opt.fit(X_train, y_train)"
   ]
  },
  {
   "cell_type": "code",
   "execution_count": 432,
   "metadata": {},
   "outputs": [
    {
     "name": "stdout",
     "output_type": "stream",
     "text": [
      "Pipeline(memory=None,\n",
      "     steps=[('preprocessing', None), ('model', XGBRegressor(base_score=0.5, booster='dart', colsample_bylevel=1,\n",
      "       colsample_bytree=1, gamma=35668.25218114102,\n",
      "       learning_rate=0.03222160693702309, max_delta_step=0, max_depth=10,\n",
      "       min_child_weight=1, missing=nan, n_estimators=149, n_jobs=-1,\n",
      "       nthread=None, objective='reg:linear', random_state=42, reg_alpha=0,\n",
      "       reg_lambda=1, scale_pos_weight=1, seed=None, silent=True,\n",
      "       subsample=1, tree_method='auto'))])\n"
     ]
    },
    {
     "data": {
      "text/html": [
       "<div>\n",
       "<style scoped>\n",
       "    .dataframe tbody tr th:only-of-type {\n",
       "        vertical-align: middle;\n",
       "    }\n",
       "\n",
       "    .dataframe tbody tr th {\n",
       "        vertical-align: top;\n",
       "    }\n",
       "\n",
       "    .dataframe thead th {\n",
       "        text-align: right;\n",
       "    }\n",
       "</style>\n",
       "<table border=\"1\" class=\"dataframe\">\n",
       "  <thead>\n",
       "    <tr style=\"text-align: right;\">\n",
       "      <th></th>\n",
       "      <th>split0_test_score</th>\n",
       "      <th>split1_test_score</th>\n",
       "      <th>split2_test_score</th>\n",
       "      <th>mean_test_score</th>\n",
       "      <th>std_test_score</th>\n",
       "      <th>rank_test_score</th>\n",
       "      <th>mean_fit_time</th>\n",
       "      <th>std_fit_time</th>\n",
       "      <th>mean_score_time</th>\n",
       "      <th>std_score_time</th>\n",
       "      <th>param_model</th>\n",
       "      <th>param_model__gamma</th>\n",
       "      <th>param_model__learning_rate</th>\n",
       "      <th>param_model__max_depth</th>\n",
       "      <th>param_model__n_estimators</th>\n",
       "      <th>param_preprocessing</th>\n",
       "      <th>params</th>\n",
       "    </tr>\n",
       "  </thead>\n",
       "  <tbody>\n",
       "    <tr>\n",
       "      <th>13</th>\n",
       "      <td>-275.186576</td>\n",
       "      <td>-312.205347</td>\n",
       "      <td>-299.217335</td>\n",
       "      <td>-295.536419</td>\n",
       "      <td>15.335345</td>\n",
       "      <td>1</td>\n",
       "      <td>2.827763</td>\n",
       "      <td>0.008711</td>\n",
       "      <td>0.005318</td>\n",
       "      <td>0.000469</td>\n",
       "      <td>XGBRegressor(base_score=0.5, booster='dart', c...</td>\n",
       "      <td>35668.252181</td>\n",
       "      <td>0.032222</td>\n",
       "      <td>10</td>\n",
       "      <td>149</td>\n",
       "      <td>None</td>\n",
       "      <td>{'model': XGBRegressor(base_score=0.5, booster...</td>\n",
       "    </tr>\n",
       "    <tr>\n",
       "      <th>19</th>\n",
       "      <td>-257.322543</td>\n",
       "      <td>-326.734386</td>\n",
       "      <td>-304.640742</td>\n",
       "      <td>-296.232557</td>\n",
       "      <td>28.954265</td>\n",
       "      <td>1</td>\n",
       "      <td>1.868008</td>\n",
       "      <td>0.019256</td>\n",
       "      <td>0.007313</td>\n",
       "      <td>0.001249</td>\n",
       "      <td>XGBRegressor(base_score=0.5, booster='dart', c...</td>\n",
       "      <td>0.000001</td>\n",
       "      <td>0.078650</td>\n",
       "      <td>10</td>\n",
       "      <td>53</td>\n",
       "      <td>None</td>\n",
       "      <td>{'model': XGBRegressor(base_score=0.5, booster...</td>\n",
       "    </tr>\n",
       "    <tr>\n",
       "      <th>12</th>\n",
       "      <td>-260.080299</td>\n",
       "      <td>-324.124180</td>\n",
       "      <td>-305.784645</td>\n",
       "      <td>-296.663042</td>\n",
       "      <td>26.929630</td>\n",
       "      <td>1</td>\n",
       "      <td>6.129263</td>\n",
       "      <td>0.019548</td>\n",
       "      <td>0.017286</td>\n",
       "      <td>0.004772</td>\n",
       "      <td>XGBRegressor(base_score=0.5, booster='dart', c...</td>\n",
       "      <td>21365.998154</td>\n",
       "      <td>0.026171</td>\n",
       "      <td>10</td>\n",
       "      <td>150</td>\n",
       "      <td>None</td>\n",
       "      <td>{'model': XGBRegressor(base_score=0.5, booster...</td>\n",
       "    </tr>\n",
       "    <tr>\n",
       "      <th>48</th>\n",
       "      <td>-271.723336</td>\n",
       "      <td>-329.234878</td>\n",
       "      <td>-303.181609</td>\n",
       "      <td>-301.379941</td>\n",
       "      <td>23.513526</td>\n",
       "      <td>1</td>\n",
       "      <td>1.213260</td>\n",
       "      <td>0.007363</td>\n",
       "      <td>0.000000</td>\n",
       "      <td>0.000000</td>\n",
       "      <td>XGBRegressor(base_score=0.5, booster='dart', c...</td>\n",
       "      <td>1000000.000000</td>\n",
       "      <td>0.083178</td>\n",
       "      <td>7</td>\n",
       "      <td>54</td>\n",
       "      <td>None</td>\n",
       "      <td>{'model': XGBRegressor(base_score=0.5, booster...</td>\n",
       "    </tr>\n",
       "    <tr>\n",
       "      <th>59</th>\n",
       "      <td>-279.438070</td>\n",
       "      <td>-329.838759</td>\n",
       "      <td>-295.143253</td>\n",
       "      <td>-301.473361</td>\n",
       "      <td>21.057224</td>\n",
       "      <td>1</td>\n",
       "      <td>1.525672</td>\n",
       "      <td>0.007370</td>\n",
       "      <td>0.005209</td>\n",
       "      <td>0.007366</td>\n",
       "      <td>XGBRegressor(base_score=0.5, booster='dart', c...</td>\n",
       "      <td>1000000.000000</td>\n",
       "      <td>0.036450</td>\n",
       "      <td>4</td>\n",
       "      <td>136</td>\n",
       "      <td>None</td>\n",
       "      <td>{'model': XGBRegressor(base_score=0.5, booster...</td>\n",
       "    </tr>\n",
       "  </tbody>\n",
       "</table>\n",
       "</div>"
      ],
      "text/plain": [
       "    split0_test_score  split1_test_score  split2_test_score  mean_test_score  \\\n",
       "13        -275.186576        -312.205347        -299.217335      -295.536419   \n",
       "19        -257.322543        -326.734386        -304.640742      -296.232557   \n",
       "12        -260.080299        -324.124180        -305.784645      -296.663042   \n",
       "48        -271.723336        -329.234878        -303.181609      -301.379941   \n",
       "59        -279.438070        -329.838759        -295.143253      -301.473361   \n",
       "\n",
       "    std_test_score  rank_test_score  mean_fit_time  std_fit_time  \\\n",
       "13       15.335345                1       2.827763      0.008711   \n",
       "19       28.954265                1       1.868008      0.019256   \n",
       "12       26.929630                1       6.129263      0.019548   \n",
       "48       23.513526                1       1.213260      0.007363   \n",
       "59       21.057224                1       1.525672      0.007370   \n",
       "\n",
       "    mean_score_time  std_score_time  \\\n",
       "13         0.005318        0.000469   \n",
       "19         0.007313        0.001249   \n",
       "12         0.017286        0.004772   \n",
       "48         0.000000        0.000000   \n",
       "59         0.005209        0.007366   \n",
       "\n",
       "                                          param_model  param_model__gamma  \\\n",
       "13  XGBRegressor(base_score=0.5, booster='dart', c...        35668.252181   \n",
       "19  XGBRegressor(base_score=0.5, booster='dart', c...            0.000001   \n",
       "12  XGBRegressor(base_score=0.5, booster='dart', c...        21365.998154   \n",
       "48  XGBRegressor(base_score=0.5, booster='dart', c...      1000000.000000   \n",
       "59  XGBRegressor(base_score=0.5, booster='dart', c...      1000000.000000   \n",
       "\n",
       "    param_model__learning_rate  param_model__max_depth  \\\n",
       "13                    0.032222                      10   \n",
       "19                    0.078650                      10   \n",
       "12                    0.026171                      10   \n",
       "48                    0.083178                       7   \n",
       "59                    0.036450                       4   \n",
       "\n",
       "    param_model__n_estimators param_preprocessing  \\\n",
       "13                        149                None   \n",
       "19                         53                None   \n",
       "12                        150                None   \n",
       "48                         54                None   \n",
       "59                        136                None   \n",
       "\n",
       "                                               params  \n",
       "13  {'model': XGBRegressor(base_score=0.5, booster...  \n",
       "19  {'model': XGBRegressor(base_score=0.5, booster...  \n",
       "12  {'model': XGBRegressor(base_score=0.5, booster...  \n",
       "48  {'model': XGBRegressor(base_score=0.5, booster...  \n",
       "59  {'model': XGBRegressor(base_score=0.5, booster...  "
      ]
     },
     "execution_count": 432,
     "metadata": {},
     "output_type": "execute_result"
    }
   ],
   "source": [
    "print(opt.best_estimator_)\n",
    "pd.DataFrame(opt.cv_results_).sort_values('mean_test_score', ascending=False).head()"
   ]
  },
  {
   "cell_type": "markdown",
   "metadata": {},
   "source": [
    "The top performing XGBoost model has a  negative mean absolute error of `-295` for the `mean_test_score`, meaning that for a given prediction this model will, on average, be off by 295 cyclists from the true value. "
   ]
  }
 ],
 "metadata": {
  "colab": {
   "collapsed_sections": [],
   "name": "Copy of LS_DS_243_Select_models_and_parameters.ipynb",
   "provenance": [],
   "version": "0.3.2"
  },
  "kernelspec": {
   "display_name": "Python 3",
   "language": "python",
   "name": "python3"
  },
  "language_info": {
   "codemirror_mode": {
    "name": "ipython",
    "version": 3
   },
   "file_extension": ".py",
   "mimetype": "text/x-python",
   "name": "python",
   "nbconvert_exporter": "python",
   "pygments_lexer": "ipython3",
   "version": "3.7.3"
  }
 },
 "nbformat": 4,
 "nbformat_minor": 2
}
