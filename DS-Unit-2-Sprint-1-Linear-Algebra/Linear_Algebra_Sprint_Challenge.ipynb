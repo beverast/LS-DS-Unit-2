{
 "cells": [
  {
   "cell_type": "markdown",
   "metadata": {
    "colab_type": "text",
    "id": "-wQxiT7yC4_v"
   },
   "source": [
    "# Linear Algebra"
   ]
  },
  {
   "cell_type": "markdown",
   "metadata": {
    "colab_type": "text",
    "id": "aiUlaNJkECCL"
   },
   "source": [
    "## 1.1 Graph vector $\\vec{a}$ \n",
    "\n",
    "\\begin{align}\n",
    "\\vec{a} = \\begin{bmatrix} 3 \\\\ 2 \\end{bmatrix}\n",
    "\\end{align}"
   ]
  },
  {
   "cell_type": "code",
   "execution_count": 2,
   "metadata": {
    "colab": {},
    "colab_type": "code",
    "id": "QpCKt0n5IeiY"
   },
   "outputs": [],
   "source": [
    "import matplotlib.pyplot as plt\n",
    "import numpy as np\n",
    "import pandas as pd\n",
    "import seaborn as sns\n",
    "from sklearn.cluster import KMeans\n",
    "from sklearn.decomposition import PCA\n",
    "from sklearn.preprocessing import StandardScaler\n",
    "import warnings"
   ]
  },
  {
   "cell_type": "code",
   "execution_count": 3,
   "metadata": {},
   "outputs": [
    {
     "data": {
      "image/png": "[encoded data removed]",
      "text/plain": [
       "<Figure size 432x288 with 1 Axes>"
      ]
     },
     "metadata": {
      "needs_background": "light"
     },
     "output_type": "display_data"
    }
   ],
   "source": [
    "plt.arrow(0, 0, 3, 2, head_width=0.05, head_length=0.05, linestyle='-', color='b')\n",
    "plt.xlim([0,4])\n",
    "plt.ylim([0,4]);"
   ]
  },
  {
   "cell_type": "markdown",
   "metadata": {
    "colab_type": "text",
    "id": "BDLB08NXEiUN"
   },
   "source": [
    "## 1.2 Find $||\\vec{b}||$. What does the norm of a vector represent?\n",
    "\\begin{align}\n",
    "\\vec{b} = \\begin{bmatrix} 17 & -4 & -2 & 1\\end{bmatrix}\n",
    "\\end{align}\n"
   ]
  },
  {
   "cell_type": "code",
   "execution_count": 4,
   "metadata": {
    "colab": {},
    "colab_type": "code",
    "id": "Fp3mocAKIfGD"
   },
   "outputs": [
    {
     "data": {
      "text/plain": [
       "17.60681686165901"
      ]
     },
     "execution_count": 4,
     "metadata": {},
     "output_type": "execute_result"
    }
   ],
   "source": [
    "# The norm of a vector represents its length, or \"magnitude\", in `vector.len()` dimensional space.\n",
    "np.linalg.norm(np.array([17,-4,-2,1]))"
   ]
  },
  {
   "cell_type": "markdown",
   "metadata": {
    "colab_type": "text",
    "id": "vBbJ0ZyPD6RG"
   },
   "source": [
    "## 1.3 Find $\\vec{c} \\cdot \\vec{d}$\n",
    "\n",
    "\\begin{align}\n",
    "\\vec{c} = \\begin{bmatrix}3 & 7 & -2 & 12\\end{bmatrix}\n",
    "\\qquad\n",
    "\\vec{d} = \\begin{bmatrix}9 & -7 & 4 & 6\\end{bmatrix}\n",
    "\\end{align}"
   ]
  },
  {
   "cell_type": "code",
   "execution_count": 5,
   "metadata": {
    "colab": {},
    "colab_type": "code",
    "id": "NYb8BalmIfgY"
   },
   "outputs": [
    {
     "data": {
      "text/plain": [
       "42"
      ]
     },
     "execution_count": 5,
     "metadata": {},
     "output_type": "execute_result"
    }
   ],
   "source": [
    "# Calculate the dot product\n",
    "np.dot(np.array([3,7,-2,12]), np.array([9,-7,4,6]))"
   ]
  },
  {
   "cell_type": "markdown",
   "metadata": {
    "colab_type": "text",
    "id": "gS85sJHWG7iU"
   },
   "source": [
    "## 1.4 Find $E^{-1}$ and $E^{T}$\n",
    "\n",
    "\\begin{align}\n",
    "E = \n",
    "\\begin{bmatrix}\n",
    "    7 & 4 & 2 \\\\\n",
    "    1 & 3 & -1 \\\\\n",
    "    2 & 6 & -4\n",
    "\\end{bmatrix}\n",
    "\\end{align}"
   ]
  },
  {
   "cell_type": "code",
   "execution_count": 6,
   "metadata": {
    "colab": {},
    "colab_type": "code",
    "id": "QiISq5egIgSS"
   },
   "outputs": [
    {
     "name": "stdout",
     "output_type": "stream",
     "text": [
      "Inverse of E: \n",
      " [[ 0.17647059 -0.82352941  0.29411765]\n",
      " [-0.05882353  0.94117647 -0.26470588]\n",
      " [ 0.          1.         -0.5       ]]\n",
      "Transpose of E: \n",
      " [[ 7  1  2]\n",
      " [ 4  3  6]\n",
      " [ 2 -1 -4]]\n"
     ]
    }
   ],
   "source": [
    "E = np.array([7,4,2,1,3,-1,2,6,-4]).reshape(3,3)\n",
    "print('Inverse of E: \\n', np.linalg.inv(E))\n",
    "print('Transpose of E: \\n', E.T)"
   ]
  },
  {
   "cell_type": "markdown",
   "metadata": {
    "colab_type": "text",
    "id": "TPzrKzEvC5YU"
   },
   "source": [
    "# Intermediate Linear Algebra"
   ]
  },
  {
   "cell_type": "markdown",
   "metadata": {
    "colab_type": "text",
    "id": "ap-us2lBGQyi"
   },
   "source": [
    "## 2.1 Suppose that the number of customers at a ski resort as well as the number of inches of fresh powder (snow)  was recorded for 7 days. \n",
    "\n",
    "### Customers: [820, 760, 1250, 990, 1080, 1450, 1600]\n",
    "\n",
    "### Inches of new snow: [0, 1, 7, 1, 0, 6, 4 ]\n",
    "\n",
    "## Find the mean, variance, and standard deviation for both the number of customers and inches of new snow for the week. You may use library functions, dataframes, .describe(), etc. \n",
    "\n"
   ]
  },
  {
   "cell_type": "code",
   "execution_count": 7,
   "metadata": {
    "colab": {
     "base_uri": "https://localhost:8080/",
     "height": 202
    },
    "colab_type": "code",
    "id": "xS-JuHl9JiiP",
    "outputId": "69ba702f-56fd-4978-b4b0-91fc0d1af632"
   },
   "outputs": [
    {
     "data": {
      "text/html": [
       "<div>\n",
       "<style scoped>\n",
       "    .dataframe tbody tr th:only-of-type {\n",
       "        vertical-align: middle;\n",
       "    }\n",
       "\n",
       "    .dataframe tbody tr th {\n",
       "        vertical-align: top;\n",
       "    }\n",
       "\n",
       "    .dataframe thead th {\n",
       "        text-align: right;\n",
       "    }\n",
       "</style>\n",
       "<table border=\"1\" class=\"dataframe\">\n",
       "  <thead>\n",
       "    <tr style=\"text-align: right;\">\n",
       "      <th></th>\n",
       "      <th>customers</th>\n",
       "      <th>snow</th>\n",
       "    </tr>\n",
       "  </thead>\n",
       "  <tbody>\n",
       "    <tr>\n",
       "      <th>0</th>\n",
       "      <td>820</td>\n",
       "      <td>0</td>\n",
       "    </tr>\n",
       "    <tr>\n",
       "      <th>1</th>\n",
       "      <td>760</td>\n",
       "      <td>1</td>\n",
       "    </tr>\n",
       "    <tr>\n",
       "      <th>2</th>\n",
       "      <td>1250</td>\n",
       "      <td>7</td>\n",
       "    </tr>\n",
       "    <tr>\n",
       "      <th>3</th>\n",
       "      <td>990</td>\n",
       "      <td>1</td>\n",
       "    </tr>\n",
       "    <tr>\n",
       "      <th>4</th>\n",
       "      <td>1080</td>\n",
       "      <td>0</td>\n",
       "    </tr>\n",
       "  </tbody>\n",
       "</table>\n",
       "</div>"
      ],
      "text/plain": [
       "   customers  snow\n",
       "0        820     0\n",
       "1        760     1\n",
       "2       1250     7\n",
       "3        990     1\n",
       "4       1080     0"
      ]
     },
     "execution_count": 7,
     "metadata": {},
     "output_type": "execute_result"
    }
   ],
   "source": [
    "customers = [820, 760, 1250, 990, 1080, 1450, 1600]\n",
    "snow = [0, 1, 7, 1, 0, 6, 4]\n",
    "\n",
    "df = pd.DataFrame({'customers': customers, 'snow': snow})\n",
    "\n",
    "df.head()"
   ]
  },
  {
   "cell_type": "code",
   "execution_count": 8,
   "metadata": {
    "colab": {},
    "colab_type": "code",
    "id": "cNxeVa0cg40d"
   },
   "outputs": [
    {
     "name": "stdout",
     "output_type": "stream",
     "text": [
      "Mean of df: \n",
      "                      0\n",
      "customers  1135.714286\n",
      "snow          2.714286\n",
      "\n",
      "Std. dev. of df: \n",
      "                     0\n",
      "customers  314.264069\n",
      "snow         2.927700\n",
      "\n",
      "Variance of df: \n",
      "                       0\n",
      "customers  84653.061224\n",
      "snow           7.346939\n"
     ]
    }
   ],
   "source": [
    "print('Mean of df: \\n', df.mean().to_frame())\n",
    "print('\\nStd. dev. of df: \\n', df.std().to_frame())\n",
    "# Here I'm assuming that the data given is the 'population' data for the week, and not considered\n",
    "# a sample of, say, the population data for an entire year. So, ddof=0 to find population variance:\n",
    "print('\\nVariance of df: \\n', df.var(ddof=0).to_frame())"
   ]
  },
  {
   "cell_type": "markdown",
   "metadata": {
    "colab_type": "text",
    "id": "3ePJtK4VLTLH"
   },
   "source": [
    "## 2.2 Are the variances of the number of customers and inches of snow comparable? \n",
    "## Why or why not? "
   ]
  },
  {
   "cell_type": "markdown",
   "metadata": {
    "colab": {},
    "colab_type": "code",
    "id": "LvTtgZ-5Ndw_"
   },
   "source": [
    "They are not comparable in the sense that the variance of customers for the given week is much more extreme than the variance of snow fall.\n",
    "\n",
    "The number of customers is far more variable in nature than the amount of snow for this week."
   ]
  },
  {
   "cell_type": "markdown",
   "metadata": {
    "colab_type": "text",
    "id": "ixhZVGxfGVFh"
   },
   "source": [
    "## 2.3 Find the variance-covariance matrix for the number of customers and inches of snow at the ski resort. "
   ]
  },
  {
   "cell_type": "code",
   "execution_count": 9,
   "metadata": {
    "colab": {},
    "colab_type": "code",
    "id": "IbglmVaxJjO7"
   },
   "outputs": [
    {
     "data": {
      "text/html": [
       "<div>\n",
       "<style scoped>\n",
       "    .dataframe tbody tr th:only-of-type {\n",
       "        vertical-align: middle;\n",
       "    }\n",
       "\n",
       "    .dataframe tbody tr th {\n",
       "        vertical-align: top;\n",
       "    }\n",
       "\n",
       "    .dataframe thead th {\n",
       "        text-align: right;\n",
       "    }\n",
       "</style>\n",
       "<table border=\"1\" class=\"dataframe\">\n",
       "  <thead>\n",
       "    <tr style=\"text-align: right;\">\n",
       "      <th></th>\n",
       "      <th>customers</th>\n",
       "      <th>snow</th>\n",
       "    </tr>\n",
       "  </thead>\n",
       "  <tbody>\n",
       "    <tr>\n",
       "      <th>customers</th>\n",
       "      <td>98761.904762</td>\n",
       "      <td>670.238095</td>\n",
       "    </tr>\n",
       "    <tr>\n",
       "      <th>snow</th>\n",
       "      <td>670.238095</td>\n",
       "      <td>8.571429</td>\n",
       "    </tr>\n",
       "  </tbody>\n",
       "</table>\n",
       "</div>"
      ],
      "text/plain": [
       "              customers        snow\n",
       "customers  98761.904762  670.238095\n",
       "snow         670.238095    8.571429"
      ]
     },
     "execution_count": 9,
     "metadata": {},
     "output_type": "execute_result"
    }
   ],
   "source": [
    "df.cov()"
   ]
  },
  {
   "cell_type": "markdown",
   "metadata": {
    "colab_type": "text",
    "id": "6Ks3_TbNC5yJ"
   },
   "source": [
    "# PCA"
   ]
  },
  {
   "cell_type": "markdown",
   "metadata": {
    "colab_type": "text",
    "id": "f6qJAPaaOdzD"
   },
   "source": [
    "## 3.1 Standardize the data so that it has a mean of 0 and a standard deviation of 1. (You may use library functions)\n",
    "\n",
    "We have included some code to get you started so that you don't get stuck on something that isn't standardizing the data or PCA.\n",
    "\n",
    "This might be helpful:\n",
    "\n",
    "<https://scikit-learn.org/stable/modules/generated/sklearn.preprocessing.StandardScaler.html>"
   ]
  },
  {
   "cell_type": "code",
   "execution_count": 10,
   "metadata": {
    "colab": {
     "base_uri": "https://localhost:8080/",
     "height": 226
    },
    "colab_type": "code",
    "id": "bogsxfNyJlAw",
    "outputId": "1ae56f4f-7ad4-4406-e44d-87994466e5af"
   },
   "outputs": [
    {
     "data": {
      "text/html": [
       "<div>\n",
       "<style scoped>\n",
       "    .dataframe tbody tr th:only-of-type {\n",
       "        vertical-align: middle;\n",
       "    }\n",
       "\n",
       "    .dataframe tbody tr th {\n",
       "        vertical-align: top;\n",
       "    }\n",
       "\n",
       "    .dataframe thead th {\n",
       "        text-align: right;\n",
       "    }\n",
       "</style>\n",
       "<table border=\"1\" class=\"dataframe\">\n",
       "  <thead>\n",
       "    <tr style=\"text-align: right;\">\n",
       "      <th></th>\n",
       "      <th>Country</th>\n",
       "      <th>Cheese</th>\n",
       "      <th>Carcass_Meat</th>\n",
       "      <th>Other_Meat</th>\n",
       "      <th>Fish</th>\n",
       "      <th>Fats_and_Oils</th>\n",
       "      <th>Sugars</th>\n",
       "      <th>Fresh_Potatoes</th>\n",
       "      <th>Fresh_Veg</th>\n",
       "      <th>Other_Veg</th>\n",
       "      <th>Processed_Potatoes</th>\n",
       "      <th>Processed_Veg</th>\n",
       "      <th>Fresh_Fruit</th>\n",
       "      <th>Cereals</th>\n",
       "      <th>Beverages</th>\n",
       "      <th>Soft_Drinks</th>\n",
       "      <th>Alcoholic Drinks</th>\n",
       "      <th>Confectionery</th>\n",
       "    </tr>\n",
       "  </thead>\n",
       "  <tbody>\n",
       "    <tr>\n",
       "      <th>0</th>\n",
       "      <td>England</td>\n",
       "      <td>105</td>\n",
       "      <td>245</td>\n",
       "      <td>685</td>\n",
       "      <td>147</td>\n",
       "      <td>193</td>\n",
       "      <td>156</td>\n",
       "      <td>720</td>\n",
       "      <td>253</td>\n",
       "      <td>488</td>\n",
       "      <td>198</td>\n",
       "      <td>360</td>\n",
       "      <td>1102</td>\n",
       "      <td>1472</td>\n",
       "      <td>57</td>\n",
       "      <td>1374</td>\n",
       "      <td>375</td>\n",
       "      <td>54</td>\n",
       "    </tr>\n",
       "    <tr>\n",
       "      <th>1</th>\n",
       "      <td>Wales</td>\n",
       "      <td>103</td>\n",
       "      <td>227</td>\n",
       "      <td>803</td>\n",
       "      <td>160</td>\n",
       "      <td>235</td>\n",
       "      <td>175</td>\n",
       "      <td>874</td>\n",
       "      <td>265</td>\n",
       "      <td>570</td>\n",
       "      <td>203</td>\n",
       "      <td>365</td>\n",
       "      <td>1137</td>\n",
       "      <td>1582</td>\n",
       "      <td>73</td>\n",
       "      <td>1256</td>\n",
       "      <td>475</td>\n",
       "      <td>64</td>\n",
       "    </tr>\n",
       "    <tr>\n",
       "      <th>2</th>\n",
       "      <td>Scotland</td>\n",
       "      <td>103</td>\n",
       "      <td>242</td>\n",
       "      <td>750</td>\n",
       "      <td>122</td>\n",
       "      <td>184</td>\n",
       "      <td>147</td>\n",
       "      <td>566</td>\n",
       "      <td>171</td>\n",
       "      <td>418</td>\n",
       "      <td>220</td>\n",
       "      <td>337</td>\n",
       "      <td>957</td>\n",
       "      <td>1462</td>\n",
       "      <td>53</td>\n",
       "      <td>1572</td>\n",
       "      <td>458</td>\n",
       "      <td>62</td>\n",
       "    </tr>\n",
       "    <tr>\n",
       "      <th>3</th>\n",
       "      <td>North Ireland</td>\n",
       "      <td>66</td>\n",
       "      <td>267</td>\n",
       "      <td>586</td>\n",
       "      <td>93</td>\n",
       "      <td>209</td>\n",
       "      <td>139</td>\n",
       "      <td>1033</td>\n",
       "      <td>143</td>\n",
       "      <td>355</td>\n",
       "      <td>187</td>\n",
       "      <td>334</td>\n",
       "      <td>674</td>\n",
       "      <td>1494</td>\n",
       "      <td>47</td>\n",
       "      <td>1506</td>\n",
       "      <td>135</td>\n",
       "      <td>41</td>\n",
       "    </tr>\n",
       "  </tbody>\n",
       "</table>\n",
       "</div>"
      ],
      "text/plain": [
       "         Country  Cheese  Carcass_Meat  Other_Meat  Fish  Fats_and_Oils  \\\n",
       "0        England     105           245         685   147            193   \n",
       "1          Wales     103           227         803   160            235   \n",
       "2       Scotland     103           242         750   122            184   \n",
       "3  North Ireland      66           267         586    93            209   \n",
       "\n",
       "   Sugars  Fresh_Potatoes  Fresh_Veg  Other_Veg  Processed_Potatoes  \\\n",
       "0     156             720        253        488                 198   \n",
       "1     175             874        265        570                 203   \n",
       "2     147             566        171        418                 220   \n",
       "3     139            1033        143        355                 187   \n",
       "\n",
       "   Processed_Veg  Fresh_Fruit  Cereals  Beverages  Soft_Drinks  \\\n",
       "0            360         1102     1472         57         1374   \n",
       "1            365         1137     1582         73         1256   \n",
       "2            337          957     1462         53         1572   \n",
       "3            334          674     1494         47         1506   \n",
       "\n",
       "   Alcoholic Drinks  Confectionery  \n",
       "0               375             54  \n",
       "1               475             64  \n",
       "2               458             62  \n",
       "3               135             41  "
      ]
     },
     "execution_count": 10,
     "metadata": {},
     "output_type": "execute_result"
    }
   ],
   "source": [
    "data = {\"Country\": [\"England\",\"Wales\",\"Scotland\",\"North Ireland\"], \n",
    "        \"Cheese\": [105,103,103,66], \n",
    "        \"Carcass_Meat\": [245,227,242,267], \n",
    "        \"Other_Meat\": [685, 803, 750, 586], \n",
    "        \"Fish\": [147, 160, 122, 93], \n",
    "        \"Fats_and_Oils\": [193, 235, 184, 209], \n",
    "        \"Sugars\": [156, 175, 147, 139], \n",
    "        \"Fresh_Potatoes\": [720, 874, 566, 1033], \n",
    "        \"Fresh_Veg\": [253, 265, 171, 143], \n",
    "        \"Other_Veg\": [488, 570, 418, 355], \n",
    "        \"Processed_Potatoes\": [198, 203, 220, 187], \n",
    "        \"Processed_Veg\": [360, 365, 337, 334], \n",
    "        \"Fresh_Fruit\": [1102, 1137, 957, 674], \n",
    "        \"Cereals\": [1472, 1582, 1462, 1494], \n",
    "        \"Beverages\": [57,73,53,47], \n",
    "        \"Soft_Drinks\": [1374, 1256, 1572, 1506], \n",
    "        \"Alcoholic Drinks\": [375, 475, 458, 135], \n",
    "        \"Confectionery\": [54, 64, 62, 41]}\n",
    "\n",
    "df = pd.DataFrame(data)\n",
    "\n",
    "# Look at the data\n",
    "df.head()"
   ]
  },
  {
   "cell_type": "code",
   "execution_count": 11,
   "metadata": {},
   "outputs": [],
   "source": [
    "# Standardize data mean\n",
    "country = df.Country\n",
    "df = df.drop(columns='Country')\n",
    "df = df - df.mean()"
   ]
  },
  {
   "cell_type": "code",
   "execution_count": 12,
   "metadata": {},
   "outputs": [
    {
     "data": {
      "text/html": [
       "<div>\n",
       "<style scoped>\n",
       "    .dataframe tbody tr th:only-of-type {\n",
       "        vertical-align: middle;\n",
       "    }\n",
       "\n",
       "    .dataframe tbody tr th {\n",
       "        vertical-align: top;\n",
       "    }\n",
       "\n",
       "    .dataframe thead th {\n",
       "        text-align: right;\n",
       "    }\n",
       "</style>\n",
       "<table border=\"1\" class=\"dataframe\">\n",
       "  <thead>\n",
       "    <tr style=\"text-align: right;\">\n",
       "      <th></th>\n",
       "      <th>Cheese</th>\n",
       "      <th>Carcass_Meat</th>\n",
       "      <th>Other_Meat</th>\n",
       "      <th>Fish</th>\n",
       "      <th>Fats_and_Oils</th>\n",
       "      <th>Sugars</th>\n",
       "      <th>Fresh_Potatoes</th>\n",
       "      <th>Fresh_Veg</th>\n",
       "      <th>Other_Veg</th>\n",
       "      <th>Processed_Potatoes</th>\n",
       "      <th>Processed_Veg</th>\n",
       "      <th>Fresh_Fruit</th>\n",
       "      <th>Cereals</th>\n",
       "      <th>Beverages</th>\n",
       "      <th>Soft_Drinks</th>\n",
       "      <th>Alcoholic Drinks</th>\n",
       "      <th>Confectionery</th>\n",
       "    </tr>\n",
       "  </thead>\n",
       "  <tbody>\n",
       "    <tr>\n",
       "      <th>0</th>\n",
       "      <td>0.570083</td>\n",
       "      <td>-0.015152</td>\n",
       "      <td>-0.224774</td>\n",
       "      <td>0.558227</td>\n",
       "      <td>-0.547700</td>\n",
       "      <td>0.113060</td>\n",
       "      <td>-0.389777</td>\n",
       "      <td>0.747650</td>\n",
       "      <td>0.327129</td>\n",
       "      <td>-0.291214</td>\n",
       "      <td>0.697564</td>\n",
       "      <td>0.638613</td>\n",
       "      <td>-0.557999</td>\n",
       "      <td>-0.044962</td>\n",
       "      <td>-0.376921</td>\n",
       "      <td>0.090931</td>\n",
       "      <td>-0.119774</td>\n",
       "    </tr>\n",
       "    <tr>\n",
       "      <th>1</th>\n",
       "      <td>0.464021</td>\n",
       "      <td>-1.106061</td>\n",
       "      <td>1.038240</td>\n",
       "      <td>0.998043</td>\n",
       "      <td>1.330128</td>\n",
       "      <td>1.340571</td>\n",
       "      <td>0.377324</td>\n",
       "      <td>0.947023</td>\n",
       "      <td>1.213892</td>\n",
       "      <td>0.072804</td>\n",
       "      <td>1.014638</td>\n",
       "      <td>0.804795</td>\n",
       "      <td>1.454458</td>\n",
       "      <td>1.393816</td>\n",
       "      <td>-1.216104</td>\n",
       "      <td>0.729040</td>\n",
       "      <td>0.838419</td>\n",
       "    </tr>\n",
       "    <tr>\n",
       "      <th>2</th>\n",
       "      <td>0.464021</td>\n",
       "      <td>-0.196970</td>\n",
       "      <td>0.470954</td>\n",
       "      <td>-0.287572</td>\n",
       "      <td>-0.950091</td>\n",
       "      <td>-0.468392</td>\n",
       "      <td>-1.156878</td>\n",
       "      <td>-0.614734</td>\n",
       "      <td>-0.429864</td>\n",
       "      <td>1.310463</td>\n",
       "      <td>-0.760979</td>\n",
       "      <td>-0.049855</td>\n",
       "      <td>-0.740950</td>\n",
       "      <td>-0.404656</td>\n",
       "      <td>1.031200</td>\n",
       "      <td>0.620562</td>\n",
       "      <td>0.646780</td>\n",
       "    </tr>\n",
       "    <tr>\n",
       "      <th>3</th>\n",
       "      <td>-1.498124</td>\n",
       "      <td>1.318182</td>\n",
       "      <td>-1.284421</td>\n",
       "      <td>-1.268698</td>\n",
       "      <td>0.167663</td>\n",
       "      <td>-0.985239</td>\n",
       "      <td>1.169331</td>\n",
       "      <td>-1.079939</td>\n",
       "      <td>-1.111157</td>\n",
       "      <td>-1.092053</td>\n",
       "      <td>-0.951223</td>\n",
       "      <td>-1.393554</td>\n",
       "      <td>-0.155508</td>\n",
       "      <td>-0.944198</td>\n",
       "      <td>0.561826</td>\n",
       "      <td>-1.440533</td>\n",
       "      <td>-1.365425</td>\n",
       "    </tr>\n",
       "  </tbody>\n",
       "</table>\n",
       "</div>"
      ],
      "text/plain": [
       "     Cheese  Carcass_Meat  Other_Meat      Fish  Fats_and_Oils    Sugars  \\\n",
       "0  0.570083     -0.015152   -0.224774  0.558227      -0.547700  0.113060   \n",
       "1  0.464021     -1.106061    1.038240  0.998043       1.330128  1.340571   \n",
       "2  0.464021     -0.196970    0.470954 -0.287572      -0.950091 -0.468392   \n",
       "3 -1.498124      1.318182   -1.284421 -1.268698       0.167663 -0.985239   \n",
       "\n",
       "   Fresh_Potatoes  Fresh_Veg  Other_Veg  Processed_Potatoes  Processed_Veg  \\\n",
       "0       -0.389777   0.747650   0.327129           -0.291214       0.697564   \n",
       "1        0.377324   0.947023   1.213892            0.072804       1.014638   \n",
       "2       -1.156878  -0.614734  -0.429864            1.310463      -0.760979   \n",
       "3        1.169331  -1.079939  -1.111157           -1.092053      -0.951223   \n",
       "\n",
       "   Fresh_Fruit   Cereals  Beverages  Soft_Drinks  Alcoholic Drinks  \\\n",
       "0     0.638613 -0.557999  -0.044962    -0.376921          0.090931   \n",
       "1     0.804795  1.454458   1.393816    -1.216104          0.729040   \n",
       "2    -0.049855 -0.740950  -0.404656     1.031200          0.620562   \n",
       "3    -1.393554 -0.155508  -0.944198     0.561826         -1.440533   \n",
       "\n",
       "   Confectionery  \n",
       "0      -0.119774  \n",
       "1       0.838419  \n",
       "2       0.646780  \n",
       "3      -1.365425  "
      ]
     },
     "execution_count": 12,
     "metadata": {},
     "output_type": "execute_result"
    }
   ],
   "source": [
    "# Standardize data standard deviation\n",
    "df = df / df.std()\n",
    "df"
   ]
  },
  {
   "cell_type": "markdown",
   "metadata": {
    "colab_type": "text",
    "id": "5U50KZkdJb_s"
   },
   "source": [
    "## 3.2 Perform PCA on the data and graph Principal Component 1 against Principal Component 2. (You may use library functions)\n",
    "\n",
    "This might be helpful:\n",
    "\n",
    "<https://scikit-learn.org/stable/modules/generated/sklearn.decomposition.PCA.html>"
   ]
  },
  {
   "cell_type": "code",
   "execution_count": 14,
   "metadata": {
    "colab": {},
    "colab_type": "code",
    "id": "RqjwVokgP1fL"
   },
   "outputs": [
    {
     "data": {
      "text/html": [
       "<div>\n",
       "<style scoped>\n",
       "    .dataframe tbody tr th:only-of-type {\n",
       "        vertical-align: middle;\n",
       "    }\n",
       "\n",
       "    .dataframe tbody tr th {\n",
       "        vertical-align: top;\n",
       "    }\n",
       "\n",
       "    .dataframe thead th {\n",
       "        text-align: right;\n",
       "    }\n",
       "</style>\n",
       "<table border=\"1\" class=\"dataframe\">\n",
       "  <thead>\n",
       "    <tr style=\"text-align: right;\">\n",
       "      <th></th>\n",
       "      <th>PC1</th>\n",
       "      <th>PC2</th>\n",
       "    </tr>\n",
       "  </thead>\n",
       "  <tbody>\n",
       "    <tr>\n",
       "      <th>0</th>\n",
       "      <td>-0.826612</td>\n",
       "      <td>0.284332</td>\n",
       "    </tr>\n",
       "    <tr>\n",
       "      <th>1</th>\n",
       "      <td>-3.915258</td>\n",
       "      <td>-1.502883</td>\n",
       "    </tr>\n",
       "    <tr>\n",
       "      <th>2</th>\n",
       "      <td>0.422602</td>\n",
       "      <td>2.800442</td>\n",
       "    </tr>\n",
       "    <tr>\n",
       "      <th>3</th>\n",
       "      <td>4.319269</td>\n",
       "      <td>-1.581891</td>\n",
       "    </tr>\n",
       "  </tbody>\n",
       "</table>\n",
       "</div>"
      ],
      "text/plain": [
       "        PC1       PC2\n",
       "0 -0.826612  0.284332\n",
       "1 -3.915258 -1.502883\n",
       "2  0.422602  2.800442\n",
       "3  4.319269 -1.581891"
      ]
     },
     "execution_count": 14,
     "metadata": {},
     "output_type": "execute_result"
    }
   ],
   "source": [
    "# Initialize, Fit, Transform\n",
    "pca = PCA(2)\n",
    "pca.fit(df)\n",
    "projected_df = pca.transform(df)\n",
    "\n",
    "projected_df = pd.DataFrame(data=projected_df, columns=['PC1', 'PC2'])\n",
    "projected_df"
   ]
  },
  {
   "cell_type": "code",
   "execution_count": 15,
   "metadata": {},
   "outputs": [
    {
     "data": {
      "image/png": "[encoded data removed]",
      "text/plain": [
       "<Figure size 432x288 with 1 Axes>"
      ]
     },
     "metadata": {
      "needs_background": "light"
     },
     "output_type": "display_data"
    }
   ],
   "source": [
    "plt.scatter(x=projected_df['PC1'], y=projected_df['PC2'])\n",
    "plt.xlabel('PC1')\n",
    "plt.ylabel('PC2');"
   ]
  },
  {
   "cell_type": "markdown",
   "metadata": {
    "colab_type": "text",
    "id": "z-RzYKR0C6Wg"
   },
   "source": [
    "# Clustering"
   ]
  },
  {
   "cell_type": "markdown",
   "metadata": {
    "colab_type": "text",
    "id": "62efk4plJe54"
   },
   "source": [
    "## 4.1 Use K-Means to cluster the following data and then graph your results. (You may use library functions)\n",
    "\n",
    "We have included some code to get you started so that you don't get stuck on something that isn't standardizing clustering.\n",
    "\n",
    "Prioritize calculating the clusters over graphing them. \n",
    "\n",
    "Scikit-Learn K-Means Documentation:\n",
    "\n",
    "<https://scikit-learn.org/stable/modules/generated/sklearn.cluster.KMeans.html>"
   ]
  },
  {
   "cell_type": "code",
   "execution_count": 27,
   "metadata": {
    "colab": {
     "base_uri": "https://localhost:8080/",
     "height": 202
    },
    "colab_type": "code",
    "id": "miK5Aeg-JlzJ",
    "outputId": "298a1e78-03d8-4ff8-d06a-a5bcbda93a89"
   },
   "outputs": [
    {
     "data": {
      "text/html": [
       "<div>\n",
       "<style scoped>\n",
       "    .dataframe tbody tr th:only-of-type {\n",
       "        vertical-align: middle;\n",
       "    }\n",
       "\n",
       "    .dataframe tbody tr th {\n",
       "        vertical-align: top;\n",
       "    }\n",
       "\n",
       "    .dataframe thead th {\n",
       "        text-align: right;\n",
       "    }\n",
       "</style>\n",
       "<table border=\"1\" class=\"dataframe\">\n",
       "  <thead>\n",
       "    <tr style=\"text-align: right;\">\n",
       "      <th></th>\n",
       "      <th>x</th>\n",
       "      <th>y</th>\n",
       "    </tr>\n",
       "  </thead>\n",
       "  <tbody>\n",
       "    <tr>\n",
       "      <th>0</th>\n",
       "      <td>-7.846803</td>\n",
       "      <td>-3.421277</td>\n",
       "    </tr>\n",
       "    <tr>\n",
       "      <th>1</th>\n",
       "      <td>-3.554323</td>\n",
       "      <td>-6.884729</td>\n",
       "    </tr>\n",
       "    <tr>\n",
       "      <th>2</th>\n",
       "      <td>-0.192822</td>\n",
       "      <td>-9.671030</td>\n",
       "    </tr>\n",
       "    <tr>\n",
       "      <th>3</th>\n",
       "      <td>-6.401456</td>\n",
       "      <td>-5.223972</td>\n",
       "    </tr>\n",
       "    <tr>\n",
       "      <th>4</th>\n",
       "      <td>-0.804026</td>\n",
       "      <td>-9.704457</td>\n",
       "    </tr>\n",
       "  </tbody>\n",
       "</table>\n",
       "</div>"
      ],
      "text/plain": [
       "          x         y\n",
       "0 -7.846803 -3.421277\n",
       "1 -3.554323 -6.884729\n",
       "2 -0.192822 -9.671030\n",
       "3 -6.401456 -5.223972\n",
       "4 -0.804026 -9.704457"
      ]
     },
     "execution_count": 27,
     "metadata": {},
     "output_type": "execute_result"
    }
   ],
   "source": [
    "points = pd.read_csv('https://raw.githubusercontent.com/ryanleeallred/datasets/master/points.csv')\n",
    "points.head()"
   ]
  },
  {
   "cell_type": "code",
   "execution_count": 28,
   "metadata": {},
   "outputs": [
    {
     "data": {
      "text/html": [
       "<div>\n",
       "<style scoped>\n",
       "    .dataframe tbody tr th:only-of-type {\n",
       "        vertical-align: middle;\n",
       "    }\n",
       "\n",
       "    .dataframe tbody tr th {\n",
       "        vertical-align: top;\n",
       "    }\n",
       "\n",
       "    .dataframe thead th {\n",
       "        text-align: right;\n",
       "    }\n",
       "</style>\n",
       "<table border=\"1\" class=\"dataframe\">\n",
       "  <thead>\n",
       "    <tr style=\"text-align: right;\">\n",
       "      <th></th>\n",
       "      <th>0</th>\n",
       "      <th>1</th>\n",
       "    </tr>\n",
       "  </thead>\n",
       "  <tbody>\n",
       "    <tr>\n",
       "      <th>0</th>\n",
       "      <td>-1.215264</td>\n",
       "      <td>0.000286</td>\n",
       "    </tr>\n",
       "    <tr>\n",
       "      <th>1</th>\n",
       "      <td>-0.270846</td>\n",
       "      <td>-0.621863</td>\n",
       "    </tr>\n",
       "    <tr>\n",
       "      <th>2</th>\n",
       "      <td>0.468740</td>\n",
       "      <td>-1.122373</td>\n",
       "    </tr>\n",
       "    <tr>\n",
       "      <th>3</th>\n",
       "      <td>-0.897263</td>\n",
       "      <td>-0.323537</td>\n",
       "    </tr>\n",
       "    <tr>\n",
       "      <th>4</th>\n",
       "      <td>0.334265</td>\n",
       "      <td>-1.128378</td>\n",
       "    </tr>\n",
       "  </tbody>\n",
       "</table>\n",
       "</div>"
      ],
      "text/plain": [
       "          0         1\n",
       "0 -1.215264  0.000286\n",
       "1 -0.270846 -0.621863\n",
       "2  0.468740 -1.122373\n",
       "3 -0.897263 -0.323537\n",
       "4  0.334265 -1.128378"
      ]
     },
     "execution_count": 28,
     "metadata": {},
     "output_type": "execute_result"
    }
   ],
   "source": [
    "# Initialize, Fit, Transform\n",
    "scaler = StandardScaler(with_mean=True, with_std=True)\n",
    "scaler.fit(points)\n",
    "projected_points = scaler.transform(points)\n",
    "\n",
    "projected_points = pd.DataFrame(data=projected_points)\n",
    "projected_points.head()"
   ]
  },
  {
   "cell_type": "code",
   "execution_count": 29,
   "metadata": {},
   "outputs": [
    {
     "data": {
      "text/html": [
       "<div>\n",
       "<style scoped>\n",
       "    .dataframe tbody tr th:only-of-type {\n",
       "        vertical-align: middle;\n",
       "    }\n",
       "\n",
       "    .dataframe tbody tr th {\n",
       "        vertical-align: top;\n",
       "    }\n",
       "\n",
       "    .dataframe thead th {\n",
       "        text-align: right;\n",
       "    }\n",
       "</style>\n",
       "<table border=\"1\" class=\"dataframe\">\n",
       "  <thead>\n",
       "    <tr style=\"text-align: right;\">\n",
       "      <th></th>\n",
       "      <th>PC1</th>\n",
       "      <th>PC2</th>\n",
       "    </tr>\n",
       "  </thead>\n",
       "  <tbody>\n",
       "    <tr>\n",
       "      <th>0</th>\n",
       "      <td>-0.859119</td>\n",
       "      <td>-0.859524</td>\n",
       "    </tr>\n",
       "    <tr>\n",
       "      <th>1</th>\n",
       "      <td>-0.631241</td>\n",
       "      <td>0.248206</td>\n",
       "    </tr>\n",
       "    <tr>\n",
       "      <th>2</th>\n",
       "      <td>-0.462188</td>\n",
       "      <td>1.125087</td>\n",
       "    </tr>\n",
       "    <tr>\n",
       "      <th>3</th>\n",
       "      <td>-0.863236</td>\n",
       "      <td>-0.405686</td>\n",
       "    </tr>\n",
       "    <tr>\n",
       "      <th>4</th>\n",
       "      <td>-0.561522</td>\n",
       "      <td>1.034245</td>\n",
       "    </tr>\n",
       "  </tbody>\n",
       "</table>\n",
       "</div>"
      ],
      "text/plain": [
       "        PC1       PC2\n",
       "0 -0.859119 -0.859524\n",
       "1 -0.631241  0.248206\n",
       "2 -0.462188  1.125087\n",
       "3 -0.863236 -0.405686\n",
       "4 -0.561522  1.034245"
      ]
     },
     "execution_count": 29,
     "metadata": {},
     "output_type": "execute_result"
    }
   ],
   "source": [
    "# Perform PCA on Standardized Data\n",
    "pca = PCA(2)\n",
    "pca.fit(projected_points)\n",
    "projected_points_df = pd.DataFrame(pca.transform(projected_points), columns=['PC1', 'PC2'])\n",
    "projected_points_df.head()"
   ]
  },
  {
   "cell_type": "code",
   "execution_count": 30,
   "metadata": {
    "colab": {},
    "colab_type": "code",
    "id": "qX0zKKznTzcI"
   },
   "outputs": [
    {
     "data": {
      "image/png": "[encoded data removed]",
      "text/plain": [
       "<Figure size 432x288 with 1 Axes>"
      ]
     },
     "metadata": {
      "needs_background": "light"
     },
     "output_type": "display_data"
    }
   ],
   "source": [
    "# Use Elbow Method to find optimal k\n",
    "sum_of_squared_distances = []\n",
    "for k in range(1,20):\n",
    "    km = KMeans(n_clusters=k)\n",
    "    km = km.fit(projected_points)\n",
    "    sum_of_squared_distances.append(km.inertia_)\n",
    "\n",
    "plt.plot(range(1,20), sum_of_squared_distances, 'gx--')\n",
    "plt.xlabel('k')\n",
    "plt.ylabel('Sum of Squared Distance')\n",
    "plt.title('Elbow Method for Optimal k')\n",
    "plt.show();"
   ]
  },
  {
   "cell_type": "code",
   "execution_count": 31,
   "metadata": {},
   "outputs": [
    {
     "data": {
      "text/html": [
       "<div>\n",
       "<style scoped>\n",
       "    .dataframe tbody tr th:only-of-type {\n",
       "        vertical-align: middle;\n",
       "    }\n",
       "\n",
       "    .dataframe tbody tr th {\n",
       "        vertical-align: top;\n",
       "    }\n",
       "\n",
       "    .dataframe thead th {\n",
       "        text-align: right;\n",
       "    }\n",
       "</style>\n",
       "<table border=\"1\" class=\"dataframe\">\n",
       "  <thead>\n",
       "    <tr style=\"text-align: right;\">\n",
       "      <th></th>\n",
       "      <th>PC1</th>\n",
       "      <th>PC2</th>\n",
       "      <th>cluster</th>\n",
       "    </tr>\n",
       "  </thead>\n",
       "  <tbody>\n",
       "    <tr>\n",
       "      <th>0</th>\n",
       "      <td>-0.859119</td>\n",
       "      <td>-0.859524</td>\n",
       "      <td>0</td>\n",
       "    </tr>\n",
       "    <tr>\n",
       "      <th>1</th>\n",
       "      <td>-0.631241</td>\n",
       "      <td>0.248206</td>\n",
       "      <td>3</td>\n",
       "    </tr>\n",
       "    <tr>\n",
       "      <th>2</th>\n",
       "      <td>-0.462188</td>\n",
       "      <td>1.125087</td>\n",
       "      <td>3</td>\n",
       "    </tr>\n",
       "    <tr>\n",
       "      <th>3</th>\n",
       "      <td>-0.863236</td>\n",
       "      <td>-0.405686</td>\n",
       "      <td>0</td>\n",
       "    </tr>\n",
       "    <tr>\n",
       "      <th>4</th>\n",
       "      <td>-0.561522</td>\n",
       "      <td>1.034245</td>\n",
       "      <td>3</td>\n",
       "    </tr>\n",
       "  </tbody>\n",
       "</table>\n",
       "</div>"
      ],
      "text/plain": [
       "        PC1       PC2  cluster\n",
       "0 -0.859119 -0.859524        0\n",
       "1 -0.631241  0.248206        3\n",
       "2 -0.462188  1.125087        3\n",
       "3 -0.863236 -0.405686        0\n",
       "4 -0.561522  1.034245        3"
      ]
     },
     "execution_count": 31,
     "metadata": {},
     "output_type": "execute_result"
    }
   ],
   "source": [
    "# Fit k-Means and append cluster values to projected_points DataFrame for graphing\n",
    "kmeans = KMeans(n_clusters=4, init='k-means++', max_iter=500, n_jobs=4).fit(projected_points_df)\n",
    "projected_points_df['cluster'] = pd.Series(kmeans.labels_).values\n",
    "projected_points_df.head()"
   ]
  },
  {
   "cell_type": "code",
   "execution_count": 32,
   "metadata": {},
   "outputs": [
    {
     "data": {
      "text/html": [
       "<div>\n",
       "<style scoped>\n",
       "    .dataframe tbody tr th:only-of-type {\n",
       "        vertical-align: middle;\n",
       "    }\n",
       "\n",
       "    .dataframe tbody tr th {\n",
       "        vertical-align: top;\n",
       "    }\n",
       "\n",
       "    .dataframe thead th {\n",
       "        text-align: right;\n",
       "    }\n",
       "</style>\n",
       "<table border=\"1\" class=\"dataframe\">\n",
       "  <thead>\n",
       "    <tr style=\"text-align: right;\">\n",
       "      <th></th>\n",
       "      <th>PC1</th>\n",
       "      <th>PC2</th>\n",
       "      <th>cluster</th>\n",
       "      <th>cluster_center</th>\n",
       "      <th>dist_from_cluster</th>\n",
       "    </tr>\n",
       "  </thead>\n",
       "  <tbody>\n",
       "    <tr>\n",
       "      <th>0</th>\n",
       "      <td>-0.859119</td>\n",
       "      <td>-0.859524</td>\n",
       "      <td>0</td>\n",
       "      <td>[-0.6711731676066556, 0.5435096091465916]</td>\n",
       "      <td>0.007078</td>\n",
       "    </tr>\n",
       "    <tr>\n",
       "      <th>1</th>\n",
       "      <td>-0.631241</td>\n",
       "      <td>0.248206</td>\n",
       "      <td>3</td>\n",
       "      <td>[0.7615782840804026, -1.15801813225858]</td>\n",
       "      <td>0.009896</td>\n",
       "    </tr>\n",
       "    <tr>\n",
       "      <th>2</th>\n",
       "      <td>-0.462188</td>\n",
       "      <td>1.125087</td>\n",
       "      <td>3</td>\n",
       "      <td>[0.7615782840804026, -1.15801813225858]</td>\n",
       "      <td>0.012952</td>\n",
       "    </tr>\n",
       "    <tr>\n",
       "      <th>3</th>\n",
       "      <td>-0.863236</td>\n",
       "      <td>-0.405686</td>\n",
       "      <td>0</td>\n",
       "      <td>[-0.6711731676066556, 0.5435096091465916]</td>\n",
       "      <td>0.004842</td>\n",
       "    </tr>\n",
       "    <tr>\n",
       "      <th>4</th>\n",
       "      <td>-0.561522</td>\n",
       "      <td>1.034245</td>\n",
       "      <td>3</td>\n",
       "      <td>[0.7615782840804026, -1.15801813225858]</td>\n",
       "      <td>0.012803</td>\n",
       "    </tr>\n",
       "  </tbody>\n",
       "</table>\n",
       "</div>"
      ],
      "text/plain": [
       "        PC1       PC2  cluster                             cluster_center  \\\n",
       "0 -0.859119 -0.859524        0  [-0.6711731676066556, 0.5435096091465916]   \n",
       "1 -0.631241  0.248206        3    [0.7615782840804026, -1.15801813225858]   \n",
       "2 -0.462188  1.125087        3    [0.7615782840804026, -1.15801813225858]   \n",
       "3 -0.863236 -0.405686        0  [-0.6711731676066556, 0.5435096091465916]   \n",
       "4 -0.561522  1.034245        3    [0.7615782840804026, -1.15801813225858]   \n",
       "\n",
       "   dist_from_cluster  \n",
       "0           0.007078  \n",
       "1           0.009896  \n",
       "2           0.012952  \n",
       "3           0.004842  \n",
       "4           0.012803  "
      ]
     },
     "execution_count": 32,
     "metadata": {},
     "output_type": "execute_result"
    }
   ],
   "source": [
    "# The plt.mlab.dist() function returns `MatplotlibDeprecationWarning: numpy.hypot` on each pass\n",
    "# so I'm going to suprress that warning for this code cell\n",
    "\n",
    "projected_points_df['cluster_center'] = list(kmeans.cluster_centers_[projected_points_df['cluster'] - 1])\n",
    "\n",
    "# Append distance between points and their clusters\n",
    "a = projected_points_df[['PC1', 'PC2']].values\n",
    "b = projected_points_df['cluster_center']\n",
    "\n",
    "# Normalize distances for seaborn hue parameter\n",
    "with warnings.catch_warnings():\n",
    "    warnings.simplefilter(\"ignore\")\n",
    "    projected_points_df['dist_from_cluster'] = [plt.mlab.dist(x, y)/len(a) for x,y in zip(a, b)]\n",
    "\n",
    "projected_points_df.head()"
   ]
  },
  {
   "cell_type": "code",
   "execution_count": 34,
   "metadata": {},
   "outputs": [
    {
     "data": {
      "image/png": "[encoded data removed]",
      "text/plain": [
       "<Figure size 720x576 with 1 Axes>"
      ]
     },
     "metadata": {},
     "output_type": "display_data"
    }
   ],
   "source": [
    "sns.set(rc={'figure.figsize':(10, 8)})\n",
    "sns.set_context('notebook')\n",
    "sns.set_style('white')\n",
    "sns.scatterplot(data=projected_points_df, x='PC1', y='PC2', hue='dist_from_cluster', palette='Greens_r');"
   ]
  },
  {
   "cell_type": "code",
   "execution_count": null,
   "metadata": {},
   "outputs": [],
   "source": []
  }
 ],
 "metadata": {
  "colab": {
   "name": "Linear Algebra Sprint Challenge.ipynb",
   "provenance": [],
   "version": "0.3.2"
  },
  "kernelspec": {
   "display_name": "Python 3",
   "language": "python",
   "name": "python3"
  },
  "language_info": {
   "codemirror_mode": {
    "name": "ipython",
    "version": 3
   },
   "file_extension": ".py",
   "mimetype": "text/x-python",
   "name": "python",
   "nbconvert_exporter": "python",
   "pygments_lexer": "ipython3",
   "version": "3.7.1"
  }
 },
 "nbformat": 4,
 "nbformat_minor": 2
}
