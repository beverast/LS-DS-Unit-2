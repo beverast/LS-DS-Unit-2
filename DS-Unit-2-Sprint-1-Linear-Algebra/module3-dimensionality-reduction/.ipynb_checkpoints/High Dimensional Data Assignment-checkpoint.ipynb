{
 "cells": [
  {
   "cell_type": "markdown",
   "metadata": {
    "colab_type": "text",
    "id": "7wMWCkE1RZpM"
   },
   "source": [
    "# Vertical Line Test"
   ]
  },
  {
   "cell_type": "markdown",
   "metadata": {
    "colab_type": "text",
    "id": "W0-g7aprRv2j"
   },
   "source": [
    "## 1.1 Create two graphs, one that passes the vertical line test and one that does not."
   ]
  },
  {
   "cell_type": "code",
   "execution_count": 1,
   "metadata": {
    "colab": {},
    "colab_type": "code",
    "id": "fIJhCtF6RW_U"
   },
   "outputs": [],
   "source": [
    "# Imports\n",
    "import matplotlib.pyplot as plt\n",
    "import numpy as np\n",
    "import pandas as pd"
   ]
  },
  {
   "cell_type": "code",
   "execution_count": 2,
   "metadata": {},
   "outputs": [
    {
     "data": {
      "image/png": "[encoded data removed]",
      "text/plain": [
       "<Figure size 432x288 with 1 Axes>"
      ]
     },
     "metadata": {
      "needs_background": "light"
     },
     "output_type": "display_data"
    }
   ],
   "source": [
    "x_vals = np.linspace(-50, 50, 1000)\n",
    "y_vals = x_vals**3\n",
    "\n",
    "plt.plot(x_vals, y_vals, linestyle='-', color='black', linewidth=2)\n",
    "plt.axvline(x=0, linestyle='--', linewidth=1);"
   ]
  },
  {
   "cell_type": "code",
   "execution_count": 3,
   "metadata": {},
   "outputs": [
    {
     "data": {
      "image/png": "[encoded data removed]",
      "text/plain": [
       "<Figure size 432x288 with 1 Axes>"
      ]
     },
     "metadata": {
      "needs_background": "light"
     },
     "output_type": "display_data"
    }
   ],
   "source": [
    "y_vals = np.linspace(-50, 50, 1000)\n",
    "x_vals = y_vals**2\n",
    "\n",
    "plt.plot(x_vals, y_vals, linestyle='-', color='black', linewidth=2)\n",
    "plt.axvline(x=500, linestyle='--', linewidth=1);"
   ]
  },
  {
   "cell_type": "markdown",
   "metadata": {
    "colab_type": "text",
    "id": "ckeTKqMgRy7g"
   },
   "source": [
    "## 1.2 Why are graphs that don't pass the vertical line test not considered \"functions?\""
   ]
  },
  {
   "cell_type": "markdown",
   "metadata": {
    "colab_type": "text",
    "id": "Gtl20YeDR6x-"
   },
   "source": [
    "Functions are mappings of a unique input to a single output. If a given value has multiple results, then there is not a direct mapping."
   ]
  },
  {
   "cell_type": "markdown",
   "metadata": {
    "colab_type": "text",
    "id": "g21uN62xSKSk"
   },
   "source": [
    "# Functions as Relations"
   ]
  },
  {
   "cell_type": "markdown",
   "metadata": {
    "colab_type": "text",
    "id": "gwkcV-EMSMNd"
   },
   "source": [
    "## 2.1 Which of the following relations are functions? Why?\n",
    "\n",
    "\\begin{align}\n",
    "\\text{Relation 1: } \\{(1, 2), (3, 2), (1, 3)\\}\n",
    "\\\\\n",
    "\\text{Relation 2: } \\{(1, 3), (2, 3), (6, 7)\\}\n",
    "\\\\\n",
    "\\text{Relation 3: } \\{(9, 4), (2, 1), (9, 6)\\}\n",
    "\\\\\n",
    "\\text{Relation 4: } \\{(6, 2), (8, 3), (6, 4)\\}\n",
    "\\\\\n",
    "\\text{Relation 5: } \\{(2, 6), (2, 7), (2, 4)\\}\n",
    "\\end{align}"
   ]
  },
  {
   "cell_type": "markdown",
   "metadata": {},
   "source": [
    "Relation 1: **Not** a function because 1 has a mapping to two separate values.\n",
    "\n",
    "Relation 2: **Is** a function because each relation is unique.\n",
    "\n",
    "Relation 3: **Not** a function because 9 has multiple relations.\n",
    "\n",
    "Relation 4: **Not** a function because 6 has multiple relations.\n",
    "\n",
    "Relation 5: **Not** a function because 2 has multiple relations."
   ]
  },
  {
   "cell_type": "markdown",
   "metadata": {
    "colab_type": "text",
    "id": "y0U30PrlTAAa"
   },
   "source": [
    "# Functions as a mapping between dimensions\n"
   ]
  },
  {
   "cell_type": "markdown",
   "metadata": {
    "colab_type": "text",
    "id": "pw-OU9qmT5Ua"
   },
   "source": [
    "## 3.1 for the following functions what is the dimensionality of the domain (input) and codomain (range/output)?\n",
    "\n",
    "\\begin{align}\n",
    "m(𝑥_1,𝑥_2,𝑥_3)=(x_1+x_2, x_1+x_3, x_2+x_3)\n",
    "\\\\\n",
    "n(𝑥_1,𝑥_2,𝑥_3,𝑥_4)=(x_2^2 + x_3, x_2x_4)\n",
    "\\end{align}"
   ]
  },
  {
   "cell_type": "markdown",
   "metadata": {},
   "source": [
    "Function **_m_** domain/codomain dimensionality: (3,3)\n",
    "\n",
    "Function **_n_** domain/codomain dimensionality: (4,2)"
   ]
  },
  {
   "cell_type": "markdown",
   "metadata": {
    "colab_type": "text",
    "id": "k4tKHjdHUevC"
   },
   "source": [
    "## 3.2 Do you think it's possible to create a function that maps from a lower dimensional space to a higher dimensional space? If so, provide an example."
   ]
  },
  {
   "cell_type": "markdown",
   "metadata": {},
   "source": [
    "Yes, the domain value(s) for this function could, for example, be multiplied by separate scalars for each additional dimension.\n",
    "\n",
    "\\begin{align}\n",
    "f(𝑥_1,𝑥_2)=(x_1+x_2, x_1*5, x_2*0.5)\n",
    "\\end{align}"
   ]
  },
  {
   "cell_type": "markdown",
   "metadata": {
    "colab_type": "text",
    "id": "2nEWvwVyVWdW"
   },
   "source": [
    "# Vector Transformations"
   ]
  },
  {
   "cell_type": "markdown",
   "metadata": {
    "colab_type": "text",
    "id": "1n0-6FsYVcVk"
   },
   "source": [
    "## 4.1 Plug the corresponding unit vectors into each function. Use the output vectors to create a transformation matrix.\n",
    "\n",
    "\\begin{align}\n",
    "p(\\begin{bmatrix}x_1 \\\\ x_2 \\end{bmatrix}) = \\begin{bmatrix} x_1 + 3x_2 \\\\2 x_2 - x_1 \\\\  \\end{bmatrix}\n",
    "\\\\\n",
    "\\\\\n",
    "q(\\begin{bmatrix}x_1 \\\\ x_2 \\\\ x_3\\end{bmatrix}) = \\begin{bmatrix} 4x_1 + x_2 + 2x_3 \\\\2 x_2 - x_1 + 3x_3 \\\\ 5x_1 - 2x_3 + x_2  \\end{bmatrix}\n",
    "\\end{align}"
   ]
  },
  {
   "cell_type": "markdown",
   "metadata": {},
   "source": [
    "\\begin{align}\n",
    "p(\\begin{bmatrix}1 \\\\ 0 \\end{bmatrix}) = \\begin{bmatrix} 1 \\\\ -1 \\end{bmatrix}\n",
    "\\\\\n",
    "p(\\begin{bmatrix}0 \\\\ 1 \\end{bmatrix}) = \\begin{bmatrix} 3 \\\\ 2 \\end{bmatrix}\n",
    "\\\\\n",
    "T_p = \\begin{bmatrix} 1 & 3 \\\\ -1 & 2 \\end{bmatrix}\n",
    "\\end{align}"
   ]
  },
  {
   "cell_type": "markdown",
   "metadata": {},
   "source": [
    "\\begin{align}\n",
    "T_q = \\begin{bmatrix} 4 & 1 & 2 \\\\ -1 & 2 & 3 \\\\ 5 & 1 & -2 \\end{bmatrix}\n",
    "\\end{align}"
   ]
  },
  {
   "cell_type": "markdown",
   "metadata": {
    "colab_type": "text",
    "id": "n5HUOQIxZ2gp"
   },
   "source": [
    "## 4.2 Verify that your transformation matrices are correct by choosing an input matrix and calculating the result both via the traditional functions above and also via vector-matrix multiplication."
   ]
  },
  {
   "cell_type": "markdown",
   "metadata": {
    "colab": {},
    "colab_type": "code",
    "id": "0UANR1IEaVWE"
   },
   "source": [
    "\\begin{align}\n",
    "q(\\begin{bmatrix}2 \\\\ 4 \\\\ 6\\end{bmatrix}) = \\begin{bmatrix} 4(2) + 4 + 2(6) \\\\2(4) - 2 + 3(6) \\\\ 5(2) - 2(6) + 4  \\end{bmatrix} = \\begin{bmatrix} 24 \\\\ 24 \\\\ 2  \\end{bmatrix}\n",
    "\\end{align}"
   ]
  },
  {
   "cell_type": "code",
   "execution_count": 4,
   "metadata": {},
   "outputs": [
    {
     "data": {
      "text/plain": [
       "array([[24],\n",
       "       [24],\n",
       "       [ 2]])"
      ]
     },
     "execution_count": 4,
     "metadata": {},
     "output_type": "execute_result"
    }
   ],
   "source": [
    "matrix_q = np.array([2,4,6]).reshape(3,1)\n",
    "matrix_T_q = np.array([4,1,2,-1,2,3,5,1,-2]).reshape(3,3)\n",
    "\n",
    "np.matmul(matrix_T_q, matrix_q)"
   ]
  },
  {
   "cell_type": "markdown",
   "metadata": {
    "colab_type": "text",
    "id": "vEoiri3mak7j"
   },
   "source": [
    "# Eigenvalues and Eigenvectors"
   ]
  },
  {
   "cell_type": "markdown",
   "metadata": {
    "colab_type": "text",
    "id": "5HY0R4u7anIr"
   },
   "source": [
    "## 5.1 In your own words, give an explanation for the intuition behind eigenvalues and eigenvectors."
   ]
  },
  {
   "cell_type": "markdown",
   "metadata": {},
   "source": [
    "When a linear transformation is applied over a vector space, there is always a vector that is not reoriented in its location and this is the _eigenvector_. This transformation can cause the eigenvector to shrink or lengthen, and the scalar describing how much the eigenvector was transformed is called the _eigenvalue_. An eigenvector always has an eigenvalue."
   ]
  },
  {
   "cell_type": "markdown",
   "metadata": {
    "colab_type": "text",
    "id": "VdehMwBtatKI"
   },
   "source": [
    "# The Curse of Dimensionality"
   ]
  },
  {
   "cell_type": "markdown",
   "metadata": {
    "colab_type": "text",
    "id": "4oVrJax-a3SK"
   },
   "source": [
    "## 6.1 What are some of the challenges of working with high dimensional spaces?"
   ]
  },
  {
   "cell_type": "markdown",
   "metadata": {},
   "source": [
    "Some of the challenges of working with high dimensional spaces are that: computations are expensive, good visualizations can be hard to create, and data tends to become more sparse with more dimensions."
   ]
  },
  {
   "cell_type": "markdown",
   "metadata": {
    "colab_type": "text",
    "id": "ZiBJxsZla88c"
   },
   "source": [
    "## 6.2 What is the rule of thumb for how many observations you should have compared to parameters in your model?"
   ]
  },
  {
   "cell_type": "markdown",
   "metadata": {},
   "source": [
    "The rule of thumb for P parameters and N observations is: \\begin{align} N \\ge 5P \\end{align}"
   ]
  },
  {
   "cell_type": "markdown",
   "metadata": {
    "colab_type": "text",
    "id": "NZmqdeygbHJx"
   },
   "source": [
    "# Principal Component Analysis"
   ]
  },
  {
   "cell_type": "markdown",
   "metadata": {
    "colab_type": "text",
    "id": "7iEheetpbJdN"
   },
   "source": [
    "## 7.1 Load the UCI Machine Learning Repository's [Iris Dataset](https://gist.githubusercontent.com/curran/a08a1080b88344b0c8a7/raw/d546eaee765268bf2f487608c537c05e22e4b221/iris.csv) and use PCA to isolate the dataset's first and second principal components and plot them on a graph. "
   ]
  },
  {
   "cell_type": "code",
   "execution_count": 5,
   "metadata": {
    "colab": {},
    "colab_type": "code",
    "id": "wy9AZVgZcHLZ"
   },
   "outputs": [
    {
     "data": {
      "text/html": [
       "<div>\n",
       "<style scoped>\n",
       "    .dataframe tbody tr th:only-of-type {\n",
       "        vertical-align: middle;\n",
       "    }\n",
       "\n",
       "    .dataframe tbody tr th {\n",
       "        vertical-align: top;\n",
       "    }\n",
       "\n",
       "    .dataframe thead th {\n",
       "        text-align: right;\n",
       "    }\n",
       "</style>\n",
       "<table border=\"1\" class=\"dataframe\">\n",
       "  <thead>\n",
       "    <tr style=\"text-align: right;\">\n",
       "      <th></th>\n",
       "      <th>sepal_length</th>\n",
       "      <th>sepal_width</th>\n",
       "      <th>petal_length</th>\n",
       "      <th>petal_width</th>\n",
       "      <th>species</th>\n",
       "    </tr>\n",
       "  </thead>\n",
       "  <tbody>\n",
       "    <tr>\n",
       "      <th>0</th>\n",
       "      <td>5.1</td>\n",
       "      <td>3.5</td>\n",
       "      <td>1.4</td>\n",
       "      <td>0.2</td>\n",
       "      <td>setosa</td>\n",
       "    </tr>\n",
       "    <tr>\n",
       "      <th>1</th>\n",
       "      <td>4.9</td>\n",
       "      <td>3.0</td>\n",
       "      <td>1.4</td>\n",
       "      <td>0.2</td>\n",
       "      <td>setosa</td>\n",
       "    </tr>\n",
       "    <tr>\n",
       "      <th>2</th>\n",
       "      <td>4.7</td>\n",
       "      <td>3.2</td>\n",
       "      <td>1.3</td>\n",
       "      <td>0.2</td>\n",
       "      <td>setosa</td>\n",
       "    </tr>\n",
       "    <tr>\n",
       "      <th>3</th>\n",
       "      <td>4.6</td>\n",
       "      <td>3.1</td>\n",
       "      <td>1.5</td>\n",
       "      <td>0.2</td>\n",
       "      <td>setosa</td>\n",
       "    </tr>\n",
       "    <tr>\n",
       "      <th>4</th>\n",
       "      <td>5.0</td>\n",
       "      <td>3.6</td>\n",
       "      <td>1.4</td>\n",
       "      <td>0.2</td>\n",
       "      <td>setosa</td>\n",
       "    </tr>\n",
       "  </tbody>\n",
       "</table>\n",
       "</div>"
      ],
      "text/plain": [
       "   sepal_length  sepal_width  petal_length  petal_width species\n",
       "0           5.1          3.5           1.4          0.2  setosa\n",
       "1           4.9          3.0           1.4          0.2  setosa\n",
       "2           4.7          3.2           1.3          0.2  setosa\n",
       "3           4.6          3.1           1.5          0.2  setosa\n",
       "4           5.0          3.6           1.4          0.2  setosa"
      ]
     },
     "execution_count": 5,
     "metadata": {},
     "output_type": "execute_result"
    }
   ],
   "source": [
    "# Read CSV\n",
    "iris_df = pd.read_csv('https://gist.githubusercontent.com/curran/a08a1080b88344b0c8a7/raw/d546eaee765268bf2f487608c537c05e22e4b221/iris.csv')\n",
    "iris_df.head()"
   ]
  },
  {
   "cell_type": "code",
   "execution_count": 6,
   "metadata": {},
   "outputs": [],
   "source": [
    "# 1. Separate your data into X (features/independent) and Y (target/dependent) variables.\n",
    "X = iris_df[['sepal_length', 'sepal_width', 'petal_length', 'petal_width']]\n",
    "Y = iris_df['species']"
   ]
  },
  {
   "cell_type": "code",
   "execution_count": 7,
   "metadata": {},
   "outputs": [],
   "source": [
    "# 2. Center each column at zero by subtracting the mean.\n",
    "X = X - X.mean()"
   ]
  },
  {
   "cell_type": "code",
   "execution_count": 8,
   "metadata": {},
   "outputs": [],
   "source": [
    "# 3. Divide each column by its standard deviation. This standardized result is called the Z matrix.\n",
    "Z = X / X.std()"
   ]
  },
  {
   "cell_type": "code",
   "execution_count": 24,
   "metadata": {},
   "outputs": [
    {
     "name": "stdout",
     "output_type": "stream",
     "text": [
      "[[ 0.68569351 -0.03926846  1.27368233  0.5169038 ]\n",
      " [-0.03926846  0.18800403 -0.32171275 -0.11798121]\n",
      " [ 1.27368233 -0.32171275  3.11317942  1.29638747]\n",
      " [ 0.5169038  -0.11798121  1.29638747  0.58241432]]\n"
     ]
    }
   ],
   "source": [
    "# 4. Calculate the Variance-Covariance matrix of Z.\n",
    "covariance_matrix = np.cov(X.T)\n",
    "print(covariance_matrix)"
   ]
  },
  {
   "cell_type": "code",
   "execution_count": 25,
   "metadata": {},
   "outputs": [],
   "source": [
    "# 5. Calculate the eigenvectors and eigenvalues of the Variance-Covariance matrix.\n",
    "eigenvalues, eigenvectors = np.linalg.eig(covariance_matrix)"
   ]
  },
  {
   "cell_type": "code",
   "execution_count": 26,
   "metadata": {},
   "outputs": [
    {
     "data": {
      "text/plain": [
       "(array([4.22484077, 0.24224357, 0.07852391, 0.02368303]),\n",
       " array([[ 0.36158968, -0.65653988, -0.58099728,  0.31725455],\n",
       "        [-0.08226889, -0.72971237,  0.59641809, -0.32409435],\n",
       "        [ 0.85657211,  0.1757674 ,  0.07252408, -0.47971899],\n",
       "        [ 0.35884393,  0.07470647,  0.54906091,  0.75112056]]))"
      ]
     },
     "execution_count": 26,
     "metadata": {},
     "output_type": "execute_result"
    }
   ],
   "source": [
    "# 6. Sort the Eigenvalue and Eigenvector pairs.\n",
    "# They're already sorted by eigenvalue in descending order. Eigenvalue 2.9108 is Principal Component 1.\n",
    "eigenvalues, eigenvectors"
   ]
  },
  {
   "cell_type": "code",
   "execution_count": 27,
   "metadata": {},
   "outputs": [],
   "source": [
    "# 7. Use a matrix transformation to project the datapoints onto our eigenvector subspaces.\n",
    "P = eigenvectors.T.dot(X.T)"
   ]
  },
  {
   "cell_type": "code",
   "execution_count": 28,
   "metadata": {},
   "outputs": [
    {
     "data": {
      "image/png": "[encoded data removed]",
      "text/plain": [
       "<Figure size 432x288 with 1 Axes>"
      ]
     },
     "metadata": {
      "needs_background": "light"
     },
     "output_type": "display_data"
    }
   ],
   "source": [
    "# Plot Principal Component 1\n",
    "x = eigenvalues\n",
    "y = [0,0,0,0]\n",
    "data = {\"x\": x, \"y\": y}\n",
    "\n",
    "df = pd.DataFrame(data)\n",
    "\n",
    "plt.scatter(df['x'], df['y'])\n",
    "plt.title(\"Data After PCA\")\n",
    "plt.xlabel('PC1')\n",
    "plt.show()"
   ]
  },
  {
   "cell_type": "code",
   "execution_count": 29,
   "metadata": {},
   "outputs": [
    {
     "name": "stdout",
     "output_type": "stream",
     "text": [
      "\n",
      " Eigenvectors: \n",
      " [[ 0.36158968 -0.08226889  0.85657211  0.35884393]\n",
      " [ 0.65653988  0.72971237 -0.1757674  -0.07470647]\n",
      " [-0.58099728  0.59641809  0.07252408  0.54906091]\n",
      " [ 0.31725455 -0.32409435 -0.47971899  0.75112056]]\n",
      "\n",
      " Eigenvalues: \n",
      " [4.22484077 0.24224357 0.07852391 0.02368303]\n"
     ]
    }
   ],
   "source": [
    "# Check work\n",
    "\n",
    "# Principal Component Analysis\n",
    "from numpy import array\n",
    "from sklearn.decomposition import PCA\n",
    "# define a matrix\n",
    "M = iris_df[['sepal_length', 'sepal_width', 'petal_length', 'petal_width']]\n",
    "\n",
    "# create the PCA instance\n",
    "pca = PCA(4)\n",
    "\n",
    "# fit on data\n",
    "pca.fit(M)\n",
    "\n",
    "# access values and vectors\n",
    "print(\"\\n Eigenvectors: \\n\", pca.components_)\n",
    "print(\"\\n Eigenvalues: \\n\",pca.explained_variance_)\n",
    "\n",
    "# transform data\n",
    "B = pca.transform(M)"
   ]
  },
  {
   "cell_type": "markdown",
   "metadata": {
    "colab_type": "text",
    "id": "RQx7UvsucIrL"
   },
   "source": [
    "# Stretch Goal\n",
    "\n",
    "## 1) Do NOT work on the stretch goal until you feel like you have a firm grasp of eigenvectors, eigenvalues, and PCA. Prioritize self-study over the stretch goal if you are not comfortable with those topics yet.\n",
    "\n",
    "## 2) Explore further the intuition behind eigenvalues and eigenvectors by creating your very own eigenfaces:\n",
    "\n",
    "<center>![Eigenfaces](https://i.pinimg.com/236x/1c/f1/01/1cf101a9859437a5d096a04b05be06b4--faces-tattoo.jpg)</center>\n",
    "\n",
    "You don't necessarily have to use this resource, but this will get you started: \n",
    "[Eigenface Tutorial](https://sandipanweb.wordpress.com/2018/01/06/eigenfaces-and-a-simple-face-detector-with-pca-svd-in-python/)"
   ]
  }
 ],
 "metadata": {
  "colab": {
   "collapsed_sections": [],
   "name": "High Dimensional Data Assignment.ipynb",
   "provenance": [],
   "version": "0.3.2"
  },
  "kernelspec": {
   "display_name": "Python 3",
   "language": "python",
   "name": "python3"
  },
  "language_info": {
   "codemirror_mode": {
    "name": "ipython",
    "version": 3
   },
   "file_extension": ".py",
   "mimetype": "text/x-python",
   "name": "python",
   "nbconvert_exporter": "python",
   "pygments_lexer": "ipython3",
   "version": "3.7.1"
  }
 },
 "nbformat": 4,
 "nbformat_minor": 2
}
